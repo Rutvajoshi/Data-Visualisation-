{
  "nbformat": 4,
  "nbformat_minor": 0,
  "metadata": {
    "colab": {
      "provenance": []
    },
    "kernelspec": {
      "name": "python3",
      "display_name": "Python 3"
    },
    "language_info": {
      "name": "python"
    }
  },
  "cells": [
    {
      "cell_type": "code",
      "source": [
        "import pandas as pd\n",
        "import numpy as np\n",
        "import time\n",
        "from datetime import datetime\n",
        "import matplotlib.pyplot as plt\n",
        "from sklearn.model_selection import train_test_split\n",
        "import tensorflow as tf\n",
        "import numpy as np"
      ],
      "metadata": {
        "id": "dYXFtWLCKbaQ"
      },
      "execution_count": 1,
      "outputs": []
    },
    {
      "cell_type": "code",
      "source": [
        "df1 = df = pd.read_csv('/content/drive/MyDrive/Datasets/Insurance_claims_Final.csv')"
      ],
      "metadata": {
        "id": "6193oBIoKaYX"
      },
      "execution_count": 3,
      "outputs": []
    },
    {
      "cell_type": "code",
      "source": [
        "from google.colab import drive\n",
        "drive.mount('/content/drive')"
      ],
      "metadata": {
        "colab": {
          "base_uri": "https://localhost:8080/"
        },
        "id": "zmc9CJp2KZHt",
        "outputId": "68cd31cd-8c3e-416d-97af-808057bb062d"
      },
      "execution_count": 2,
      "outputs": [
        {
          "output_type": "stream",
          "name": "stdout",
          "text": [
            "Mounted at /content/drive\n"
          ]
        }
      ]
    },
    {
      "cell_type": "markdown",
      "source": [
        "Cleaning data"
      ],
      "metadata": {
        "id": "eIJWdwC2sKzu"
      }
    },
    {
      "cell_type": "code",
      "source": [
        "df1['LossDate'] = pd.to_datetime(df1['LossDate'], infer_datetime_format=True)\n",
        "df1['LossDate'] = df1['LossDate'].dt.strftime('%d-%m-%Y')\n",
        "df1['FirstPolicySubscriptionDate'] = pd.to_datetime(df1['FirstPolicySubscriptionDate'], infer_datetime_format=True)\n",
        "df1['FirstPolicySubscriptionDate'] = df1['FirstPolicySubscriptionDate'].dt.strftime('%d-%m-%Y')"
      ],
      "metadata": {
        "id": "w26wjfx_6mr6"
      },
      "execution_count": 4,
      "outputs": []
    },
    {
      "cell_type": "code",
      "source": [
        "df1['days_diff'] = (pd.to_datetime(df1['LossDate'], format='%d-%m-%Y') - pd.to_datetime(df1['FirstPolicySubscriptionDate'], format='%d-%m-%Y')).dt.days\n",
        "df1['days_diff']"
      ],
      "metadata": {
        "colab": {
          "base_uri": "https://localhost:8080/"
        },
        "id": "Ye07RbmU6-U-",
        "outputId": "baab7373-8c7a-498f-de50-6a60dc1d083e"
      },
      "execution_count": 5,
      "outputs": [
        {
          "output_type": "execute_result",
          "data": {
            "text/plain": [
              "0         198\n",
              "1         552\n",
              "2         696\n",
              "3         711\n",
              "4         354\n",
              "         ... \n",
              "11525     705\n",
              "11526    1326\n",
              "11527     166\n",
              "11528     799\n",
              "11529    1473\n",
              "Name: days_diff, Length: 11530, dtype: int64"
            ]
          },
          "metadata": {},
          "execution_count": 5
        }
      ]
    },
    {
      "cell_type": "code",
      "source": [
        "df1.PolicyholderOccupation = pd.Categorical(df1.PolicyholderOccupation).codes\n",
        "df1.ClaimCause = pd.Categorical(df1.ClaimCause).codes\n",
        "df1.ClaimInvolvedCovers = pd.Categorical(df1.ClaimInvolvedCovers).codes\n",
        "df1.FirstPartyVehicleType = pd.Categorical(df1.FirstPartyVehicleType).codes\n",
        "df1.PolicyHolderPostCode = pd.Categorical(df1.PolicyHolderPostCode).codes"
      ],
      "metadata": {
        "id": "iUDDpVXe7LKz"
      },
      "execution_count": 6,
      "outputs": []
    },
    {
      "cell_type": "code",
      "source": [
        "#There were string values in the code which is changed to nan values\n",
        "for i in range(len(df1)):\n",
        "    if isinstance(df1.loc[i, 'LossPostCode'], str) and not df1.loc[i, 'LossPostCode'].isnumeric():\n",
        "        df1.loc[i, 'LossPostCode'] = np.nan\n",
        "    else:\n",
        "        df1.loc[i, 'LossPostCode'] = float(df1.loc[i, 'LossPostCode'])"
      ],
      "metadata": {
        "id": "GvqiZNrw7XQr"
      },
      "execution_count": 7,
      "outputs": []
    },
    {
      "cell_type": "code",
      "source": [
        "#Nan values are changed to 0\n",
        "df1[['LossPostCode']] = df1[['LossPostCode']].fillna(0)"
      ],
      "metadata": {
        "id": "F_T1U44x7kMa"
      },
      "execution_count": 8,
      "outputs": []
    },
    {
      "cell_type": "code",
      "source": [
        "df1 = df1.drop(['LossDate' , 'FirstPolicySubscriptionDate'] , axis=1)\n",
        "df1[['FirstPartyVehicleNumber', 'LossPostCode']] = df1[['FirstPartyVehicleNumber', 'LossPostCode']].fillna(0)"
      ],
      "metadata": {
        "id": "vobz4hGi7pHs"
      },
      "execution_count": 9,
      "outputs": []
    },
    {
      "cell_type": "code",
      "source": [
        "# Mean for nan values in LossHour and PolicyHolderAge columns\n",
        "df1[['LossHour', 'PolicyHolderAge' , 'FpVehicleAgeMonths']] = df1[['LossHour', 'PolicyHolderAge' , 'FpVehicleAgeMonths']].fillna(df1[['LossHour', 'PolicyHolderAge' , 'FpVehicleAgeMonths']].mean())"
      ],
      "metadata": {
        "id": "KVtfvNsOKlxM"
      },
      "execution_count": 10,
      "outputs": []
    },
    {
      "cell_type": "code",
      "source": [
        "# Dropping columns\n",
        "df1 = df1.drop(['ThirdPartyVehicleNumber', 'InsurerNotes', 'DamageImportance' , 'ConnectionBetweenParties'], axis=1)"
      ],
      "metadata": {
        "id": "VfOQf8_BKqUE"
      },
      "execution_count": 11,
      "outputs": []
    },
    {
      "cell_type": "code",
      "source": [
        "# Filling low nan values column with mode\n",
        "df1['FirstPartyVehicleType'].fillna(df1['FirstPartyVehicleType'].mode()[0], inplace=True)"
      ],
      "metadata": {
        "id": "9Zmzn26iKqWh"
      },
      "execution_count": 12,
      "outputs": []
    },
    {
      "cell_type": "code",
      "source": [
        "constant=1\n",
        "df1['claim_amount_log'] = np.log(df1['ClaimAmount'] + constant)\n",
        "print(df1.head())"
      ],
      "metadata": {
        "colab": {
          "base_uri": "https://localhost:8080/"
        },
        "id": "0tDmayuQKqZE",
        "outputId": "dc1e00e1-1f10-4cee-ce9d-7f7505648319"
      },
      "execution_count": 13,
      "outputs": [
        {
          "output_type": "stream",
          "name": "stdout",
          "text": [
            "   ReferenceId  PolicyholderNumber  FirstPartyVehicleNumber  \\\n",
            "0         4842              531112                 715507.0   \n",
            "1         4844               87170                  71164.0   \n",
            "2         4848               98706                 442609.0   \n",
            "3         4849               38240                  24604.0   \n",
            "4         4850               11339                   2933.0   \n",
            "\n",
            "   PolicyholderOccupation  ClaimCause  ClaimInvolvedCovers  \\\n",
            "0                       0           3                   36   \n",
            "1                      10          10                   36   \n",
            "2                      10           1                   36   \n",
            "3                       0           1                   44   \n",
            "4                       3           1                   12   \n",
            "\n",
            "   FirstPartyVehicleType  LossPostCode  PolicyHolderPostCode  \\\n",
            "0                      0       31330.0                   744   \n",
            "1                      0       29810.0                   606   \n",
            "2                      0       33500.0                   869   \n",
            "3                      0       35310.0                  1000   \n",
            "4                      0       29600.0                   351   \n",
            "\n",
            "   PolicyWasSubscribedOnInternet  ...  EasinessToStage  \\\n",
            "0                              1  ...             0.25   \n",
            "1                              0  ...             0.50   \n",
            "2                              0  ...             0.25   \n",
            "3                              0  ...             0.25   \n",
            "4                              0  ...             0.25   \n",
            "\n",
            "   ClaimWihoutIdentifiedThirdParty  ClaimAmount  LossHour  PolicyHolderAge  \\\n",
            "0                                1      4624.73       8.0             45.0   \n",
            "1                                1      1606.81      11.0             20.0   \n",
            "2                                0       998.20      18.0             32.0   \n",
            "3                                0      2506.92      11.0             46.0   \n",
            "4                                0        12.00      12.0             28.0   \n",
            "\n",
            "   NumberOfBodilyInjuries  FirstPartyLiability  Fraud  days_diff  \\\n",
            "0                       0                  1.0      0        198   \n",
            "1                       0                  1.0      0        552   \n",
            "2                       0                  0.5      0        696   \n",
            "3                       0                  0.5      0        711   \n",
            "4                       0                  0.0      0        354   \n",
            "\n",
            "   claim_amount_log  \n",
            "0          8.439389  \n",
            "1          7.382628  \n",
            "2          6.906955  \n",
            "3          7.827209  \n",
            "4          2.564949  \n",
            "\n",
            "[5 rows x 22 columns]\n"
          ]
        }
      ]
    },
    {
      "cell_type": "code",
      "source": [
        "# Dropping columns\n",
        "df1 = df1.drop(['ClaimAmount'], axis=1)"
      ],
      "metadata": {
        "id": "xmU0WGVnKypK"
      },
      "execution_count": 14,
      "outputs": []
    },
    {
      "cell_type": "code",
      "source": [
        "df1.fillna(0, inplace=True)"
      ],
      "metadata": {
        "id": "Vvxsk08yKyrt"
      },
      "execution_count": 15,
      "outputs": []
    },
    {
      "cell_type": "markdown",
      "source": [
        "Question 6(a)"
      ],
      "metadata": {
        "id": "k-lTE3ATa-G2"
      }
    },
    {
      "cell_type": "code",
      "source": [
        "import pandas as pd\n",
        "from sklearn.model_selection import train_test_split\n",
        "\n",
        "# Create a mask for non-fraudulent claims\n",
        "non_fraud_mask = (df1['Fraud'] == False)\n",
        "\n",
        "# Create the training set using only non-fraudulent claims\n",
        "train_set = df1[non_fraud_mask]\n",
        "\n",
        "# Create a mask for fraudulent claims\n",
        "fraud_mask = (df1['Fraud'] == True)\n",
        "\n",
        "# Split the fraudulent claims evenly between validation and test sets\n",
        "fraud_indices = list(df1[fraud_mask].index)\n",
        "fraud_val_indices, fraud_test_indices = train_test_split(fraud_indices, test_size=0.5, random_state=42)\n",
        "\n",
        "# Create the validation set using both non-fraudulent and fraudulent claims\n",
        "val_set = pd.concat([df1[non_fraud_mask], df1.loc[fraud_val_indices]])\n",
        "\n",
        "# Create the test set using both non-fraudulent and fraudulent claims\n",
        "test_set = pd.concat([df1[non_fraud_mask], df1.loc[fraud_test_indices]])\n",
        "\n",
        "# Confirm the number of non-fraudulent and fraudulent claims in each set\n",
        "print(f\"Train set size: {len(train_set)}, non-fraudulent: {len(train_set[train_set['Fraud'] == False])}, fraudulent: {len(train_set[train_set['Fraud'] == True])}\")\n",
        "print(f\"Validation set size: {len(val_set)}, non-fraudulent: {len(val_set[val_set['Fraud'] == False])}, fraudulent: {len(val_set[val_set['Fraud'] == True])}\")\n",
        "print(f\"Test set size: {len(test_set)}, non-fraudulent: {len(test_set[test_set['Fraud'] == False])}, fraudulent: {len(test_set[test_set['Fraud'] == True])}\")\n"
      ],
      "metadata": {
        "colab": {
          "base_uri": "https://localhost:8080/"
        },
        "id": "Ey63R3oFLL2f",
        "outputId": "112e6f78-8685-49a9-ecde-057f5c1eb0fd"
      },
      "execution_count": 16,
      "outputs": [
        {
          "output_type": "stream",
          "name": "stdout",
          "text": [
            "Train set size: 11415, non-fraudulent: 11415, fraudulent: 0\n",
            "Validation set size: 11472, non-fraudulent: 11415, fraudulent: 57\n",
            "Test set size: 11473, non-fraudulent: 11415, fraudulent: 58\n"
          ]
        }
      ]
    },
    {
      "cell_type": "markdown",
      "source": [
        "Extracting X,Y from the split data"
      ],
      "metadata": {
        "id": "QW9Ff0vywF4c"
      }
    },
    {
      "cell_type": "code",
      "source": [
        "feature_cols = df1.drop('Fraud', axis=1).columns\n",
        "target_col = 'Fraud'\n",
        "\n",
        "# Split each set into features and target\n",
        "x_train, y_train = train_set[feature_cols], train_set[target_col]\n",
        "x_val, y_val = val_set[feature_cols], val_set[target_col]\n",
        "x_test, y_test = test_set[feature_cols], test_set[target_col]\n",
        "\n",
        "# Confirm the shape of the feature and target sets\n",
        "print(f\"x_train shape: {x_train.shape}, y_train shape: {y_train.shape}\")\n",
        "print(f\"x_val shape: {x_val.shape}, y_val shape: {y_val.shape}\")\n",
        "print(f\"x_test shape: {x_test.shape}, y_test shape: {y_test.shape}\")"
      ],
      "metadata": {
        "colab": {
          "base_uri": "https://localhost:8080/"
        },
        "id": "-2leybGBt7Z-",
        "outputId": "85029ef9-9a8f-42d5-dc17-34d62f6ab74a"
      },
      "execution_count": 17,
      "outputs": [
        {
          "output_type": "stream",
          "name": "stdout",
          "text": [
            "x_train shape: (11415, 20), y_train shape: (11415,)\n",
            "x_val shape: (11472, 20), y_val shape: (11472,)\n",
            "x_test shape: (11473, 20), y_test shape: (11473,)\n"
          ]
        }
      ]
    },
    {
      "cell_type": "markdown",
      "source": [
        "Training set MSE- where we got NaN"
      ],
      "metadata": {
        "id": "sak8vsdX08JJ"
      }
    },
    {
      "cell_type": "code",
      "source": [
        "import tensorflow as tf\n",
        "import numpy as np\n",
        "import pandas as pd\n",
        "\n",
        "# Create a mask for non-fraudulent claims\n",
        "non_fraud_mask = (df1['Fraud'] == False)\n",
        "\n",
        "# Create the training set using only non-fraudulent claims\n",
        "train_set = df1[non_fraud_mask]\n",
        "\n",
        "# Normalize the training set\n",
        "train_set_norm = (train_set - train_set.mean()) / train_set.std()\n",
        "\n",
        "# Define the autoencoder architecture\n",
        "input_dim = len(train_set.columns)\n",
        "encoding_dim = 32\n",
        "\n",
        "input_layer = tf.keras.layers.Input(shape=(input_dim,))\n",
        "encoder = tf.keras.layers.Dense(encoding_dim, activation='relu')(input_layer)\n",
        "decoder = tf.keras.layers.Dense(input_dim, activation='sigmoid')(encoder)\n",
        "\n",
        "autoencoder = tf.keras.models.Model(inputs=input_layer, outputs=decoder)\n",
        "\n",
        "# Compile the autoencoder with mean squared error (MSE) loss\n",
        "autoencoder.compile(optimizer='adam', loss='mean_squared_error')\n",
        "\n",
        "# Convert the normalized training set to a TensorFlow tensor\n",
        "train_set_norm_tensor = tf.convert_to_tensor(train_set_norm.values, dtype=tf.float32)\n",
        "\n",
        "# Train the autoencoder on the normalized training set tensor\n",
        "autoencoder.fit(train_set_norm_tensor, train_set_norm_tensor, epochs=50, batch_size=128, shuffle=True, validation_split=0.2)\n",
        "\n",
        "# Use the trained autoencoder to reconstruct the training set and calculate the MSE\n",
        "train_set_reconstructed = autoencoder.predict(train_set_norm_tensor)\n",
        "mse = np.mean(np.square(train_set_norm_tensor - train_set_reconstructed))\n",
        "\n",
        "# Print the MSE\n",
        "print(f\"Training set MSE: {mse}\")\n"
      ],
      "metadata": {
        "colab": {
          "base_uri": "https://localhost:8080/"
        },
        "id": "krBMAIx1LMAR",
        "outputId": "3efd4465-dc89-43bb-8a5e-7a4ddbc82100"
      },
      "execution_count": 18,
      "outputs": [
        {
          "output_type": "stream",
          "name": "stdout",
          "text": [
            "Epoch 1/50\n",
            "72/72 [==============================] - 1s 6ms/step - loss: nan - val_loss: nan\n",
            "Epoch 2/50\n",
            "72/72 [==============================] - 0s 3ms/step - loss: nan - val_loss: nan\n",
            "Epoch 3/50\n",
            "72/72 [==============================] - 0s 3ms/step - loss: nan - val_loss: nan\n",
            "Epoch 4/50\n",
            "72/72 [==============================] - 0s 3ms/step - loss: nan - val_loss: nan\n",
            "Epoch 5/50\n",
            "72/72 [==============================] - 0s 3ms/step - loss: nan - val_loss: nan\n",
            "Epoch 6/50\n",
            "72/72 [==============================] - 0s 3ms/step - loss: nan - val_loss: nan\n",
            "Epoch 7/50\n",
            "72/72 [==============================] - 0s 2ms/step - loss: nan - val_loss: nan\n",
            "Epoch 8/50\n",
            "72/72 [==============================] - 0s 3ms/step - loss: nan - val_loss: nan\n",
            "Epoch 9/50\n",
            "72/72 [==============================] - 0s 3ms/step - loss: nan - val_loss: nan\n",
            "Epoch 10/50\n",
            "72/72 [==============================] - 0s 2ms/step - loss: nan - val_loss: nan\n",
            "Epoch 11/50\n",
            "72/72 [==============================] - 0s 3ms/step - loss: nan - val_loss: nan\n",
            "Epoch 12/50\n",
            "72/72 [==============================] - 0s 3ms/step - loss: nan - val_loss: nan\n",
            "Epoch 13/50\n",
            "72/72 [==============================] - 0s 2ms/step - loss: nan - val_loss: nan\n",
            "Epoch 14/50\n",
            "72/72 [==============================] - 0s 2ms/step - loss: nan - val_loss: nan\n",
            "Epoch 15/50\n",
            "72/72 [==============================] - 0s 2ms/step - loss: nan - val_loss: nan\n",
            "Epoch 16/50\n",
            "72/72 [==============================] - 0s 2ms/step - loss: nan - val_loss: nan\n",
            "Epoch 17/50\n",
            "72/72 [==============================] - 0s 2ms/step - loss: nan - val_loss: nan\n",
            "Epoch 18/50\n",
            "72/72 [==============================] - 0s 3ms/step - loss: nan - val_loss: nan\n",
            "Epoch 19/50\n",
            "72/72 [==============================] - 0s 3ms/step - loss: nan - val_loss: nan\n",
            "Epoch 20/50\n",
            "72/72 [==============================] - 0s 2ms/step - loss: nan - val_loss: nan\n",
            "Epoch 21/50\n",
            "72/72 [==============================] - 0s 2ms/step - loss: nan - val_loss: nan\n",
            "Epoch 22/50\n",
            "72/72 [==============================] - 0s 2ms/step - loss: nan - val_loss: nan\n",
            "Epoch 23/50\n",
            "72/72 [==============================] - 0s 3ms/step - loss: nan - val_loss: nan\n",
            "Epoch 24/50\n",
            "72/72 [==============================] - 0s 3ms/step - loss: nan - val_loss: nan\n",
            "Epoch 25/50\n",
            "72/72 [==============================] - 0s 2ms/step - loss: nan - val_loss: nan\n",
            "Epoch 26/50\n",
            "72/72 [==============================] - 0s 3ms/step - loss: nan - val_loss: nan\n",
            "Epoch 27/50\n",
            "72/72 [==============================] - 0s 3ms/step - loss: nan - val_loss: nan\n",
            "Epoch 28/50\n",
            "72/72 [==============================] - 0s 3ms/step - loss: nan - val_loss: nan\n",
            "Epoch 29/50\n",
            "72/72 [==============================] - 0s 2ms/step - loss: nan - val_loss: nan\n",
            "Epoch 30/50\n",
            "72/72 [==============================] - 0s 3ms/step - loss: nan - val_loss: nan\n",
            "Epoch 31/50\n",
            "72/72 [==============================] - 0s 3ms/step - loss: nan - val_loss: nan\n",
            "Epoch 32/50\n",
            "72/72 [==============================] - 0s 5ms/step - loss: nan - val_loss: nan\n",
            "Epoch 33/50\n",
            "72/72 [==============================] - 0s 4ms/step - loss: nan - val_loss: nan\n",
            "Epoch 34/50\n",
            "72/72 [==============================] - 0s 4ms/step - loss: nan - val_loss: nan\n",
            "Epoch 35/50\n",
            "72/72 [==============================] - 0s 3ms/step - loss: nan - val_loss: nan\n",
            "Epoch 36/50\n",
            "72/72 [==============================] - 1s 13ms/step - loss: nan - val_loss: nan\n",
            "Epoch 37/50\n",
            "72/72 [==============================] - 0s 5ms/step - loss: nan - val_loss: nan\n",
            "Epoch 38/50\n",
            "72/72 [==============================] - 0s 4ms/step - loss: nan - val_loss: nan\n",
            "Epoch 39/50\n",
            "72/72 [==============================] - 0s 3ms/step - loss: nan - val_loss: nan\n",
            "Epoch 40/50\n",
            "72/72 [==============================] - 0s 4ms/step - loss: nan - val_loss: nan\n",
            "Epoch 41/50\n",
            "72/72 [==============================] - 0s 4ms/step - loss: nan - val_loss: nan\n",
            "Epoch 42/50\n",
            "72/72 [==============================] - 0s 4ms/step - loss: nan - val_loss: nan\n",
            "Epoch 43/50\n",
            "72/72 [==============================] - 0s 4ms/step - loss: nan - val_loss: nan\n",
            "Epoch 44/50\n",
            "72/72 [==============================] - 0s 3ms/step - loss: nan - val_loss: nan\n",
            "Epoch 45/50\n",
            "72/72 [==============================] - 0s 2ms/step - loss: nan - val_loss: nan\n",
            "Epoch 46/50\n",
            "72/72 [==============================] - 0s 3ms/step - loss: nan - val_loss: nan\n",
            "Epoch 47/50\n",
            "72/72 [==============================] - 0s 2ms/step - loss: nan - val_loss: nan\n",
            "Epoch 48/50\n",
            "72/72 [==============================] - 0s 3ms/step - loss: nan - val_loss: nan\n",
            "Epoch 49/50\n",
            "72/72 [==============================] - 1s 10ms/step - loss: nan - val_loss: nan\n",
            "Epoch 50/50\n",
            "72/72 [==============================] - 0s 4ms/step - loss: nan - val_loss: nan\n",
            "357/357 [==============================] - 1s 2ms/step\n",
            "Training set MSE: nan\n"
          ]
        }
      ]
    },
    {
      "cell_type": "markdown",
      "source": [
        "Question 6(b), (c), (d), (e), (f)"
      ],
      "metadata": {
        "id": "qJHILbr00cX9"
      }
    },
    {
      "cell_type": "code",
      "source": [
        "encoder = tf.keras.Sequential([\n",
        "    tf.keras.layers.Dense(x_train.shape[1:][0], activation=\"relu\", input_shape=x_train.shape[1:]),\n",
        "    tf.keras.layers.Dense(60, activation=\"relu\"),\n",
        "    tf.keras.layers.Dense(6, activation=\"relu\"),])\n"
      ],
      "metadata": {
        "id": "iw5GfUrzTeAR"
      },
      "execution_count": 19,
      "outputs": []
    },
    {
      "cell_type": "code",
      "source": [
        "decoder = tf.keras.Sequential([\n",
        "    tf.keras.layers.Dense(6, activation=\"relu\"),\n",
        "    tf.keras.layers.Dense(60, activation=\"relu\"),\n",
        "    tf.keras.layers.Dense(x_train.shape[1:][0], activation=\"sigmoid\")])"
      ],
      "metadata": {
        "id": "a0rb7dLlTsFM"
      },
      "execution_count": 20,
      "outputs": []
    },
    {
      "cell_type": "code",
      "source": [
        "autoencoder = tf.keras.Sequential([encoder,decoder])"
      ],
      "metadata": {
        "id": "m1Safa_fTtQk"
      },
      "execution_count": 21,
      "outputs": []
    },
    {
      "cell_type": "code",
      "source": [
        "autoencoder.summary()"
      ],
      "metadata": {
        "colab": {
          "base_uri": "https://localhost:8080/"
        },
        "id": "Y90D8hkjT1vu",
        "outputId": "218a8308-e6a8-4f4c-cec7-4187186ebcc8"
      },
      "execution_count": 22,
      "outputs": [
        {
          "output_type": "stream",
          "name": "stdout",
          "text": [
            "Model: \"sequential_2\"\n",
            "_________________________________________________________________\n",
            " Layer (type)                Output Shape              Param #   \n",
            "=================================================================\n",
            " sequential (Sequential)     (None, 6)                 2046      \n",
            "                                                                 \n",
            " sequential_1 (Sequential)   (None, 20)                1682      \n",
            "                                                                 \n",
            "=================================================================\n",
            "Total params: 3,728\n",
            "Trainable params: 3,728\n",
            "Non-trainable params: 0\n",
            "_________________________________________________________________\n"
          ]
        }
      ]
    },
    {
      "cell_type": "code",
      "source": [
        "encoder.summary()"
      ],
      "metadata": {
        "colab": {
          "base_uri": "https://localhost:8080/"
        },
        "id": "SmSH6TI2UUDL",
        "outputId": "138c74d2-15f6-47e3-b61a-19a329a49fe3"
      },
      "execution_count": 23,
      "outputs": [
        {
          "output_type": "stream",
          "name": "stdout",
          "text": [
            "Model: \"sequential\"\n",
            "_________________________________________________________________\n",
            " Layer (type)                Output Shape              Param #   \n",
            "=================================================================\n",
            " dense_2 (Dense)             (None, 20)                420       \n",
            "                                                                 \n",
            " dense_3 (Dense)             (None, 60)                1260      \n",
            "                                                                 \n",
            " dense_4 (Dense)             (None, 6)                 366       \n",
            "                                                                 \n",
            "=================================================================\n",
            "Total params: 2,046\n",
            "Trainable params: 2,046\n",
            "Non-trainable params: 0\n",
            "_________________________________________________________________\n"
          ]
        }
      ]
    },
    {
      "cell_type": "code",
      "source": [
        "autoencoder.compile(optimizer='rmsprop',\n",
        "                    loss='mean_squared_error')"
      ],
      "metadata": {
        "id": "qaQ869WkUYvv"
      },
      "execution_count": 24,
      "outputs": []
    },
    {
      "cell_type": "code",
      "source": [
        "# Normalize the data\n",
        "train_set_mean = train_set.mean()\n",
        "train_set_std = train_set.std()\n",
        "train_data = (train_set - train_set_mean) / train_set_std\n",
        "val_data = (val_set - train_set_mean) / train_set_std\n",
        "test_data = (test_set - train_set_mean) / train_set_std\n"
      ],
      "metadata": {
        "id": "0tztFd0QZT6s"
      },
      "execution_count": 25,
      "outputs": []
    },
    {
      "cell_type": "code",
      "source": [
        "#Fitting autoencoder\n",
        "autoencoder.fit(x=x_train, y=x_train,\n",
        "                epochs=10, batch_size=64,\n",
        "                validation_data=(x_val, x_val))"
      ],
      "metadata": {
        "colab": {
          "base_uri": "https://localhost:8080/"
        },
        "id": "XAzzHNRJ3OgR",
        "outputId": "4f67550b-943d-430d-b96d-54887ce635bb"
      },
      "execution_count": 28,
      "outputs": [
        {
          "output_type": "stream",
          "name": "stdout",
          "text": [
            "Epoch 1/10\n",
            "179/179 [==============================] - 1s 6ms/step - loss: 41467617280.0000 - val_loss: 41503903744.0000\n",
            "Epoch 2/10\n",
            "179/179 [==============================] - 1s 4ms/step - loss: 41467625472.0000 - val_loss: 41503903744.0000\n",
            "Epoch 3/10\n",
            "179/179 [==============================] - 1s 3ms/step - loss: 41467621376.0000 - val_loss: 41503903744.0000\n",
            "Epoch 4/10\n",
            "179/179 [==============================] - 1s 4ms/step - loss: 41467629568.0000 - val_loss: 41503903744.0000\n",
            "Epoch 5/10\n",
            "179/179 [==============================] - 1s 4ms/step - loss: 41467621376.0000 - val_loss: 41503903744.0000\n",
            "Epoch 6/10\n",
            "179/179 [==============================] - 1s 4ms/step - loss: 41467609088.0000 - val_loss: 41503903744.0000\n",
            "Epoch 7/10\n",
            "179/179 [==============================] - 1s 4ms/step - loss: 41467596800.0000 - val_loss: 41503903744.0000\n",
            "Epoch 8/10\n",
            "179/179 [==============================] - 1s 4ms/step - loss: 41467613184.0000 - val_loss: 41503903744.0000\n",
            "Epoch 9/10\n",
            "179/179 [==============================] - 1s 4ms/step - loss: 41467617280.0000 - val_loss: 41503903744.0000\n",
            "Epoch 10/10\n",
            "179/179 [==============================] - 1s 6ms/step - loss: 41467617280.0000 - val_loss: 41503903744.0000\n"
          ]
        },
        {
          "output_type": "execute_result",
          "data": {
            "text/plain": [
              "<keras.callbacks.History at 0x7f7081dd4e50>"
            ]
          },
          "metadata": {},
          "execution_count": 28
        }
      ]
    },
    {
      "cell_type": "code",
      "source": [
        "#Evaluating model\n",
        "test_loss = autoencoder.evaluate(x_test, x_test)\n",
        "print(f\"Reconstruction loss on test set: {test_loss}\")\n"
      ],
      "metadata": {
        "colab": {
          "base_uri": "https://localhost:8080/"
        },
        "id": "olsnT8n_-Lra",
        "outputId": "39b4ffa0-2180-42ab-e9e9-7efffa0887c4"
      },
      "execution_count": 29,
      "outputs": [
        {
          "output_type": "stream",
          "name": "stdout",
          "text": [
            "359/359 [==============================] - 1s 1ms/step - loss: 41470365696.0000\n",
            "Reconstruction loss on test set: 41470365696.0\n"
          ]
        }
      ]
    },
    {
      "cell_type": "code",
      "source": [
        "# Predict the encoded representation of the input data\n",
        "encoded_data = encoder.predict(x_test)\n",
        "# Decode the encoded representation back to the original input data\n",
        "decoded_data = decoder.predict(encoded_data)\n"
      ],
      "metadata": {
        "colab": {
          "base_uri": "https://localhost:8080/"
        },
        "id": "XIjpg7OB8i9l",
        "outputId": "c305c650-f006-417f-f532-7a4df25d2072"
      },
      "execution_count": 30,
      "outputs": [
        {
          "output_type": "stream",
          "name": "stdout",
          "text": [
            "359/359 [==============================] - 1s 1ms/step\n",
            "359/359 [==============================] - 1s 1ms/step\n"
          ]
        }
      ]
    },
    {
      "cell_type": "code",
      "source": [
        "val_data = val_set.drop(columns=['Fraud']).to_numpy()\n"
      ],
      "metadata": {
        "id": "_ZTvrTgdColf"
      },
      "execution_count": 31,
      "outputs": []
    },
    {
      "cell_type": "code",
      "source": [
        "# Predict on validation set\n",
        "val_predictions = autoencoder.predict(val_data)\n",
        "\n",
        "# Calculate mean squared error for each example in the validation set\n",
        "val_mse = np.mean(np.power(val_data - val_predictions, 2), axis=1)\n",
        "\n",
        "# Create a mask for fraudulent claims in the validation set\n",
        "val_fraud_mask = (val_set['Fraud'] == True)\n",
        "\n",
        "# Plot the histogram of errors, distinguishing between fraudulent and non-fraudulent claims\n",
        "plt.hist(val_mse[~val_fraud_mask], bins=50, alpha=0.5, label='Non-fraudulent')\n",
        "plt.hist(val_mse[val_fraud_mask], bins=50, alpha=0.5, label='Fraudulent')\n",
        "plt.legend(loc='upper right')\n",
        "plt.xlabel('Mean Squared Error')\n",
        "plt.ylabel('Count')\n",
        "plt.show()\n"
      ],
      "metadata": {
        "colab": {
          "base_uri": "https://localhost:8080/",
          "height": 296
        },
        "id": "uhhm-y7eC8KI",
        "outputId": "1713fa5f-67f0-455d-810e-8a3f14f1972d"
      },
      "execution_count": 32,
      "outputs": [
        {
          "output_type": "stream",
          "name": "stdout",
          "text": [
            "359/359 [==============================] - 1s 2ms/step\n"
          ]
        },
        {
          "output_type": "display_data",
          "data": {
            "text/plain": [
              "<Figure size 432x288 with 1 Axes>"
            ],
            "image/png": "[encoded data removed]"
          },
          "metadata": {
            "needs_background": "light"
          }
        }
      ]
    },
    {
      "cell_type": "code",
      "source": [
        "def preprocess(data):\n",
        "    # Subtract the mean and divide by the standard deviation of each feature\n",
        "    return (data - data.mean(axis=0)) / data.std(axis=0)\n"
      ],
      "metadata": {
        "id": "ceXyT5T6GDXv"
      },
      "execution_count": 33,
      "outputs": []
    },
    {
      "cell_type": "code",
      "source": [
        "from keras.models import Sequential"
      ],
      "metadata": {
        "id": "OCpPJncuHGHc"
      },
      "execution_count": 36,
      "outputs": []
    },
    {
      "cell_type": "code",
      "source": [
        "import pandas as pd\n",
        "import numpy as np\n",
        "from sklearn.model_selection import GridSearchCV\n",
        "from tensorflow.keras.models import Sequential\n",
        "from tensorflow.keras.layers import Dense, Dropout\n",
        "from tensorflow.keras.wrappers.scikit_learn import KerasRegressor\n",
        "# Define a function to create the autoencoder model\n",
        "def create_autoencoder_model(optimizer='adam', activation='relu', hidden_layers=1, neurons=64, dropout_rate=0.0, input_dim=8):\n",
        "    encoder = Sequential()\n",
        "    encoder.add(Dense(neurons, input_dim=input_dim, activation=activation))\n",
        "    for i in range(hidden_layers-1):\n",
        "        encoder.add(Dense(neurons, activation=activation))\n",
        "        encoder.add(Dropout(dropout_rate))\n",
        "    encoder.add(Dense(6, activation=\"relu\"))\n",
        "    decoder = Sequential()\n",
        "    decoder.add(Dense(60, activation=\"relu\", input_shape=(6,)))\n",
        "    decoder.add(Dense(x_train.shape[1:][0], activation=\"sigmoid\"))\n",
        "    autoencoder = Sequential([encoder,decoder])\n",
        "    autoencoder.compile(optimizer=optimizer,\n",
        "                        loss='mean_squared_error')\n",
        "    return autoencoder\n",
        "# Define the hyperparameters to search over\n",
        "params = {'optimizer': ['sgd', 'adam', 'rmsprop'],\n",
        "          'activation': ['relu', 'sigmoid'],\n",
        "          'hidden_layers': [1, 2, 3],\n",
        "          'neurons': [32, 64, 128],\n",
        "          'dropout_rate': [0.0, 0.2, 0.4]}\n",
        "# Create the KerasRegressor model\n",
        "model = KerasRegressor(build_fn=create_autoencoder_model, input_dim=x_train.shape[1], epochs=10, batch_size=64, verbose=0)\n",
        "# Use GridSearchCV to search for the best hyperparameters\n",
        "grid = GridSearchCV(estimator=model, param_grid=params, n_jobs=-1, cv=3)\n",
        "grid_result = grid.fit(x_train, x_train)\n",
        "# Print the best hyperparameters and validation score\n",
        "print(f\"Best score: {grid_result.best_score_:.4f}\")\n",
        "print(f\"Best parameters: {grid_result.best_params_}\")"
      ],
      "metadata": {
        "colab": {
          "base_uri": "https://localhost:8080/"
        },
        "id": "Yuw9FxNAJ9WF",
        "outputId": "fd8ad00a-1c22-4d23-aea7-af1515b78358"
      },
      "execution_count": 37,
      "outputs": [
        {
          "output_type": "stream",
          "name": "stderr",
          "text": [
            "<ipython-input-37-54695ebfedcf>:29: DeprecationWarning: KerasRegressor is deprecated, use Sci-Keras (https://github.com/adriangb/scikeras) instead. See https://www.adriangb.com/scikeras/stable/migration.html for help migrating.\n",
            "  model = KerasRegressor(build_fn=create_autoencoder_model, input_dim=x_train.shape[1], epochs=10, batch_size=64, verbose=0)\n",
            "/usr/local/lib/python3.8/dist-packages/joblib/externals/loky/process_executor.py:700: UserWarning: A worker stopped while some jobs were given to the executor. This can be caused by a too short worker timeout or by a memory leak.\n",
            "  warnings.warn(\n"
          ]
        },
        {
          "output_type": "stream",
          "name": "stdout",
          "text": [
            "Best score: -41467613184.0000\n",
            "Best parameters: {'activation': 'relu', 'dropout_rate': 0.0, 'hidden_layers': 1, 'neurons': 128, 'optimizer': 'adam'}\n"
          ]
        }
      ]
    },
    {
      "cell_type": "code",
      "source": [
        "# Get the best model\n",
        "best_model = grid_result.best_estimator_\n",
        "\n",
        "# Use the best model to make predictions on new data\n",
        "y_pred = best_model.predict(x_test)"
      ],
      "metadata": {
        "id": "brRkm_GMTub4"
      },
      "execution_count": 38,
      "outputs": []
    },
    {
      "cell_type": "code",
      "source": [
        "from sklearn.metrics import mean_squared_error\n",
        "\n",
        "mse = mean_squared_error(x_test, y_pred)\n",
        "print(f\"MSE: {mse:.4f}\")\n"
      ],
      "metadata": {
        "colab": {
          "base_uri": "https://localhost:8080/"
        },
        "id": "GOcDCejKT9SV",
        "outputId": "2ba38ebf-5a98-4f21-a5d5-8370144b4f10"
      },
      "execution_count": 39,
      "outputs": [
        {
          "output_type": "stream",
          "name": "stdout",
          "text": [
            "MSE: 41470430645.2558\n"
          ]
        }
      ]
    },
    {
      "cell_type": "code",
      "source": [
        "# Set the threshold for classification\n",
        "threshold = 0.2\n",
        "\n",
        "# Calculate the mean squared error between the predicted and actual test data\n",
        "mse = mean_squared_error(x_test, y_pred)\n",
        "\n",
        "# Classify the predictions as good or bad based on the threshold\n",
        "if mse <= threshold:\n",
        "    print(\"Non-Fraudulent\")\n",
        "else:\n",
        "    print(\"Fraudulent\")\n"
      ],
      "metadata": {
        "colab": {
          "base_uri": "https://localhost:8080/"
        },
        "id": "hMar7ECwWQR6",
        "outputId": "f050f1da-2ccc-4552-bc99-3c8ab0a31a32"
      },
      "execution_count": 40,
      "outputs": [
        {
          "output_type": "stream",
          "name": "stdout",
          "text": [
            "Fraudulent\n"
          ]
        }
      ]
    },
    {
      "cell_type": "code",
      "source": [
        "# Set the threshold for classification\n",
        "threshold = 0.1\n",
        "\n",
        "# Calculate the mean squared error between the predicted and actual test data\n",
        "mse = mean_squared_error(x_test, y_pred)\n",
        "\n",
        "# Classify the predictions as good or bad based on the threshold\n",
        "predictions = (mse <= threshold).astype(int)\n",
        "\n",
        "# Calculate the hit rate and detection rate\n",
        "true_positives = np.sum(np.logical_and(predictions == 1, y_test == 1))\n",
        "false_negatives = np.sum(np.logical_and(predictions == 0, y_test == 1))\n",
        "false_positives = np.sum(np.logical_and(predictions == 1, y_test == 0))\n",
        "\n",
        "hit_rate = true_positives / (true_positives + false_negatives)\n",
        "\n",
        "if (true_positives + false_positives) == 0:\n",
        "    detection_rate = 0.0\n",
        "else:\n",
        "    detection_rate = true_positives / (true_positives + false_positives)\n",
        "\n",
        "print(f\"Hit rate: {hit_rate*100:.2f}%\")\n",
        "print(f\"Detection rate: {detection_rate*100:.2f}%\")\n"
      ],
      "metadata": {
        "colab": {
          "base_uri": "https://localhost:8080/"
        },
        "id": "EQ8nY0FlY9XA",
        "outputId": "21602dd6-11df-4897-f31a-838753ad7853"
      },
      "execution_count": 43,
      "outputs": [
        {
          "output_type": "stream",
          "name": "stdout",
          "text": [
            "Hit rate: 0.00%\n",
            "Detection rate: 0.00%\n"
          ]
        }
      ]
    }
  ]
}