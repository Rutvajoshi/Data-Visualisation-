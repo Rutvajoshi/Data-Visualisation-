{
  "nbformat": 4,
  "nbformat_minor": 0,
  "metadata": {
    "colab": {
      "provenance": []
    },
    "kernelspec": {
      "name": "python3",
      "display_name": "Python 3"
    },
    "language_info": {
      "name": "python"
    }
  },
  "cells": [
    {
      "cell_type": "code",
      "execution_count": 8,
      "metadata": {
        "id": "KyPQnkZ7vT23",
        "colab": {
          "base_uri": "https://localhost:8080/"
        },
        "outputId": "ab65e3ba-4042-407b-b989-7d34f5766a31"
      },
      "outputs": [
        {
          "output_type": "stream",
          "name": "stdout",
          "text": [
            "Looking in indexes: https://pypi.org/simple, https://us-python.pkg.dev/colab-wheels/public/simple/\n",
            "Collecting keras-tuner\n",
            "  Downloading keras_tuner-1.3.0-py3-none-any.whl (167 kB)\n",
            "\u001b[2K     \u001b[90m━━━━━━━━━━━━━━━━━━━━━━━━━━━━━━━━━━━━━━━\u001b[0m \u001b[32m167.3/167.3 KB\u001b[0m \u001b[31m3.6 MB/s\u001b[0m eta \u001b[36m0:00:00\u001b[0m\n",
            "\u001b[?25hRequirement already satisfied: tensorflow>=2.0 in /usr/local/lib/python3.8/dist-packages (from keras-tuner) (2.11.0)\n",
            "Collecting kt-legacy\n",
            "  Downloading kt_legacy-1.0.4-py3-none-any.whl (9.6 kB)\n",
            "Requirement already satisfied: ipython in /usr/local/lib/python3.8/dist-packages (from keras-tuner) (7.9.0)\n",
            "Requirement already satisfied: packaging in /usr/local/lib/python3.8/dist-packages (from keras-tuner) (23.0)\n",
            "Requirement already satisfied: requests in /usr/local/lib/python3.8/dist-packages (from keras-tuner) (2.25.1)\n",
            "Requirement already satisfied: tensorboard<2.12,>=2.11 in /usr/local/lib/python3.8/dist-packages (from tensorflow>=2.0->keras-tuner) (2.11.2)\n",
            "Requirement already satisfied: keras<2.12,>=2.11.0 in /usr/local/lib/python3.8/dist-packages (from tensorflow>=2.0->keras-tuner) (2.11.0)\n",
            "Requirement already satisfied: wrapt>=1.11.0 in /usr/local/lib/python3.8/dist-packages (from tensorflow>=2.0->keras-tuner) (1.15.0)\n",
            "Requirement already satisfied: termcolor>=1.1.0 in /usr/local/lib/python3.8/dist-packages (from tensorflow>=2.0->keras-tuner) (2.2.0)\n",
            "Requirement already satisfied: absl-py>=1.0.0 in /usr/local/lib/python3.8/dist-packages (from tensorflow>=2.0->keras-tuner) (1.4.0)\n",
            "Requirement already satisfied: protobuf<3.20,>=3.9.2 in /usr/local/lib/python3.8/dist-packages (from tensorflow>=2.0->keras-tuner) (3.19.6)\n",
            "Requirement already satisfied: google-pasta>=0.1.1 in /usr/local/lib/python3.8/dist-packages (from tensorflow>=2.0->keras-tuner) (0.2.0)\n",
            "Requirement already satisfied: typing-extensions>=3.6.6 in /usr/local/lib/python3.8/dist-packages (from tensorflow>=2.0->keras-tuner) (4.5.0)\n",
            "Requirement already satisfied: gast<=0.4.0,>=0.2.1 in /usr/local/lib/python3.8/dist-packages (from tensorflow>=2.0->keras-tuner) (0.4.0)\n",
            "Requirement already satisfied: tensorflow-io-gcs-filesystem>=0.23.1 in /usr/local/lib/python3.8/dist-packages (from tensorflow>=2.0->keras-tuner) (0.31.0)\n",
            "Requirement already satisfied: setuptools in /usr/local/lib/python3.8/dist-packages (from tensorflow>=2.0->keras-tuner) (57.4.0)\n",
            "Requirement already satisfied: tensorflow-estimator<2.12,>=2.11.0 in /usr/local/lib/python3.8/dist-packages (from tensorflow>=2.0->keras-tuner) (2.11.0)\n",
            "Requirement already satisfied: six>=1.12.0 in /usr/local/lib/python3.8/dist-packages (from tensorflow>=2.0->keras-tuner) (1.15.0)\n",
            "Requirement already satisfied: astunparse>=1.6.0 in /usr/local/lib/python3.8/dist-packages (from tensorflow>=2.0->keras-tuner) (1.6.3)\n",
            "Requirement already satisfied: opt-einsum>=2.3.2 in /usr/local/lib/python3.8/dist-packages (from tensorflow>=2.0->keras-tuner) (3.3.0)\n",
            "Requirement already satisfied: h5py>=2.9.0 in /usr/local/lib/python3.8/dist-packages (from tensorflow>=2.0->keras-tuner) (3.1.0)\n",
            "Requirement already satisfied: libclang>=13.0.0 in /usr/local/lib/python3.8/dist-packages (from tensorflow>=2.0->keras-tuner) (15.0.6.1)\n",
            "Requirement already satisfied: flatbuffers>=2.0 in /usr/local/lib/python3.8/dist-packages (from tensorflow>=2.0->keras-tuner) (23.1.21)\n",
            "Requirement already satisfied: numpy>=1.20 in /usr/local/lib/python3.8/dist-packages (from tensorflow>=2.0->keras-tuner) (1.22.4)\n",
            "Requirement already satisfied: grpcio<2.0,>=1.24.3 in /usr/local/lib/python3.8/dist-packages (from tensorflow>=2.0->keras-tuner) (1.51.3)\n",
            "Requirement already satisfied: decorator in /usr/local/lib/python3.8/dist-packages (from ipython->keras-tuner) (4.4.2)\n",
            "Requirement already satisfied: pexpect in /usr/local/lib/python3.8/dist-packages (from ipython->keras-tuner) (4.8.0)\n",
            "Requirement already satisfied: prompt-toolkit<2.1.0,>=2.0.0 in /usr/local/lib/python3.8/dist-packages (from ipython->keras-tuner) (2.0.10)\n",
            "Requirement already satisfied: pygments in /usr/local/lib/python3.8/dist-packages (from ipython->keras-tuner) (2.6.1)\n",
            "Requirement already satisfied: traitlets>=4.2 in /usr/local/lib/python3.8/dist-packages (from ipython->keras-tuner) (5.7.1)\n",
            "Collecting jedi>=0.10\n",
            "  Downloading jedi-0.18.2-py2.py3-none-any.whl (1.6 MB)\n",
            "\u001b[2K     \u001b[90m━━━━━━━━━━━━━━━━━━━━━━━━━━━━━━━━━━━━━━━━\u001b[0m \u001b[32m1.6/1.6 MB\u001b[0m \u001b[31m27.8 MB/s\u001b[0m eta \u001b[36m0:00:00\u001b[0m\n",
            "\u001b[?25hRequirement already satisfied: backcall in /usr/local/lib/python3.8/dist-packages (from ipython->keras-tuner) (0.2.0)\n",
            "Requirement already satisfied: pickleshare in /usr/local/lib/python3.8/dist-packages (from ipython->keras-tuner) (0.7.5)\n",
            "Requirement already satisfied: certifi>=2017.4.17 in /usr/local/lib/python3.8/dist-packages (from requests->keras-tuner) (2022.12.7)\n",
            "Requirement already satisfied: chardet<5,>=3.0.2 in /usr/local/lib/python3.8/dist-packages (from requests->keras-tuner) (4.0.0)\n",
            "Requirement already satisfied: idna<3,>=2.5 in /usr/local/lib/python3.8/dist-packages (from requests->keras-tuner) (2.10)\n",
            "Requirement already satisfied: urllib3<1.27,>=1.21.1 in /usr/local/lib/python3.8/dist-packages (from requests->keras-tuner) (1.26.14)\n",
            "Requirement already satisfied: wheel<1.0,>=0.23.0 in /usr/local/lib/python3.8/dist-packages (from astunparse>=1.6.0->tensorflow>=2.0->keras-tuner) (0.38.4)\n",
            "Requirement already satisfied: parso<0.9.0,>=0.8.0 in /usr/local/lib/python3.8/dist-packages (from jedi>=0.10->ipython->keras-tuner) (0.8.3)\n",
            "Requirement already satisfied: wcwidth in /usr/local/lib/python3.8/dist-packages (from prompt-toolkit<2.1.0,>=2.0.0->ipython->keras-tuner) (0.2.6)\n",
            "Requirement already satisfied: google-auth<3,>=1.6.3 in /usr/local/lib/python3.8/dist-packages (from tensorboard<2.12,>=2.11->tensorflow>=2.0->keras-tuner) (2.16.2)\n",
            "Requirement already satisfied: tensorboard-data-server<0.7.0,>=0.6.0 in /usr/local/lib/python3.8/dist-packages (from tensorboard<2.12,>=2.11->tensorflow>=2.0->keras-tuner) (0.6.1)\n",
            "Requirement already satisfied: google-auth-oauthlib<0.5,>=0.4.1 in /usr/local/lib/python3.8/dist-packages (from tensorboard<2.12,>=2.11->tensorflow>=2.0->keras-tuner) (0.4.6)\n",
            "Requirement already satisfied: werkzeug>=1.0.1 in /usr/local/lib/python3.8/dist-packages (from tensorboard<2.12,>=2.11->tensorflow>=2.0->keras-tuner) (2.2.3)\n",
            "Requirement already satisfied: tensorboard-plugin-wit>=1.6.0 in /usr/local/lib/python3.8/dist-packages (from tensorboard<2.12,>=2.11->tensorflow>=2.0->keras-tuner) (1.8.1)\n",
            "Requirement already satisfied: markdown>=2.6.8 in /usr/local/lib/python3.8/dist-packages (from tensorboard<2.12,>=2.11->tensorflow>=2.0->keras-tuner) (3.4.1)\n",
            "Requirement already satisfied: ptyprocess>=0.5 in /usr/local/lib/python3.8/dist-packages (from pexpect->ipython->keras-tuner) (0.7.0)\n",
            "Requirement already satisfied: pyasn1-modules>=0.2.1 in /usr/local/lib/python3.8/dist-packages (from google-auth<3,>=1.6.3->tensorboard<2.12,>=2.11->tensorflow>=2.0->keras-tuner) (0.2.8)\n",
            "Requirement already satisfied: rsa<5,>=3.1.4 in /usr/local/lib/python3.8/dist-packages (from google-auth<3,>=1.6.3->tensorboard<2.12,>=2.11->tensorflow>=2.0->keras-tuner) (4.9)\n",
            "Requirement already satisfied: cachetools<6.0,>=2.0.0 in /usr/local/lib/python3.8/dist-packages (from google-auth<3,>=1.6.3->tensorboard<2.12,>=2.11->tensorflow>=2.0->keras-tuner) (5.3.0)\n",
            "Requirement already satisfied: requests-oauthlib>=0.7.0 in /usr/local/lib/python3.8/dist-packages (from google-auth-oauthlib<0.5,>=0.4.1->tensorboard<2.12,>=2.11->tensorflow>=2.0->keras-tuner) (1.3.1)\n",
            "Requirement already satisfied: importlib-metadata>=4.4 in /usr/local/lib/python3.8/dist-packages (from markdown>=2.6.8->tensorboard<2.12,>=2.11->tensorflow>=2.0->keras-tuner) (6.0.0)\n",
            "Requirement already satisfied: MarkupSafe>=2.1.1 in /usr/local/lib/python3.8/dist-packages (from werkzeug>=1.0.1->tensorboard<2.12,>=2.11->tensorflow>=2.0->keras-tuner) (2.1.2)\n",
            "Requirement already satisfied: zipp>=0.5 in /usr/local/lib/python3.8/dist-packages (from importlib-metadata>=4.4->markdown>=2.6.8->tensorboard<2.12,>=2.11->tensorflow>=2.0->keras-tuner) (3.15.0)\n",
            "Requirement already satisfied: pyasn1<0.5.0,>=0.4.6 in /usr/local/lib/python3.8/dist-packages (from pyasn1-modules>=0.2.1->google-auth<3,>=1.6.3->tensorboard<2.12,>=2.11->tensorflow>=2.0->keras-tuner) (0.4.8)\n",
            "Requirement already satisfied: oauthlib>=3.0.0 in /usr/local/lib/python3.8/dist-packages (from requests-oauthlib>=0.7.0->google-auth-oauthlib<0.5,>=0.4.1->tensorboard<2.12,>=2.11->tensorflow>=2.0->keras-tuner) (3.2.2)\n",
            "Installing collected packages: kt-legacy, jedi, keras-tuner\n",
            "Successfully installed jedi-0.18.2 keras-tuner-1.3.0 kt-legacy-1.0.4\n"
          ]
        }
      ],
      "source": [
        "import pandas as pd\n",
        "import numpy as np\n",
        "import time\n",
        "from datetime import datetime\n",
        "import matplotlib.pyplot as plt\n",
        "from sklearn.model_selection import train_test_split\n",
        "import tensorflow as tf\n",
        "import numpy as np\n",
        "!pip install keras-tuner\n",
        "import keras_tuner as kt"
      ]
    },
    {
      "cell_type": "code",
      "source": [
        "df = pd.read_csv('/content/drive/MyDrive/Datasets/Insurance_claims_Final.csv')\n"
      ],
      "metadata": {
        "id": "cqmagBK_vbzJ"
      },
      "execution_count": 3,
      "outputs": []
    },
    {
      "cell_type": "code",
      "source": [
        "from google.colab import drive\n",
        "drive.mount('/content/drive')"
      ],
      "metadata": {
        "id": "ItdQut7BvcdK",
        "colab": {
          "base_uri": "https://localhost:8080/"
        },
        "outputId": "eef62b6f-96d8-446f-92a9-1fcaa6b6a453"
      },
      "execution_count": 2,
      "outputs": [
        {
          "output_type": "stream",
          "name": "stdout",
          "text": [
            "Mounted at /content/drive\n"
          ]
        }
      ]
    },
    {
      "cell_type": "markdown",
      "source": [
        "Cleaning data for model"
      ],
      "metadata": {
        "id": "453yK_Ep0tGi"
      }
    },
    {
      "cell_type": "code",
      "source": [
        "# Mean for nan values in LossHour and PolicyHolderAge columns\n",
        "df[['LossHour', 'PolicyHolderAge' , 'FpVehicleAgeMonths']] = df[['LossHour', 'PolicyHolderAge' , 'FpVehicleAgeMonths']].fillna(df[['LossHour', 'PolicyHolderAge' , 'FpVehicleAgeMonths']].mean())\n",
        "\n",
        "# Dropping columns\n",
        "df = df.drop(['ThirdPartyVehicleNumber', 'InsurerNotes', 'DamageImportance' , 'ConnectionBetweenParties'], axis=1)\n",
        "\n",
        "# Filling low nan values column with mode\n",
        "df['FirstPartyVehicleType'].fillna(df['FirstPartyVehicleType'].mode()[0], inplace=True)\n",
        "\n",
        "df['LossDate'] = pd.to_datetime(df['LossDate'], infer_datetime_format=True)\n",
        "df['LossDate'] = df['LossDate'].dt.strftime('%d-%m-%Y')\n",
        "df['FirstPolicySubscriptionDate'] = pd.to_datetime(df['FirstPolicySubscriptionDate'], infer_datetime_format=True)\n",
        "df['FirstPolicySubscriptionDate'] = df['FirstPolicySubscriptionDate'].dt.strftime('%d-%m-%Y')\n",
        "\n",
        "constant = 1\n",
        "df['claim_amount_log'] = np.log(df['ClaimAmount'] + constant)\n",
        "\n"
      ],
      "metadata": {
        "id": "RIBGCK3XwOTW"
      },
      "execution_count": 4,
      "outputs": []
    },
    {
      "cell_type": "code",
      "source": [
        "df = df.drop(['ClaimAmount'] , axis=1)\n",
        "cat_df = df.select_dtypes(include = ['object']).copy()\n",
        "\n",
        "df.PolicyholderOccupation = pd.Categorical(df.PolicyholderOccupation).codes\n",
        "df.ClaimCause = pd.Categorical(df.ClaimCause).codes\n",
        "df.ClaimInvolvedCovers = pd.Categorical(df.ClaimInvolvedCovers).codes\n",
        "df.FirstPartyVehicleType = pd.Categorical(df.FirstPartyVehicleType).codes\n",
        "df.PolicyHolderPostCode = pd.Categorical(df.PolicyHolderPostCode).codes\n",
        "\n",
        "#There were string values in the code which is changed to nan values\n",
        "for i in range(len(df)):\n",
        "    if isinstance(df.loc[i, 'LossPostCode'], str) and not df.loc[i, 'LossPostCode'].isnumeric():\n",
        "        df.loc[i, 'LossPostCode'] = np.nan\n",
        "    else:\n",
        "        df.loc[i, 'LossPostCode'] = float(df.loc[i, 'LossPostCode'])\n",
        "\n",
        "#Nan values are changed to 0\n",
        "df[['LossPostCode']] = df[['LossPostCode']].fillna(0)\n",
        "\n",
        "df = df.drop(['LossDate' , 'FirstPolicySubscriptionDate'] , axis=1)\n",
        "\n",
        "df[['FirstPartyVehicleNumber', 'LossPostCode']] = df[['FirstPartyVehicleNumber', 'LossPostCode']].fillna(0)\n",
        "\n"
      ],
      "metadata": {
        "id": "ThAiUR-pwilF"
      },
      "execution_count": 5,
      "outputs": []
    },
    {
      "cell_type": "code",
      "source": [
        "X1 = df.drop('Fraud', axis=1)  # drop the target variable\n",
        "y1 = df['Fraud']"
      ],
      "metadata": {
        "id": "kOBHHSmTwOh6"
      },
      "execution_count": 6,
      "outputs": []
    },
    {
      "cell_type": "markdown",
      "source": [
        "Splitting data and creating model"
      ],
      "metadata": {
        "id": "l1Xu4-Ec1A7j"
      }
    },
    {
      "cell_type": "code",
      "source": [
        "X1_train, X1_test, y1_train, y1_test = train_test_split(X1, y1, test_size=0.15, random_state=172)\n",
        "X1_train, X1_valid, y1_train, y1_valid = train_test_split(X1_train, y1_train, test_size=0.8, random_state=172)\n",
        "\n",
        "model = tf.keras.models.Sequential([\n",
        "    tf.keras.layers.Dense(64, activation=\"relu\", kernel_initializer='uniform'),\n",
        "    tf.keras.layers.Dense(32, activation=\"relu\", kernel_initializer='uniform'),\n",
        "    tf.keras.layers.Dense(1, activation=\"sigmoid\", kernel_initializer='uniform')\n",
        "])\n",
        "\n",
        "model.compile(optimizer='adam',\n",
        "              loss='binary_crossentropy',\n",
        "              metrics=[tf.keras.metrics.Precision(), tf.keras.metrics.Recall()])\n",
        "log_1 = model.fit(X1_train, y1_train, epochs=100, batch_size=256, validation_data=(X1_valid, y1_valid))\n",
        "\n",
        "def train_model(hp):    \n",
        "    num_units = hp.Int('num_units', min_value = 32, max_value=256) \n",
        "    dropout_rate = hp.Float('dropout_rate', min_value = 0.1, max_value=0.3) \n",
        "    learning_rate = hp.Float('learning_rate', min_value = 0.001, max_value=0.1, sampling='log') \n",
        "    \n",
        "    model = tf.keras.models.Sequential([\n",
        "        tf.keras.layers.Dropout(dropout_rate),\n",
        "        tf.keras.layers.Dense(num_units, activation=\"relu\"),\n",
        "        tf.keras.layers.Dropout(dropout_rate),\n",
        "        tf.keras.layers.Dense(num_units, activation=\"relu\"),\n",
        "        tf.keras.layers.Dense(1, activation=\"sigmoid\")\n",
        "    ])\n",
        "\n",
        "    model.compile(optimizer=tf.keras.optimizers.RMSprop(learning_rate=learning_rate),\n",
        "                  loss='binary_crossentropy',\n",
        "                  metrics=[tf.keras.metrics.BinaryAccuracy(), tf.keras.metrics.AUC()])\n",
        "    \n",
        "    return model\n",
        "\n",
        "\n",
        "\n"
      ],
      "metadata": {
        "colab": {
          "base_uri": "https://localhost:8080/"
        },
        "id": "dEI2TNc8ph24",
        "outputId": "52d3e1ae-3e12-41ce-c130-0b6dab6d7664"
      },
      "execution_count": 9,
      "outputs": [
        {
          "output_type": "stream",
          "name": "stdout",
          "text": [
            "Epoch 1/100\n",
            "8/8 [==============================] - 5s 124ms/step - loss: 8.6269 - precision: 0.0000e+00 - recall: 0.0000e+00 - val_loss: 3.7164 - val_precision: 0.0000e+00 - val_recall: 0.0000e+00\n",
            "Epoch 2/100\n",
            "8/8 [==============================] - 0s 55ms/step - loss: 6.6701 - precision: 0.0093 - recall: 0.0909 - val_loss: 3.7961 - val_precision: 0.0000e+00 - val_recall: 0.0000e+00\n",
            "Epoch 3/100\n",
            "8/8 [==============================] - 0s 61ms/step - loss: 6.2085 - precision: 0.0000e+00 - recall: 0.0000e+00 - val_loss: 6.6014 - val_precision: 0.0000e+00 - val_recall: 0.0000e+00\n",
            "Epoch 4/100\n",
            "8/8 [==============================] - 0s 29ms/step - loss: 8.6206 - precision: 0.0000e+00 - recall: 0.0000e+00 - val_loss: 6.9235 - val_precision: 0.0000e+00 - val_recall: 0.0000e+00\n",
            "Epoch 5/100\n",
            "8/8 [==============================] - 0s 41ms/step - loss: 8.4638 - precision: 0.0000e+00 - recall: 0.0000e+00 - val_loss: 6.1966 - val_precision: 0.0000e+00 - val_recall: 0.0000e+00\n",
            "Epoch 6/100\n",
            "8/8 [==============================] - 0s 56ms/step - loss: 7.1485 - precision: 0.0000e+00 - recall: 0.0000e+00 - val_loss: 4.5123 - val_precision: 0.0000e+00 - val_recall: 0.0000e+00\n",
            "Epoch 7/100\n",
            "8/8 [==============================] - 0s 66ms/step - loss: 4.7001 - precision: 0.2000 - recall: 0.0455 - val_loss: 2.2193 - val_precision: 0.0000e+00 - val_recall: 0.0000e+00\n",
            "Epoch 8/100\n",
            "8/8 [==============================] - 0s 50ms/step - loss: 1.9846 - precision: 0.0213 - recall: 0.1818 - val_loss: 1.4502 - val_precision: 0.0000e+00 - val_recall: 0.0000e+00\n",
            "Epoch 9/100\n",
            "8/8 [==============================] - 0s 23ms/step - loss: 2.6207 - precision: 0.0000e+00 - recall: 0.0000e+00 - val_loss: 2.7916 - val_precision: 0.0000e+00 - val_recall: 0.0000e+00\n",
            "Epoch 10/100\n",
            "8/8 [==============================] - 0s 40ms/step - loss: 3.6298 - precision: 0.0000e+00 - recall: 0.0000e+00 - val_loss: 2.6978 - val_precision: 0.0000e+00 - val_recall: 0.0000e+00\n",
            "Epoch 11/100\n",
            "8/8 [==============================] - 0s 23ms/step - loss: 3.1543 - precision: 0.0000e+00 - recall: 0.0000e+00 - val_loss: 2.0186 - val_precision: 0.0000e+00 - val_recall: 0.0000e+00\n",
            "Epoch 12/100\n",
            "8/8 [==============================] - 0s 32ms/step - loss: 2.1692 - precision: 0.0000e+00 - recall: 0.0000e+00 - val_loss: 1.1066 - val_precision: 0.0296 - val_recall: 0.0704\n",
            "Epoch 13/100\n",
            "8/8 [==============================] - 0s 69ms/step - loss: 0.9230 - precision: 0.1667 - recall: 0.0455 - val_loss: 0.2483 - val_precision: 0.0000e+00 - val_recall: 0.0000e+00\n",
            "Epoch 14/100\n",
            "8/8 [==============================] - 1s 77ms/step - loss: 0.4456 - precision: 0.0253 - recall: 0.0909 - val_loss: 0.5869 - val_precision: 0.0000e+00 - val_recall: 0.0000e+00\n",
            "Epoch 15/100\n",
            "8/8 [==============================] - 0s 57ms/step - loss: 0.9297 - precision: 0.0000e+00 - recall: 0.0000e+00 - val_loss: 0.7420 - val_precision: 0.0000e+00 - val_recall: 0.0000e+00\n",
            "Epoch 16/100\n",
            "8/8 [==============================] - 1s 73ms/step - loss: 0.8170 - precision: 0.5000 - recall: 0.0455 - val_loss: 0.4331 - val_precision: 0.0000e+00 - val_recall: 0.0000e+00\n",
            "Epoch 17/100\n",
            "8/8 [==============================] - 1s 73ms/step - loss: 0.3657 - precision: 0.0357 - recall: 0.0455 - val_loss: 0.2675 - val_precision: 0.0000e+00 - val_recall: 0.0000e+00\n",
            "Epoch 18/100\n",
            "8/8 [==============================] - 0s 47ms/step - loss: 0.2394 - precision: 0.0000e+00 - recall: 0.0000e+00 - val_loss: 0.2523 - val_precision: 0.0268 - val_recall: 0.1127\n",
            "Epoch 19/100\n",
            "8/8 [==============================] - 0s 22ms/step - loss: 0.3572 - precision: 0.0833 - recall: 0.0455 - val_loss: 0.3172 - val_precision: 0.0000e+00 - val_recall: 0.0000e+00\n",
            "Epoch 20/100\n",
            "8/8 [==============================] - 0s 21ms/step - loss: 0.1767 - precision: 0.5000 - recall: 0.0455 - val_loss: 0.2461 - val_precision: 0.0234 - val_recall: 0.0986\n",
            "Epoch 21/100\n",
            "8/8 [==============================] - 0s 33ms/step - loss: 0.1177 - precision: 0.2000 - recall: 0.0455 - val_loss: 0.1251 - val_precision: 0.0000e+00 - val_recall: 0.0000e+00\n",
            "Epoch 22/100\n",
            "8/8 [==============================] - 0s 21ms/step - loss: 0.2151 - precision: 1.0000 - recall: 0.0455 - val_loss: 0.1299 - val_precision: 0.0000e+00 - val_recall: 0.0000e+00\n",
            "Epoch 23/100\n",
            "8/8 [==============================] - 0s 32ms/step - loss: 0.3124 - precision: 0.0588 - recall: 0.0455 - val_loss: 0.5379 - val_precision: 0.0000e+00 - val_recall: 0.0000e+00\n",
            "Epoch 24/100\n",
            "8/8 [==============================] - 0s 23ms/step - loss: 0.7419 - precision: 0.3333 - recall: 0.0455 - val_loss: 0.5063 - val_precision: 0.0000e+00 - val_recall: 0.0000e+00\n",
            "Epoch 25/100\n",
            "8/8 [==============================] - 1s 78ms/step - loss: 0.4351 - precision: 1.0000 - recall: 0.0455 - val_loss: 0.0990 - val_precision: 0.0192 - val_recall: 0.0282\n",
            "Epoch 26/100\n",
            "8/8 [==============================] - 0s 32ms/step - loss: 0.9900 - precision: 0.0310 - recall: 0.1818 - val_loss: 1.5249 - val_precision: 0.0000e+00 - val_recall: 0.0000e+00\n",
            "Epoch 27/100\n",
            "8/8 [==============================] - 0s 32ms/step - loss: 2.2643 - precision: 0.0000e+00 - recall: 0.0000e+00 - val_loss: 1.8002 - val_precision: 0.0000e+00 - val_recall: 0.0000e+00\n",
            "Epoch 28/100\n",
            "8/8 [==============================] - 0s 23ms/step - loss: 2.2713 - precision: 0.5000 - recall: 0.0455 - val_loss: 1.5912 - val_precision: 0.0000e+00 - val_recall: 0.0000e+00\n",
            "Epoch 29/100\n",
            "8/8 [==============================] - 0s 36ms/step - loss: 1.8719 - precision: 0.2500 - recall: 0.0455 - val_loss: 1.2325 - val_precision: 0.0000e+00 - val_recall: 0.0000e+00\n",
            "Epoch 30/100\n",
            "8/8 [==============================] - 0s 23ms/step - loss: 1.4276 - precision: 0.0000e+00 - recall: 0.0000e+00 - val_loss: 0.8851 - val_precision: 0.0000e+00 - val_recall: 0.0000e+00\n",
            "Epoch 31/100\n",
            "8/8 [==============================] - 0s 16ms/step - loss: 0.9540 - precision: 1.0000 - recall: 0.0455 - val_loss: 0.5678 - val_precision: 0.0000e+00 - val_recall: 0.0000e+00\n",
            "Epoch 32/100\n",
            "8/8 [==============================] - 0s 61ms/step - loss: 0.6213 - precision: 0.5000 - recall: 0.0455 - val_loss: 0.2843 - val_precision: 0.0000e+00 - val_recall: 0.0000e+00\n",
            "Epoch 33/100\n",
            "8/8 [==============================] - 0s 15ms/step - loss: 0.2006 - precision: 0.1250 - recall: 0.0455 - val_loss: 0.1973 - val_precision: 0.0090 - val_recall: 0.0423\n",
            "Epoch 34/100\n",
            "8/8 [==============================] - 0s 33ms/step - loss: 0.1648 - precision: 0.0588 - recall: 0.0455 - val_loss: 0.1473 - val_precision: 0.0000e+00 - val_recall: 0.0000e+00\n",
            "Epoch 35/100\n",
            "8/8 [==============================] - 0s 16ms/step - loss: 0.1198 - precision: 1.0000 - recall: 0.0455 - val_loss: 0.0904 - val_precision: 0.0000e+00 - val_recall: 0.0000e+00\n",
            "Epoch 36/100\n",
            "8/8 [==============================] - 0s 17ms/step - loss: 0.0887 - precision: 0.2000 - recall: 0.0455 - val_loss: 0.0897 - val_precision: 0.0000e+00 - val_recall: 0.0000e+00\n",
            "Epoch 37/100\n",
            "8/8 [==============================] - 0s 14ms/step - loss: 0.1006 - precision: 1.0000 - recall: 0.0455 - val_loss: 0.1129 - val_precision: 0.0000e+00 - val_recall: 0.0000e+00\n",
            "Epoch 38/100\n",
            "8/8 [==============================] - 0s 28ms/step - loss: 0.1082 - precision: 1.0000 - recall: 0.0455 - val_loss: 0.1121 - val_precision: 0.0000e+00 - val_recall: 0.0000e+00\n",
            "Epoch 39/100\n",
            "8/8 [==============================] - 0s 18ms/step - loss: 0.1036 - precision: 1.0000 - recall: 0.0455 - val_loss: 0.0800 - val_precision: 0.0000e+00 - val_recall: 0.0000e+00\n",
            "Epoch 40/100\n",
            "8/8 [==============================] - 0s 17ms/step - loss: 0.0782 - precision: 0.1429 - recall: 0.0455 - val_loss: 0.1078 - val_precision: 0.0000e+00 - val_recall: 0.0000e+00\n",
            "Epoch 41/100\n",
            "8/8 [==============================] - 0s 33ms/step - loss: 0.1102 - precision: 1.0000 - recall: 0.0455 - val_loss: 0.1301 - val_precision: 0.0000e+00 - val_recall: 0.0000e+00\n",
            "Epoch 42/100\n",
            "8/8 [==============================] - 0s 64ms/step - loss: 0.1191 - precision: 1.0000 - recall: 0.0455 - val_loss: 0.1259 - val_precision: 0.0000e+00 - val_recall: 0.0000e+00\n",
            "Epoch 43/100\n",
            "8/8 [==============================] - 1s 75ms/step - loss: 0.1013 - precision: 1.0000 - recall: 0.0455 - val_loss: 0.0847 - val_precision: 0.0000e+00 - val_recall: 0.0000e+00\n",
            "Epoch 44/100\n",
            "8/8 [==============================] - 0s 63ms/step - loss: 0.0736 - precision: 0.3333 - recall: 0.0455 - val_loss: 0.0744 - val_precision: 0.0000e+00 - val_recall: 0.0000e+00\n",
            "Epoch 45/100\n",
            "8/8 [==============================] - 0s 39ms/step - loss: 0.0650 - precision: 1.0000 - recall: 0.0455 - val_loss: 0.0734 - val_precision: 0.0000e+00 - val_recall: 0.0000e+00\n",
            "Epoch 46/100\n",
            "8/8 [==============================] - 0s 42ms/step - loss: 0.0702 - precision: 1.0000 - recall: 0.0455 - val_loss: 0.0699 - val_precision: 0.0000e+00 - val_recall: 0.0000e+00\n",
            "Epoch 47/100\n",
            "8/8 [==============================] - 0s 41ms/step - loss: 0.1239 - precision: 0.1111 - recall: 0.0455 - val_loss: 0.1634 - val_precision: 0.0000e+00 - val_recall: 0.0000e+00\n",
            "Epoch 48/100\n",
            "8/8 [==============================] - 0s 44ms/step - loss: 0.1316 - precision: 1.0000 - recall: 0.0455 - val_loss: 0.1899 - val_precision: 0.0000e+00 - val_recall: 0.0000e+00\n",
            "Epoch 49/100\n",
            "8/8 [==============================] - 0s 33ms/step - loss: 0.1565 - precision: 1.0000 - recall: 0.0455 - val_loss: 0.1918 - val_precision: 0.0000e+00 - val_recall: 0.0000e+00\n",
            "Epoch 50/100\n",
            "8/8 [==============================] - 0s 30ms/step - loss: 0.1432 - precision: 1.0000 - recall: 0.0455 - val_loss: 0.1662 - val_precision: 0.0000e+00 - val_recall: 0.0000e+00\n",
            "Epoch 51/100\n",
            "8/8 [==============================] - 0s 33ms/step - loss: 0.1153 - precision: 1.0000 - recall: 0.0455 - val_loss: 0.1290 - val_precision: 0.0000e+00 - val_recall: 0.0000e+00\n",
            "Epoch 52/100\n",
            "8/8 [==============================] - 0s 25ms/step - loss: 0.1075 - precision: 1.0000 - recall: 0.0455 - val_loss: 0.1116 - val_precision: 0.0000e+00 - val_recall: 0.0000e+00\n",
            "Epoch 53/100\n",
            "8/8 [==============================] - 0s 26ms/step - loss: 0.1023 - precision: 1.0000 - recall: 0.0455 - val_loss: 0.0931 - val_precision: 0.0081 - val_recall: 0.0141\n",
            "Epoch 54/100\n",
            "8/8 [==============================] - 0s 26ms/step - loss: 0.0814 - precision: 0.5000 - recall: 0.0455 - val_loss: 0.0781 - val_precision: 0.0000e+00 - val_recall: 0.0000e+00\n",
            "Epoch 55/100\n",
            "8/8 [==============================] - 0s 48ms/step - loss: 0.0775 - precision: 1.0000 - recall: 0.0455 - val_loss: 0.0702 - val_precision: 0.0000e+00 - val_recall: 0.0000e+00\n",
            "Epoch 56/100\n",
            "8/8 [==============================] - 0s 35ms/step - loss: 0.0682 - precision: 1.0000 - recall: 0.0455 - val_loss: 0.0677 - val_precision: 0.0000e+00 - val_recall: 0.0000e+00\n",
            "Epoch 57/100\n",
            "8/8 [==============================] - 1s 68ms/step - loss: 0.0646 - precision: 0.5000 - recall: 0.0455 - val_loss: 0.0811 - val_precision: 0.0000e+00 - val_recall: 0.0000e+00\n",
            "Epoch 58/100\n",
            "8/8 [==============================] - 0s 32ms/step - loss: 0.0806 - precision: 1.0000 - recall: 0.0455 - val_loss: 0.0822 - val_precision: 0.0000e+00 - val_recall: 0.0000e+00\n",
            "Epoch 59/100\n",
            "8/8 [==============================] - 0s 44ms/step - loss: 0.0681 - precision: 1.0000 - recall: 0.0455 - val_loss: 0.0747 - val_precision: 0.0000e+00 - val_recall: 0.0000e+00\n",
            "Epoch 60/100\n",
            "8/8 [==============================] - 0s 44ms/step - loss: 0.0812 - precision: 0.1429 - recall: 0.0455 - val_loss: 0.0976 - val_precision: 0.0000e+00 - val_recall: 0.0000e+00\n",
            "Epoch 61/100\n",
            "8/8 [==============================] - 0s 19ms/step - loss: 0.0863 - precision: 1.0000 - recall: 0.0455 - val_loss: 0.1031 - val_precision: 0.0000e+00 - val_recall: 0.0000e+00\n",
            "Epoch 62/100\n",
            "8/8 [==============================] - 0s 33ms/step - loss: 0.0879 - precision: 1.0000 - recall: 0.0455 - val_loss: 0.0959 - val_precision: 0.0000e+00 - val_recall: 0.0000e+00\n",
            "Epoch 63/100\n",
            "8/8 [==============================] - 0s 31ms/step - loss: 0.0973 - precision: 1.0000 - recall: 0.0455 - val_loss: 0.0746 - val_precision: 0.0000e+00 - val_recall: 0.0000e+00\n",
            "Epoch 64/100\n",
            "8/8 [==============================] - 0s 16ms/step - loss: 0.0780 - precision: 0.1429 - recall: 0.0455 - val_loss: 0.1051 - val_precision: 0.0000e+00 - val_recall: 0.0000e+00\n",
            "Epoch 65/100\n",
            "8/8 [==============================] - 0s 16ms/step - loss: 0.0915 - precision: 1.0000 - recall: 0.0455 - val_loss: 0.1176 - val_precision: 0.0000e+00 - val_recall: 0.0000e+00\n",
            "Epoch 66/100\n",
            "8/8 [==============================] - 0s 28ms/step - loss: 0.1576 - precision: 1.0000 - recall: 0.0455 - val_loss: 0.1053 - val_precision: 0.0000e+00 - val_recall: 0.0000e+00\n",
            "Epoch 67/100\n",
            "8/8 [==============================] - 0s 30ms/step - loss: 0.0826 - precision: 0.2500 - recall: 0.0455 - val_loss: 0.0890 - val_precision: 0.0000e+00 - val_recall: 0.0000e+00\n",
            "Epoch 68/100\n",
            "8/8 [==============================] - 0s 31ms/step - loss: 0.0843 - precision: 1.0000 - recall: 0.0455 - val_loss: 0.1085 - val_precision: 0.0000e+00 - val_recall: 0.0000e+00\n",
            "Epoch 69/100\n",
            "8/8 [==============================] - 0s 21ms/step - loss: 0.0771 - precision: 1.0000 - recall: 0.0455 - val_loss: 0.0663 - val_precision: 0.0000e+00 - val_recall: 0.0000e+00\n",
            "Epoch 70/100\n",
            "8/8 [==============================] - 0s 32ms/step - loss: 0.0654 - precision: 1.0000 - recall: 0.0455 - val_loss: 0.0763 - val_precision: 0.0000e+00 - val_recall: 0.0000e+00\n",
            "Epoch 71/100\n",
            "8/8 [==============================] - 0s 34ms/step - loss: 0.0704 - precision: 1.0000 - recall: 0.0455 - val_loss: 0.0638 - val_precision: 0.0000e+00 - val_recall: 0.0000e+00\n",
            "Epoch 72/100\n",
            "8/8 [==============================] - 0s 23ms/step - loss: 0.0682 - precision: 1.0000 - recall: 0.0455 - val_loss: 0.0723 - val_precision: 0.0000e+00 - val_recall: 0.0000e+00\n",
            "Epoch 73/100\n",
            "8/8 [==============================] - 0s 20ms/step - loss: 0.0804 - precision: 1.0000 - recall: 0.0455 - val_loss: 0.0768 - val_precision: 0.0000e+00 - val_recall: 0.0000e+00\n",
            "Epoch 74/100\n",
            "8/8 [==============================] - 0s 32ms/step - loss: 0.0624 - precision: 1.0000 - recall: 0.0455 - val_loss: 0.0664 - val_precision: 0.0000e+00 - val_recall: 0.0000e+00\n",
            "Epoch 75/100\n",
            "8/8 [==============================] - 0s 21ms/step - loss: 0.0636 - precision: 0.2500 - recall: 0.0455 - val_loss: 0.0998 - val_precision: 0.0000e+00 - val_recall: 0.0000e+00\n",
            "Epoch 76/100\n",
            "8/8 [==============================] - 0s 21ms/step - loss: 0.0868 - precision: 1.0000 - recall: 0.0455 - val_loss: 0.0858 - val_precision: 0.0000e+00 - val_recall: 0.0000e+00\n",
            "Epoch 77/100\n",
            "8/8 [==============================] - 0s 20ms/step - loss: 0.0765 - precision: 1.0000 - recall: 0.0455 - val_loss: 0.0853 - val_precision: 0.0000e+00 - val_recall: 0.0000e+00\n",
            "Epoch 78/100\n",
            "8/8 [==============================] - 0s 21ms/step - loss: 0.0739 - precision: 0.1667 - recall: 0.0455 - val_loss: 0.0840 - val_precision: 0.0000e+00 - val_recall: 0.0000e+00\n",
            "Epoch 79/100\n",
            "8/8 [==============================] - 0s 25ms/step - loss: 0.0865 - precision: 1.0000 - recall: 0.0455 - val_loss: 0.0935 - val_precision: 0.0000e+00 - val_recall: 0.0000e+00\n",
            "Epoch 80/100\n",
            "8/8 [==============================] - 0s 32ms/step - loss: 0.0815 - precision: 1.0000 - recall: 0.0455 - val_loss: 0.1081 - val_precision: 0.0000e+00 - val_recall: 0.0000e+00\n",
            "Epoch 81/100\n",
            "8/8 [==============================] - 0s 32ms/step - loss: 0.0770 - precision: 1.0000 - recall: 0.0455 - val_loss: 0.0719 - val_precision: 0.0000e+00 - val_recall: 0.0000e+00\n",
            "Epoch 82/100\n",
            "8/8 [==============================] - 0s 32ms/step - loss: 0.0751 - precision: 1.0000 - recall: 0.0455 - val_loss: 0.0939 - val_precision: 0.0652 - val_recall: 0.0423\n",
            "Epoch 83/100\n",
            "8/8 [==============================] - 0s 32ms/step - loss: 0.0804 - precision: 0.2000 - recall: 0.0455 - val_loss: 0.0761 - val_precision: 0.0000e+00 - val_recall: 0.0000e+00\n",
            "Epoch 84/100\n",
            "8/8 [==============================] - 0s 23ms/step - loss: 0.0812 - precision: 1.0000 - recall: 0.0455 - val_loss: 0.0719 - val_precision: 0.0000e+00 - val_recall: 0.0000e+00\n",
            "Epoch 85/100\n",
            "8/8 [==============================] - 0s 22ms/step - loss: 0.0656 - precision: 1.0000 - recall: 0.0455 - val_loss: 0.0635 - val_precision: 0.0000e+00 - val_recall: 0.0000e+00\n",
            "Epoch 86/100\n",
            "8/8 [==============================] - 0s 30ms/step - loss: 0.0582 - precision: 1.0000 - recall: 0.0455 - val_loss: 0.0719 - val_precision: 0.0000e+00 - val_recall: 0.0000e+00\n",
            "Epoch 87/100\n",
            "8/8 [==============================] - 0s 31ms/step - loss: 0.0725 - precision: 1.0000 - recall: 0.0455 - val_loss: 0.0676 - val_precision: 0.0000e+00 - val_recall: 0.0000e+00\n",
            "Epoch 88/100\n",
            "8/8 [==============================] - 0s 16ms/step - loss: 0.0617 - precision: 1.0000 - recall: 0.0455 - val_loss: 0.0636 - val_precision: 0.0000e+00 - val_recall: 0.0000e+00\n",
            "Epoch 89/100\n",
            "8/8 [==============================] - 0s 14ms/step - loss: 0.0599 - precision: 1.0000 - recall: 0.0455 - val_loss: 0.0650 - val_precision: 0.0000e+00 - val_recall: 0.0000e+00\n",
            "Epoch 90/100\n",
            "8/8 [==============================] - 0s 16ms/step - loss: 0.0599 - precision: 1.0000 - recall: 0.0455 - val_loss: 0.0745 - val_precision: 0.0000e+00 - val_recall: 0.0000e+00\n",
            "Epoch 91/100\n",
            "8/8 [==============================] - 0s 15ms/step - loss: 0.0716 - precision: 1.0000 - recall: 0.0455 - val_loss: 0.0700 - val_precision: 0.0000e+00 - val_recall: 0.0000e+00\n",
            "Epoch 92/100\n",
            "8/8 [==============================] - 0s 14ms/step - loss: 0.0695 - precision: 1.0000 - recall: 0.0455 - val_loss: 0.0697 - val_precision: 0.0000e+00 - val_recall: 0.0000e+00\n",
            "Epoch 93/100\n",
            "8/8 [==============================] - 0s 14ms/step - loss: 0.0882 - precision: 1.0000 - recall: 0.0455 - val_loss: 0.0800 - val_precision: 0.0000e+00 - val_recall: 0.0000e+00\n",
            "Epoch 94/100\n",
            "8/8 [==============================] - 0s 16ms/step - loss: 0.0635 - precision: 1.0000 - recall: 0.0455 - val_loss: 0.0646 - val_precision: 0.0000e+00 - val_recall: 0.0000e+00\n",
            "Epoch 95/100\n",
            "8/8 [==============================] - 0s 14ms/step - loss: 0.0602 - precision: 1.0000 - recall: 0.0455 - val_loss: 0.0648 - val_precision: 0.0000e+00 - val_recall: 0.0000e+00\n",
            "Epoch 96/100\n",
            "8/8 [==============================] - 0s 15ms/step - loss: 0.0818 - precision: 1.0000 - recall: 0.0455 - val_loss: 0.0766 - val_precision: 0.0000e+00 - val_recall: 0.0000e+00\n",
            "Epoch 97/100\n",
            "8/8 [==============================] - 0s 14ms/step - loss: 0.0659 - precision: 1.0000 - recall: 0.0455 - val_loss: 0.0678 - val_precision: 0.0000e+00 - val_recall: 0.0000e+00\n",
            "Epoch 98/100\n",
            "8/8 [==============================] - 0s 16ms/step - loss: 0.0616 - precision: 1.0000 - recall: 0.0455 - val_loss: 0.0627 - val_precision: 0.0000e+00 - val_recall: 0.0000e+00\n",
            "Epoch 99/100\n",
            "8/8 [==============================] - 0s 16ms/step - loss: 0.0597 - precision: 1.0000 - recall: 0.0455 - val_loss: 0.0686 - val_precision: 0.0000e+00 - val_recall: 0.0000e+00\n",
            "Epoch 100/100\n",
            "8/8 [==============================] - 0s 17ms/step - loss: 0.0626 - precision: 1.0000 - recall: 0.0455 - val_loss: 0.0640 - val_precision: 0.0000e+00 - val_recall: 0.0000e+00\n"
          ]
        }
      ]
    },
    {
      "cell_type": "code",
      "source": [
        "plt.plot(log_1.history['loss'],label = \"training loss\")\n",
        "plt.plot(log_1.history['val_loss'], label = \"validation loss\")\n",
        "plt.legend()\n",
        "plt.show()"
      ],
      "metadata": {
        "colab": {
          "base_uri": "https://localhost:8080/",
          "height": 265
        },
        "id": "UqBkd5-OqcXu",
        "outputId": "d6388d50-dbf8-4a26-f5b0-9a4c94a774ab"
      },
      "execution_count": null,
      "outputs": [
        {
          "output_type": "display_data",
          "data": {
            "text/plain": [
              "<Figure size 432x288 with 1 Axes>"
            ],
            "image/png": "[encoded data removed]"
          },
          "metadata": {
            "needs_background": "light"
          }
        }
      ]
    },
    {
      "cell_type": "markdown",
      "source": [
        "Prediction"
      ],
      "metadata": {
        "id": "c51Es8pZ1LfF"
      }
    },
    {
      "cell_type": "code",
      "source": [
        "y_pred = model.predict(X1_test)"
      ],
      "metadata": {
        "colab": {
          "base_uri": "https://localhost:8080/"
        },
        "id": "sqUuobcDKQ_M",
        "outputId": "43310249-1aed-4d9e-84d7-447be119202d"
      },
      "execution_count": 10,
      "outputs": [
        {
          "output_type": "stream",
          "name": "stdout",
          "text": [
            "55/55 [==============================] - 0s 2ms/step\n"
          ]
        }
      ]
    },
    {
      "cell_type": "code",
      "source": [
        "conf_matrix = tf.math.confusion_matrix(y1_test, y_pred)\n",
        "tn, fp, fn, tp = conf_matrix.numpy().ravel()\n",
        "hit_rate = tp / (tp + fn)\n",
        "decision_rate = (tp + fp) / (tp + tn + fp + fn)\n",
        "print(\"Hit rate:\", hit_rate)\n",
        "print(\"Decision rate:\", decision_rate)"
      ],
      "metadata": {
        "colab": {
          "base_uri": "https://localhost:8080/"
        },
        "id": "mcpGAdLTKFI2",
        "outputId": "7d1dc9a1-cbe6-48d7-f8f2-99332dba6479"
      },
      "execution_count": 11,
      "outputs": [
        {
          "output_type": "stream",
          "name": "stdout",
          "text": [
            "Hit rate: 0.0\n",
            "Decision rate: 0.0\n"
          ]
        }
      ]
    },
    {
      "cell_type": "markdown",
      "source": [
        "Hyper parameter tuning to find best best parameters"
      ],
      "metadata": {
        "id": "8Y4FYbo71TFO"
      }
    },
    {
      "cell_type": "code",
      "source": [
        "tuner = kt.Hyperband(train_model,\n",
        "                     objective='val_loss',\n",
        "                     max_epochs=5,\n",
        "                     factor=3,\n",
        "                     directory='logs',\n",
        "                     project_name='kt_tutorial_2')\n",
        "\n",
        "tuner.search(X1_train, y1_train, validation_data=(X1_valid, y1_valid))\n",
        "\n",
        "best_hps = tuner.get_best_hyperparameters()[0]\n",
        "print(\"Best number of hidden units:\", best_hps['num_units'])\n",
        "print(\"Best dropout rate:\", best_hps['dropout_rate'])\n",
        "print(\"Best learning rate:\", best_hps['learning_rate'])"
      ],
      "metadata": {
        "colab": {
          "base_uri": "https://localhost:8080/"
        },
        "id": "dtI7kNwwI_PJ",
        "outputId": "dfc97a1c-7a50-4591-9116-31f48d77b2f5"
      },
      "execution_count": 12,
      "outputs": [
        {
          "output_type": "stream",
          "name": "stdout",
          "text": [
            "Trial 10 Complete [00h 00m 07s]\n",
            "val_loss: 43.12047576904297\n",
            "\n",
            "Best val_loss So Far: 0.05161834880709648\n",
            "Total elapsed time: 00h 01m 05s\n",
            "Best number of hidden units: 69\n",
            "Best dropout rate: 0.2916418759634546\n",
            "Best learning rate: 0.07075066125528888\n"
          ]
        }
      ]
    },
    {
      "cell_type": "markdown",
      "source": [
        "Prediction"
      ],
      "metadata": {
        "id": "dxS076Wd1dN5"
      }
    },
    {
      "cell_type": "code",
      "source": [
        "best_model = tuner.hypermodel.build(best_hps)\n",
        "best_model"
      ],
      "metadata": {
        "colab": {
          "base_uri": "https://localhost:8080/"
        },
        "id": "nkLA0SV-34iK",
        "outputId": "0951411f-5966-4895-f864-d1e06fb62934"
      },
      "execution_count": 16,
      "outputs": [
        {
          "output_type": "execute_result",
          "data": {
            "text/plain": [
              "<keras.engine.sequential.Sequential at 0x7f12c1d47c10>"
            ]
          },
          "metadata": {},
          "execution_count": 16
        }
      ]
    },
    {
      "cell_type": "code",
      "source": [
        "y_pred_1 = best_model.predict(X1_test)"
      ],
      "metadata": {
        "colab": {
          "base_uri": "https://localhost:8080/"
        },
        "id": "9UjAwJkz2F3J",
        "outputId": "238b6905-da3c-42f0-9952-74751c0117eb"
      },
      "execution_count": 22,
      "outputs": [
        {
          "output_type": "stream",
          "name": "stdout",
          "text": [
            "55/55 [==============================] - 0s 6ms/step\n"
          ]
        }
      ]
    },
    {
      "cell_type": "code",
      "source": [
        "early_stopping_cb = tf.keras.callbacks.EarlyStopping(patience=5, restore_best_weights=True)"
      ],
      "metadata": {
        "id": "CP0UFJ8i4ZwB"
      },
      "execution_count": 15,
      "outputs": []
    },
    {
      "cell_type": "markdown",
      "source": [
        "Training best model"
      ],
      "metadata": {
        "id": "4Rpr8Nq91uCB"
      }
    },
    {
      "cell_type": "code",
      "source": [
        "M1=best_model.fit(X1_train, y1_train,\n",
        "               epochs=30,\n",
        "               validation_data=(X1_valid,y1_valid),\n",
        "               callbacks=[early_stopping_cb])"
      ],
      "metadata": {
        "colab": {
          "base_uri": "https://localhost:8080/"
        },
        "id": "1ow4G6r24PNU",
        "outputId": "072e0942-e25c-48b1-e4f8-c6d2865c4c14"
      },
      "execution_count": 19,
      "outputs": [
        {
          "output_type": "stream",
          "name": "stdout",
          "text": [
            "Epoch 1/30\n",
            "62/62 [==============================] - 7s 73ms/step - loss: 13453.6279 - binary_accuracy: 0.9597 - auc_2: 0.4860 - val_loss: 1.1144 - val_binary_accuracy: 0.9884 - val_auc_2: 0.5024\n",
            "Epoch 2/30\n",
            "62/62 [==============================] - 1s 18ms/step - loss: 184.1464 - binary_accuracy: 0.9816 - auc_2: 0.5082 - val_loss: 0.0530 - val_binary_accuracy: 0.9909 - val_auc_2: 0.5000\n",
            "Epoch 3/30\n",
            "62/62 [==============================] - 1s 15ms/step - loss: 37.8725 - binary_accuracy: 0.9867 - auc_2: 0.4130 - val_loss: 0.0520 - val_binary_accuracy: 0.9909 - val_auc_2: 0.5000\n",
            "Epoch 4/30\n",
            "62/62 [==============================] - 1s 19ms/step - loss: 12.0788 - binary_accuracy: 0.9867 - auc_2: 0.4969 - val_loss: 0.0517 - val_binary_accuracy: 0.9909 - val_auc_2: 0.5000\n",
            "Epoch 5/30\n",
            "62/62 [==============================] - 1s 11ms/step - loss: 0.0621 - binary_accuracy: 0.9888 - auc_2: 0.5535 - val_loss: 0.0525 - val_binary_accuracy: 0.9909 - val_auc_2: 0.5000\n",
            "Epoch 6/30\n",
            "62/62 [==============================] - 1s 9ms/step - loss: 0.3488 - binary_accuracy: 0.9878 - auc_2: 0.4535 - val_loss: 0.0516 - val_binary_accuracy: 0.9909 - val_auc_2: 0.5000\n",
            "Epoch 7/30\n",
            "62/62 [==============================] - 1s 13ms/step - loss: 0.0620 - binary_accuracy: 0.9888 - auc_2: 0.4355 - val_loss: 0.0517 - val_binary_accuracy: 0.9909 - val_auc_2: 0.5000\n",
            "Epoch 8/30\n",
            "62/62 [==============================] - 1s 13ms/step - loss: 0.0620 - binary_accuracy: 0.9888 - auc_2: 0.4786 - val_loss: 0.0516 - val_binary_accuracy: 0.9909 - val_auc_2: 0.5000\n",
            "Epoch 9/30\n",
            "62/62 [==============================] - 1s 8ms/step - loss: 0.0619 - binary_accuracy: 0.9888 - auc_2: 0.5345 - val_loss: 0.0521 - val_binary_accuracy: 0.9909 - val_auc_2: 0.5000\n",
            "Epoch 10/30\n",
            "62/62 [==============================] - 1s 9ms/step - loss: 0.0595 - binary_accuracy: 0.9893 - auc_2: 0.4755 - val_loss: 0.0517 - val_binary_accuracy: 0.9909 - val_auc_2: 0.5000\n",
            "Epoch 11/30\n",
            "62/62 [==============================] - 1s 8ms/step - loss: 0.0621 - binary_accuracy: 0.9888 - auc_2: 0.4643 - val_loss: 0.0518 - val_binary_accuracy: 0.9909 - val_auc_2: 0.5000\n",
            "Epoch 12/30\n",
            "62/62 [==============================] - 1s 9ms/step - loss: 6.7941 - binary_accuracy: 0.9888 - auc_2: 0.4585 - val_loss: 0.0517 - val_binary_accuracy: 0.9909 - val_auc_2: 0.5000\n",
            "Epoch 13/30\n",
            "62/62 [==============================] - 1s 9ms/step - loss: 0.0619 - binary_accuracy: 0.9888 - auc_2: 0.4725 - val_loss: 0.0516 - val_binary_accuracy: 0.9909 - val_auc_2: 0.5000\n"
          ]
        }
      ]
    },
    {
      "cell_type": "code",
      "source": [
        "best_model.evaluate(X1_test, y1_test)"
      ],
      "metadata": {
        "colab": {
          "base_uri": "https://localhost:8080/"
        },
        "id": "1n9MReqF4QbS",
        "outputId": "a7ccef7d-cbd6-4978-dc7f-255cde32b377"
      },
      "execution_count": 20,
      "outputs": [
        {
          "output_type": "stream",
          "name": "stdout",
          "text": [
            "55/55 [==============================] - 0s 3ms/step - loss: 0.0691 - binary_accuracy: 0.9873 - auc_2: 0.5000\n"
          ]
        },
        {
          "output_type": "execute_result",
          "data": {
            "text/plain": [
              "[0.0690934807062149, 0.9872832298278809, 0.5]"
            ]
          },
          "metadata": {},
          "execution_count": 20
        }
      ]
    },
    {
      "cell_type": "code",
      "source": [
        "plt.plot(M1.history['loss'], label='training loss')\n",
        "plt.plot(M1.history['val_loss'], label='validation loss')\n",
        "plt.legend()\n",
        "plt.show()"
      ],
      "metadata": {
        "colab": {
          "base_uri": "https://localhost:8080/",
          "height": 267
        },
        "id": "G9DD-N7GNzPm",
        "outputId": "beade70a-b993-4bf7-b3dc-81726741531b"
      },
      "execution_count": 21,
      "outputs": [
        {
          "output_type": "display_data",
          "data": {
            "text/plain": [
              "<Figure size 432x288 with 1 Axes>"
            ],
            "image/png": "[encoded data removed]"
          },
          "metadata": {
            "needs_background": "light"
          }
        }
      ]
    },
    {
      "cell_type": "code",
      "source": [
        "conf_matrix = tf.math.confusion_matrix(y1_test, y_pred_1)\n",
        "tn, fp, fn, tp = conf_matrix.numpy().ravel()\n",
        "hit_rate = tp / (tp + fn)\n",
        "decision_rate = (tp + fp) / (tp + tn + fp + fn)\n",
        "print(\"Hit rate:\", hit_rate)\n",
        "print(\"Decision rate:\", decision_rate)"
      ],
      "metadata": {
        "colab": {
          "base_uri": "https://localhost:8080/"
        },
        "id": "TBQxxnDmTkKy",
        "outputId": "e94f0e3b-941f-4217-bb02-6e89b60130fb"
      },
      "execution_count": 23,
      "outputs": [
        {
          "output_type": "stream",
          "name": "stdout",
          "text": [
            "Hit rate: 0.0\n",
            "Decision rate: 0.0\n"
          ]
        }
      ]
    }
  ]
}