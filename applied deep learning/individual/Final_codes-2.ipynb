{
  "nbformat": 4,
  "nbformat_minor": 0,
  "metadata": {
    "colab": {
      "provenance": []
    },
    "kernelspec": {
      "name": "python3",
      "display_name": "Python 3"
    },
    "language_info": {
      "name": "python"
    }
  },
  "cells": [
    {
      "cell_type": "markdown",
      "source": [
        "# Question 2 \n"
      ],
      "metadata": {
        "id": "zp_Nutawi51g"
      }
    },
    {
      "cell_type": "code",
      "execution_count": 1,
      "metadata": {
        "id": "b6BI1wTgi4ek"
      },
      "outputs": [],
      "source": [
        "import numpy as np\n",
        "import tensorflow as tf\n",
        "import pickle "
      ]
    },
    {
      "cell_type": "code",
      "source": [
        "from google.colab import drive\n",
        "drive.mount('/content/gdrive')"
      ],
      "metadata": {
        "colab": {
          "base_uri": "https://localhost:8080/"
        },
        "id": "t4b0h5cBjA6s",
        "outputId": "627f85bb-34ba-4e38-8e86-33d9160979ce"
      },
      "execution_count": 2,
      "outputs": [
        {
          "output_type": "stream",
          "name": "stdout",
          "text": [
            "Mounted at /content/gdrive\n"
          ]
        }
      ]
    },
    {
      "cell_type": "code",
      "source": [
        "#Load the data\n",
        "with open('/content/gdrive/MyDrive/time_series_1.pickle', 'rb') as f:\n",
        "    time_series_1 = np.array(pickle.load(f))"
      ],
      "metadata": {
        "id": "LeQS-2JFjDUm"
      },
      "execution_count": 3,
      "outputs": []
    },
    {
      "cell_type": "code",
      "source": [
        "with open('/content/gdrive/MyDrive/time_series_2.pickle', 'rb') as f:\n",
        "    time_series_2 = np.array(pickle.load(f))"
      ],
      "metadata": {
        "id": "B8MTyrNUjdx9"
      },
      "execution_count": 4,
      "outputs": []
    },
    {
      "cell_type": "code",
      "source": [
        "with open('/content/gdrive/MyDrive/y.pickle', 'rb') as f:\n",
        "    y = np.array(pickle.load(f))"
      ],
      "metadata": {
        "id": "5EzMQ9M3jh6X"
      },
      "execution_count": 5,
      "outputs": []
    },
    {
      "cell_type": "code",
      "source": [
        "# Create a TensorFlow dataset from the data\n",
        "dataset = tf.data.Dataset.from_tensor_slices((time_series_1, time_series_2, y))\n"
      ],
      "metadata": {
        "id": "QZiKMnMljlQo"
      },
      "execution_count": 6,
      "outputs": []
    },
    {
      "cell_type": "code",
      "source": [
        "# Define batch size and buffer size for shuffling\n",
        "batch_size = 32\n",
        "buffer_size = 10000"
      ],
      "metadata": {
        "id": "qqQZJU_2jn38"
      },
      "execution_count": 7,
      "outputs": []
    },
    {
      "cell_type": "code",
      "source": [
        "# Shuffle and batch the data\n",
        "dataset = dataset.shuffle(buffer_size=buffer_size)\n",
        "dataset = dataset.batch(batch_size=batch_size)\n"
      ],
      "metadata": {
        "id": "qJCUyJ2bjqnm"
      },
      "execution_count": 8,
      "outputs": []
    },
    {
      "cell_type": "code",
      "source": [
        "def preprocess_data(x1, x2, y):\n",
        "    def np_preprocess(x1_np, x2_np, y_np):\n",
        "        x = np.stack((x1_np, x2_np), axis=-1)  # stack the time series data along the feature axis\n",
        "        y = tf.keras.utils.to_categorical(y_np, num_classes=3)  # one-hot encode the labels\n",
        "        return x, y\n",
        "    \n",
        "    x1 = tf.cast(x1, tf.float32)\n",
        "    x2 = tf.cast(x2, tf.float32)\n",
        "    \n",
        "    x, y = tf.numpy_function(np_preprocess, [x1, x2, y], [tf.float32, tf.float32])\n",
        "    return x, y"
      ],
      "metadata": {
        "id": "GPKr2pNJjs-R"
      },
      "execution_count": 9,
      "outputs": []
    },
    {
      "cell_type": "code",
      "source": [
        "# Map the preprocessing function to the dataset\n",
        "dataset = dataset.map(preprocess_data)\n"
      ],
      "metadata": {
        "id": "1ExuccLljvcM"
      },
      "execution_count": 10,
      "outputs": []
    },
    {
      "cell_type": "code",
      "source": [
        "# Prefetch the dataset for performance\n",
        "dataset = dataset.prefetch(buffer_size=tf.data.AUTOTUNE)"
      ],
      "metadata": {
        "id": "-MgwDExEjyB-"
      },
      "execution_count": 11,
      "outputs": []
    },
    {
      "cell_type": "markdown",
      "source": [
        "# Question 3"
      ],
      "metadata": {
        "id": "gXaZsmVxqwof"
      }
    },
    {
      "cell_type": "code",
      "source": [
        "import tensorflow as tf\n",
        "from tensorflow.keras.layers import Dense, SimpleRNN, GRU, Conv1D, MaxPooling1D, Flatten\n",
        "from tensorflow.keras.models import Sequential\n",
        "from sklearn.model_selection import train_test_split\n",
        "from sklearn.preprocessing import StandardScaler"
      ],
      "metadata": {
        "id": "OvOFhBqtqvxN"
      },
      "execution_count": 18,
      "outputs": []
    },
    {
      "cell_type": "code",
      "source": [
        "X = np.concatenate((time_series_1, time_series_2), axis=1)\n",
        "scaler = StandardScaler()\n",
        "X = scaler.fit_transform(X)"
      ],
      "metadata": {
        "id": "d7SsHp2Gq6ZO"
      },
      "execution_count": 19,
      "outputs": []
    },
    {
      "cell_type": "code",
      "source": [
        "X_train, X_test, y_train, y_test = train_test_split(X, y, test_size=0.2, random_state=42)"
      ],
      "metadata": {
        "id": "Wju9HpdWq9QP"
      },
      "execution_count": 20,
      "outputs": []
    },
    {
      "cell_type": "code",
      "source": [
        "from sklearn.linear_model import LogisticRegression\n",
        "\n",
        "lr = LogisticRegression()\n",
        "lr.fit(X_train, y_train)\n",
        "y_pred = lr.predict(X_test)"
      ],
      "metadata": {
        "colab": {
          "base_uri": "https://localhost:8080/"
        },
        "id": "NHc9gJ-2q_y9",
        "outputId": "f1085cbe-a463-46c7-8a5a-b6157a7a80b1"
      },
      "execution_count": 21,
      "outputs": [
        {
          "output_type": "stream",
          "name": "stderr",
          "text": [
            "/usr/local/lib/python3.9/dist-packages/sklearn/linear_model/_logistic.py:458: ConvergenceWarning: lbfgs failed to converge (status=1):\n",
            "STOP: TOTAL NO. of ITERATIONS REACHED LIMIT.\n",
            "\n",
            "Increase the number of iterations (max_iter) or scale the data as shown in:\n",
            "    https://scikit-learn.org/stable/modules/preprocessing.html\n",
            "Please also refer to the documentation for alternative solver options:\n",
            "    https://scikit-learn.org/stable/modules/linear_model.html#logistic-regression\n",
            "  n_iter_i = _check_optimize_result(\n"
          ]
        }
      ]
    },
    {
      "cell_type": "code",
      "source": [
        "from sklearn.metrics import classification_report\n",
        "\n",
        "print(classification_report(y_test, y_pred))"
      ],
      "metadata": {
        "colab": {
          "base_uri": "https://localhost:8080/"
        },
        "id": "DijqWveqrCYN",
        "outputId": "d8b10de3-1487-47cd-cf52-9bfad7f58661"
      },
      "execution_count": 22,
      "outputs": [
        {
          "output_type": "stream",
          "name": "stdout",
          "text": [
            "              precision    recall  f1-score   support\n",
            "\n",
            "         0.0       0.80      0.78      0.79       208\n",
            "         1.0       0.99      0.99      0.99       184\n",
            "         2.0       0.99      0.98      0.98       203\n",
            "         3.0       0.78      0.80      0.79       205\n",
            "\n",
            "    accuracy                           0.89       800\n",
            "   macro avg       0.89      0.89      0.89       800\n",
            "weighted avg       0.89      0.89      0.89       800\n",
            "\n"
          ]
        }
      ]
    },
    {
      "cell_type": "code",
      "source": [
        "X_train_3d = X_train.reshape((X_train.shape[0], X_train.shape[1], 1))\n",
        "X_test_3d = X_test.reshape((X_test.shape[0], X_test.shape[1], 1))\n"
      ],
      "metadata": {
        "id": "J3LL0eMTrRyc"
      },
      "execution_count": 23,
      "outputs": []
    },
    {
      "cell_type": "code",
      "source": [
        "# Reshape input data\n",
        "X_train_3d = X_train.reshape(X_train.shape[0], X_train.shape[1]//2, 2)\n",
        "X_test_3d = X_test.reshape(X_test.shape[0], X_test.shape[1]//2, 2)\n"
      ],
      "metadata": {
        "id": "ihwvY9UzrUi-"
      },
      "execution_count": 24,
      "outputs": []
    },
    {
      "cell_type": "code",
      "source": [
        "# Build the model\n",
        "model = Sequential()\n",
        "model.add(Conv1D(32, 3, activation='relu', input_shape=(5000, 2)))\n",
        "model.add(MaxPooling1D(2))\n",
        "model.add(Conv1D(64, 3, activation='relu'))\n",
        "model.add(MaxPooling1D(2))\n",
        "model.add(Flatten())\n",
        "model.add(Dense(128, activation='relu'))\n",
        "model.add(Dense(1, activation='sigmoid'))"
      ],
      "metadata": {
        "id": "_5pnn7yqrW16"
      },
      "execution_count": 25,
      "outputs": []
    },
    {
      "cell_type": "code",
      "source": [
        "# Compile the model\n",
        "model.compile(optimizer='adam', loss='binary_crossentropy', metrics=['accuracy'])\n"
      ],
      "metadata": {
        "id": "Cs0eQeGqrZYr"
      },
      "execution_count": 26,
      "outputs": []
    },
    {
      "cell_type": "code",
      "source": [
        "# Train the model\n",
        "history = model.fit(X_train_3d, y_train, epochs=10, validation_data=(X_test_3d, y_test))"
      ],
      "metadata": {
        "colab": {
          "base_uri": "https://localhost:8080/"
        },
        "id": "XzyLEAcdrbs4",
        "outputId": "3a7c8f0d-9208-4571-c233-4f353262ee01"
      },
      "execution_count": 27,
      "outputs": [
        {
          "output_type": "stream",
          "name": "stdout",
          "text": [
            "Epoch 1/10\n",
            "100/100 [==============================] - 63s 613ms/step - loss: -108603.5703 - accuracy: 0.2550 - val_loss: -580833.0625 - val_accuracy: 0.2300\n",
            "Epoch 2/10\n",
            "100/100 [==============================] - 47s 467ms/step - loss: -4359478.5000 - accuracy: 0.2550 - val_loss: -12797585.0000 - val_accuracy: 0.2300\n",
            "Epoch 3/10\n",
            "100/100 [==============================] - 47s 473ms/step - loss: -36578820.0000 - accuracy: 0.2550 - val_loss: -76252168.0000 - val_accuracy: 0.2300\n",
            "Epoch 4/10\n",
            "100/100 [==============================] - 48s 474ms/step - loss: -151851024.0000 - accuracy: 0.2550 - val_loss: -262134048.0000 - val_accuracy: 0.2300\n",
            "Epoch 5/10\n",
            "100/100 [==============================] - 45s 448ms/step - loss: -434969472.0000 - accuracy: 0.2550 - val_loss: -673494336.0000 - val_accuracy: 0.2300\n",
            "Epoch 6/10\n",
            "100/100 [==============================] - 46s 458ms/step - loss: -1008654272.0000 - accuracy: 0.2550 - val_loss: -1454248320.0000 - val_accuracy: 0.2300\n",
            "Epoch 7/10\n",
            "100/100 [==============================] - 45s 448ms/step - loss: -2000700928.0000 - accuracy: 0.2550 - val_loss: -2728307712.0000 - val_accuracy: 0.2300\n",
            "Epoch 8/10\n",
            "100/100 [==============================] - 45s 447ms/step - loss: -3548963072.0000 - accuracy: 0.2550 - val_loss: -4652648448.0000 - val_accuracy: 0.2300\n",
            "Epoch 9/10\n",
            "100/100 [==============================] - 41s 410ms/step - loss: -5823171584.0000 - accuracy: 0.2550 - val_loss: -7384499712.0000 - val_accuracy: 0.2300\n",
            "Epoch 10/10\n",
            "100/100 [==============================] - 41s 405ms/step - loss: -8979090432.0000 - accuracy: 0.2550 - val_loss: -11107670016.0000 - val_accuracy: 0.2300\n"
          ]
        }
      ]
    },
    {
      "cell_type": "code",
      "source": [
        "loss, accuracy = model.evaluate(X_test_3d, y_test)\n",
        "print(f'Test loss: {loss:.3f}, Test accuracy: {accuracy:.3f}')\n"
      ],
      "metadata": {
        "colab": {
          "base_uri": "https://localhost:8080/"
        },
        "id": "B8p43ucUre6E",
        "outputId": "25ff775b-8eb2-4967-ede9-1828f2772ed0"
      },
      "execution_count": 28,
      "outputs": [
        {
          "output_type": "stream",
          "name": "stdout",
          "text": [
            "25/25 [==============================] - 3s 134ms/step - loss: -11107670016.0000 - accuracy: 0.2300\n",
            "Test loss: -11107670016.000, Test accuracy: 0.230\n"
          ]
        }
      ]
    },
    {
      "cell_type": "code",
      "source": [
        "y_pred = model.predict(X_test_3d[:10])\n",
        "print(y_pred)\n"
      ],
      "metadata": {
        "colab": {
          "base_uri": "https://localhost:8080/"
        },
        "id": "RylbzUqOtmhy",
        "outputId": "b4ca1133-be49-46a6-f4a2-677d2d261517"
      },
      "execution_count": 29,
      "outputs": [
        {
          "output_type": "stream",
          "name": "stdout",
          "text": [
            "1/1 [==============================] - 0s 471ms/step\n",
            "[[1.]\n",
            " [1.]\n",
            " [1.]\n",
            " [1.]\n",
            " [1.]\n",
            " [1.]\n",
            " [1.]\n",
            " [1.]\n",
            " [1.]\n",
            " [1.]]\n"
          ]
        }
      ]
    },
    {
      "cell_type": "code",
      "source": [],
      "metadata": {
        "id": "eg-uFfpbtouk"
      },
      "execution_count": null,
      "outputs": []
    },
    {
      "cell_type": "markdown",
      "source": [
        "# Question 6\n"
      ],
      "metadata": {
        "id": "QwG6mL7Htq2e"
      }
    },
    {
      "cell_type": "code",
      "source": [
        "import numpy as np\n",
        "import pickle\n",
        "import tensorflow as tf\n",
        "from sklearn.model_selection import train_test_split"
      ],
      "metadata": {
        "id": "Nn3cWlwjtumc"
      },
      "execution_count": 30,
      "outputs": []
    },
    {
      "cell_type": "code",
      "source": [
        "from google.colab import drive\n",
        "drive.mount('/content/gdrive')"
      ],
      "metadata": {
        "colab": {
          "base_uri": "https://localhost:8080/"
        },
        "id": "VU1Oj8KZt26e",
        "outputId": "d87c67f0-8a85-4974-801a-8145b444f243"
      },
      "execution_count": 31,
      "outputs": [
        {
          "output_type": "stream",
          "name": "stdout",
          "text": [
            "Drive already mounted at /content/gdrive; to attempt to forcibly remount, call drive.mount(\"/content/gdrive\", force_remount=True).\n"
          ]
        }
      ]
    },
    {
      "cell_type": "code",
      "source": [
        "with open('/content/gdrive/MyDrive/time_series_1.pickle', 'rb') as f:\n",
        "    time_series_1 = np.array(pickle.load(f))"
      ],
      "metadata": {
        "id": "bAEIdTIHt59X"
      },
      "execution_count": 32,
      "outputs": []
    },
    {
      "cell_type": "code",
      "source": [
        "with open('/content/gdrive/MyDrive/time_series_2.pickle', 'rb') as f:\n",
        "    time_series_2 = np.array(pickle.load(f))"
      ],
      "metadata": {
        "id": "dQjEl-utt8C2"
      },
      "execution_count": 33,
      "outputs": []
    },
    {
      "cell_type": "code",
      "source": [
        "with open('/content/gdrive/MyDrive/y.pickle', 'rb') as f:\n",
        "    y = np.array(pickle.load(f))"
      ],
      "metadata": {
        "id": "swYwtVJLt-zt"
      },
      "execution_count": 34,
      "outputs": []
    },
    {
      "cell_type": "code",
      "source": [
        "# Convert to grayscale images\n",
        "def convert_to_grayscale(ts1, ts2):\n",
        "    img = np.zeros((100, 100, 1))\n",
        "    for i in range(100):\n",
        "        for j in range(100):\n",
        "            img[i, j, 0] = (ts1[i] + ts2[j]) / 2\n",
        "    return img\n",
        "\n",
        "X = []\n",
        "for i in range(len(time_series_1)):\n",
        "    X.append(convert_to_grayscale(time_series_1[i], time_series_2[i]))\n",
        "X = np.array(X)"
      ],
      "metadata": {
        "id": "xegGPVU2uBPW"
      },
      "execution_count": 35,
      "outputs": []
    },
    {
      "cell_type": "code",
      "source": [
        "# Train-test split\n",
        "X_train, X_test, y_train, y_test = train_test_split(X, y, test_size=0.2, random_state=42)\n"
      ],
      "metadata": {
        "id": "aYl7UNXGuDaJ"
      },
      "execution_count": 36,
      "outputs": []
    },
    {
      "cell_type": "code",
      "source": [
        "# Define model architecture\n",
        "model = tf.keras.models.Sequential([\n",
        "    tf.keras.layers.Conv2D(32, (3,3), activation='relu', input_shape=(100,100,1)),\n",
        "    tf.keras.layers.MaxPooling2D((2,2)),\n",
        "    tf.keras.layers.Conv2D(64, (3,3), activation='relu'),\n",
        "    tf.keras.layers.MaxPooling2D((2,2)),\n",
        "    tf.keras.layers.Conv2D(64, (3,3), activation='relu'),\n",
        "    tf.keras.layers.Flatten(),\n",
        "    tf.keras.layers.Dense(64, activation='relu'),\n",
        "    tf.keras.layers.Dense(1, activation='sigmoid')\n",
        "])"
      ],
      "metadata": {
        "id": "5CeQs39vuriP"
      },
      "execution_count": 37,
      "outputs": []
    },
    {
      "cell_type": "code",
      "source": [
        "# Compile model\n",
        "model.compile(optimizer='adam',\n",
        "              loss='binary_crossentropy',\n",
        "              metrics=['accuracy'])"
      ],
      "metadata": {
        "id": "fQ--tShOuuYL"
      },
      "execution_count": 38,
      "outputs": []
    },
    {
      "cell_type": "code",
      "source": [
        "# Train model\n",
        "history = model.fit(X_train, y_train, epochs=10, batch_size=32, validation_data=(X_test, y_test))\n"
      ],
      "metadata": {
        "colab": {
          "base_uri": "https://localhost:8080/"
        },
        "id": "KzeZtVApuwpV",
        "outputId": "50c7ae3b-7960-4361-d973-62c1a7496cdf"
      },
      "execution_count": 41,
      "outputs": [
        {
          "output_type": "stream",
          "name": "stdout",
          "text": [
            "Epoch 1/10\n",
            "100/100 [==============================] - 62s 618ms/step - loss: -129647446589440.0000 - accuracy: 0.2550 - val_loss: -164047081177088.0000 - val_accuracy: 0.2300\n",
            "Epoch 2/10\n",
            "100/100 [==============================] - 66s 658ms/step - loss: -200294625443840.0000 - accuracy: 0.2550 - val_loss: -248317879517184.0000 - val_accuracy: 0.2300\n",
            "Epoch 3/10\n",
            "100/100 [==============================] - 63s 628ms/step - loss: -297096343191552.0000 - accuracy: 0.2550 - val_loss: -361216983695360.0000 - val_accuracy: 0.2300\n",
            "Epoch 4/10\n",
            "100/100 [==============================] - 61s 611ms/step - loss: -426598733971456.0000 - accuracy: 0.2550 - val_loss: -512660349124608.0000 - val_accuracy: 0.2300\n",
            "Epoch 5/10\n",
            "100/100 [==============================] - 63s 632ms/step - loss: -594360190107648.0000 - accuracy: 0.2550 - val_loss: -703023332458496.0000 - val_accuracy: 0.2300\n",
            "Epoch 6/10\n",
            "100/100 [==============================] - 62s 615ms/step - loss: -805525948203008.0000 - accuracy: 0.2550 - val_loss: -943176563032064.0000 - val_accuracy: 0.2300\n",
            "Epoch 7/10\n",
            "100/100 [==============================] - 60s 602ms/step - loss: -1067318364864512.0000 - accuracy: 0.2550 - val_loss: -1240141473513472.0000 - val_accuracy: 0.2300\n",
            "Epoch 8/10\n",
            "100/100 [==============================] - 66s 655ms/step - loss: -1388745597124608.0000 - accuracy: 0.2550 - val_loss: -1594225154064384.0000 - val_accuracy: 0.2300\n",
            "Epoch 9/10\n",
            "100/100 [==============================] - 63s 628ms/step - loss: -1774840474238976.0000 - accuracy: 0.2550 - val_loss: -2024831864274944.0000 - val_accuracy: 0.2300\n",
            "Epoch 10/10\n",
            "100/100 [==============================] - 63s 632ms/step - loss: -2238716269559808.0000 - accuracy: 0.2550 - val_loss: -2537582374158336.0000 - val_accuracy: 0.2300\n"
          ]
        }
      ]
    },
    {
      "cell_type": "code",
      "source": [
        "# Evaluate model on test set\n",
        "test_loss, test_acc = model.evaluate(X_test, y_test)\n",
        "print('Test accuracy:', test_acc)"
      ],
      "metadata": {
        "colab": {
          "base_uri": "https://localhost:8080/"
        },
        "id": "MmGAgG9fu10h",
        "outputId": "2f23e467-2c24-4162-9ee3-7e6d04ad350d"
      },
      "execution_count": 40,
      "outputs": [
        {
          "output_type": "stream",
          "name": "stdout",
          "text": [
            "25/25 [==============================] - 8s 338ms/step - loss: -103932571418624.0000 - accuracy: 0.2300\n",
            "Test accuracy: 0.23000000417232513\n"
          ]
        }
      ]
    },
    {
      "cell_type": "code",
      "source": [
        "import matplotlib.pyplot as plt\n"
      ],
      "metadata": {
        "id": "H4XDg2wr1ARO"
      },
      "execution_count": 43,
      "outputs": []
    },
    {
      "cell_type": "code",
      "source": [
        "# Plot accuracy\n",
        "plt.plot(history.history['accuracy'])\n",
        "plt.plot(history.history['val_accuracy'])\n",
        "plt.title('Model Accuracy')\n",
        "plt.ylabel('Accuracy')\n",
        "plt.xlabel('Epoch')\n",
        "plt.legend(['train', 'test'], loc='upper left')\n",
        "plt.show()"
      ],
      "metadata": {
        "colab": {
          "base_uri": "https://localhost:8080/",
          "height": 472
        },
        "id": "woZgLrPDxtN3",
        "outputId": "c6d45493-eefd-4c9e-ea22-ab278a06b4a7"
      },
      "execution_count": 44,
      "outputs": [
        {
          "output_type": "display_data",
          "data": {
            "text/plain": [
              "<Figure size 640x480 with 1 Axes>"
            ],
            "image/png": "[encoded data removed]"
          },
          "metadata": {}
        }
      ]
    },
    {
      "cell_type": "code",
      "source": [
        "# Plot loss\n",
        "plt.plot(history.history['loss'])\n",
        "plt.plot(history.history['val_loss'])\n",
        "plt.title('Model Loss')\n",
        "plt.ylabel('Loss')\n",
        "plt.xlabel('Epoch')\n",
        "plt.legend(['train', 'test'], loc='upper left')\n",
        "plt.show()"
      ],
      "metadata": {
        "colab": {
          "base_uri": "https://localhost:8080/",
          "height": 472
        },
        "id": "q_a3rrJC1DmI",
        "outputId": "b58f6d3b-7e6e-4f8c-fda3-a820a48458d2"
      },
      "execution_count": 45,
      "outputs": [
        {
          "output_type": "display_data",
          "data": {
            "text/plain": [
              "<Figure size 640x480 with 1 Axes>"
            ],
            "image/png": "[encoded data removed]"
          },
          "metadata": {}
        }
      ]
    },
    {
      "cell_type": "code",
      "source": [],
      "metadata": {
        "id": "V_KBMMYU250u"
      },
      "execution_count": null,
      "outputs": []
    },
    {
      "cell_type": "markdown",
      "source": [
        "# Question 8"
      ],
      "metadata": {
        "id": "pEuDeRDY3tde"
      }
    },
    {
      "cell_type": "code",
      "source": [],
      "metadata": {
        "id": "SaMJ12mD4QMt"
      },
      "execution_count": null,
      "outputs": []
    },
    {
      "cell_type": "code",
      "source": [
        "images = []\n",
        "for i in range(len(time_series_1)):\n",
        "    ts1 = time_series_1[i]\n",
        "    ts2 = time_series_2[i]\n",
        "    combined = np.vstack((ts1, ts2)).T\n",
        "    combined = np.expand_dims(combined, axis=-1)  # Add an extra dimension for channels\n",
        "    if combined.shape[0] >= 256 and combined.shape[1] >= 256:\n",
        "        image = tf.image.resize_with_pad(combined, target_height=256, target_width=256)\n",
        "    else:\n",
        "        image = combined\n",
        "    images.append(image)\n",
        "\n",
        "X = np.stack(images)\n",
        "y = np.array(y)"
      ],
      "metadata": {
        "id": "A3y-ScrQ3xFa"
      },
      "execution_count": 60,
      "outputs": []
    },
    {
      "cell_type": "code",
      "source": [
        "# Split the data into training and validation sets\n",
        "indices = np.random.permutation(len(X))\n",
        "train_indices = indices[:int(0.8*len(X))]\n",
        "val_indices = indices[int(0.8*len(X)):]"
      ],
      "metadata": {
        "id": "k9iMSQA03z0l"
      },
      "execution_count": 61,
      "outputs": []
    },
    {
      "cell_type": "code",
      "source": [
        "X_train = X[train_indices]\n",
        "y_train = y[train_indices]\n",
        "X_val = X[val_indices]\n",
        "y_val = y[val_indices]"
      ],
      "metadata": {
        "id": "B88ZPwnw327u"
      },
      "execution_count": 62,
      "outputs": []
    },
    {
      "cell_type": "code",
      "source": [
        " #Define the CNN model\n",
        "model = tf.keras.Sequential([\n",
        "    tf.keras.layers.Conv2D(filters=32, kernel_size=(3, 3), activation='relu', input_shape=(100, 100, 1)),\n",
        "    tf.keras.layers.MaxPooling2D(pool_size=(2, 2)),\n",
        "    tf.keras.layers.Conv2D(filters=64, kernel_size=(3, 3), activation='relu'),\n",
        "    tf.keras.layers.MaxPooling2D(pool_size=(2, 2)),\n",
        "    tf.keras.layers.Conv2D(filters=128, kernel_size=(3, 3), activation='relu'),\n",
        "    tf.keras.layers.MaxPooling2D(pool_size=(2, 2)),\n",
        "    tf.keras.layers.Flatten(),\n",
        "    tf.keras.layers.Dense(units=128, activation='relu'),\n",
        "    tf.keras.layers.Dense(units=1, activation='sigmoid')\n",
        "])"
      ],
      "metadata": {
        "id": "tK_ljOR6357s"
      },
      "execution_count": 63,
      "outputs": []
    },
    {
      "cell_type": "code",
      "source": [
        "# Define the model architecture\n",
        "model = Sequential([\n",
        "    Conv2D(32, (3,3), activation='relu', input_shape=(100,100,1)),\n",
        "    MaxPooling2D((2,2)),\n",
        "    Flatten(),\n",
        "    Dense(1, activation='sigmoid')\n",
        "])\n"
      ],
      "metadata": {
        "id": "6tJloDU438uj"
      },
      "execution_count": 64,
      "outputs": []
    },
    {
      "cell_type": "code",
      "source": [
        "# Compile the model\n",
        "model.compile(loss='binary_crossentropy', optimizer='adam', metrics=['accuracy'])\n"
      ],
      "metadata": {
        "id": "_ttskxlk3_Gx"
      },
      "execution_count": 65,
      "outputs": []
    },
    {
      "cell_type": "code",
      "source": [
        "# Reshape the training data\n",
        "X_train = X_train.reshape(-1, 100, 100, 1)\n",
        "\n",
        "# Reshape the validation data\n",
        "X_val = X_val.reshape(-1, 100, 100, 1)\n"
      ],
      "metadata": {
        "id": "sQq2jN5E4BvO"
      },
      "execution_count": 66,
      "outputs": []
    },
    {
      "cell_type": "code",
      "source": [
        "# Train the model\n",
        "model.fit(X_train, y_train, validation_data=(X_val, y_val), epochs=10, batch_size=32)\n"
      ],
      "metadata": {
        "colab": {
          "base_uri": "https://localhost:8080/"
        },
        "id": "qBFXmGog4D9m",
        "outputId": "5c58ed31-1076-410e-921a-6c24db03e3f1"
      },
      "execution_count": 67,
      "outputs": [
        {
          "output_type": "stream",
          "name": "stdout",
          "text": [
            "Epoch 1/10\n",
            "100/100 [==============================] - 26s 247ms/step - loss: -164715.8438 - accuracy: 0.2503 - val_loss: -505342.7188 - val_accuracy: 0.2488\n",
            "Epoch 2/10\n",
            "100/100 [==============================] - 27s 273ms/step - loss: -1581228.0000 - accuracy: 0.2503 - val_loss: -2600758.5000 - val_accuracy: 0.2488\n",
            "Epoch 3/10\n",
            "100/100 [==============================] - 19s 190ms/step - loss: -4875563.0000 - accuracy: 0.2503 - val_loss: -6283508.0000 - val_accuracy: 0.2488\n",
            "Epoch 4/10\n",
            "100/100 [==============================] - 19s 187ms/step - loss: -9896020.0000 - accuracy: 0.2503 - val_loss: -11485496.0000 - val_accuracy: 0.2488\n",
            "Epoch 5/10\n",
            "100/100 [==============================] - 19s 189ms/step - loss: -16596835.0000 - accuracy: 0.2503 - val_loss: -18167942.0000 - val_accuracy: 0.2488\n",
            "Epoch 6/10\n",
            "100/100 [==============================] - 20s 203ms/step - loss: -24990620.0000 - accuracy: 0.2503 - val_loss: -26331298.0000 - val_accuracy: 0.2488\n",
            "Epoch 7/10\n",
            "100/100 [==============================] - 18s 180ms/step - loss: -34994252.0000 - accuracy: 0.2503 - val_loss: -35710452.0000 - val_accuracy: 0.2488\n",
            "Epoch 8/10\n",
            "100/100 [==============================] - 18s 182ms/step - loss: -46391576.0000 - accuracy: 0.2503 - val_loss: -46647388.0000 - val_accuracy: 0.2488\n",
            "Epoch 9/10\n",
            "100/100 [==============================] - 20s 205ms/step - loss: -59212368.0000 - accuracy: 0.2503 - val_loss: -58518084.0000 - val_accuracy: 0.2488\n",
            "Epoch 10/10\n",
            "100/100 [==============================] - 18s 179ms/step - loss: -73430392.0000 - accuracy: 0.2503 - val_loss: -71747768.0000 - val_accuracy: 0.2488\n"
          ]
        },
        {
          "output_type": "execute_result",
          "data": {
            "text/plain": [
              "<keras.callbacks.History at 0x7f47864bcee0>"
            ]
          },
          "metadata": {},
          "execution_count": 67
        }
      ]
    },
    {
      "cell_type": "code",
      "source": [
        "# Evaluate the model on the validation set\n",
        "val_loss, val_acc = model.evaluate(X_val, y_val)\n",
        "print('Validation accuracy:', val_acc)"
      ],
      "metadata": {
        "colab": {
          "base_uri": "https://localhost:8080/"
        },
        "id": "jHv_7bwA4Gtk",
        "outputId": "74c82d69-337f-4351-c2db-c61f0d90ab31"
      },
      "execution_count": 68,
      "outputs": [
        {
          "output_type": "stream",
          "name": "stdout",
          "text": [
            "25/25 [==============================] - 3s 105ms/step - loss: -71747768.0000 - accuracy: 0.2488\n",
            "Validation accuracy: 0.2487500011920929\n"
          ]
        }
      ]
    },
    {
      "cell_type": "markdown",
      "source": [
        "# Question 9 \n"
      ],
      "metadata": {
        "id": "dH8d-WIf5Nu6"
      }
    },
    {
      "cell_type": "code",
      "source": [
        "import tensorflow as tf\n",
        "import numpy as np\n",
        "import pickle\n",
        "from tensorflow import keras\n",
        "from keras.layers import Input, Conv1D, MaxPooling1D, Flatten, Dense, concatenate\n",
        "from keras.models import Model\n"
      ],
      "metadata": {
        "id": "BsfaAuvz5Rhg"
      },
      "execution_count": 88,
      "outputs": []
    },
    {
      "cell_type": "code",
      "source": [
        "# Split the data into training, validation, and test sets\n",
        "train_val_split = int(0.8 * len(time_series_1))\n",
        "time_series_1_train_val = time_series_1[:train_val_split]\n",
        "time_series_2_train_val = time_series_2[:train_val_split]\n",
        "y_train_val = y[:train_val_split]\n"
      ],
      "metadata": {
        "id": "kdgEGk5U5XjF"
      },
      "execution_count": 70,
      "outputs": []
    },
    {
      "cell_type": "code",
      "source": [
        "time_series_1_test = time_series_1[train_val_split:]\n",
        "time_series_2_test = time_series_2[train_val_split:]\n",
        "y_test = y[train_val_split:]\n"
      ],
      "metadata": {
        "id": "B54CfZCg5aPy"
      },
      "execution_count": 71,
      "outputs": []
    },
    {
      "cell_type": "code",
      "source": [
        "train_split = int(0.8 * len(time_series_1_train_val))\n",
        "time_series_1_train = time_series_1_train_val[:train_split]\n",
        "time_series_2_train = time_series_2_train_val[:train_split]\n",
        "y_train = y_train_val[:train_split]\n",
        "\n",
        "time_series_1_val = time_series_1_train_val[train_split:]\n",
        "time_series_2_val = time_series_2_train_val[train_split:]\n",
        "y_val = y_train_val[train_split:]"
      ],
      "metadata": {
        "id": "1mzbGVkP5cm9"
      },
      "execution_count": 72,
      "outputs": []
    },
    {
      "cell_type": "code",
      "source": [
        "# Define the input layers\n",
        "input1 = Input(shape=(5000, 1))\n",
        "input2 = Input(shape=(5000, 1))"
      ],
      "metadata": {
        "id": "BX5sGANb5e-t"
      },
      "execution_count": 73,
      "outputs": []
    },
    {
      "cell_type": "code",
      "source": [
        "# Define the first model\n",
        "model1 = tf.keras.models.Sequential([\n",
        "    tf.keras.layers.Conv1D(filters=32, kernel_size=3, activation='relu', input_shape=(5000, 2)),\n",
        "    tf.keras.layers.MaxPooling1D(pool_size=2),\n",
        "    tf.keras.layers.Flatten(),\n",
        "    tf.keras.layers.Dense(units=64, activation='relu'),\n",
        "    tf.keras.layers.Dense(units=1, activation='sigmoid')\n",
        "])"
      ],
      "metadata": {
        "id": "5tl_1USX5hm6"
      },
      "execution_count": 75,
      "outputs": []
    },
    {
      "cell_type": "code",
      "source": [
        "# Define the convolutional layers for the first input\n",
        "conv1_1 = Conv1D(filters=32, kernel_size=3, activation='relu')(input1)\n",
        "pool1_1 = MaxPooling1D(pool_size=2)(conv1_1)\n",
        "conv2_1 = Conv1D(filters=64, kernel_size=3, activation='relu')(pool1_1)\n",
        "pool2_1 = MaxPooling1D(pool_size=2)(conv2_1)\n",
        "conv3_1 = Conv1D(filters=128, kernel_size=3, activation='relu')(pool2_1)\n",
        "pool3_1 = MaxPooling1D(pool_size=2)(conv3_1)\n",
        "flat1 = Flatten()(pool3_1)"
      ],
      "metadata": {
        "id": "bOyhMDSW5j7_"
      },
      "execution_count": 76,
      "outputs": []
    },
    {
      "cell_type": "code",
      "source": [
        "# Define the convolutional layers for the second input\n",
        "conv1_2 = Conv1D(filters=32, kernel_size=3, activation='relu')(input2)\n",
        "pool1_2 = MaxPooling1D(pool_size=2)(conv1_2)\n",
        "conv2_2 = Conv1D(filters=64, kernel_size=3, activation='relu')(pool1_2)\n",
        "pool2_2 = MaxPooling1D(pool_size=2)(conv2_2)\n",
        "conv3_2 = Conv1D(filters=128, kernel_size=3, activation='relu')(pool2_2)\n",
        "pool3_2 = MaxPooling1D(pool_size=2)(conv3_2)\n",
        "flat2 = Flatten()(pool3_2)"
      ],
      "metadata": {
        "id": "dSWbkUKK5vKN"
      },
      "execution_count": 77,
      "outputs": []
    },
    {
      "cell_type": "code",
      "source": [
        "#Concatenate the two flattened layers\n",
        "merged = concatenate([flat1, flat2])\n",
        "\n",
        "# Define the output layer\n",
        "output = Dense(units=1, activation='sigmoid')(merged)"
      ],
      "metadata": {
        "id": "lR-WmVET5yCy"
      },
      "execution_count": 78,
      "outputs": []
    },
    {
      "cell_type": "code",
      "source": [
        "# Define the model\n",
        "model1 = Model(inputs=[input1, input2], outputs=output)"
      ],
      "metadata": {
        "id": "ovyLMOeq50O2"
      },
      "execution_count": 79,
      "outputs": []
    },
    {
      "cell_type": "code",
      "source": [
        "# Compile the first model\n",
        "model1.compile(loss='binary_crossentropy', optimizer='adam', metrics=['accuracy'])\n"
      ],
      "metadata": {
        "id": "dlxK12xZ52fP"
      },
      "execution_count": 80,
      "outputs": []
    },
    {
      "cell_type": "code",
      "source": [
        "# Train the first model\n",
        "history1 = model1.fit([time_series_1_train, time_series_2_train], y_train, validation_data=([time_series_1_val, time_series_2_val], y_val), epochs=10, batch_size=32)\n"
      ],
      "metadata": {
        "colab": {
          "base_uri": "https://localhost:8080/"
        },
        "id": "u8VErC_u57V1",
        "outputId": "bf4834fb-0a02-4f0f-b654-eb93485e37bc"
      },
      "execution_count": 83,
      "outputs": [
        {
          "output_type": "stream",
          "name": "stdout",
          "text": [
            "Epoch 1/10\n",
            "80/80 [==============================] - 80s 998ms/step - loss: -3060504199168.0000 - accuracy: 0.2531 - val_loss: -3363358638080.0000 - val_accuracy: 0.2531\n",
            "Epoch 2/10\n",
            "80/80 [==============================] - 78s 972ms/step - loss: -4327248756736.0000 - accuracy: 0.2531 - val_loss: -4675272179712.0000 - val_accuracy: 0.2531\n",
            "Epoch 3/10\n",
            "80/80 [==============================] - 86s 1s/step - loss: -5917338763264.0000 - accuracy: 0.2531 - val_loss: -6294411411456.0000 - val_accuracy: 0.2531\n",
            "Epoch 4/10\n",
            "80/80 [==============================] - 78s 984ms/step - loss: -7886387806208.0000 - accuracy: 0.2531 - val_loss: -8328881111040.0000 - val_accuracy: 0.2531\n",
            "Epoch 5/10\n",
            "80/80 [==============================] - 81s 1s/step - loss: -10281806725120.0000 - accuracy: 0.2531 - val_loss: -10789660393472.0000 - val_accuracy: 0.2531\n",
            "Epoch 6/10\n",
            "80/80 [==============================] - 82s 1s/step - loss: -13164233097216.0000 - accuracy: 0.2531 - val_loss: -13654550380544.0000 - val_accuracy: 0.2531\n",
            "Epoch 7/10\n",
            "80/80 [==============================] - 78s 972ms/step - loss: -16555947589632.0000 - accuracy: 0.2531 - val_loss: -17055678988288.0000 - val_accuracy: 0.2531\n",
            "Epoch 8/10\n",
            "80/80 [==============================] - 77s 968ms/step - loss: -20506805796864.0000 - accuracy: 0.2531 - val_loss: -20946175918080.0000 - val_accuracy: 0.2531\n",
            "Epoch 9/10\n",
            "80/80 [==============================] - 79s 993ms/step - loss: -25056675627008.0000 - accuracy: 0.2531 - val_loss: -25411725557760.0000 - val_accuracy: 0.2531\n",
            "Epoch 10/10\n",
            "80/80 [==============================] - 82s 1s/step - loss: -30278361808896.0000 - accuracy: 0.2531 - val_loss: -30554766442496.0000 - val_accuracy: 0.2531\n"
          ]
        }
      ]
    },
    {
      "cell_type": "code",
      "source": [
        "# Evaluate the first model on the test set\n",
        "test_loss1, test_acc1 = model1.evaluate([time_series_1_test, time_series_2_test], y_test)\n",
        "print('Test accuracy for model 1:', test_acc1)\n"
      ],
      "metadata": {
        "colab": {
          "base_uri": "https://localhost:8080/"
        },
        "id": "3WcvR_ur9Gf6",
        "outputId": "b2bb0824-4e66-45e7-c79e-3804cc0368be"
      },
      "execution_count": 84,
      "outputs": [
        {
          "output_type": "stream",
          "name": "stdout",
          "text": [
            "25/25 [==============================] - 9s 350ms/step - loss: -34155536580608.0000 - accuracy: 0.2375\n",
            "Test accuracy for model 1: 0.23749999701976776\n"
          ]
        }
      ]
    },
    {
      "cell_type": "code",
      "source": [
        "# Define the second model\n",
        "base_model = tf.keras.applications.VGG16(weights='imagenet', include_top=False, input_shape=(224, 224, 3))\n",
        "base_model.trainable = False"
      ],
      "metadata": {
        "colab": {
          "base_uri": "https://localhost:8080/"
        },
        "id": "Nqy3f2KzASvw",
        "outputId": "86849738-3d06-4be8-ee27-cc9470e1b5c8"
      },
      "execution_count": 85,
      "outputs": [
        {
          "output_type": "stream",
          "name": "stdout",
          "text": [
            "Downloading data from https://storage.googleapis.com/tensorflow/keras-applications/vgg16/vgg16_weights_tf_dim_ordering_tf_kernels_notop.h5\n",
            "58889256/58889256 [==============================] - 2s 0us/step\n"
          ]
        }
      ]
    },
    {
      "cell_type": "code",
      "source": [
        "inputs = tf.keras.layers.Input(shape=(5000, 2, 1))\n",
        "x = tf.keras.layers.Lambda(lambda x: tf.keras.backend.repeat_elements(x, 3, 2))(inputs)\n",
        "x = tf.keras.layers.Lambda(lambda x: tf.image.grayscale_to_rgb(x))(x)\n",
        "x = tf.keras.layers.Lambda(lambda x: tf.image.resize(x, (224, 224)))(x)\n",
        "x = base_model(x, training=False)\n",
        "x = tf.keras.layers.GlobalAveragePooling2D()(x)\n",
        "outputs = tf.keras.layers.Dense(units=1, activation='sigmoid')(x)\n",
        "\n",
        "model2 = tf.keras.models.Model(inputs=inputs, outputs=outputs)\n"
      ],
      "metadata": {
        "id": "SvyoTYipAWjJ"
      },
      "execution_count": 86,
      "outputs": []
    },
    {
      "cell_type": "code",
      "source": [
        "# Define the input layers\n",
        "input1 = keras.layers.Input(shape=(5000,))\n",
        "input2 = keras.layers.Input(shape=(5000,))"
      ],
      "metadata": {
        "id": "0SueCPnoAZpF"
      },
      "execution_count": 89,
      "outputs": []
    },
    {
      "cell_type": "code",
      "source": [
        "# Concatenate the inputs\n",
        "concat = keras.layers.concatenate([input1, input2])\n",
        "\n",
        "# Add the layers for the model\n",
        "x = keras.layers.Dense(32, activation='relu')(concat)\n",
        "x = keras.layers.Dense(16, activation='relu')(x)\n",
        "output = keras.layers.Dense(1, activation='sigmoid')(x)\n"
      ],
      "metadata": {
        "id": "Jksv73qJAcFk"
      },
      "execution_count": 90,
      "outputs": []
    },
    {
      "cell_type": "code",
      "source": [
        " #Create the model\n",
        "model2 = keras.models.Model(inputs=[input1, input2], outputs=output)\n"
      ],
      "metadata": {
        "id": "QjTtgwUiAwle"
      },
      "execution_count": 91,
      "outputs": []
    },
    {
      "cell_type": "code",
      "source": [
        "# Compile the second model\n",
        "model2.compile(loss='binary_crossentropy', optimizer='adam', metrics=['accuracy'])\n"
      ],
      "metadata": {
        "id": "Gje_0RySAz-V"
      },
      "execution_count": 92,
      "outputs": []
    },
    {
      "cell_type": "code",
      "source": [
        "# Train the second model\n",
        "history2 = model2.fit([time_series_1_train, time_series_2_train], y_train, validation_data=([time_series_1_val, time_series_2_val], y_val), epochs=10, batch_size=32)"
      ],
      "metadata": {
        "colab": {
          "base_uri": "https://localhost:8080/"
        },
        "id": "F-kVjkriA0ea",
        "outputId": "a7eba78b-1fa9-42b8-ce00-214b9029320f"
      },
      "execution_count": 93,
      "outputs": [
        {
          "output_type": "stream",
          "name": "stdout",
          "text": [
            "Epoch 1/10\n",
            "80/80 [==============================] - 3s 19ms/step - loss: -58174.0117 - accuracy: 0.2555 - val_loss: -163389.4531 - val_accuracy: 0.2531\n",
            "Epoch 2/10\n",
            "80/80 [==============================] - 2s 21ms/step - loss: -534049.6875 - accuracy: 0.2531 - val_loss: -981179.8125 - val_accuracy: 0.2531\n",
            "Epoch 3/10\n",
            "80/80 [==============================] - 3s 38ms/step - loss: -2092154.0000 - accuracy: 0.2531 - val_loss: -3191019.5000 - val_accuracy: 0.2531\n",
            "Epoch 4/10\n",
            "80/80 [==============================] - 1s 14ms/step - loss: -5551447.0000 - accuracy: 0.2531 - val_loss: -7515494.5000 - val_accuracy: 0.2531\n",
            "Epoch 5/10\n",
            "80/80 [==============================] - 1s 14ms/step - loss: -11761064.0000 - accuracy: 0.2531 - val_loss: -14683048.0000 - val_accuracy: 0.2531\n",
            "Epoch 6/10\n",
            "80/80 [==============================] - 1s 10ms/step - loss: -21304010.0000 - accuracy: 0.2531 - val_loss: -25315496.0000 - val_accuracy: 0.2531\n",
            "Epoch 7/10\n",
            "80/80 [==============================] - 1s 10ms/step - loss: -34800132.0000 - accuracy: 0.2531 - val_loss: -39797248.0000 - val_accuracy: 0.2531\n",
            "Epoch 8/10\n",
            "80/80 [==============================] - 1s 10ms/step - loss: -52763544.0000 - accuracy: 0.2531 - val_loss: -58843348.0000 - val_accuracy: 0.2531\n",
            "Epoch 9/10\n",
            "80/80 [==============================] - 1s 10ms/step - loss: -76053712.0000 - accuracy: 0.2531 - val_loss: -82608200.0000 - val_accuracy: 0.2531\n",
            "Epoch 10/10\n",
            "80/80 [==============================] - 1s 9ms/step - loss: -105078320.0000 - accuracy: 0.2531 - val_loss: -112442344.0000 - val_accuracy: 0.2531\n"
          ]
        }
      ]
    },
    {
      "cell_type": "code",
      "source": [
        "# Evaluate the first model on the test set\n",
        "test_loss2, test_acc2 = model2.evaluate([time_series_1_test, time_series_2_test], y_test)\n",
        "print('Test accuracy for model 2:', test_acc1)\n"
      ],
      "metadata": {
        "colab": {
          "base_uri": "https://localhost:8080/"
        },
        "id": "ApZIKT_vA3Ze",
        "outputId": "b65ee6aa-61a3-4e2d-ef82-0b8c9d5dfc7b"
      },
      "execution_count": 94,
      "outputs": [
        {
          "output_type": "stream",
          "name": "stdout",
          "text": [
            "25/25 [==============================] - 0s 8ms/step - loss: -125701024.0000 - accuracy: 0.2375\n",
            "Test accuracy for model 2: 0.23749999701976776\n"
          ]
        }
      ]
    },
    {
      "cell_type": "code",
      "source": [
        "#compare the models\n",
        "if test_acc1 >= test_acc2:\n",
        "    best_model = model1\n",
        "else:\n",
        "    best_model = model2\n"
      ],
      "metadata": {
        "id": "ZKuDbXWkBLj2"
      },
      "execution_count": 95,
      "outputs": []
    },
    {
      "cell_type": "code",
      "source": [
        "history_best = best_model.fit([np.concatenate((time_series_1_train, time_series_1_val)), np.concatenate((time_series_2_train, time_series_2_val))], np.concatenate((y_train, y_val)), epochs=10, batch_size=32)\n"
      ],
      "metadata": {
        "colab": {
          "base_uri": "https://localhost:8080/"
        },
        "id": "vrvf1mRbBOe8",
        "outputId": "ecf143b2-1973-4435-dcef-1b670a1b27dd"
      },
      "execution_count": 96,
      "outputs": [
        {
          "output_type": "stream",
          "name": "stdout",
          "text": [
            "Epoch 1/10\n",
            "100/100 [==============================] - 96s 955ms/step - loss: -36414188158976.0000 - accuracy: 0.2531\n",
            "Epoch 2/10\n",
            "100/100 [==============================] - 91s 911ms/step - loss: -44712215969792.0000 - accuracy: 0.2531\n",
            "Epoch 3/10\n",
            "100/100 [==============================] - 90s 905ms/step - loss: -54269696802816.0000 - accuracy: 0.2531\n",
            "Epoch 4/10\n",
            "100/100 [==============================] - 91s 916ms/step - loss: -65145099255808.0000 - accuracy: 0.2531\n",
            "Epoch 5/10\n",
            "100/100 [==============================] - 91s 907ms/step - loss: -77381519802368.0000 - accuracy: 0.2531\n",
            "Epoch 6/10\n",
            "100/100 [==============================] - 90s 902ms/step - loss: -91160311758848.0000 - accuracy: 0.2531\n",
            "Epoch 7/10\n",
            "100/100 [==============================] - 89s 894ms/step - loss: -106372028956672.0000 - accuracy: 0.2531\n",
            "Epoch 8/10\n",
            "100/100 [==============================] - 90s 904ms/step - loss: -123293436739584.0000 - accuracy: 0.2531\n",
            "Epoch 9/10\n",
            "100/100 [==============================] - 89s 896ms/step - loss: -141922328903680.0000 - accuracy: 0.2531\n",
            "Epoch 10/10\n",
            "100/100 [==============================] - 90s 900ms/step - loss: -162320906977280.0000 - accuracy: 0.2531\n"
          ]
        }
      ]
    },
    {
      "cell_type": "code",
      "source": [
        "test_loss_best, test_acc_best = best_model.evaluate([time_series_1_test, time_series_2_test], y_test)\n",
        "print('Test accuracy for the best model:', test_acc_best)"
      ],
      "metadata": {
        "colab": {
          "base_uri": "https://localhost:8080/"
        },
        "id": "BeeXaiEtBTFb",
        "outputId": "d091a4ed-a8cd-4b2d-9c0a-4ae19c1eaa74"
      },
      "execution_count": 97,
      "outputs": [
        {
          "output_type": "stream",
          "name": "stdout",
          "text": [
            "25/25 [==============================] - 10s 372ms/step - loss: -181585714348032.0000 - accuracy: 0.2375\n",
            "Test accuracy for the best model: 0.23749999701976776\n"
          ]
        }
      ]
    }
  ]
}