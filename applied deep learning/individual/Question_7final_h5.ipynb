{
  "nbformat": 4,
  "nbformat_minor": 0,
  "metadata": {
    "colab": {
      "provenance": []
    },
    "kernelspec": {
      "name": "python3",
      "display_name": "Python 3"
    },
    "language_info": {
      "name": "python"
    }
  },
  "cells": [
    {
      "cell_type": "markdown",
      "source": [
        "# Question 7"
      ],
      "metadata": {
        "id": "6tSw6RlhYfV5"
      }
    },
    {
      "cell_type": "code",
      "source": [
        "import tensorflow as tf\n",
        "import numpy as np\n",
        "import pickle\n"
      ],
      "metadata": {
        "id": "dLVtybteYirx"
      },
      "execution_count": 1,
      "outputs": []
    },
    {
      "cell_type": "code",
      "source": [
        "from google.colab import drive\n",
        "drive.mount('/content/gdrive')"
      ],
      "metadata": {
        "colab": {
          "base_uri": "https://localhost:8080/"
        },
        "id": "RNCL_Yp3Ym8_",
        "outputId": "4858ca1d-6c3e-4722-a870-9f02248c0280"
      },
      "execution_count": 2,
      "outputs": [
        {
          "output_type": "stream",
          "name": "stdout",
          "text": [
            "Mounted at /content/gdrive\n"
          ]
        }
      ]
    },
    {
      "cell_type": "code",
      "source": [
        "with open('/content/gdrive/MyDrive/time_series_1.pickle', 'rb') as f:\n",
        "    time_series_1 = np.array(pickle.load(f))"
      ],
      "metadata": {
        "id": "Vy7BT_o9Yq6n"
      },
      "execution_count": 3,
      "outputs": []
    },
    {
      "cell_type": "code",
      "source": [
        "with open('/content/gdrive/MyDrive/time_series_2.pickle', 'rb') as f:\n",
        "    time_series_2 = np.array(pickle.load(f))"
      ],
      "metadata": {
        "id": "Tv-94SIKYrwY"
      },
      "execution_count": 4,
      "outputs": []
    },
    {
      "cell_type": "code",
      "source": [
        "with open('/content/gdrive/MyDrive/y.pickle', 'rb') as f:\n",
        "    y = np.array(pickle.load(f))"
      ],
      "metadata": {
        "id": "s5h3fDr_Yu1v"
      },
      "execution_count": 5,
      "outputs": []
    },
    {
      "cell_type": "code",
      "source": [
        "images = []\n",
        "for i in range(len(time_series_1)):\n",
        "    ts1 = time_series_1[i]\n",
        "    ts2 = time_series_2[i]\n",
        "    combined = np.vstack((ts1, ts2)).T\n",
        "    combined = np.expand_dims(combined, axis=-1)  # Add an extra dimension for channels\n",
        "    if combined.shape[0] >= 256 and combined.shape[1] >= 256:\n",
        "        image = tf.image.resize_with_pad(combined, target_height=256, target_width=256)\n",
        "    else:\n",
        "        image = combined\n",
        "    images.append(image)\n",
        "\n",
        "X = np.stack(images)\n",
        "y = np.array(y)\n"
      ],
      "metadata": {
        "id": "1EUMj8kIYydp"
      },
      "execution_count": 6,
      "outputs": []
    },
    {
      "cell_type": "code",
      "source": [
        "# Split the data into training and validation sets\n",
        "indices = np.random.permutation(len(X))\n",
        "train_indices = indices[:int(0.8*len(X))]\n",
        "val_indices = indices[int(0.8*len(X)):]"
      ],
      "metadata": {
        "id": "BYhIoTk9Zy1B"
      },
      "execution_count": 7,
      "outputs": []
    },
    {
      "cell_type": "code",
      "source": [
        "X_train = X[train_indices]\n",
        "y_train = y[train_indices]\n",
        "X_val = X[val_indices]\n",
        "y_val = y[val_indices]"
      ],
      "metadata": {
        "id": "KcMEkMmXY116"
      },
      "execution_count": 8,
      "outputs": []
    },
    {
      "cell_type": "code",
      "source": [
        "# Define the CNN model\n",
        "model = tf.keras.Sequential([\n",
        "    tf.keras.layers.Conv2D(filters=32, kernel_size=(3, 3), activation='relu', input_shape=(100, 100, 1)),\n",
        "    tf.keras.layers.MaxPooling2D(pool_size=(2, 2)),\n",
        "    tf.keras.layers.Conv2D(filters=64, kernel_size=(3, 3), activation='relu'),\n",
        "    tf.keras.layers.MaxPooling2D(pool_size=(2, 2)),\n",
        "    tf.keras.layers.Conv2D(filters=128, kernel_size=(3, 3), activation='relu'),\n",
        "    tf.keras.layers.MaxPooling2D(pool_size=(2, 2)),\n",
        "    tf.keras.layers.Flatten(),\n",
        "    tf.keras.layers.Dense(units=128, activation='relu'),\n",
        "    tf.keras.layers.Dense(units=1, activation='sigmoid')\n",
        "])\n"
      ],
      "metadata": {
        "id": "kRtAh3G1Z6Jp"
      },
      "execution_count": 9,
      "outputs": []
    },
    {
      "cell_type": "code",
      "source": [
        "# Compile the model\n",
        "model.compile(loss='binary_crossentropy', optimizer='adam', metrics=['accuracy'])\n"
      ],
      "metadata": {
        "id": "sEiycWauZ8sQ"
      },
      "execution_count": 10,
      "outputs": []
    },
    {
      "cell_type": "code",
      "source": [
        "X_train = X_train.reshape(X_train.shape[0], 100, 100, 1)\n",
        "X_val = X_val.reshape(X_val.shape[0], 100, 100, 1)\n"
      ],
      "metadata": {
        "id": "GDrfWwdlaP87"
      },
      "execution_count": 11,
      "outputs": []
    },
    {
      "cell_type": "code",
      "source": [
        "import tensorflow as tf\n",
        "\n",
        "# Define your function\n",
        "def my_function(x, y):\n",
        "    z = tf.math.add(x, y)\n",
        "    return z\n",
        "\n",
        "# Wrap the function in tf.function\n",
        "my_function = tf.function(my_function)\n",
        "\n",
        "# Call the function\n",
        "x = tf.constant(1)\n",
        "y = tf.constant(2)\n",
        "result = my_function(x, y)\n"
      ],
      "metadata": {
        "id": "SLT9n6HlajPn"
      },
      "execution_count": 12,
      "outputs": []
    },
    {
      "cell_type": "code",
      "source": [
        "model.compile(optimizer='adam', loss='categorical_crossentropy', metrics=['accuracy'])\n",
        "model.fit(X_train, y_train, validation_data=(X_val, y_val), epochs=10, batch_size=32)\n"
      ],
      "metadata": {
        "colab": {
          "base_uri": "https://localhost:8080/"
        },
        "id": "7zQGuqF2aBcP",
        "outputId": "4386fd45-623a-4310-a6f6-4e92faf26d57"
      },
      "execution_count": 13,
      "outputs": [
        {
          "output_type": "stream",
          "name": "stdout",
          "text": [
            "Epoch 1/10\n"
          ]
        },
        {
          "output_type": "stream",
          "name": "stderr",
          "text": [
            "/usr/local/lib/python3.9/dist-packages/tensorflow/python/util/dispatch.py:1176: SyntaxWarning: In loss categorical_crossentropy, expected y_pred.shape to be (batch_size, num_classes) with num_classes > 1. Received: y_pred.shape=(32, 1). Consider using 'binary_crossentropy' if you only have 2 classes.\n",
            "  return dispatch_target(*args, **kwargs)\n"
          ]
        },
        {
          "output_type": "stream",
          "name": "stdout",
          "text": [
            "100/100 [==============================] - 70s 686ms/step - loss: 0.0000e+00 - accuracy: 0.2475 - val_loss: 0.0000e+00 - val_accuracy: 0.2612\n",
            "Epoch 2/10\n",
            "100/100 [==============================] - 67s 665ms/step - loss: 0.0000e+00 - accuracy: 0.2472 - val_loss: 0.0000e+00 - val_accuracy: 0.2612\n",
            "Epoch 3/10\n",
            "100/100 [==============================] - 67s 667ms/step - loss: 0.0000e+00 - accuracy: 0.2472 - val_loss: 0.0000e+00 - val_accuracy: 0.2612\n",
            "Epoch 4/10\n",
            "100/100 [==============================] - 65s 650ms/step - loss: 0.0000e+00 - accuracy: 0.2472 - val_loss: 0.0000e+00 - val_accuracy: 0.2612\n",
            "Epoch 5/10\n",
            "100/100 [==============================] - 65s 652ms/step - loss: 0.0000e+00 - accuracy: 0.2472 - val_loss: 0.0000e+00 - val_accuracy: 0.2612\n",
            "Epoch 6/10\n",
            "100/100 [==============================] - 68s 674ms/step - loss: 0.0000e+00 - accuracy: 0.2472 - val_loss: 0.0000e+00 - val_accuracy: 0.2612\n",
            "Epoch 7/10\n",
            "100/100 [==============================] - 72s 719ms/step - loss: 0.0000e+00 - accuracy: 0.2472 - val_loss: 0.0000e+00 - val_accuracy: 0.2612\n",
            "Epoch 8/10\n",
            "100/100 [==============================] - 65s 655ms/step - loss: 0.0000e+00 - accuracy: 0.2472 - val_loss: 0.0000e+00 - val_accuracy: 0.2612\n",
            "Epoch 9/10\n",
            "100/100 [==============================] - 67s 673ms/step - loss: 0.0000e+00 - accuracy: 0.2472 - val_loss: 0.0000e+00 - val_accuracy: 0.2612\n",
            "Epoch 10/10\n",
            "100/100 [==============================] - 66s 654ms/step - loss: 0.0000e+00 - accuracy: 0.2472 - val_loss: 0.0000e+00 - val_accuracy: 0.2612\n"
          ]
        },
        {
          "output_type": "execute_result",
          "data": {
            "text/plain": [
              "<keras.callbacks.History at 0x7f07d5fe0490>"
            ]
          },
          "metadata": {},
          "execution_count": 13
        }
      ]
    },
    {
      "cell_type": "code",
      "source": [
        "test_loss, test_acc = model.evaluate(X_train, y_train)\n",
        "print('Test accuracy:', test_acc)"
      ],
      "metadata": {
        "colab": {
          "base_uri": "https://localhost:8080/"
        },
        "id": "toXLFlmTc_AA",
        "outputId": "a5929d18-ff97-4a5b-c80d-c2c98d115225"
      },
      "execution_count": 14,
      "outputs": [
        {
          "output_type": "stream",
          "name": "stdout",
          "text": [
            "100/100 [==============================] - 25s 245ms/step - loss: 0.0000e+00 - accuracy: 0.2472\n",
            "Test accuracy: 0.24718749523162842\n"
          ]
        }
      ]
    },
    {
      "cell_type": "code",
      "source": [
        "val_loss, val_acc = model.evaluate(X_val, y_val)\n",
        "print('Validation accuracy:', val_acc)\n"
      ],
      "metadata": {
        "colab": {
          "base_uri": "https://localhost:8080/"
        },
        "id": "wke5jTGadeVe",
        "outputId": "4a1ef107-365b-4fbf-82b6-b72fdbfc49fe"
      },
      "execution_count": 15,
      "outputs": [
        {
          "output_type": "stream",
          "name": "stdout",
          "text": [
            "25/25 [==============================] - 4s 154ms/step - loss: 0.0000e+00 - accuracy: 0.2612\n",
            "Validation accuracy: 0.26124998927116394\n"
          ]
        }
      ]
    },
    {
      "cell_type": "code",
      "source": [
        "# Save the model as an .h5-file\n",
        "model.save('my_model.h5')"
      ],
      "metadata": {
        "id": "yGPH9vqiBkZW"
      },
      "execution_count": 16,
      "outputs": []
    }
  ]
}