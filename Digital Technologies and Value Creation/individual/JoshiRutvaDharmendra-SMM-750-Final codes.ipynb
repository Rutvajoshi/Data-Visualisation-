{
 "cells": [
  {
   "cell_type": "markdown",
   "id": "e2b03dd3",
   "metadata": {},
   "source": [
    "# Question 2 \n"
   ]
  },
  {
   "cell_type": "code",
   "execution_count": 1,
   "id": "395a4498",
   "metadata": {
    "ExecuteTime": {
     "end_time": "2023-04-20T13:33:36.855074Z",
     "start_time": "2023-04-20T13:33:35.655305Z"
    }
   },
   "outputs": [],
   "source": [
    "import numpy as np \n",
    "import pandas as pd \n",
    "import matplotlib.pyplot as plt\n",
    "import seaborn as sns\n",
    "import plotly.graph_objs as go\n",
    "import plotly.express as px"
   ]
  },
  {
   "cell_type": "code",
   "execution_count": 2,
   "id": "814f0a60",
   "metadata": {
    "ExecuteTime": {
     "end_time": "2023-04-20T13:33:46.462869Z",
     "start_time": "2023-04-20T13:33:46.326764Z"
    }
   },
   "outputs": [],
   "source": [
    "# Load the data into a pandas DataFrame\n",
    "data = pd.read_csv(\"/Users/rutvajoshi/Downloads/DataAnalyst.csv\")"
   ]
  },
  {
   "cell_type": "code",
   "execution_count": 3,
   "id": "3977c834",
   "metadata": {
    "ExecuteTime": {
     "end_time": "2023-04-20T13:33:54.844462Z",
     "start_time": "2023-04-20T13:33:54.820751Z"
    }
   },
   "outputs": [
    {
     "data": {
      "text/html": [
       "<div>\n",
       "<style scoped>\n",
       "    .dataframe tbody tr th:only-of-type {\n",
       "        vertical-align: middle;\n",
       "    }\n",
       "\n",
       "    .dataframe tbody tr th {\n",
       "        vertical-align: top;\n",
       "    }\n",
       "\n",
       "    .dataframe thead th {\n",
       "        text-align: right;\n",
       "    }\n",
       "</style>\n",
       "<table border=\"1\" class=\"dataframe\">\n",
       "  <thead>\n",
       "    <tr style=\"text-align: right;\">\n",
       "      <th></th>\n",
       "      <th>Unnamed: 0</th>\n",
       "      <th>Job Title</th>\n",
       "      <th>Salary Estimate</th>\n",
       "      <th>Job Description</th>\n",
       "      <th>Rating</th>\n",
       "      <th>Company Name</th>\n",
       "      <th>Location</th>\n",
       "      <th>Headquarters</th>\n",
       "      <th>Size</th>\n",
       "      <th>Founded</th>\n",
       "      <th>Type of ownership</th>\n",
       "      <th>Industry</th>\n",
       "      <th>Sector</th>\n",
       "      <th>Revenue</th>\n",
       "      <th>Competitors</th>\n",
       "      <th>Easy Apply</th>\n",
       "    </tr>\n",
       "  </thead>\n",
       "  <tbody>\n",
       "    <tr>\n",
       "      <th>0</th>\n",
       "      <td>0</td>\n",
       "      <td>Data Analyst, Center on Immigration and Justic...</td>\n",
       "      <td>$37K-$66K (Glassdoor est.)</td>\n",
       "      <td>Are you eager to roll up your sleeves and harn...</td>\n",
       "      <td>3.2</td>\n",
       "      <td>Vera Institute of Justice\\n3.2</td>\n",
       "      <td>New York, NY</td>\n",
       "      <td>New York, NY</td>\n",
       "      <td>201 to 500 employees</td>\n",
       "      <td>1961</td>\n",
       "      <td>Nonprofit Organization</td>\n",
       "      <td>Social Assistance</td>\n",
       "      <td>Non-Profit</td>\n",
       "      <td>$100 to $500 million (USD)</td>\n",
       "      <td>-1</td>\n",
       "      <td>True</td>\n",
       "    </tr>\n",
       "    <tr>\n",
       "      <th>1</th>\n",
       "      <td>1</td>\n",
       "      <td>Quality Data Analyst</td>\n",
       "      <td>$37K-$66K (Glassdoor est.)</td>\n",
       "      <td>Overview\\n\\nProvides analytical and technical ...</td>\n",
       "      <td>3.8</td>\n",
       "      <td>Visiting Nurse Service of New York\\n3.8</td>\n",
       "      <td>New York, NY</td>\n",
       "      <td>New York, NY</td>\n",
       "      <td>10000+ employees</td>\n",
       "      <td>1893</td>\n",
       "      <td>Nonprofit Organization</td>\n",
       "      <td>Health Care Services &amp; Hospitals</td>\n",
       "      <td>Health Care</td>\n",
       "      <td>$2 to $5 billion (USD)</td>\n",
       "      <td>-1</td>\n",
       "      <td>-1</td>\n",
       "    </tr>\n",
       "    <tr>\n",
       "      <th>2</th>\n",
       "      <td>2</td>\n",
       "      <td>Senior Data Analyst, Insights &amp; Analytics Team...</td>\n",
       "      <td>$37K-$66K (Glassdoor est.)</td>\n",
       "      <td>We’re looking for a Senior Data Analyst who ha...</td>\n",
       "      <td>3.4</td>\n",
       "      <td>Squarespace\\n3.4</td>\n",
       "      <td>New York, NY</td>\n",
       "      <td>New York, NY</td>\n",
       "      <td>1001 to 5000 employees</td>\n",
       "      <td>2003</td>\n",
       "      <td>Company - Private</td>\n",
       "      <td>Internet</td>\n",
       "      <td>Information Technology</td>\n",
       "      <td>Unknown / Non-Applicable</td>\n",
       "      <td>GoDaddy</td>\n",
       "      <td>-1</td>\n",
       "    </tr>\n",
       "    <tr>\n",
       "      <th>3</th>\n",
       "      <td>3</td>\n",
       "      <td>Data Analyst</td>\n",
       "      <td>$37K-$66K (Glassdoor est.)</td>\n",
       "      <td>Requisition NumberRR-0001939\\nRemote:Yes\\nWe c...</td>\n",
       "      <td>4.1</td>\n",
       "      <td>Celerity\\n4.1</td>\n",
       "      <td>New York, NY</td>\n",
       "      <td>McLean, VA</td>\n",
       "      <td>201 to 500 employees</td>\n",
       "      <td>2002</td>\n",
       "      <td>Subsidiary or Business Segment</td>\n",
       "      <td>IT Services</td>\n",
       "      <td>Information Technology</td>\n",
       "      <td>$50 to $100 million (USD)</td>\n",
       "      <td>-1</td>\n",
       "      <td>-1</td>\n",
       "    </tr>\n",
       "    <tr>\n",
       "      <th>4</th>\n",
       "      <td>4</td>\n",
       "      <td>Reporting Data Analyst</td>\n",
       "      <td>$37K-$66K (Glassdoor est.)</td>\n",
       "      <td>ABOUT FANDUEL GROUP\\n\\nFanDuel Group is a worl...</td>\n",
       "      <td>3.9</td>\n",
       "      <td>FanDuel\\n3.9</td>\n",
       "      <td>New York, NY</td>\n",
       "      <td>New York, NY</td>\n",
       "      <td>501 to 1000 employees</td>\n",
       "      <td>2009</td>\n",
       "      <td>Company - Private</td>\n",
       "      <td>Sports &amp; Recreation</td>\n",
       "      <td>Arts, Entertainment &amp; Recreation</td>\n",
       "      <td>$100 to $500 million (USD)</td>\n",
       "      <td>DraftKings</td>\n",
       "      <td>True</td>\n",
       "    </tr>\n",
       "  </tbody>\n",
       "</table>\n",
       "</div>"
      ],
      "text/plain": [
       "   Unnamed: 0                                          Job Title  \\\n",
       "0           0  Data Analyst, Center on Immigration and Justic...   \n",
       "1           1                               Quality Data Analyst   \n",
       "2           2  Senior Data Analyst, Insights & Analytics Team...   \n",
       "3           3                                       Data Analyst   \n",
       "4           4                             Reporting Data Analyst   \n",
       "\n",
       "              Salary Estimate  \\\n",
       "0  $37K-$66K (Glassdoor est.)   \n",
       "1  $37K-$66K (Glassdoor est.)   \n",
       "2  $37K-$66K (Glassdoor est.)   \n",
       "3  $37K-$66K (Glassdoor est.)   \n",
       "4  $37K-$66K (Glassdoor est.)   \n",
       "\n",
       "                                     Job Description  Rating  \\\n",
       "0  Are you eager to roll up your sleeves and harn...     3.2   \n",
       "1  Overview\\n\\nProvides analytical and technical ...     3.8   \n",
       "2  We’re looking for a Senior Data Analyst who ha...     3.4   \n",
       "3  Requisition NumberRR-0001939\\nRemote:Yes\\nWe c...     4.1   \n",
       "4  ABOUT FANDUEL GROUP\\n\\nFanDuel Group is a worl...     3.9   \n",
       "\n",
       "                              Company Name      Location  Headquarters  \\\n",
       "0           Vera Institute of Justice\\n3.2  New York, NY  New York, NY   \n",
       "1  Visiting Nurse Service of New York\\n3.8  New York, NY  New York, NY   \n",
       "2                         Squarespace\\n3.4  New York, NY  New York, NY   \n",
       "3                            Celerity\\n4.1  New York, NY    McLean, VA   \n",
       "4                             FanDuel\\n3.9  New York, NY  New York, NY   \n",
       "\n",
       "                     Size  Founded               Type of ownership  \\\n",
       "0    201 to 500 employees     1961          Nonprofit Organization   \n",
       "1        10000+ employees     1893          Nonprofit Organization   \n",
       "2  1001 to 5000 employees     2003               Company - Private   \n",
       "3    201 to 500 employees     2002  Subsidiary or Business Segment   \n",
       "4   501 to 1000 employees     2009               Company - Private   \n",
       "\n",
       "                           Industry                            Sector  \\\n",
       "0                 Social Assistance                        Non-Profit   \n",
       "1  Health Care Services & Hospitals                       Health Care   \n",
       "2                          Internet            Information Technology   \n",
       "3                       IT Services            Information Technology   \n",
       "4               Sports & Recreation  Arts, Entertainment & Recreation   \n",
       "\n",
       "                      Revenue Competitors Easy Apply  \n",
       "0  $100 to $500 million (USD)          -1       True  \n",
       "1      $2 to $5 billion (USD)          -1         -1  \n",
       "2    Unknown / Non-Applicable     GoDaddy         -1  \n",
       "3   $50 to $100 million (USD)          -1         -1  \n",
       "4  $100 to $500 million (USD)  DraftKings       True  "
      ]
     },
     "execution_count": 3,
     "metadata": {},
     "output_type": "execute_result"
    }
   ],
   "source": [
    "data.head()"
   ]
  },
  {
   "cell_type": "code",
   "execution_count": 4,
   "id": "2b191d43",
   "metadata": {
    "ExecuteTime": {
     "end_time": "2023-04-20T13:34:06.288677Z",
     "start_time": "2023-04-20T13:34:06.268563Z"
    }
   },
   "outputs": [
    {
     "data": {
      "text/html": [
       "<div>\n",
       "<style scoped>\n",
       "    .dataframe tbody tr th:only-of-type {\n",
       "        vertical-align: middle;\n",
       "    }\n",
       "\n",
       "    .dataframe tbody tr th {\n",
       "        vertical-align: top;\n",
       "    }\n",
       "\n",
       "    .dataframe thead th {\n",
       "        text-align: right;\n",
       "    }\n",
       "</style>\n",
       "<table border=\"1\" class=\"dataframe\">\n",
       "  <thead>\n",
       "    <tr style=\"text-align: right;\">\n",
       "      <th></th>\n",
       "      <th>Unnamed: 0</th>\n",
       "      <th>Job Title</th>\n",
       "      <th>Salary Estimate</th>\n",
       "      <th>Job Description</th>\n",
       "      <th>Rating</th>\n",
       "      <th>Company Name</th>\n",
       "      <th>Location</th>\n",
       "      <th>Headquarters</th>\n",
       "      <th>Size</th>\n",
       "      <th>Founded</th>\n",
       "      <th>Type of ownership</th>\n",
       "      <th>Industry</th>\n",
       "      <th>Sector</th>\n",
       "      <th>Revenue</th>\n",
       "      <th>Competitors</th>\n",
       "      <th>Easy Apply</th>\n",
       "    </tr>\n",
       "  </thead>\n",
       "  <tbody>\n",
       "    <tr>\n",
       "      <th>2248</th>\n",
       "      <td>2248</td>\n",
       "      <td>RQS - IHHA - 201900004460 -1q Data Security An...</td>\n",
       "      <td>$78K-$104K (Glassdoor est.)</td>\n",
       "      <td>Maintains systems to protect data from unautho...</td>\n",
       "      <td>2.5</td>\n",
       "      <td>Avacend, Inc.\\n2.5</td>\n",
       "      <td>Denver, CO</td>\n",
       "      <td>Alpharetta, GA</td>\n",
       "      <td>51 to 200 employees</td>\n",
       "      <td>-1</td>\n",
       "      <td>Company - Private</td>\n",
       "      <td>Staffing &amp; Outsourcing</td>\n",
       "      <td>Business Services</td>\n",
       "      <td>Unknown / Non-Applicable</td>\n",
       "      <td>-1</td>\n",
       "      <td>-1</td>\n",
       "    </tr>\n",
       "    <tr>\n",
       "      <th>2249</th>\n",
       "      <td>2249</td>\n",
       "      <td>Senior Data Analyst (Corporate Audit)</td>\n",
       "      <td>$78K-$104K (Glassdoor est.)</td>\n",
       "      <td>Position:\\nSenior Data Analyst (Corporate Audi...</td>\n",
       "      <td>2.9</td>\n",
       "      <td>Arrow Electronics\\n2.9</td>\n",
       "      <td>Centennial, CO</td>\n",
       "      <td>Centennial, CO</td>\n",
       "      <td>10000+ employees</td>\n",
       "      <td>1935</td>\n",
       "      <td>Company - Public</td>\n",
       "      <td>Wholesale</td>\n",
       "      <td>Business Services</td>\n",
       "      <td>$10+ billion (USD)</td>\n",
       "      <td>Avnet, Ingram Micro, Tech Data</td>\n",
       "      <td>-1</td>\n",
       "    </tr>\n",
       "    <tr>\n",
       "      <th>2250</th>\n",
       "      <td>2250</td>\n",
       "      <td>Technical Business Analyst (SQL, Data analytic...</td>\n",
       "      <td>$78K-$104K (Glassdoor est.)</td>\n",
       "      <td>Title: Technical Business Analyst (SQL, Data a...</td>\n",
       "      <td>-1.0</td>\n",
       "      <td>Spiceorb</td>\n",
       "      <td>Denver, CO</td>\n",
       "      <td>-1</td>\n",
       "      <td>-1</td>\n",
       "      <td>-1</td>\n",
       "      <td>-1</td>\n",
       "      <td>-1</td>\n",
       "      <td>-1</td>\n",
       "      <td>-1</td>\n",
       "      <td>-1</td>\n",
       "      <td>-1</td>\n",
       "    </tr>\n",
       "    <tr>\n",
       "      <th>2251</th>\n",
       "      <td>2251</td>\n",
       "      <td>Data Analyst 3, Customer Experience</td>\n",
       "      <td>$78K-$104K (Glassdoor est.)</td>\n",
       "      <td>Summary\\n\\nResponsible for working cross-funct...</td>\n",
       "      <td>3.1</td>\n",
       "      <td>Contingent Network Services\\n3.1</td>\n",
       "      <td>Centennial, CO</td>\n",
       "      <td>West Chester, OH</td>\n",
       "      <td>201 to 500 employees</td>\n",
       "      <td>1984</td>\n",
       "      <td>Company - Private</td>\n",
       "      <td>Enterprise Software &amp; Network Solutions</td>\n",
       "      <td>Information Technology</td>\n",
       "      <td>$25 to $50 million (USD)</td>\n",
       "      <td>-1</td>\n",
       "      <td>-1</td>\n",
       "    </tr>\n",
       "    <tr>\n",
       "      <th>2252</th>\n",
       "      <td>2252</td>\n",
       "      <td>Senior Quality Data Analyst</td>\n",
       "      <td>$78K-$104K (Glassdoor est.)</td>\n",
       "      <td>You.\\n\\nYou bring your body, mind, heart and s...</td>\n",
       "      <td>3.4</td>\n",
       "      <td>SCL Health\\n3.4</td>\n",
       "      <td>Broomfield, CO</td>\n",
       "      <td>Broomfield, CO</td>\n",
       "      <td>10000+ employees</td>\n",
       "      <td>1864</td>\n",
       "      <td>Nonprofit Organization</td>\n",
       "      <td>Health Care Services &amp; Hospitals</td>\n",
       "      <td>Health Care</td>\n",
       "      <td>$2 to $5 billion (USD)</td>\n",
       "      <td>Centura Health, HealthONE, Denver Health and H...</td>\n",
       "      <td>-1</td>\n",
       "    </tr>\n",
       "  </tbody>\n",
       "</table>\n",
       "</div>"
      ],
      "text/plain": [
       "      Unnamed: 0                                          Job Title  \\\n",
       "2248        2248  RQS - IHHA - 201900004460 -1q Data Security An...   \n",
       "2249        2249              Senior Data Analyst (Corporate Audit)   \n",
       "2250        2250  Technical Business Analyst (SQL, Data analytic...   \n",
       "2251        2251                Data Analyst 3, Customer Experience   \n",
       "2252        2252                        Senior Quality Data Analyst   \n",
       "\n",
       "                  Salary Estimate  \\\n",
       "2248  $78K-$104K (Glassdoor est.)   \n",
       "2249  $78K-$104K (Glassdoor est.)   \n",
       "2250  $78K-$104K (Glassdoor est.)   \n",
       "2251  $78K-$104K (Glassdoor est.)   \n",
       "2252  $78K-$104K (Glassdoor est.)   \n",
       "\n",
       "                                        Job Description  Rating  \\\n",
       "2248  Maintains systems to protect data from unautho...     2.5   \n",
       "2249  Position:\\nSenior Data Analyst (Corporate Audi...     2.9   \n",
       "2250  Title: Technical Business Analyst (SQL, Data a...    -1.0   \n",
       "2251  Summary\\n\\nResponsible for working cross-funct...     3.1   \n",
       "2252  You.\\n\\nYou bring your body, mind, heart and s...     3.4   \n",
       "\n",
       "                          Company Name        Location      Headquarters  \\\n",
       "2248                Avacend, Inc.\\n2.5      Denver, CO    Alpharetta, GA   \n",
       "2249            Arrow Electronics\\n2.9  Centennial, CO    Centennial, CO   \n",
       "2250                          Spiceorb      Denver, CO                -1   \n",
       "2251  Contingent Network Services\\n3.1  Centennial, CO  West Chester, OH   \n",
       "2252                   SCL Health\\n3.4  Broomfield, CO    Broomfield, CO   \n",
       "\n",
       "                      Size  Founded       Type of ownership  \\\n",
       "2248   51 to 200 employees       -1       Company - Private   \n",
       "2249      10000+ employees     1935        Company - Public   \n",
       "2250                    -1       -1                      -1   \n",
       "2251  201 to 500 employees     1984       Company - Private   \n",
       "2252      10000+ employees     1864  Nonprofit Organization   \n",
       "\n",
       "                                     Industry                  Sector  \\\n",
       "2248                   Staffing & Outsourcing       Business Services   \n",
       "2249                                Wholesale       Business Services   \n",
       "2250                                       -1                      -1   \n",
       "2251  Enterprise Software & Network Solutions  Information Technology   \n",
       "2252         Health Care Services & Hospitals             Health Care   \n",
       "\n",
       "                       Revenue  \\\n",
       "2248  Unknown / Non-Applicable   \n",
       "2249        $10+ billion (USD)   \n",
       "2250                        -1   \n",
       "2251  $25 to $50 million (USD)   \n",
       "2252    $2 to $5 billion (USD)   \n",
       "\n",
       "                                            Competitors Easy Apply  \n",
       "2248                                                 -1         -1  \n",
       "2249                     Avnet, Ingram Micro, Tech Data         -1  \n",
       "2250                                                 -1         -1  \n",
       "2251                                                 -1         -1  \n",
       "2252  Centura Health, HealthONE, Denver Health and H...         -1  "
      ]
     },
     "execution_count": 4,
     "metadata": {},
     "output_type": "execute_result"
    }
   ],
   "source": [
    "data.tail()"
   ]
  },
  {
   "cell_type": "code",
   "execution_count": 5,
   "id": "e10e19c0",
   "metadata": {
    "ExecuteTime": {
     "end_time": "2023-04-20T13:34:17.359770Z",
     "start_time": "2023-04-20T13:34:17.352947Z"
    }
   },
   "outputs": [
    {
     "data": {
      "text/plain": [
       "2253"
      ]
     },
     "execution_count": 5,
     "metadata": {},
     "output_type": "execute_result"
    }
   ],
   "source": [
    "data.shape[0]"
   ]
  },
  {
   "cell_type": "code",
   "execution_count": 6,
   "id": "9db6f704",
   "metadata": {
    "ExecuteTime": {
     "end_time": "2023-04-20T13:34:28.244673Z",
     "start_time": "2023-04-20T13:34:28.217463Z"
    }
   },
   "outputs": [
    {
     "name": "stdout",
     "output_type": "stream",
     "text": [
      "<class 'pandas.core.frame.DataFrame'>\n",
      "RangeIndex: 2253 entries, 0 to 2252\n",
      "Data columns (total 16 columns):\n",
      " #   Column             Non-Null Count  Dtype  \n",
      "---  ------             --------------  -----  \n",
      " 0   Unnamed: 0         2253 non-null   int64  \n",
      " 1   Job Title          2253 non-null   object \n",
      " 2   Salary Estimate    2253 non-null   object \n",
      " 3   Job Description    2253 non-null   object \n",
      " 4   Rating             2253 non-null   float64\n",
      " 5   Company Name       2252 non-null   object \n",
      " 6   Location           2253 non-null   object \n",
      " 7   Headquarters       2253 non-null   object \n",
      " 8   Size               2253 non-null   object \n",
      " 9   Founded            2253 non-null   int64  \n",
      " 10  Type of ownership  2253 non-null   object \n",
      " 11  Industry           2253 non-null   object \n",
      " 12  Sector             2253 non-null   object \n",
      " 13  Revenue            2253 non-null   object \n",
      " 14  Competitors        2253 non-null   object \n",
      " 15  Easy Apply         2253 non-null   object \n",
      "dtypes: float64(1), int64(2), object(13)\n",
      "memory usage: 281.8+ KB\n"
     ]
    }
   ],
   "source": [
    "data.info()"
   ]
  },
  {
   "cell_type": "code",
   "execution_count": 7,
   "id": "1fab81bc",
   "metadata": {
    "ExecuteTime": {
     "end_time": "2023-04-20T13:34:43.043341Z",
     "start_time": "2023-04-20T13:34:43.024979Z"
    }
   },
   "outputs": [
    {
     "data": {
      "text/plain": [
       "Unnamed: 0           0\n",
       "Job Title            0\n",
       "Salary Estimate      0\n",
       "Job Description      0\n",
       "Rating               0\n",
       "Company Name         1\n",
       "Location             0\n",
       "Headquarters         0\n",
       "Size                 0\n",
       "Founded              0\n",
       "Type of ownership    0\n",
       "Industry             0\n",
       "Sector               0\n",
       "Revenue              0\n",
       "Competitors          0\n",
       "Easy Apply           0\n",
       "dtype: int64"
      ]
     },
     "execution_count": 7,
     "metadata": {},
     "output_type": "execute_result"
    }
   ],
   "source": [
    "#missing values \n",
    "data.isnull().sum()"
   ]
  },
  {
   "cell_type": "code",
   "execution_count": 8,
   "id": "5def3118",
   "metadata": {
    "ExecuteTime": {
     "end_time": "2023-04-20T13:34:52.283876Z",
     "start_time": "2023-04-20T13:34:52.268352Z"
    }
   },
   "outputs": [],
   "source": [
    "data.replace('-1', np.nan, inplace=True)\n",
    "data.replace(-1, np.nan, inplace=True)\n",
    "data.replace(-1.0, np.nan, inplace=True)"
   ]
  },
  {
   "cell_type": "code",
   "execution_count": 9,
   "id": "1ba3df4e",
   "metadata": {
    "ExecuteTime": {
     "end_time": "2023-04-20T13:35:01.577059Z",
     "start_time": "2023-04-20T13:35:01.558159Z"
    }
   },
   "outputs": [
    {
     "data": {
      "text/plain": [
       "Unnamed: 0              0\n",
       "Job Title               0\n",
       "Salary Estimate         1\n",
       "Job Description         0\n",
       "Rating                272\n",
       "Company Name            1\n",
       "Location                0\n",
       "Headquarters          172\n",
       "Size                  163\n",
       "Founded               660\n",
       "Type of ownership     163\n",
       "Industry              353\n",
       "Sector                353\n",
       "Revenue               163\n",
       "Competitors          1732\n",
       "Easy Apply           2173\n",
       "dtype: int64"
      ]
     },
     "execution_count": 9,
     "metadata": {},
     "output_type": "execute_result"
    }
   ],
   "source": [
    "data.isnull().sum()"
   ]
  },
  {
   "cell_type": "code",
   "execution_count": 10,
   "id": "53f5fb8d",
   "metadata": {
    "ExecuteTime": {
     "end_time": "2023-04-20T13:35:12.970148Z",
     "start_time": "2023-04-20T13:35:12.957613Z"
    }
   },
   "outputs": [
    {
     "data": {
      "text/plain": [
       "Data Analyst               405\n",
       "Senior Data Analyst         90\n",
       "Junior Data Analyst         30\n",
       "Business Data Analyst       28\n",
       "Sr. Data Analyst            21\n",
       "Data Analyst Junior         17\n",
       "Data Analyst II             17\n",
       "Data Quality Analyst        17\n",
       "Data Governance Analyst     16\n",
       "Lead Data Analyst           15\n",
       "Data Reporting Analyst      13\n",
       "Financial Data Analyst      12\n",
       "Data Analyst I              11\n",
       "Data Analyst III            11\n",
       "Marketing Data Analyst       9\n",
       "Sr Data Analyst              9\n",
       "Data Management Analyst      8\n",
       "Data Warehouse Analyst       8\n",
       "Data Science Analyst         7\n",
       "Technical Data Analyst       7\n",
       "Name: Job Title, dtype: int64"
      ]
     },
     "execution_count": 10,
     "metadata": {},
     "output_type": "execute_result"
    }
   ],
   "source": [
    "data['Job Title'].value_counts().head(20)"
   ]
  },
  {
   "cell_type": "code",
   "execution_count": 11,
   "id": "c5d024ac",
   "metadata": {
    "ExecuteTime": {
     "end_time": "2023-04-20T13:35:26.425516Z",
     "start_time": "2023-04-20T13:35:26.412255Z"
    }
   },
   "outputs": [],
   "source": [
    "changes_in_table = {'Sr. Data Analyst' : 'Senior Data Analyst', \n",
    "                    'Sr Data Analyst' : 'Senior Data Analyst',\n",
    "                    'Data Analyst Junior' : 'Junior Data Analyst'}\n",
    "\n",
    "data['Job Title'] = data['Job Title'].map(changes_in_table).fillna(data['Job Title']) "
   ]
  },
  {
   "cell_type": "code",
   "execution_count": 12,
   "id": "3b1351bb",
   "metadata": {
    "ExecuteTime": {
     "end_time": "2023-04-20T13:35:56.072520Z",
     "start_time": "2023-04-20T13:35:56.059594Z"
    }
   },
   "outputs": [
    {
     "data": {
      "text/plain": [
       "Data Analyst               405\n",
       "Senior Data Analyst        120\n",
       "Junior Data Analyst         47\n",
       "Business Data Analyst       28\n",
       "Data Quality Analyst        17\n",
       "Data Analyst II             17\n",
       "Data Governance Analyst     16\n",
       "Lead Data Analyst           15\n",
       "Data Reporting Analyst      13\n",
       "Financial Data Analyst      12\n",
       "Data Analyst I              11\n",
       "Data Analyst III            11\n",
       "Marketing Data Analyst       9\n",
       "Data Management Analyst      8\n",
       "Data Warehouse Analyst       8\n",
       "SQL Data Analyst             7\n",
       "Data Science Analyst         7\n",
       "Technical Data Analyst       7\n",
       "Clinical Data Analyst        6\n",
       "Research Data Analyst        6\n",
       "Name: Job Title, dtype: int64"
      ]
     },
     "execution_count": 12,
     "metadata": {},
     "output_type": "execute_result"
    }
   ],
   "source": [
    "data['Job Title'].value_counts().head(20)"
   ]
  },
  {
   "cell_type": "code",
   "execution_count": 13,
   "id": "644ce211",
   "metadata": {
    "ExecuteTime": {
     "end_time": "2023-04-20T13:36:09.205815Z",
     "start_time": "2023-04-20T13:36:09.194665Z"
    }
   },
   "outputs": [
    {
     "name": "stdout",
     "output_type": "stream",
     "text": [
      "0    Are you eager to roll up your sleeves and harness data to drive policy change? Do you enjoy sifting through complex datasets to illuminate trends and insights? Do you see yourself working for a values-driven organization with a vision to tackle the most pressing injustices of our day?\\n\\nWe are looking to hire a bright, hard-working, and creative individual with strong data management skills and a demonstrated commitment to immigrant's rights. The Data Analyst will assist with analysis and reporting needs for Veras Center on Immigration and Justice (CIJ), working across its current projects and future Vera initiatives.\\n\\nWho we are:\\n\\nFounded in 1961, The Vera Institute is an independent, non-partisan, nonprofit organization that combines expertise in research, technical assistance, and demonstration projects to assist leaders in government and civil society examine justice policy and practice, and improve the systems people rely on for justice and safety.\\nWe study problems that impede human dignity and justice.\\nWe pilot solutions that are at once transformative and achievable.\\nWe engage diverse communities in informed debate.\\nAnd we harness the power of evidence to drive effective policy and practice\\nWhat were doing:\\n\\nWe are helping to build a movementamong government leaders, advocates, and the immigration legal services communitytowards universal legal representation for immigrants facing deportation. In the face of stepped-up immigration enforcement, millions of non-citizens are at risk of extended detention and permanent separation from their families and communities. Veras Center on Immigration and Justice (CIJ) partners with government, non-profit partners, and communities to improve government systems that affect immigrants and their families. CIJ administers several nationwide legal services programs for immigrants facing deportation, develops and implements pilot programs, provides technical assistance, and conducts independent research and evaluation.\\n\\nThats where you come in:\\nThe Data Analyst will support the Centers programmatic efforts through regular monitoring and reporting of federal government and subcontractor data. CIJ manages several proprietary databases that run on AWS and Caspio and uses SQL, R, and Python to manage data. This is an opportunity to help shape an innovative national research and policy agenda as part of a dedicated team of experts working to improve access to justice for non-citizens.\\n\\nVera seeks to hire a Data Analyst to work on various data management projects with its Center on Immigration and Justice (CIJ). In collaboration with other Data Analysts, this position will involve work across several projects, such as the Unaccompanied Childrens Program (UCP), a program to increase legal representation for immigrant children facing deportation without a parent or legal guardian. The position may cover additional duties for the Legal Orientation Program for Custodians (LOPC), which educates the custodians of unaccompanied children about their rights and the immigration court process.\\n\\nAbout the role:\\n\\nAs a Data Analyst, you will report to a member of the research team and work in close collaboration with other Vera staff on ongoing database management, monitoring, reporting, and analysis projects. Youll support the team by taking ownership of ongoing monitoring and reporting tasks involving large data sets. Other principal responsibilities will include:\\nSupporting research staff by preparing large datasets for analysis, including merging, cleaning, and recoding data;\\nProviding insights into program performance through summary statistics and performance indicators;\\nProducing timely reports on Vera projects for team members and stakeholders;\\nImproving recurring reporting processes by optimizing code and producing subsequent documentation;\\nCoordinating database management tasks such as participating in new database design, modifying existing databases, and communicating with outside engineers and subcontractors;\\nDeveloping codebooks and delivering user trainings through webinars and database guides;\\nBuilding and maintaining interactive dashboards;\\nDocumenting and correcting data quality issues;\\nWorking with supervisors to prioritize program needs;\\nAssisting on other projects and tasks as assigned.\\nAbout you:\\n\\nYoure committed to improving issues affecting immigrants in the United States. Applicants with personal experiences with the immigration system are especially encouraged to apply.\\n\\nYoure just getting started in your career and have 1 2 years of professional or internship experience working with large datasets and preparing data for analysis.\\n\\nYou have a real enthusiasm for working with data.\\n\\nYou are comfortable writing queries in SQL, R, and/or Python, or have a solid foundation coding in other programming languages used to manipulate data. Experience working collaboratively using tools like Git/GitHub is a plus.\\n\\nYou have exceptional attention to detail, strong problem-solving ability and logical reasoning skills, and the ability to detect anomalies in data.\\n\\nYoure able to work on multiple projects effectively and efficiently, both independently and collaboratively with a team.\\n\\nThis position involves working with secure data that may require government security clearance. That clearance is restricted to U.S. citizens and citizens of countries that are party to collective defense agreements with the U.S. The list of those countries is detailed on this webpage. An additional requirement of that clearance is residence in the United States for at least three of the last five years.\\n\\nHow to apply:\\n\\nPlease submit cover letter and resume. Applications will be considered on a rolling basis until position is filled. Online submission in PDF format is preferred. Applications with no cover letter attached will not be considered. The cover letter should address your interest in CIJ and this position.\\n\\nHowever, if necessary, materials may be mailed or faxed to\\n\\nATTN: Human Resources / CIJ Data Analyst Recruitment\\n\\nVera Institute of Justice\\n\\n34 35th St, Suite 4-2A\\n\\nBrooklyn, NY 11232\\n\\nFax: (212) 941-9407\\n\\nPlease use only one method (online, mail or fax) of submission.\\n\\nNo phone calls, please. Only applicants selected for interviews will be contacted.\\n\\nVera is an equal opportunity/affirmative action employer. All qualified applicants will be considered for employment without unlawful discrimination based on race, color, creed, national origin, sex, age, disability, marital status, sexual orientation, military status, prior record of arrest or conviction, citizenship status, current employment status, or caregiver status.\\n\\nVera works to advance justice, particularly racial justice, in an increasingly multicultural country and globally connected world. We value diverse experiences, including with regard to educational background and justice system contact, and depend on a diverse staff to carry out our mission.\\n\\nFor more information about Vera and CIJs work, please visit www.vera.org.\\n\\nPowered by JazzHR\n",
      "1                                                                                                                                                                                                                                                                                                                                                                                                                                                                                                                                                                                                                                                                                                                                                                                                                                                                                                                                                                                                                                                                                                                                                                                                                                                                                                                                                                                                                                                                                                                                                                                                                                                                                                                                                                                                                                                                                                                                                                                                                                                                                                                                                                                                                                                                                                                                                                                                                                                                                                    Overview\\n\\nProvides analytical and technical support for the integration of multiple data sources used to prepare internal and external reporting for the Quality Management team and business stakeholders. Provides support and analytical insight for Quality Incentive measures, HEDIS measures, and Quality Improvement initiatives. Monitors, analyzes, and communicates Quality performance related to benchmarks. Collaborates with clinical and operational teams within Quality Management, as well as with CHOICE Clinical Operations and Business Intelligence & Analytics (BIA). Participates in data validation of current reporting and dashboards. Monitors data integrity of databases and provides recommendation accordingly. Participates in the development of internal dashboards and databases. Works under general direction.\\n\\nResponsibilities\\nProvides support and analytical insight for Quality Incentive measures, HEDIS measures, and Quality Improvement initiatives.\\nMonitors internal performance against benchmarks through analysis.\\nParticipates in the identification, development, management, and monitoring of quality improvement initiatives.\\nCollaborates with Education staff and makes recommendations for areas of focus in training of assessors and care managers, based on analysis of performance trends.\\nResearches and identifies technical/operational problems surrounding systems/applications; communicates/refers complex and unresolved problems to management, Business Intelligence & Analytics (BIA), and/or IT.\\nConducts ad hoc analyses to help identify operational gaps in care; drafts presentations, reports, publications, etc. regarding results of analyses.\\nCommunicates results of data analysis to non-technical audiences.\\nParticipates in prioritization of departmental goals based on identification of operational gaps in care.\\nParticipates in establishing data quality specifications and designs. Coordinates and supports integrated data systems for analyzing and validating information.\\nIdentifies and makes recommendations for reporting re-designs and platforms for reporting (e.g. automating a manual Excel file using macros, developing a MicroStrategy dashboard to replace manually updated Excel dashboards, moving data storage from Excel to Access, etc.), as needed. Trains staff on use of new/updated systems and related topics.\\nAssists Quality management team with database and department reports. Conducts operations review and analysis of processes and procedures, issues report of findings and implements approved changes as required.\\nIdentifies and recommends software needs and applications to accomplish required reporting.\\nRetrieves, compiles, reviews and ensures accuracy of data from databases; researches and corrects discrepancies, as needed. Analyzes data from internal and external sources. Identifies and resolves data quality issues before reports are generated. Works with staff to correct data entry errors.\\nAnalyzes data, identifies trends, reoccurring problems, statistically significant findings and prepares reports/summaries for management review.\\nActs as a liaison between Quality Management, CHOICE Clinical Operations, and BIA.\\nReviews and identifies trends and variances in data and reports. Researches findings and determines appropriateness of elevating identified issues to leadership for further review/evaluation/action.\\nMonitors and maintains files by ensuring that files are current and of relevant nature.\\nAnalyzes and corrects error reports to ensure timely and accurate data; develops corrective actions to prevent errors where possible.\\nParticipates in special projects and performs other duties, as needed.\\nQualifications\\nEducation: Bachelors degree in bio/statistics, epidemiology, mathematics, computer science, social sciences, a related field or the equivalent work experience required. Masters degree with concentration in computer science, data science, or statistics preferred.\\n\\n\\nExperience: Minimum of two years experience performing increasingly complex data analysis and interpretation, preferably in a managed care or health care setting, required. Experience with data extraction and manipulation required. Experience with relational databases and programming experience in SQL or PL/SQL required. Experience with claims data and health plan quality metrics (e.g., HEDIS, QARR) preferred. Proficiency conducting statistical analysis with R, SAS, Stata or other statistical software preferred. Advanced personal computer skills, including Microsoft Word, PowerPoint, Excel, and Access required. Effective oral, written communication and interpersonal skills required. Ability to multi task in a fast-paced environment required.\\n\\nCA2020\n",
      "2                                                                                                                                                                                                                                                                                                                                                                                                                                                                                                                                                                                                                                                                                                                                                                                                                                                                                                                                                                                                                                                                                                                                                                                                                                                                                                                                                                                                                                                                                                                                                                                                                                                                                                                                                                                                                                                                                                                                                                                                                                                                                                                                                                                                                                                                                                                                                                                                                                                                                                                     We’re looking for a Senior Data Analyst who has a love of mentorship, data visualization, and generating actionable insights from raw data. In this role, you’ll have the opportunity to be an organizational influencer, who will generate insights with a good degree of autonomy, and partner with data science to grow deeper analytical skills. You will be joining the Insights & Analytics team, a team tasked with developing insights and reporting to support our customers and advisors’ needs. This team sits within the Customer Operations team, but is also connected to the Product organization.\\n\\nIn this role, you will work mainly with Customer Operations stakeholders to set KPIs and evaluate the effectiveness of current strategies and workflows. You will be involved in many aspects of data operations, from data auditing to building dashboards and analytical insights. For example, you will review the code of more junior analysts and organize coding workshops. You will build metrics to evaluate the performance of our advisors, eliminating confounding variables and creating weighted measures that account for individual success. You will define metrics and create dashboards to track the success of the current strategic direction. You will analyze the text-based interactions with our advisors to improve care quality. You will also analyze interactions with our chatbot to improve the responses of the bot to match customer expectations. You will collaborate with the Data Engineering team in pursuit of better data modeling and you can collaborate with the Data Science team on more modeling-heavy pursuits, like topic modeling or search recommendations. You will be a mentor to all other members of the analytics team, which demands that you excel in a culture of teaching and learning.\\n\\nYou will report to the Manager of the Insights & Analytics team, Customer Operations in Squarespace’s New York offices.\\n\\nRESPONSIBILITIES\\nDesign and develop KPIs, reports, and dashboards using BI/data visualization tools that clearly track the effectiveness of current strategies\\nExecute and communicate impactful analyses, using SQL and R/Python to improve the customer experience and drive Customer Operations and Product roadmap\\nRaise the skill level of the analytics team through reviewing code, organizing training sessions, acting as a mentor, and introducing new analytical methods and tools\\nHelp design and evaluate experiments and pilots, setting clear hypotheses and success metrics, as well as using the right statistical methods for analyses\\nEffectively partner with Customer Operations and Product stakeholders, as well as our Data Engineering team\\nQUALIFICATIONS\\n4 or more years of experience as a data analyst, data scientist, or in a relevant field in which you have worked with large datasets to transform data to meaningful insights\\nMastery of SQL, and experience with R/Python\\nExperience with dashboarding/BI tools like Chartio, Looker, Tableau\\nExperience with data cleaning, analysis, and presentation to non-technical stakeholders\\nBachelor’s degree in a quantitative or logic-driven discipline\\nIntellectual curiosity and a deep love of mentorship and generating actionable insights\\nPreferred: Advanced degree (Master’s or PhD) in quantitative field\\nPreferred: Experience with topic modeling, text analytics/natural language processing\\nWe are hiring at various experience levels and we’re particularly interested in having a diverse team with a broad set of skills and viewpoints. If this seems like an opportunity you’d like to explore, but you’re not sure if you qualify, we encourage you to apply anyway!\\n\\nAbout Squarespace\\n\\nSquarespace makes beautiful products to help people with creative ideas succeed. By blending elegant design and sophisticated engineering, we empower millions of people — from individuals and local artists to entrepreneurs shaping the world’s most iconic businesses — to share their stories with the world. Squarespace’s team of more than 900 is headquartered in downtown New York City, with offices in Dublin and Portland. For more information, visit www.squarespace.com/about.\\n\\nToday, more than a million people around the globe use Squarespace to share different perspectives and experiences with the world. Not only do we embrace and celebrate the diversity of our customer base, but we also strive for the same in our employees. At Squarespace, we are committed to equal employment opportunity regardless of race, color, ancestry, religion, sex, national origin, sexual orientation, age, citizenship, marital status, disability, gender, gender identity or expression, or veteran status. We are proud to be an equal opportunity workplace.\n",
      "3                                                                                                                                                                                                                                                                                                                                                                                                                                                                                                                                                                                                                                                                                                                                                                                                                                                                                                                                                                                                                                                                                                                                                                                                                                                                                                                                                                                                                                                                                                                                                                                                                                                                                                                                                                                                                                                                                                                  Requisition NumberRR-0001939\\nRemote:Yes\\nWe collaborate. We create. We innovate.\\n\\nIntrigued?\\n\\nYou’re a business professional with an innate curiosity that thrives in a dynamic and Agile environment. You appreciate teamwork, exemplify integrity, perseverance, flexibility, and a generosity of spirit… if this sounds like you, then please apply – we’d love to meet you!\\n\\nCelerity is expanding and on the hunt for the savvy, creative, and analytically sound individuals that are motivated by solving complex problems. We’re in the business of transforming how people, process, and systems co-exist, while improving operational efficiencies and user-driven interactions. We work with groundbreaking companies, melding expertise in Digital Strategy, Technology, Creative, and Business Transformation.\\nThe health and safety of our employees is our top priority. Due to the pandemic, all our employees are working remotely and we will be conducting candidate interviews by video. This position will continue to be remote once the COVID-19 crisis has abated.\\n\\nWhat You’ll Do\\n\\n• Perform data visualization and comparisons across multiple data sources / systems of record to provide value-added insights to support critical business operations teams\\n• Build scripts to perform low-level analysis and data investigation working in conjunction with other Celerity or client team members to improve data accuracy and make more informed decisions\\n• Support movement of large amounts of data and existing processes into new ecosystems including looking for opportunities for greater automation of existing processes via SQL\\n• Produce customized reports and visualizations as well as other ad-hoc analysis in support of time-sensitive business requests\\n• Demonstrate flexibility to expand beyond a pure data analysis role including upstream requirements gathering or downstream process recommendations/implementations centered around a strong understanding of client data\\n\\nAbout You\\n\\n• Bachelor’s Degree in Business, Management, or a quantitative field 3+ years SQL development of complex queries\\n• 2+ years professional experience\\n• Expertise designing and implementing ETL processes You have Teradata SQL Experience (preferred)\\n• Experience with Data Visualization such as Tableau or PowerBI\\n• You understand and have experience with multidimensional analysis and queries\\n• Strong communication skills\\n• You have an analytical mindset to be able to ask probing questions to eradicate ambiguity and are willing to point out flaws in logic and identify better ways to do things\\n• You have “Good Data Intuition”\\n• You are not an order taker, but an analyst that can sniff out trends, identify patterns, and answer open ended questions\\n• Willingness to expand scope of work beyond data to include business analyst, process analyst, or project manager type activities as necessary\\nWe Are Celerity\\n\\nMillions of people every day use websites, applications, and business processes designed and built by Celerity. As a consultancy of technologists, creatives, and business experts, we provide the action plans, teams, and solutions our clients need to transform the way they do business and deepen engagement with their customers.\\n\\nCelerity empowers autonomy and accountability. We understand life happens and want our team to do what is needed to get the work done, enjoy it along the way, and have plenty of time and energy for family and friends, vacations, hobbies, learning of languages, you name it! At Celerity, our focus is on bringing synergies to business process, technology, and creative chops to deliver inspirational solutions. We love giving kudos and celebrating achievements. We provide an inclusive and flexible environment that fosters collaboration, quick pivots, and quality work.\\n\\nOriginally founded in 2002, Celerity was acquired in 2015 by AUSY, a France-based IT consultancy and engineering services firm. With 8 regional offices and 400+ employees, Celerity’s clients span a variety of industries including media and entertainment, healthcare, financial services, manufacturing, non-profit, and hospitality.\\n\\nYou can also get to know us better on Instagram, Facebook, Dribbble, LinkedIn, and Twitter.\\n\\nBuild Your Career\\n\\nAt Celerity, our professional growth plan focuses on individualizing everyone’s track through incorporating personal interests with training and mentorship, while further expanding existing strong suits. We recognize in this ever-evolving digital world, there is extreme value in learning new skills and technologies. Celerity provides opportunities to shape skill sets, work with an amazing team of industry-leading consultants and exciting clients, in addition to professional trainings and certifications that best align with your career goals.\\nWe are proud to be an Equal Opportunity Employer. All employment decisions shall be made without regard to age, race, creed, color, religion, sex, national origin, ancestry, disability status, veteran status, sexual orientation, gender identity or expression, genetic information, marital status, citizenship status or any other basis as protected by federal, state, or local law.\\nCelerity is committed to providing veteran employment opportunities to our service men and women.\n",
      "4                                                                                                                                                                                                                                                                                                                                                                                                                                                                                                                                                                                                                                                                                                                                                                                                                                                                                                                                                                                                                                                                                                                                                                                                                                                                                                                                                                                                                                                                                                                                                                                                                                                                                                                                                                                                                                                                                                                                                                                                                                                                                                                                                                                                                                                                                                                                                                                                                                                                                                                                                                                                                                                                                                                                                                                                                                                                                                                                                                                                                                                                                                                                                                                                                                                                                                                                                                                                                                                                                                                                                                                                                                                                                                                                                                                                                                                                      ABOUT FANDUEL GROUP\\n\\nFanDuel Group is a world-class team of brands and products all built with one goal in mind — to give fans new and innovative ways to interact with their favorite games, sports, teams, and leagues. That's no easy task, which is why we're so dedicated to building a winning team. And make no mistake, we are here to win, but we believe in winning right. That means we'll never compromise when it comes to looking out for our teammates. From our many opportunities for professional development to our generous insurance and paid leave policies, we're committed to making sure our employees get as much out of FanDuel as we ask them to give.\\n\\nFanDuel Group is based in New York, with offices in California, New Jersey, Florida, Oregon and Scotland. Our brands include:\\nFanDuel — A game-changing real-money fantasy sports app\\nFanDuel Sportsbook — America's #1 sports betting app\\nTVG — The best-in-class horse racing TV/media network and betting platform\\nFanDuel Racing — A horse racing app built for the average sports fan\\nFanDuel Casino & Betfair Casino — Fan-favorite online casino apps\\nFOXBet — A world-class betting platform\\nPokerStars — The premier online poker product\\nTHE POSITION\\nOur roster has an opening with your name on it\\n\\nWe are looking for a Reporting Data Analyst to join our growing Analytics team working with all aspects of regulatory and compliance reporting. You will work with Engineering, Compliance and regulatory stakeholders to ensure that reports produce accurate, timely results.\\n\\nTHE GAME PLAN\\nEveryone on our team has a part to play\\nWork with internal and external stakeholders to specify requirements for regulatory and compliance reports\\nUse your experience with SQL to design and develop reports in a number of databases\\nCollaborate with Engineering to develop databases in support of current and future reporting needs\\nTake ownership of the schedule of reports, investigating and remediating any issues related to accuracy or availability\\nIdentifying and acting on opportunities to further improve regulatory and compliance reporting\\nSupporting internal stakeholders in Compliance, Legal and other departments with data analysis\\nTHE STATS\\nWhat we're looking for in our next teammate\\nHighly numerate Bachelor's degree\\n1-2 years' experience working with data, reporting and analysis\\nStrong technical and analytic skills – SQL and Python are essential, Excel is nice to have\\nExperience using automation and visualization tools to deliver information to a range of stakeholders\\nExperience of analyzing and manipulating large data sets across multiple data sources\\nDesire to learn new technical skills and practice continuous personal development\\nTHE CONTRACT\\nWe treat our team right\\n\\nCompetitive compensation is just the beginning. As part of our team, you can expect:\\nAn exciting and fun environment committed to driving real growth\\nOpportunities to build really cool products that fans love\\nMentorship and professional development resources to help you refine your game\\nFlexible vacation allowance to let you refuel\\nHall of Fame benefit programs and platforms\\nFanDuel Group is an equal opportunities employer. Diversity and inclusion in FanDuel means that we respect and value everyone as individuals. We don't tolerate bias, judgement or harassment. Our focus is on developing employees so that they reach their full potential.\n",
      "Name: Job Description, dtype: object\n"
     ]
    }
   ],
   "source": [
    "pd.set_option('display.max_colwidth', 10000)\n",
    "print(data['Job Description'].head())\n",
    "pd.set_option('display.max_colwidth', 20)"
   ]
  },
  {
   "cell_type": "code",
   "execution_count": 14,
   "id": "f09dde8d",
   "metadata": {
    "ExecuteTime": {
     "end_time": "2023-04-20T13:36:26.456801Z",
     "start_time": "2023-04-20T13:36:26.447266Z"
    }
   },
   "outputs": [
    {
     "data": {
      "text/plain": [
       "0"
      ]
     },
     "execution_count": 14,
     "metadata": {},
     "output_type": "execute_result"
    }
   ],
   "source": [
    "#Null Values \n",
    "data['Job Description'].isnull().sum()"
   ]
  },
  {
   "cell_type": "code",
   "execution_count": 15,
   "id": "420990e2",
   "metadata": {
    "ExecuteTime": {
     "end_time": "2023-04-20T13:36:37.546935Z",
     "start_time": "2023-04-20T13:36:37.431548Z"
    }
   },
   "outputs": [],
   "source": [
    " #Skills\n",
    "options = ['python', 'sql', 'power bi', 'excel', 'tableau']\n",
    "\n",
    "for option in options:\n",
    "    data[option] = data['Job Description'].apply(lambda text: option in text.lower())"
   ]
  },
  {
   "cell_type": "code",
   "execution_count": 16,
   "id": "e28c4ed3",
   "metadata": {
    "ExecuteTime": {
     "end_time": "2023-04-20T13:36:46.705765Z",
     "start_time": "2023-04-20T13:36:46.698277Z"
    }
   },
   "outputs": [
    {
     "data": {
      "text/plain": [
       "Index(['Unnamed: 0', 'Job Title', 'Salary Estimate', 'Job Description',\n",
       "       'Rating', 'Company Name', 'Location', 'Headquarters', 'Size', 'Founded',\n",
       "       'Type of ownership', 'Industry', 'Sector', 'Revenue', 'Competitors',\n",
       "       'Easy Apply', 'python', 'sql', 'power bi', 'excel', 'tableau'],\n",
       "      dtype='object')"
      ]
     },
     "execution_count": 16,
     "metadata": {},
     "output_type": "execute_result"
    }
   ],
   "source": [
    "data.columns"
   ]
  },
  {
   "cell_type": "code",
   "execution_count": 17,
   "id": "a503b6ac",
   "metadata": {
    "ExecuteTime": {
     "end_time": "2023-04-20T13:37:08.976737Z",
     "start_time": "2023-04-20T13:37:08.964275Z"
    }
   },
   "outputs": [
    {
     "data": {
      "text/plain": [
       "IT Services                            325\n",
       "Staffing & Outsourcing                 323\n",
       "Health Care Services & Hospitals       151\n",
       "Computer Hardware & Software           111\n",
       "Consulting                             111\n",
       "                                      ... \n",
       "Truck Rental & Leasing                   1\n",
       "News Outlet                              1\n",
       "Catering & Food Service Contractors      1\n",
       "Chemical Manufacturing                   1\n",
       "Hotels, Motels, & Resorts                1\n",
       "Name: Industry, Length: 88, dtype: int64"
      ]
     },
     "execution_count": 17,
     "metadata": {},
     "output_type": "execute_result"
    }
   ],
   "source": [
    "data['Industry'].value_counts()"
   ]
  },
  {
   "cell_type": "code",
   "execution_count": 18,
   "id": "c6883074",
   "metadata": {
    "ExecuteTime": {
     "end_time": "2023-04-20T13:37:19.467215Z",
     "start_time": "2023-04-20T13:37:19.458277Z"
    }
   },
   "outputs": [
    {
     "data": {
      "text/plain": [
       "353"
      ]
     },
     "execution_count": 18,
     "metadata": {},
     "output_type": "execute_result"
    }
   ],
   "source": [
    "data['Industry'].isnull().sum()"
   ]
  },
  {
   "cell_type": "code",
   "execution_count": 19,
   "id": "516fc35d",
   "metadata": {
    "ExecuteTime": {
     "end_time": "2023-04-20T13:37:28.797341Z",
     "start_time": "2023-04-20T13:37:28.787878Z"
    }
   },
   "outputs": [],
   "source": [
    "data_analyst = data[['Job Title', 'Rating', \n",
    "                'Company Name', 'Industry', 'Sector',\n",
    "                 'python', 'sql', 'power bi', 'excel', 'tableau']]"
   ]
  },
  {
   "cell_type": "code",
   "execution_count": 20,
   "id": "31af6e12",
   "metadata": {
    "ExecuteTime": {
     "end_time": "2023-04-20T13:37:42.337181Z",
     "start_time": "2023-04-20T13:37:42.323398Z"
    }
   },
   "outputs": [
    {
     "data": {
      "text/plain": [
       "Job Title         0\n",
       "Rating          272\n",
       "Company Name      1\n",
       "Industry        353\n",
       "Sector          353\n",
       "python            0\n",
       "sql               0\n",
       "power bi          0\n",
       "excel             0\n",
       "tableau           0\n",
       "dtype: int64"
      ]
     },
     "execution_count": 20,
     "metadata": {},
     "output_type": "execute_result"
    }
   ],
   "source": [
    "data_analyst.isnull().sum()"
   ]
  },
  {
   "cell_type": "code",
   "execution_count": 75,
   "id": "3c8d13c2",
   "metadata": {
    "ExecuteTime": {
     "end_time": "2023-04-20T14:09:19.310561Z",
     "start_time": "2023-04-20T14:09:19.285298Z"
    }
   },
   "outputs": [
    {
     "data": {
      "application/vnd.plotly.v1+json": {
       "config": {
        "plotlyServerURL": "https://plot.ly"
       },
       "data": [
        {
         "marker": {
          "color": "#A033FF"
         },
         "type": "bar",
         "x": [
          "Data Analyst",
          "Senior Data Analyst",
          "Junior Data Analyst",
          "Business Data Analyst",
          "Data Quality Analyst",
          "Data Analyst II",
          "Data Governance Analyst",
          "Lead Data Analyst",
          "Data Reporting Analyst",
          "Financial Data Analyst",
          "Data Analyst I",
          "Data Analyst III",
          "Marketing Data Analyst",
          "Data Management Analyst",
          "Data Warehouse Analyst",
          "SQL Data Analyst",
          "Data Science Analyst",
          "Technical Data Analyst",
          "Clinical Data Analyst",
          "Research Data Analyst"
         ],
         "y": [
          405,
          120,
          47,
          28,
          17,
          17,
          16,
          15,
          13,
          12,
          11,
          11,
          9,
          8,
          8,
          7,
          7,
          7,
          6,
          6
         ]
        }
       ],
       "layout": {
        "font": {
         "color": "black",
         "family": "Courier New, monospace",
         "size": 14
        },
        "height": 600,
        "template": {
         "data": {
          "bar": [
           {
            "error_x": {
             "color": "#2a3f5f"
            },
            "error_y": {
             "color": "#2a3f5f"
            },
            "marker": {
             "line": {
              "color": "#E5ECF6",
              "width": 0.5
             },
             "pattern": {
              "fillmode": "overlay",
              "size": 10,
              "solidity": 0.2
             }
            },
            "type": "bar"
           }
          ],
          "barpolar": [
           {
            "marker": {
             "line": {
              "color": "#E5ECF6",
              "width": 0.5
             },
             "pattern": {
              "fillmode": "overlay",
              "size": 10,
              "solidity": 0.2
             }
            },
            "type": "barpolar"
           }
          ],
          "carpet": [
           {
            "aaxis": {
             "endlinecolor": "#2a3f5f",
             "gridcolor": "white",
             "linecolor": "white",
             "minorgridcolor": "white",
             "startlinecolor": "#2a3f5f"
            },
            "baxis": {
             "endlinecolor": "#2a3f5f",
             "gridcolor": "white",
             "linecolor": "white",
             "minorgridcolor": "white",
             "startlinecolor": "#2a3f5f"
            },
            "type": "carpet"
           }
          ],
          "choropleth": [
           {
            "colorbar": {
             "outlinewidth": 0,
             "ticks": ""
            },
            "type": "choropleth"
           }
          ],
          "contour": [
           {
            "colorbar": {
             "outlinewidth": 0,
             "ticks": ""
            },
            "colorscale": [
             [
              0,
              "#0d0887"
             ],
             [
              0.1111111111111111,
              "#46039f"
             ],
             [
              0.2222222222222222,
              "#7201a8"
             ],
             [
              0.3333333333333333,
              "#9c179e"
             ],
             [
              0.4444444444444444,
              "#bd3786"
             ],
             [
              0.5555555555555556,
              "#d8576b"
             ],
             [
              0.6666666666666666,
              "#ed7953"
             ],
             [
              0.7777777777777778,
              "#fb9f3a"
             ],
             [
              0.8888888888888888,
              "#fdca26"
             ],
             [
              1,
              "#f0f921"
             ]
            ],
            "type": "contour"
           }
          ],
          "contourcarpet": [
           {
            "colorbar": {
             "outlinewidth": 0,
             "ticks": ""
            },
            "type": "contourcarpet"
           }
          ],
          "heatmap": [
           {
            "colorbar": {
             "outlinewidth": 0,
             "ticks": ""
            },
            "colorscale": [
             [
              0,
              "#0d0887"
             ],
             [
              0.1111111111111111,
              "#46039f"
             ],
             [
              0.2222222222222222,
              "#7201a8"
             ],
             [
              0.3333333333333333,
              "#9c179e"
             ],
             [
              0.4444444444444444,
              "#bd3786"
             ],
             [
              0.5555555555555556,
              "#d8576b"
             ],
             [
              0.6666666666666666,
              "#ed7953"
             ],
             [
              0.7777777777777778,
              "#fb9f3a"
             ],
             [
              0.8888888888888888,
              "#fdca26"
             ],
             [
              1,
              "#f0f921"
             ]
            ],
            "type": "heatmap"
           }
          ],
          "heatmapgl": [
           {
            "colorbar": {
             "outlinewidth": 0,
             "ticks": ""
            },
            "colorscale": [
             [
              0,
              "#0d0887"
             ],
             [
              0.1111111111111111,
              "#46039f"
             ],
             [
              0.2222222222222222,
              "#7201a8"
             ],
             [
              0.3333333333333333,
              "#9c179e"
             ],
             [
              0.4444444444444444,
              "#bd3786"
             ],
             [
              0.5555555555555556,
              "#d8576b"
             ],
             [
              0.6666666666666666,
              "#ed7953"
             ],
             [
              0.7777777777777778,
              "#fb9f3a"
             ],
             [
              0.8888888888888888,
              "#fdca26"
             ],
             [
              1,
              "#f0f921"
             ]
            ],
            "type": "heatmapgl"
           }
          ],
          "histogram": [
           {
            "marker": {
             "pattern": {
              "fillmode": "overlay",
              "size": 10,
              "solidity": 0.2
             }
            },
            "type": "histogram"
           }
          ],
          "histogram2d": [
           {
            "colorbar": {
             "outlinewidth": 0,
             "ticks": ""
            },
            "colorscale": [
             [
              0,
              "#0d0887"
             ],
             [
              0.1111111111111111,
              "#46039f"
             ],
             [
              0.2222222222222222,
              "#7201a8"
             ],
             [
              0.3333333333333333,
              "#9c179e"
             ],
             [
              0.4444444444444444,
              "#bd3786"
             ],
             [
              0.5555555555555556,
              "#d8576b"
             ],
             [
              0.6666666666666666,
              "#ed7953"
             ],
             [
              0.7777777777777778,
              "#fb9f3a"
             ],
             [
              0.8888888888888888,
              "#fdca26"
             ],
             [
              1,
              "#f0f921"
             ]
            ],
            "type": "histogram2d"
           }
          ],
          "histogram2dcontour": [
           {
            "colorbar": {
             "outlinewidth": 0,
             "ticks": ""
            },
            "colorscale": [
             [
              0,
              "#0d0887"
             ],
             [
              0.1111111111111111,
              "#46039f"
             ],
             [
              0.2222222222222222,
              "#7201a8"
             ],
             [
              0.3333333333333333,
              "#9c179e"
             ],
             [
              0.4444444444444444,
              "#bd3786"
             ],
             [
              0.5555555555555556,
              "#d8576b"
             ],
             [
              0.6666666666666666,
              "#ed7953"
             ],
             [
              0.7777777777777778,
              "#fb9f3a"
             ],
             [
              0.8888888888888888,
              "#fdca26"
             ],
             [
              1,
              "#f0f921"
             ]
            ],
            "type": "histogram2dcontour"
           }
          ],
          "mesh3d": [
           {
            "colorbar": {
             "outlinewidth": 0,
             "ticks": ""
            },
            "type": "mesh3d"
           }
          ],
          "parcoords": [
           {
            "line": {
             "colorbar": {
              "outlinewidth": 0,
              "ticks": ""
             }
            },
            "type": "parcoords"
           }
          ],
          "pie": [
           {
            "automargin": true,
            "type": "pie"
           }
          ],
          "scatter": [
           {
            "fillpattern": {
             "fillmode": "overlay",
             "size": 10,
             "solidity": 0.2
            },
            "type": "scatter"
           }
          ],
          "scatter3d": [
           {
            "line": {
             "colorbar": {
              "outlinewidth": 0,
              "ticks": ""
             }
            },
            "marker": {
             "colorbar": {
              "outlinewidth": 0,
              "ticks": ""
             }
            },
            "type": "scatter3d"
           }
          ],
          "scattercarpet": [
           {
            "marker": {
             "colorbar": {
              "outlinewidth": 0,
              "ticks": ""
             }
            },
            "type": "scattercarpet"
           }
          ],
          "scattergeo": [
           {
            "marker": {
             "colorbar": {
              "outlinewidth": 0,
              "ticks": ""
             }
            },
            "type": "scattergeo"
           }
          ],
          "scattergl": [
           {
            "marker": {
             "colorbar": {
              "outlinewidth": 0,
              "ticks": ""
             }
            },
            "type": "scattergl"
           }
          ],
          "scattermapbox": [
           {
            "marker": {
             "colorbar": {
              "outlinewidth": 0,
              "ticks": ""
             }
            },
            "type": "scattermapbox"
           }
          ],
          "scatterpolar": [
           {
            "marker": {
             "colorbar": {
              "outlinewidth": 0,
              "ticks": ""
             }
            },
            "type": "scatterpolar"
           }
          ],
          "scatterpolargl": [
           {
            "marker": {
             "colorbar": {
              "outlinewidth": 0,
              "ticks": ""
             }
            },
            "type": "scatterpolargl"
           }
          ],
          "scatterternary": [
           {
            "marker": {
             "colorbar": {
              "outlinewidth": 0,
              "ticks": ""
             }
            },
            "type": "scatterternary"
           }
          ],
          "surface": [
           {
            "colorbar": {
             "outlinewidth": 0,
             "ticks": ""
            },
            "colorscale": [
             [
              0,
              "#0d0887"
             ],
             [
              0.1111111111111111,
              "#46039f"
             ],
             [
              0.2222222222222222,
              "#7201a8"
             ],
             [
              0.3333333333333333,
              "#9c179e"
             ],
             [
              0.4444444444444444,
              "#bd3786"
             ],
             [
              0.5555555555555556,
              "#d8576b"
             ],
             [
              0.6666666666666666,
              "#ed7953"
             ],
             [
              0.7777777777777778,
              "#fb9f3a"
             ],
             [
              0.8888888888888888,
              "#fdca26"
             ],
             [
              1,
              "#f0f921"
             ]
            ],
            "type": "surface"
           }
          ],
          "table": [
           {
            "cells": {
             "fill": {
              "color": "#EBF0F8"
             },
             "line": {
              "color": "white"
             }
            },
            "header": {
             "fill": {
              "color": "#C8D4E3"
             },
             "line": {
              "color": "white"
             }
            },
            "type": "table"
           }
          ]
         },
         "layout": {
          "annotationdefaults": {
           "arrowcolor": "#2a3f5f",
           "arrowhead": 0,
           "arrowwidth": 1
          },
          "autotypenumbers": "strict",
          "coloraxis": {
           "colorbar": {
            "outlinewidth": 0,
            "ticks": ""
           }
          },
          "colorscale": {
           "diverging": [
            [
             0,
             "#8e0152"
            ],
            [
             0.1,
             "#c51b7d"
            ],
            [
             0.2,
             "#de77ae"
            ],
            [
             0.3,
             "#f1b6da"
            ],
            [
             0.4,
             "#fde0ef"
            ],
            [
             0.5,
             "#f7f7f7"
            ],
            [
             0.6,
             "#e6f5d0"
            ],
            [
             0.7,
             "#b8e186"
            ],
            [
             0.8,
             "#7fbc41"
            ],
            [
             0.9,
             "#4d9221"
            ],
            [
             1,
             "#276419"
            ]
           ],
           "sequential": [
            [
             0,
             "#0d0887"
            ],
            [
             0.1111111111111111,
             "#46039f"
            ],
            [
             0.2222222222222222,
             "#7201a8"
            ],
            [
             0.3333333333333333,
             "#9c179e"
            ],
            [
             0.4444444444444444,
             "#bd3786"
            ],
            [
             0.5555555555555556,
             "#d8576b"
            ],
            [
             0.6666666666666666,
             "#ed7953"
            ],
            [
             0.7777777777777778,
             "#fb9f3a"
            ],
            [
             0.8888888888888888,
             "#fdca26"
            ],
            [
             1,
             "#f0f921"
            ]
           ],
           "sequentialminus": [
            [
             0,
             "#0d0887"
            ],
            [
             0.1111111111111111,
             "#46039f"
            ],
            [
             0.2222222222222222,
             "#7201a8"
            ],
            [
             0.3333333333333333,
             "#9c179e"
            ],
            [
             0.4444444444444444,
             "#bd3786"
            ],
            [
             0.5555555555555556,
             "#d8576b"
            ],
            [
             0.6666666666666666,
             "#ed7953"
            ],
            [
             0.7777777777777778,
             "#fb9f3a"
            ],
            [
             0.8888888888888888,
             "#fdca26"
            ],
            [
             1,
             "#f0f921"
            ]
           ]
          },
          "colorway": [
           "#636efa",
           "#EF553B",
           "#00cc96",
           "#ab63fa",
           "#FFA15A",
           "#19d3f3",
           "#FF6692",
           "#B6E880",
           "#FF97FF",
           "#FECB52"
          ],
          "font": {
           "color": "#2a3f5f"
          },
          "geo": {
           "bgcolor": "white",
           "lakecolor": "white",
           "landcolor": "#E5ECF6",
           "showlakes": true,
           "showland": true,
           "subunitcolor": "white"
          },
          "hoverlabel": {
           "align": "left"
          },
          "hovermode": "closest",
          "mapbox": {
           "style": "light"
          },
          "paper_bgcolor": "white",
          "plot_bgcolor": "#E5ECF6",
          "polar": {
           "angularaxis": {
            "gridcolor": "white",
            "linecolor": "white",
            "ticks": ""
           },
           "bgcolor": "#E5ECF6",
           "radialaxis": {
            "gridcolor": "white",
            "linecolor": "white",
            "ticks": ""
           }
          },
          "scene": {
           "xaxis": {
            "backgroundcolor": "#E5ECF6",
            "gridcolor": "white",
            "gridwidth": 2,
            "linecolor": "white",
            "showbackground": true,
            "ticks": "",
            "zerolinecolor": "white"
           },
           "yaxis": {
            "backgroundcolor": "#E5ECF6",
            "gridcolor": "white",
            "gridwidth": 2,
            "linecolor": "white",
            "showbackground": true,
            "ticks": "",
            "zerolinecolor": "white"
           },
           "zaxis": {
            "backgroundcolor": "#E5ECF6",
            "gridcolor": "white",
            "gridwidth": 2,
            "linecolor": "white",
            "showbackground": true,
            "ticks": "",
            "zerolinecolor": "white"
           }
          },
          "shapedefaults": {
           "line": {
            "color": "#2a3f5f"
           }
          },
          "ternary": {
           "aaxis": {
            "gridcolor": "white",
            "linecolor": "white",
            "ticks": ""
           },
           "baxis": {
            "gridcolor": "white",
            "linecolor": "white",
            "ticks": ""
           },
           "bgcolor": "#E5ECF6",
           "caxis": {
            "gridcolor": "white",
            "linecolor": "white",
            "ticks": ""
           }
          },
          "title": {
           "x": 0.05
          },
          "xaxis": {
           "automargin": true,
           "gridcolor": "white",
           "linecolor": "white",
           "ticks": "",
           "title": {
            "standoff": 15
           },
           "zerolinecolor": "white",
           "zerolinewidth": 2
          },
          "yaxis": {
           "automargin": true,
           "gridcolor": "white",
           "linecolor": "white",
           "ticks": "",
           "title": {
            "standoff": 15
           },
           "zerolinecolor": "white",
           "zerolinewidth": 2
          }
         }
        },
        "title": {
         "text": "Number of job openings by Job Titles",
         "x": 0.5
        },
        "width": 800,
        "xaxis": {
         "title": {
          "text": "job title"
         }
        },
        "yaxis": {
         "title": {
          "text": "count"
         }
        }
       }
      },
      "text/html": [
       "<div>                            <div id=\"5213a1b0-9c12-4f77-b79a-f1b8b57f0637\" class=\"plotly-graph-div\" style=\"height:600px; width:800px;\"></div>            <script type=\"text/javascript\">                require([\"plotly\"], function(Plotly) {                    window.PLOTLYENV=window.PLOTLYENV || {};                                    if (document.getElementById(\"5213a1b0-9c12-4f77-b79a-f1b8b57f0637\")) {                    Plotly.newPlot(                        \"5213a1b0-9c12-4f77-b79a-f1b8b57f0637\",                        [{\"marker\":{\"color\":\"#A033FF\"},\"x\":[\"Data Analyst\",\"Senior Data Analyst\",\"Junior Data Analyst\",\"Business Data Analyst\",\"Data Quality Analyst\",\"Data Analyst II\",\"Data Governance Analyst\",\"Lead Data Analyst\",\"Data Reporting Analyst\",\"Financial Data Analyst\",\"Data Analyst I\",\"Data Analyst III\",\"Marketing Data Analyst\",\"Data Management Analyst\",\"Data Warehouse Analyst\",\"SQL Data Analyst\",\"Data Science Analyst\",\"Technical Data Analyst\",\"Clinical Data Analyst\",\"Research Data Analyst\"],\"y\":[405,120,47,28,17,17,16,15,13,12,11,11,9,8,8,7,7,7,6,6],\"type\":\"bar\"}],                        {\"template\":{\"data\":{\"histogram2dcontour\":[{\"type\":\"histogram2dcontour\",\"colorbar\":{\"outlinewidth\":0,\"ticks\":\"\"},\"colorscale\":[[0.0,\"#0d0887\"],[0.1111111111111111,\"#46039f\"],[0.2222222222222222,\"#7201a8\"],[0.3333333333333333,\"#9c179e\"],[0.4444444444444444,\"#bd3786\"],[0.5555555555555556,\"#d8576b\"],[0.6666666666666666,\"#ed7953\"],[0.7777777777777778,\"#fb9f3a\"],[0.8888888888888888,\"#fdca26\"],[1.0,\"#f0f921\"]]}],\"choropleth\":[{\"type\":\"choropleth\",\"colorbar\":{\"outlinewidth\":0,\"ticks\":\"\"}}],\"histogram2d\":[{\"type\":\"histogram2d\",\"colorbar\":{\"outlinewidth\":0,\"ticks\":\"\"},\"colorscale\":[[0.0,\"#0d0887\"],[0.1111111111111111,\"#46039f\"],[0.2222222222222222,\"#7201a8\"],[0.3333333333333333,\"#9c179e\"],[0.4444444444444444,\"#bd3786\"],[0.5555555555555556,\"#d8576b\"],[0.6666666666666666,\"#ed7953\"],[0.7777777777777778,\"#fb9f3a\"],[0.8888888888888888,\"#fdca26\"],[1.0,\"#f0f921\"]]}],\"heatmap\":[{\"type\":\"heatmap\",\"colorbar\":{\"outlinewidth\":0,\"ticks\":\"\"},\"colorscale\":[[0.0,\"#0d0887\"],[0.1111111111111111,\"#46039f\"],[0.2222222222222222,\"#7201a8\"],[0.3333333333333333,\"#9c179e\"],[0.4444444444444444,\"#bd3786\"],[0.5555555555555556,\"#d8576b\"],[0.6666666666666666,\"#ed7953\"],[0.7777777777777778,\"#fb9f3a\"],[0.8888888888888888,\"#fdca26\"],[1.0,\"#f0f921\"]]}],\"heatmapgl\":[{\"type\":\"heatmapgl\",\"colorbar\":{\"outlinewidth\":0,\"ticks\":\"\"},\"colorscale\":[[0.0,\"#0d0887\"],[0.1111111111111111,\"#46039f\"],[0.2222222222222222,\"#7201a8\"],[0.3333333333333333,\"#9c179e\"],[0.4444444444444444,\"#bd3786\"],[0.5555555555555556,\"#d8576b\"],[0.6666666666666666,\"#ed7953\"],[0.7777777777777778,\"#fb9f3a\"],[0.8888888888888888,\"#fdca26\"],[1.0,\"#f0f921\"]]}],\"contourcarpet\":[{\"type\":\"contourcarpet\",\"colorbar\":{\"outlinewidth\":0,\"ticks\":\"\"}}],\"contour\":[{\"type\":\"contour\",\"colorbar\":{\"outlinewidth\":0,\"ticks\":\"\"},\"colorscale\":[[0.0,\"#0d0887\"],[0.1111111111111111,\"#46039f\"],[0.2222222222222222,\"#7201a8\"],[0.3333333333333333,\"#9c179e\"],[0.4444444444444444,\"#bd3786\"],[0.5555555555555556,\"#d8576b\"],[0.6666666666666666,\"#ed7953\"],[0.7777777777777778,\"#fb9f3a\"],[0.8888888888888888,\"#fdca26\"],[1.0,\"#f0f921\"]]}],\"surface\":[{\"type\":\"surface\",\"colorbar\":{\"outlinewidth\":0,\"ticks\":\"\"},\"colorscale\":[[0.0,\"#0d0887\"],[0.1111111111111111,\"#46039f\"],[0.2222222222222222,\"#7201a8\"],[0.3333333333333333,\"#9c179e\"],[0.4444444444444444,\"#bd3786\"],[0.5555555555555556,\"#d8576b\"],[0.6666666666666666,\"#ed7953\"],[0.7777777777777778,\"#fb9f3a\"],[0.8888888888888888,\"#fdca26\"],[1.0,\"#f0f921\"]]}],\"mesh3d\":[{\"type\":\"mesh3d\",\"colorbar\":{\"outlinewidth\":0,\"ticks\":\"\"}}],\"scatter\":[{\"fillpattern\":{\"fillmode\":\"overlay\",\"size\":10,\"solidity\":0.2},\"type\":\"scatter\"}],\"parcoords\":[{\"type\":\"parcoords\",\"line\":{\"colorbar\":{\"outlinewidth\":0,\"ticks\":\"\"}}}],\"scatterpolargl\":[{\"type\":\"scatterpolargl\",\"marker\":{\"colorbar\":{\"outlinewidth\":0,\"ticks\":\"\"}}}],\"bar\":[{\"error_x\":{\"color\":\"#2a3f5f\"},\"error_y\":{\"color\":\"#2a3f5f\"},\"marker\":{\"line\":{\"color\":\"#E5ECF6\",\"width\":0.5},\"pattern\":{\"fillmode\":\"overlay\",\"size\":10,\"solidity\":0.2}},\"type\":\"bar\"}],\"scattergeo\":[{\"type\":\"scattergeo\",\"marker\":{\"colorbar\":{\"outlinewidth\":0,\"ticks\":\"\"}}}],\"scatterpolar\":[{\"type\":\"scatterpolar\",\"marker\":{\"colorbar\":{\"outlinewidth\":0,\"ticks\":\"\"}}}],\"histogram\":[{\"marker\":{\"pattern\":{\"fillmode\":\"overlay\",\"size\":10,\"solidity\":0.2}},\"type\":\"histogram\"}],\"scattergl\":[{\"type\":\"scattergl\",\"marker\":{\"colorbar\":{\"outlinewidth\":0,\"ticks\":\"\"}}}],\"scatter3d\":[{\"type\":\"scatter3d\",\"line\":{\"colorbar\":{\"outlinewidth\":0,\"ticks\":\"\"}},\"marker\":{\"colorbar\":{\"outlinewidth\":0,\"ticks\":\"\"}}}],\"scattermapbox\":[{\"type\":\"scattermapbox\",\"marker\":{\"colorbar\":{\"outlinewidth\":0,\"ticks\":\"\"}}}],\"scatterternary\":[{\"type\":\"scatterternary\",\"marker\":{\"colorbar\":{\"outlinewidth\":0,\"ticks\":\"\"}}}],\"scattercarpet\":[{\"type\":\"scattercarpet\",\"marker\":{\"colorbar\":{\"outlinewidth\":0,\"ticks\":\"\"}}}],\"carpet\":[{\"aaxis\":{\"endlinecolor\":\"#2a3f5f\",\"gridcolor\":\"white\",\"linecolor\":\"white\",\"minorgridcolor\":\"white\",\"startlinecolor\":\"#2a3f5f\"},\"baxis\":{\"endlinecolor\":\"#2a3f5f\",\"gridcolor\":\"white\",\"linecolor\":\"white\",\"minorgridcolor\":\"white\",\"startlinecolor\":\"#2a3f5f\"},\"type\":\"carpet\"}],\"table\":[{\"cells\":{\"fill\":{\"color\":\"#EBF0F8\"},\"line\":{\"color\":\"white\"}},\"header\":{\"fill\":{\"color\":\"#C8D4E3\"},\"line\":{\"color\":\"white\"}},\"type\":\"table\"}],\"barpolar\":[{\"marker\":{\"line\":{\"color\":\"#E5ECF6\",\"width\":0.5},\"pattern\":{\"fillmode\":\"overlay\",\"size\":10,\"solidity\":0.2}},\"type\":\"barpolar\"}],\"pie\":[{\"automargin\":true,\"type\":\"pie\"}]},\"layout\":{\"autotypenumbers\":\"strict\",\"colorway\":[\"#636efa\",\"#EF553B\",\"#00cc96\",\"#ab63fa\",\"#FFA15A\",\"#19d3f3\",\"#FF6692\",\"#B6E880\",\"#FF97FF\",\"#FECB52\"],\"font\":{\"color\":\"#2a3f5f\"},\"hovermode\":\"closest\",\"hoverlabel\":{\"align\":\"left\"},\"paper_bgcolor\":\"white\",\"plot_bgcolor\":\"#E5ECF6\",\"polar\":{\"bgcolor\":\"#E5ECF6\",\"angularaxis\":{\"gridcolor\":\"white\",\"linecolor\":\"white\",\"ticks\":\"\"},\"radialaxis\":{\"gridcolor\":\"white\",\"linecolor\":\"white\",\"ticks\":\"\"}},\"ternary\":{\"bgcolor\":\"#E5ECF6\",\"aaxis\":{\"gridcolor\":\"white\",\"linecolor\":\"white\",\"ticks\":\"\"},\"baxis\":{\"gridcolor\":\"white\",\"linecolor\":\"white\",\"ticks\":\"\"},\"caxis\":{\"gridcolor\":\"white\",\"linecolor\":\"white\",\"ticks\":\"\"}},\"coloraxis\":{\"colorbar\":{\"outlinewidth\":0,\"ticks\":\"\"}},\"colorscale\":{\"sequential\":[[0.0,\"#0d0887\"],[0.1111111111111111,\"#46039f\"],[0.2222222222222222,\"#7201a8\"],[0.3333333333333333,\"#9c179e\"],[0.4444444444444444,\"#bd3786\"],[0.5555555555555556,\"#d8576b\"],[0.6666666666666666,\"#ed7953\"],[0.7777777777777778,\"#fb9f3a\"],[0.8888888888888888,\"#fdca26\"],[1.0,\"#f0f921\"]],\"sequentialminus\":[[0.0,\"#0d0887\"],[0.1111111111111111,\"#46039f\"],[0.2222222222222222,\"#7201a8\"],[0.3333333333333333,\"#9c179e\"],[0.4444444444444444,\"#bd3786\"],[0.5555555555555556,\"#d8576b\"],[0.6666666666666666,\"#ed7953\"],[0.7777777777777778,\"#fb9f3a\"],[0.8888888888888888,\"#fdca26\"],[1.0,\"#f0f921\"]],\"diverging\":[[0,\"#8e0152\"],[0.1,\"#c51b7d\"],[0.2,\"#de77ae\"],[0.3,\"#f1b6da\"],[0.4,\"#fde0ef\"],[0.5,\"#f7f7f7\"],[0.6,\"#e6f5d0\"],[0.7,\"#b8e186\"],[0.8,\"#7fbc41\"],[0.9,\"#4d9221\"],[1,\"#276419\"]]},\"xaxis\":{\"gridcolor\":\"white\",\"linecolor\":\"white\",\"ticks\":\"\",\"title\":{\"standoff\":15},\"zerolinecolor\":\"white\",\"automargin\":true,\"zerolinewidth\":2},\"yaxis\":{\"gridcolor\":\"white\",\"linecolor\":\"white\",\"ticks\":\"\",\"title\":{\"standoff\":15},\"zerolinecolor\":\"white\",\"automargin\":true,\"zerolinewidth\":2},\"scene\":{\"xaxis\":{\"backgroundcolor\":\"#E5ECF6\",\"gridcolor\":\"white\",\"linecolor\":\"white\",\"showbackground\":true,\"ticks\":\"\",\"zerolinecolor\":\"white\",\"gridwidth\":2},\"yaxis\":{\"backgroundcolor\":\"#E5ECF6\",\"gridcolor\":\"white\",\"linecolor\":\"white\",\"showbackground\":true,\"ticks\":\"\",\"zerolinecolor\":\"white\",\"gridwidth\":2},\"zaxis\":{\"backgroundcolor\":\"#E5ECF6\",\"gridcolor\":\"white\",\"linecolor\":\"white\",\"showbackground\":true,\"ticks\":\"\",\"zerolinecolor\":\"white\",\"gridwidth\":2}},\"shapedefaults\":{\"line\":{\"color\":\"#2a3f5f\"}},\"annotationdefaults\":{\"arrowcolor\":\"#2a3f5f\",\"arrowhead\":0,\"arrowwidth\":1},\"geo\":{\"bgcolor\":\"white\",\"landcolor\":\"#E5ECF6\",\"subunitcolor\":\"white\",\"showland\":true,\"showlakes\":true,\"lakecolor\":\"white\"},\"title\":{\"x\":0.05},\"mapbox\":{\"style\":\"light\"}}},\"title\":{\"text\":\"Number of job openings by Job Titles\",\"x\":0.5},\"font\":{\"family\":\"Courier New, monospace\",\"size\":14,\"color\":\"black\"},\"height\":600,\"width\":800,\"xaxis\":{\"title\":{\"text\":\"job title\"}},\"yaxis\":{\"title\":{\"text\":\"count\"}}},                        {\"responsive\": true}                    ).then(function(){\n",
       "                            \n",
       "var gd = document.getElementById('5213a1b0-9c12-4f77-b79a-f1b8b57f0637');\n",
       "var x = new MutationObserver(function (mutations, observer) {{\n",
       "        var display = window.getComputedStyle(gd).display;\n",
       "        if (!display || display === 'none') {{\n",
       "            console.log([gd, 'removed!']);\n",
       "            Plotly.purge(gd);\n",
       "            observer.disconnect();\n",
       "        }}\n",
       "}});\n",
       "\n",
       "// Listen for the removal of the full notebook cells\n",
       "var notebookContainer = gd.closest('#notebook-container');\n",
       "if (notebookContainer) {{\n",
       "    x.observe(notebookContainer, {childList: true});\n",
       "}}\n",
       "\n",
       "// Listen for the clearing of the current output cell\n",
       "var outputEl = gd.closest('.output');\n",
       "if (outputEl) {{\n",
       "    x.observe(outputEl, {childList: true});\n",
       "}}\n",
       "\n",
       "                        })                };                });            </script>        </div>"
      ]
     },
     "metadata": {},
     "output_type": "display_data"
    }
   ],
   "source": [
    "#job opening \n",
    "fig = go.Figure()\n",
    "\n",
    "fig.add_trace(go.Bar(x=data_analyst['Job Title'].value_counts().head(20).index,\n",
    "       y=data_analyst['Job Title'].value_counts().head(20).values,\n",
    "       marker_color = '#A033FF'))\n",
    "\n",
    "fig.update_layout(\n",
    "    \n",
    "    height=600, width=800, title_text='Number of job openings by Job Titles',\n",
    "    \n",
    "    xaxis_title='job title', yaxis_title=\"count\", title_x = 0.5,\n",
    "    \n",
    "    font=dict(\n",
    "            family=\"Courier New, monospace\",\n",
    "            size=14,\n",
    "            color=\"black\"\n",
    "        \n",
    "))\n",
    "\n",
    "\n",
    "fig.show()"
   ]
  },
  {
   "cell_type": "code",
   "execution_count": 22,
   "id": "86cc1e6e",
   "metadata": {
    "ExecuteTime": {
     "end_time": "2023-04-20T13:38:12.784613Z",
     "start_time": "2023-04-20T13:38:12.779241Z"
    }
   },
   "outputs": [],
   "source": [
    "#There's one job title which is the most common and it's Data Analyst - there's 405 job openings for this role. \n",
    "#Going further:\n",
    "\n",
    "#Senior Data Analyst - 120\n",
    "#Junior Data Analyst - 47\n",
    "#Business Data Analyst - 28"
   ]
  },
  {
   "cell_type": "code",
   "execution_count": 23,
   "id": "65be3f02",
   "metadata": {
    "ExecuteTime": {
     "end_time": "2023-04-20T13:38:30.948477Z",
     "start_time": "2023-04-20T13:38:30.943200Z"
    }
   },
   "outputs": [],
   "source": [
    "#Required skills for each job openings"
   ]
  },
  {
   "cell_type": "code",
   "execution_count": 24,
   "id": "317f8dc1",
   "metadata": {
    "ExecuteTime": {
     "end_time": "2023-04-20T13:40:41.705755Z",
     "start_time": "2023-04-20T13:40:41.677149Z"
    }
   },
   "outputs": [
    {
     "data": {
      "text/html": [
       "<div>\n",
       "<style scoped>\n",
       "    .dataframe tbody tr th:only-of-type {\n",
       "        vertical-align: middle;\n",
       "    }\n",
       "\n",
       "    .dataframe tbody tr th {\n",
       "        vertical-align: top;\n",
       "    }\n",
       "\n",
       "    .dataframe thead th {\n",
       "        text-align: right;\n",
       "    }\n",
       "</style>\n",
       "<table border=\"1\" class=\"dataframe\">\n",
       "  <thead>\n",
       "    <tr style=\"text-align: right;\">\n",
       "      <th></th>\n",
       "      <th>Job Title</th>\n",
       "      <th>python</th>\n",
       "      <th>sql</th>\n",
       "      <th>excel</th>\n",
       "      <th>tableau</th>\n",
       "      <th>power bi</th>\n",
       "      <th>number_of_job_openings</th>\n",
       "    </tr>\n",
       "  </thead>\n",
       "  <tbody>\n",
       "    <tr>\n",
       "      <th>0</th>\n",
       "      <td>Data Analyst</td>\n",
       "      <td>125</td>\n",
       "      <td>301</td>\n",
       "      <td>239</td>\n",
       "      <td>110</td>\n",
       "      <td>39</td>\n",
       "      <td>405</td>\n",
       "    </tr>\n",
       "    <tr>\n",
       "      <th>1</th>\n",
       "      <td>Senior Data Analyst</td>\n",
       "      <td>68</td>\n",
       "      <td>104</td>\n",
       "      <td>66</td>\n",
       "      <td>64</td>\n",
       "      <td>17</td>\n",
       "      <td>120</td>\n",
       "    </tr>\n",
       "    <tr>\n",
       "      <th>2</th>\n",
       "      <td>Business Data An...</td>\n",
       "      <td>11</td>\n",
       "      <td>21</td>\n",
       "      <td>17</td>\n",
       "      <td>11</td>\n",
       "      <td>3</td>\n",
       "      <td>47</td>\n",
       "    </tr>\n",
       "    <tr>\n",
       "      <th>3</th>\n",
       "      <td>Lead Data Analyst</td>\n",
       "      <td>5</td>\n",
       "      <td>13</td>\n",
       "      <td>7</td>\n",
       "      <td>10</td>\n",
       "      <td>6</td>\n",
       "      <td>28</td>\n",
       "    </tr>\n",
       "    <tr>\n",
       "      <th>4</th>\n",
       "      <td>NY Healthcare Da...</td>\n",
       "      <td>5</td>\n",
       "      <td>5</td>\n",
       "      <td>5</td>\n",
       "      <td>5</td>\n",
       "      <td>0</td>\n",
       "      <td>17</td>\n",
       "    </tr>\n",
       "    <tr>\n",
       "      <th>5</th>\n",
       "      <td>Marketing Data A...</td>\n",
       "      <td>5</td>\n",
       "      <td>9</td>\n",
       "      <td>6</td>\n",
       "      <td>5</td>\n",
       "      <td>0</td>\n",
       "      <td>17</td>\n",
       "    </tr>\n",
       "    <tr>\n",
       "      <th>6</th>\n",
       "      <td>Data Analyst III...</td>\n",
       "      <td>5</td>\n",
       "      <td>5</td>\n",
       "      <td>5</td>\n",
       "      <td>5</td>\n",
       "      <td>0</td>\n",
       "      <td>16</td>\n",
       "    </tr>\n",
       "    <tr>\n",
       "      <th>7</th>\n",
       "      <td>Healthcare Data/...</td>\n",
       "      <td>4</td>\n",
       "      <td>4</td>\n",
       "      <td>4</td>\n",
       "      <td>4</td>\n",
       "      <td>0</td>\n",
       "      <td>15</td>\n",
       "    </tr>\n",
       "    <tr>\n",
       "      <th>8</th>\n",
       "      <td>Data Analyst, Da...</td>\n",
       "      <td>4</td>\n",
       "      <td>4</td>\n",
       "      <td>0</td>\n",
       "      <td>4</td>\n",
       "      <td>4</td>\n",
       "      <td>13</td>\n",
       "    </tr>\n",
       "    <tr>\n",
       "      <th>9</th>\n",
       "      <td>Data Analyst II</td>\n",
       "      <td>4</td>\n",
       "      <td>8</td>\n",
       "      <td>10</td>\n",
       "      <td>5</td>\n",
       "      <td>2</td>\n",
       "      <td>12</td>\n",
       "    </tr>\n",
       "  </tbody>\n",
       "</table>\n",
       "</div>"
      ],
      "text/plain": [
       "             Job Title  python  sql  excel  tableau  power bi  \\\n",
       "0         Data Analyst     125  301    239      110        39   \n",
       "1  Senior Data Analyst      68  104     66       64        17   \n",
       "2  Business Data An...      11   21     17       11         3   \n",
       "3    Lead Data Analyst       5   13      7       10         6   \n",
       "4  NY Healthcare Da...       5    5      5        5         0   \n",
       "5  Marketing Data A...       5    9      6        5         0   \n",
       "6  Data Analyst III...       5    5      5        5         0   \n",
       "7  Healthcare Data/...       4    4      4        4         0   \n",
       "8  Data Analyst, Da...       4    4      0        4         4   \n",
       "9      Data Analyst II       4    8     10        5         2   \n",
       "\n",
       "   number_of_job_openings  \n",
       "0                  405     \n",
       "1                  120     \n",
       "2                   47     \n",
       "3                   28     \n",
       "4                   17     \n",
       "5                   17     \n",
       "6                   16     \n",
       "7                   15     \n",
       "8                   13     \n",
       "9                   12     "
      ]
     },
     "execution_count": 24,
     "metadata": {},
     "output_type": "execute_result"
    }
   ],
   "source": [
    "df_copy = data_analyst[['Job Title','python', 'sql','excel','tableau', 'power bi']].copy()\n",
    "technology = df_copy.groupby('Job Title')[['python', 'sql','excel','tableau', 'power bi']].sum().sort_values(by='python', ascending=False).head(10)\n",
    "df_technology = pd.DataFrame(technology)\n",
    "df_technology.reset_index(inplace=True)\n",
    "df_technology['number_of_job_openings'] = data_analyst['Job Title'].value_counts()[:10].values\n",
    "df_technology"
   ]
  },
  {
   "cell_type": "code",
   "execution_count": 25,
   "id": "7916bdf4",
   "metadata": {
    "ExecuteTime": {
     "end_time": "2023-04-20T13:40:54.848264Z",
     "start_time": "2023-04-20T13:40:54.476855Z"
    }
   },
   "outputs": [
    {
     "data": {
      "application/vnd.plotly.v1+json": {
       "config": {
        "plotlyServerURL": "https://plot.ly"
       },
       "data": [
        {
         "alignmentgroup": "True",
         "hovertemplate": "variable=python<br>Job Title=%{x}<br>value=%{y}<extra></extra>",
         "legendgroup": "python",
         "marker": {
          "color": "#3366CC",
          "pattern": {
           "shape": ""
          }
         },
         "name": "python",
         "offsetgroup": "python",
         "orientation": "v",
         "showlegend": true,
         "textposition": "auto",
         "type": "bar",
         "x": [
          "Data Analyst",
          "Senior Data Analyst",
          "Business Data Analyst",
          "Lead Data Analyst",
          "NY Healthcare Data/Reporting Analyst",
          "Marketing Data Analyst",
          "Data Analyst III (Healthcare Analytics)",
          "Healthcare Data/Reporting Analyst",
          "Data Analyst, Data & Analytics (Advanced Analytics) Manager (Multiple Positions)",
          "Data Analyst II"
         ],
         "xaxis": "x",
         "y": [
          125,
          68,
          11,
          5,
          5,
          5,
          5,
          4,
          4,
          4
         ],
         "yaxis": "y"
        },
        {
         "alignmentgroup": "True",
         "hovertemplate": "variable=sql<br>Job Title=%{x}<br>value=%{y}<extra></extra>",
         "legendgroup": "sql",
         "marker": {
          "color": "#DC3912",
          "pattern": {
           "shape": ""
          }
         },
         "name": "sql",
         "offsetgroup": "sql",
         "orientation": "v",
         "showlegend": true,
         "textposition": "auto",
         "type": "bar",
         "x": [
          "Data Analyst",
          "Senior Data Analyst",
          "Business Data Analyst",
          "Lead Data Analyst",
          "NY Healthcare Data/Reporting Analyst",
          "Marketing Data Analyst",
          "Data Analyst III (Healthcare Analytics)",
          "Healthcare Data/Reporting Analyst",
          "Data Analyst, Data & Analytics (Advanced Analytics) Manager (Multiple Positions)",
          "Data Analyst II"
         ],
         "xaxis": "x",
         "y": [
          301,
          104,
          21,
          13,
          5,
          9,
          5,
          4,
          4,
          8
         ],
         "yaxis": "y"
        },
        {
         "alignmentgroup": "True",
         "hovertemplate": "variable=excel<br>Job Title=%{x}<br>value=%{y}<extra></extra>",
         "legendgroup": "excel",
         "marker": {
          "color": "#FF9900",
          "pattern": {
           "shape": ""
          }
         },
         "name": "excel",
         "offsetgroup": "excel",
         "orientation": "v",
         "showlegend": true,
         "textposition": "auto",
         "type": "bar",
         "x": [
          "Data Analyst",
          "Senior Data Analyst",
          "Business Data Analyst",
          "Lead Data Analyst",
          "NY Healthcare Data/Reporting Analyst",
          "Marketing Data Analyst",
          "Data Analyst III (Healthcare Analytics)",
          "Healthcare Data/Reporting Analyst",
          "Data Analyst, Data & Analytics (Advanced Analytics) Manager (Multiple Positions)",
          "Data Analyst II"
         ],
         "xaxis": "x",
         "y": [
          239,
          66,
          17,
          7,
          5,
          6,
          5,
          4,
          0,
          10
         ],
         "yaxis": "y"
        },
        {
         "alignmentgroup": "True",
         "hovertemplate": "variable=tableau<br>Job Title=%{x}<br>value=%{y}<extra></extra>",
         "legendgroup": "tableau",
         "marker": {
          "color": "#109618",
          "pattern": {
           "shape": ""
          }
         },
         "name": "tableau",
         "offsetgroup": "tableau",
         "orientation": "v",
         "showlegend": true,
         "textposition": "auto",
         "type": "bar",
         "x": [
          "Data Analyst",
          "Senior Data Analyst",
          "Business Data Analyst",
          "Lead Data Analyst",
          "NY Healthcare Data/Reporting Analyst",
          "Marketing Data Analyst",
          "Data Analyst III (Healthcare Analytics)",
          "Healthcare Data/Reporting Analyst",
          "Data Analyst, Data & Analytics (Advanced Analytics) Manager (Multiple Positions)",
          "Data Analyst II"
         ],
         "xaxis": "x",
         "y": [
          110,
          64,
          11,
          10,
          5,
          5,
          5,
          4,
          4,
          5
         ],
         "yaxis": "y"
        },
        {
         "alignmentgroup": "True",
         "hovertemplate": "variable=power bi<br>Job Title=%{x}<br>value=%{y}<extra></extra>",
         "legendgroup": "power bi",
         "marker": {
          "color": "#990099",
          "pattern": {
           "shape": ""
          }
         },
         "name": "power bi",
         "offsetgroup": "power bi",
         "orientation": "v",
         "showlegend": true,
         "textposition": "auto",
         "type": "bar",
         "x": [
          "Data Analyst",
          "Senior Data Analyst",
          "Business Data Analyst",
          "Lead Data Analyst",
          "NY Healthcare Data/Reporting Analyst",
          "Marketing Data Analyst",
          "Data Analyst III (Healthcare Analytics)",
          "Healthcare Data/Reporting Analyst",
          "Data Analyst, Data & Analytics (Advanced Analytics) Manager (Multiple Positions)",
          "Data Analyst II"
         ],
         "xaxis": "x",
         "y": [
          39,
          17,
          3,
          6,
          0,
          0,
          0,
          0,
          4,
          2
         ],
         "yaxis": "y"
        }
       ],
       "layout": {
        "barmode": "relative",
        "font": {
         "color": "black",
         "family": "Courier New, monospace",
         "size": 14
        },
        "height": 1000,
        "legend": {
         "title": {
          "text": "technologies"
         },
         "tracegroupgap": 0
        },
        "margin": {
         "t": 60
        },
        "template": {
         "data": {
          "bar": [
           {
            "error_x": {
             "color": "#2a3f5f"
            },
            "error_y": {
             "color": "#2a3f5f"
            },
            "marker": {
             "line": {
              "color": "#E5ECF6",
              "width": 0.5
             },
             "pattern": {
              "fillmode": "overlay",
              "size": 10,
              "solidity": 0.2
             }
            },
            "type": "bar"
           }
          ],
          "barpolar": [
           {
            "marker": {
             "line": {
              "color": "#E5ECF6",
              "width": 0.5
             },
             "pattern": {
              "fillmode": "overlay",
              "size": 10,
              "solidity": 0.2
             }
            },
            "type": "barpolar"
           }
          ],
          "carpet": [
           {
            "aaxis": {
             "endlinecolor": "#2a3f5f",
             "gridcolor": "white",
             "linecolor": "white",
             "minorgridcolor": "white",
             "startlinecolor": "#2a3f5f"
            },
            "baxis": {
             "endlinecolor": "#2a3f5f",
             "gridcolor": "white",
             "linecolor": "white",
             "minorgridcolor": "white",
             "startlinecolor": "#2a3f5f"
            },
            "type": "carpet"
           }
          ],
          "choropleth": [
           {
            "colorbar": {
             "outlinewidth": 0,
             "ticks": ""
            },
            "type": "choropleth"
           }
          ],
          "contour": [
           {
            "colorbar": {
             "outlinewidth": 0,
             "ticks": ""
            },
            "colorscale": [
             [
              0,
              "#0d0887"
             ],
             [
              0.1111111111111111,
              "#46039f"
             ],
             [
              0.2222222222222222,
              "#7201a8"
             ],
             [
              0.3333333333333333,
              "#9c179e"
             ],
             [
              0.4444444444444444,
              "#bd3786"
             ],
             [
              0.5555555555555556,
              "#d8576b"
             ],
             [
              0.6666666666666666,
              "#ed7953"
             ],
             [
              0.7777777777777778,
              "#fb9f3a"
             ],
             [
              0.8888888888888888,
              "#fdca26"
             ],
             [
              1,
              "#f0f921"
             ]
            ],
            "type": "contour"
           }
          ],
          "contourcarpet": [
           {
            "colorbar": {
             "outlinewidth": 0,
             "ticks": ""
            },
            "type": "contourcarpet"
           }
          ],
          "heatmap": [
           {
            "colorbar": {
             "outlinewidth": 0,
             "ticks": ""
            },
            "colorscale": [
             [
              0,
              "#0d0887"
             ],
             [
              0.1111111111111111,
              "#46039f"
             ],
             [
              0.2222222222222222,
              "#7201a8"
             ],
             [
              0.3333333333333333,
              "#9c179e"
             ],
             [
              0.4444444444444444,
              "#bd3786"
             ],
             [
              0.5555555555555556,
              "#d8576b"
             ],
             [
              0.6666666666666666,
              "#ed7953"
             ],
             [
              0.7777777777777778,
              "#fb9f3a"
             ],
             [
              0.8888888888888888,
              "#fdca26"
             ],
             [
              1,
              "#f0f921"
             ]
            ],
            "type": "heatmap"
           }
          ],
          "heatmapgl": [
           {
            "colorbar": {
             "outlinewidth": 0,
             "ticks": ""
            },
            "colorscale": [
             [
              0,
              "#0d0887"
             ],
             [
              0.1111111111111111,
              "#46039f"
             ],
             [
              0.2222222222222222,
              "#7201a8"
             ],
             [
              0.3333333333333333,
              "#9c179e"
             ],
             [
              0.4444444444444444,
              "#bd3786"
             ],
             [
              0.5555555555555556,
              "#d8576b"
             ],
             [
              0.6666666666666666,
              "#ed7953"
             ],
             [
              0.7777777777777778,
              "#fb9f3a"
             ],
             [
              0.8888888888888888,
              "#fdca26"
             ],
             [
              1,
              "#f0f921"
             ]
            ],
            "type": "heatmapgl"
           }
          ],
          "histogram": [
           {
            "marker": {
             "pattern": {
              "fillmode": "overlay",
              "size": 10,
              "solidity": 0.2
             }
            },
            "type": "histogram"
           }
          ],
          "histogram2d": [
           {
            "colorbar": {
             "outlinewidth": 0,
             "ticks": ""
            },
            "colorscale": [
             [
              0,
              "#0d0887"
             ],
             [
              0.1111111111111111,
              "#46039f"
             ],
             [
              0.2222222222222222,
              "#7201a8"
             ],
             [
              0.3333333333333333,
              "#9c179e"
             ],
             [
              0.4444444444444444,
              "#bd3786"
             ],
             [
              0.5555555555555556,
              "#d8576b"
             ],
             [
              0.6666666666666666,
              "#ed7953"
             ],
             [
              0.7777777777777778,
              "#fb9f3a"
             ],
             [
              0.8888888888888888,
              "#fdca26"
             ],
             [
              1,
              "#f0f921"
             ]
            ],
            "type": "histogram2d"
           }
          ],
          "histogram2dcontour": [
           {
            "colorbar": {
             "outlinewidth": 0,
             "ticks": ""
            },
            "colorscale": [
             [
              0,
              "#0d0887"
             ],
             [
              0.1111111111111111,
              "#46039f"
             ],
             [
              0.2222222222222222,
              "#7201a8"
             ],
             [
              0.3333333333333333,
              "#9c179e"
             ],
             [
              0.4444444444444444,
              "#bd3786"
             ],
             [
              0.5555555555555556,
              "#d8576b"
             ],
             [
              0.6666666666666666,
              "#ed7953"
             ],
             [
              0.7777777777777778,
              "#fb9f3a"
             ],
             [
              0.8888888888888888,
              "#fdca26"
             ],
             [
              1,
              "#f0f921"
             ]
            ],
            "type": "histogram2dcontour"
           }
          ],
          "mesh3d": [
           {
            "colorbar": {
             "outlinewidth": 0,
             "ticks": ""
            },
            "type": "mesh3d"
           }
          ],
          "parcoords": [
           {
            "line": {
             "colorbar": {
              "outlinewidth": 0,
              "ticks": ""
             }
            },
            "type": "parcoords"
           }
          ],
          "pie": [
           {
            "automargin": true,
            "type": "pie"
           }
          ],
          "scatter": [
           {
            "fillpattern": {
             "fillmode": "overlay",
             "size": 10,
             "solidity": 0.2
            },
            "type": "scatter"
           }
          ],
          "scatter3d": [
           {
            "line": {
             "colorbar": {
              "outlinewidth": 0,
              "ticks": ""
             }
            },
            "marker": {
             "colorbar": {
              "outlinewidth": 0,
              "ticks": ""
             }
            },
            "type": "scatter3d"
           }
          ],
          "scattercarpet": [
           {
            "marker": {
             "colorbar": {
              "outlinewidth": 0,
              "ticks": ""
             }
            },
            "type": "scattercarpet"
           }
          ],
          "scattergeo": [
           {
            "marker": {
             "colorbar": {
              "outlinewidth": 0,
              "ticks": ""
             }
            },
            "type": "scattergeo"
           }
          ],
          "scattergl": [
           {
            "marker": {
             "colorbar": {
              "outlinewidth": 0,
              "ticks": ""
             }
            },
            "type": "scattergl"
           }
          ],
          "scattermapbox": [
           {
            "marker": {
             "colorbar": {
              "outlinewidth": 0,
              "ticks": ""
             }
            },
            "type": "scattermapbox"
           }
          ],
          "scatterpolar": [
           {
            "marker": {
             "colorbar": {
              "outlinewidth": 0,
              "ticks": ""
             }
            },
            "type": "scatterpolar"
           }
          ],
          "scatterpolargl": [
           {
            "marker": {
             "colorbar": {
              "outlinewidth": 0,
              "ticks": ""
             }
            },
            "type": "scatterpolargl"
           }
          ],
          "scatterternary": [
           {
            "marker": {
             "colorbar": {
              "outlinewidth": 0,
              "ticks": ""
             }
            },
            "type": "scatterternary"
           }
          ],
          "surface": [
           {
            "colorbar": {
             "outlinewidth": 0,
             "ticks": ""
            },
            "colorscale": [
             [
              0,
              "#0d0887"
             ],
             [
              0.1111111111111111,
              "#46039f"
             ],
             [
              0.2222222222222222,
              "#7201a8"
             ],
             [
              0.3333333333333333,
              "#9c179e"
             ],
             [
              0.4444444444444444,
              "#bd3786"
             ],
             [
              0.5555555555555556,
              "#d8576b"
             ],
             [
              0.6666666666666666,
              "#ed7953"
             ],
             [
              0.7777777777777778,
              "#fb9f3a"
             ],
             [
              0.8888888888888888,
              "#fdca26"
             ],
             [
              1,
              "#f0f921"
             ]
            ],
            "type": "surface"
           }
          ],
          "table": [
           {
            "cells": {
             "fill": {
              "color": "#EBF0F8"
             },
             "line": {
              "color": "white"
             }
            },
            "header": {
             "fill": {
              "color": "#C8D4E3"
             },
             "line": {
              "color": "white"
             }
            },
            "type": "table"
           }
          ]
         },
         "layout": {
          "annotationdefaults": {
           "arrowcolor": "#2a3f5f",
           "arrowhead": 0,
           "arrowwidth": 1
          },
          "autotypenumbers": "strict",
          "coloraxis": {
           "colorbar": {
            "outlinewidth": 0,
            "ticks": ""
           }
          },
          "colorscale": {
           "diverging": [
            [
             0,
             "#8e0152"
            ],
            [
             0.1,
             "#c51b7d"
            ],
            [
             0.2,
             "#de77ae"
            ],
            [
             0.3,
             "#f1b6da"
            ],
            [
             0.4,
             "#fde0ef"
            ],
            [
             0.5,
             "#f7f7f7"
            ],
            [
             0.6,
             "#e6f5d0"
            ],
            [
             0.7,
             "#b8e186"
            ],
            [
             0.8,
             "#7fbc41"
            ],
            [
             0.9,
             "#4d9221"
            ],
            [
             1,
             "#276419"
            ]
           ],
           "sequential": [
            [
             0,
             "#0d0887"
            ],
            [
             0.1111111111111111,
             "#46039f"
            ],
            [
             0.2222222222222222,
             "#7201a8"
            ],
            [
             0.3333333333333333,
             "#9c179e"
            ],
            [
             0.4444444444444444,
             "#bd3786"
            ],
            [
             0.5555555555555556,
             "#d8576b"
            ],
            [
             0.6666666666666666,
             "#ed7953"
            ],
            [
             0.7777777777777778,
             "#fb9f3a"
            ],
            [
             0.8888888888888888,
             "#fdca26"
            ],
            [
             1,
             "#f0f921"
            ]
           ],
           "sequentialminus": [
            [
             0,
             "#0d0887"
            ],
            [
             0.1111111111111111,
             "#46039f"
            ],
            [
             0.2222222222222222,
             "#7201a8"
            ],
            [
             0.3333333333333333,
             "#9c179e"
            ],
            [
             0.4444444444444444,
             "#bd3786"
            ],
            [
             0.5555555555555556,
             "#d8576b"
            ],
            [
             0.6666666666666666,
             "#ed7953"
            ],
            [
             0.7777777777777778,
             "#fb9f3a"
            ],
            [
             0.8888888888888888,
             "#fdca26"
            ],
            [
             1,
             "#f0f921"
            ]
           ]
          },
          "colorway": [
           "#636efa",
           "#EF553B",
           "#00cc96",
           "#ab63fa",
           "#FFA15A",
           "#19d3f3",
           "#FF6692",
           "#B6E880",
           "#FF97FF",
           "#FECB52"
          ],
          "font": {
           "color": "#2a3f5f"
          },
          "geo": {
           "bgcolor": "white",
           "lakecolor": "white",
           "landcolor": "#E5ECF6",
           "showlakes": true,
           "showland": true,
           "subunitcolor": "white"
          },
          "hoverlabel": {
           "align": "left"
          },
          "hovermode": "closest",
          "mapbox": {
           "style": "light"
          },
          "paper_bgcolor": "white",
          "plot_bgcolor": "#E5ECF6",
          "polar": {
           "angularaxis": {
            "gridcolor": "white",
            "linecolor": "white",
            "ticks": ""
           },
           "bgcolor": "#E5ECF6",
           "radialaxis": {
            "gridcolor": "white",
            "linecolor": "white",
            "ticks": ""
           }
          },
          "scene": {
           "xaxis": {
            "backgroundcolor": "#E5ECF6",
            "gridcolor": "white",
            "gridwidth": 2,
            "linecolor": "white",
            "showbackground": true,
            "ticks": "",
            "zerolinecolor": "white"
           },
           "yaxis": {
            "backgroundcolor": "#E5ECF6",
            "gridcolor": "white",
            "gridwidth": 2,
            "linecolor": "white",
            "showbackground": true,
            "ticks": "",
            "zerolinecolor": "white"
           },
           "zaxis": {
            "backgroundcolor": "#E5ECF6",
            "gridcolor": "white",
            "gridwidth": 2,
            "linecolor": "white",
            "showbackground": true,
            "ticks": "",
            "zerolinecolor": "white"
           }
          },
          "shapedefaults": {
           "line": {
            "color": "#2a3f5f"
           }
          },
          "ternary": {
           "aaxis": {
            "gridcolor": "white",
            "linecolor": "white",
            "ticks": ""
           },
           "baxis": {
            "gridcolor": "white",
            "linecolor": "white",
            "ticks": ""
           },
           "bgcolor": "#E5ECF6",
           "caxis": {
            "gridcolor": "white",
            "linecolor": "white",
            "ticks": ""
           }
          },
          "title": {
           "x": 0.05
          },
          "xaxis": {
           "automargin": true,
           "gridcolor": "white",
           "linecolor": "white",
           "ticks": "",
           "title": {
            "standoff": 15
           },
           "zerolinecolor": "white",
           "zerolinewidth": 2
          },
          "yaxis": {
           "automargin": true,
           "gridcolor": "white",
           "linecolor": "white",
           "ticks": "",
           "title": {
            "standoff": 15
           },
           "zerolinecolor": "white",
           "zerolinewidth": 2
          }
         }
        },
        "title": {
         "text": "Number of job openings by Job Title with technologies"
        },
        "width": 1400,
        "xaxis": {
         "anchor": "y",
         "domain": [
          0,
          1
         ],
         "title": {
          "text": "job title"
         }
        },
        "yaxis": {
         "anchor": "x",
         "domain": [
          0,
          1
         ],
         "title": {
          "text": "count"
         }
        }
       }
      },
      "text/html": [
       "<div>                            <div id=\"7a4c0437-6581-4e01-a28f-1e1343767256\" class=\"plotly-graph-div\" style=\"height:1000px; width:1400px;\"></div>            <script type=\"text/javascript\">                require([\"plotly\"], function(Plotly) {                    window.PLOTLYENV=window.PLOTLYENV || {};                                    if (document.getElementById(\"7a4c0437-6581-4e01-a28f-1e1343767256\")) {                    Plotly.newPlot(                        \"7a4c0437-6581-4e01-a28f-1e1343767256\",                        [{\"alignmentgroup\":\"True\",\"hovertemplate\":\"variable=python<br>Job Title=%{x}<br>value=%{y}<extra></extra>\",\"legendgroup\":\"python\",\"marker\":{\"color\":\"#3366CC\",\"pattern\":{\"shape\":\"\"}},\"name\":\"python\",\"offsetgroup\":\"python\",\"orientation\":\"v\",\"showlegend\":true,\"textposition\":\"auto\",\"x\":[\"Data Analyst\",\"Senior Data Analyst\",\"Business Data Analyst\",\"Lead Data Analyst\",\"NY Healthcare Data/Reporting Analyst\",\"Marketing Data Analyst\",\"Data Analyst III (Healthcare Analytics)\",\"Healthcare Data/Reporting Analyst\",\"Data Analyst, Data & Analytics (Advanced Analytics) Manager (Multiple Positions)\",\"Data Analyst II\"],\"xaxis\":\"x\",\"y\":[125,68,11,5,5,5,5,4,4,4],\"yaxis\":\"y\",\"type\":\"bar\"},{\"alignmentgroup\":\"True\",\"hovertemplate\":\"variable=sql<br>Job Title=%{x}<br>value=%{y}<extra></extra>\",\"legendgroup\":\"sql\",\"marker\":{\"color\":\"#DC3912\",\"pattern\":{\"shape\":\"\"}},\"name\":\"sql\",\"offsetgroup\":\"sql\",\"orientation\":\"v\",\"showlegend\":true,\"textposition\":\"auto\",\"x\":[\"Data Analyst\",\"Senior Data Analyst\",\"Business Data Analyst\",\"Lead Data Analyst\",\"NY Healthcare Data/Reporting Analyst\",\"Marketing Data Analyst\",\"Data Analyst III (Healthcare Analytics)\",\"Healthcare Data/Reporting Analyst\",\"Data Analyst, Data & Analytics (Advanced Analytics) Manager (Multiple Positions)\",\"Data Analyst II\"],\"xaxis\":\"x\",\"y\":[301,104,21,13,5,9,5,4,4,8],\"yaxis\":\"y\",\"type\":\"bar\"},{\"alignmentgroup\":\"True\",\"hovertemplate\":\"variable=excel<br>Job Title=%{x}<br>value=%{y}<extra></extra>\",\"legendgroup\":\"excel\",\"marker\":{\"color\":\"#FF9900\",\"pattern\":{\"shape\":\"\"}},\"name\":\"excel\",\"offsetgroup\":\"excel\",\"orientation\":\"v\",\"showlegend\":true,\"textposition\":\"auto\",\"x\":[\"Data Analyst\",\"Senior Data Analyst\",\"Business Data Analyst\",\"Lead Data Analyst\",\"NY Healthcare Data/Reporting Analyst\",\"Marketing Data Analyst\",\"Data Analyst III (Healthcare Analytics)\",\"Healthcare Data/Reporting Analyst\",\"Data Analyst, Data & Analytics (Advanced Analytics) Manager (Multiple Positions)\",\"Data Analyst II\"],\"xaxis\":\"x\",\"y\":[239,66,17,7,5,6,5,4,0,10],\"yaxis\":\"y\",\"type\":\"bar\"},{\"alignmentgroup\":\"True\",\"hovertemplate\":\"variable=tableau<br>Job Title=%{x}<br>value=%{y}<extra></extra>\",\"legendgroup\":\"tableau\",\"marker\":{\"color\":\"#109618\",\"pattern\":{\"shape\":\"\"}},\"name\":\"tableau\",\"offsetgroup\":\"tableau\",\"orientation\":\"v\",\"showlegend\":true,\"textposition\":\"auto\",\"x\":[\"Data Analyst\",\"Senior Data Analyst\",\"Business Data Analyst\",\"Lead Data Analyst\",\"NY Healthcare Data/Reporting Analyst\",\"Marketing Data Analyst\",\"Data Analyst III (Healthcare Analytics)\",\"Healthcare Data/Reporting Analyst\",\"Data Analyst, Data & Analytics (Advanced Analytics) Manager (Multiple Positions)\",\"Data Analyst II\"],\"xaxis\":\"x\",\"y\":[110,64,11,10,5,5,5,4,4,5],\"yaxis\":\"y\",\"type\":\"bar\"},{\"alignmentgroup\":\"True\",\"hovertemplate\":\"variable=power bi<br>Job Title=%{x}<br>value=%{y}<extra></extra>\",\"legendgroup\":\"power bi\",\"marker\":{\"color\":\"#990099\",\"pattern\":{\"shape\":\"\"}},\"name\":\"power bi\",\"offsetgroup\":\"power bi\",\"orientation\":\"v\",\"showlegend\":true,\"textposition\":\"auto\",\"x\":[\"Data Analyst\",\"Senior Data Analyst\",\"Business Data Analyst\",\"Lead Data Analyst\",\"NY Healthcare Data/Reporting Analyst\",\"Marketing Data Analyst\",\"Data Analyst III (Healthcare Analytics)\",\"Healthcare Data/Reporting Analyst\",\"Data Analyst, Data & Analytics (Advanced Analytics) Manager (Multiple Positions)\",\"Data Analyst II\"],\"xaxis\":\"x\",\"y\":[39,17,3,6,0,0,0,0,4,2],\"yaxis\":\"y\",\"type\":\"bar\"}],                        {\"template\":{\"data\":{\"histogram2dcontour\":[{\"type\":\"histogram2dcontour\",\"colorbar\":{\"outlinewidth\":0,\"ticks\":\"\"},\"colorscale\":[[0.0,\"#0d0887\"],[0.1111111111111111,\"#46039f\"],[0.2222222222222222,\"#7201a8\"],[0.3333333333333333,\"#9c179e\"],[0.4444444444444444,\"#bd3786\"],[0.5555555555555556,\"#d8576b\"],[0.6666666666666666,\"#ed7953\"],[0.7777777777777778,\"#fb9f3a\"],[0.8888888888888888,\"#fdca26\"],[1.0,\"#f0f921\"]]}],\"choropleth\":[{\"type\":\"choropleth\",\"colorbar\":{\"outlinewidth\":0,\"ticks\":\"\"}}],\"histogram2d\":[{\"type\":\"histogram2d\",\"colorbar\":{\"outlinewidth\":0,\"ticks\":\"\"},\"colorscale\":[[0.0,\"#0d0887\"],[0.1111111111111111,\"#46039f\"],[0.2222222222222222,\"#7201a8\"],[0.3333333333333333,\"#9c179e\"],[0.4444444444444444,\"#bd3786\"],[0.5555555555555556,\"#d8576b\"],[0.6666666666666666,\"#ed7953\"],[0.7777777777777778,\"#fb9f3a\"],[0.8888888888888888,\"#fdca26\"],[1.0,\"#f0f921\"]]}],\"heatmap\":[{\"type\":\"heatmap\",\"colorbar\":{\"outlinewidth\":0,\"ticks\":\"\"},\"colorscale\":[[0.0,\"#0d0887\"],[0.1111111111111111,\"#46039f\"],[0.2222222222222222,\"#7201a8\"],[0.3333333333333333,\"#9c179e\"],[0.4444444444444444,\"#bd3786\"],[0.5555555555555556,\"#d8576b\"],[0.6666666666666666,\"#ed7953\"],[0.7777777777777778,\"#fb9f3a\"],[0.8888888888888888,\"#fdca26\"],[1.0,\"#f0f921\"]]}],\"heatmapgl\":[{\"type\":\"heatmapgl\",\"colorbar\":{\"outlinewidth\":0,\"ticks\":\"\"},\"colorscale\":[[0.0,\"#0d0887\"],[0.1111111111111111,\"#46039f\"],[0.2222222222222222,\"#7201a8\"],[0.3333333333333333,\"#9c179e\"],[0.4444444444444444,\"#bd3786\"],[0.5555555555555556,\"#d8576b\"],[0.6666666666666666,\"#ed7953\"],[0.7777777777777778,\"#fb9f3a\"],[0.8888888888888888,\"#fdca26\"],[1.0,\"#f0f921\"]]}],\"contourcarpet\":[{\"type\":\"contourcarpet\",\"colorbar\":{\"outlinewidth\":0,\"ticks\":\"\"}}],\"contour\":[{\"type\":\"contour\",\"colorbar\":{\"outlinewidth\":0,\"ticks\":\"\"},\"colorscale\":[[0.0,\"#0d0887\"],[0.1111111111111111,\"#46039f\"],[0.2222222222222222,\"#7201a8\"],[0.3333333333333333,\"#9c179e\"],[0.4444444444444444,\"#bd3786\"],[0.5555555555555556,\"#d8576b\"],[0.6666666666666666,\"#ed7953\"],[0.7777777777777778,\"#fb9f3a\"],[0.8888888888888888,\"#fdca26\"],[1.0,\"#f0f921\"]]}],\"surface\":[{\"type\":\"surface\",\"colorbar\":{\"outlinewidth\":0,\"ticks\":\"\"},\"colorscale\":[[0.0,\"#0d0887\"],[0.1111111111111111,\"#46039f\"],[0.2222222222222222,\"#7201a8\"],[0.3333333333333333,\"#9c179e\"],[0.4444444444444444,\"#bd3786\"],[0.5555555555555556,\"#d8576b\"],[0.6666666666666666,\"#ed7953\"],[0.7777777777777778,\"#fb9f3a\"],[0.8888888888888888,\"#fdca26\"],[1.0,\"#f0f921\"]]}],\"mesh3d\":[{\"type\":\"mesh3d\",\"colorbar\":{\"outlinewidth\":0,\"ticks\":\"\"}}],\"scatter\":[{\"fillpattern\":{\"fillmode\":\"overlay\",\"size\":10,\"solidity\":0.2},\"type\":\"scatter\"}],\"parcoords\":[{\"type\":\"parcoords\",\"line\":{\"colorbar\":{\"outlinewidth\":0,\"ticks\":\"\"}}}],\"scatterpolargl\":[{\"type\":\"scatterpolargl\",\"marker\":{\"colorbar\":{\"outlinewidth\":0,\"ticks\":\"\"}}}],\"bar\":[{\"error_x\":{\"color\":\"#2a3f5f\"},\"error_y\":{\"color\":\"#2a3f5f\"},\"marker\":{\"line\":{\"color\":\"#E5ECF6\",\"width\":0.5},\"pattern\":{\"fillmode\":\"overlay\",\"size\":10,\"solidity\":0.2}},\"type\":\"bar\"}],\"scattergeo\":[{\"type\":\"scattergeo\",\"marker\":{\"colorbar\":{\"outlinewidth\":0,\"ticks\":\"\"}}}],\"scatterpolar\":[{\"type\":\"scatterpolar\",\"marker\":{\"colorbar\":{\"outlinewidth\":0,\"ticks\":\"\"}}}],\"histogram\":[{\"marker\":{\"pattern\":{\"fillmode\":\"overlay\",\"size\":10,\"solidity\":0.2}},\"type\":\"histogram\"}],\"scattergl\":[{\"type\":\"scattergl\",\"marker\":{\"colorbar\":{\"outlinewidth\":0,\"ticks\":\"\"}}}],\"scatter3d\":[{\"type\":\"scatter3d\",\"line\":{\"colorbar\":{\"outlinewidth\":0,\"ticks\":\"\"}},\"marker\":{\"colorbar\":{\"outlinewidth\":0,\"ticks\":\"\"}}}],\"scattermapbox\":[{\"type\":\"scattermapbox\",\"marker\":{\"colorbar\":{\"outlinewidth\":0,\"ticks\":\"\"}}}],\"scatterternary\":[{\"type\":\"scatterternary\",\"marker\":{\"colorbar\":{\"outlinewidth\":0,\"ticks\":\"\"}}}],\"scattercarpet\":[{\"type\":\"scattercarpet\",\"marker\":{\"colorbar\":{\"outlinewidth\":0,\"ticks\":\"\"}}}],\"carpet\":[{\"aaxis\":{\"endlinecolor\":\"#2a3f5f\",\"gridcolor\":\"white\",\"linecolor\":\"white\",\"minorgridcolor\":\"white\",\"startlinecolor\":\"#2a3f5f\"},\"baxis\":{\"endlinecolor\":\"#2a3f5f\",\"gridcolor\":\"white\",\"linecolor\":\"white\",\"minorgridcolor\":\"white\",\"startlinecolor\":\"#2a3f5f\"},\"type\":\"carpet\"}],\"table\":[{\"cells\":{\"fill\":{\"color\":\"#EBF0F8\"},\"line\":{\"color\":\"white\"}},\"header\":{\"fill\":{\"color\":\"#C8D4E3\"},\"line\":{\"color\":\"white\"}},\"type\":\"table\"}],\"barpolar\":[{\"marker\":{\"line\":{\"color\":\"#E5ECF6\",\"width\":0.5},\"pattern\":{\"fillmode\":\"overlay\",\"size\":10,\"solidity\":0.2}},\"type\":\"barpolar\"}],\"pie\":[{\"automargin\":true,\"type\":\"pie\"}]},\"layout\":{\"autotypenumbers\":\"strict\",\"colorway\":[\"#636efa\",\"#EF553B\",\"#00cc96\",\"#ab63fa\",\"#FFA15A\",\"#19d3f3\",\"#FF6692\",\"#B6E880\",\"#FF97FF\",\"#FECB52\"],\"font\":{\"color\":\"#2a3f5f\"},\"hovermode\":\"closest\",\"hoverlabel\":{\"align\":\"left\"},\"paper_bgcolor\":\"white\",\"plot_bgcolor\":\"#E5ECF6\",\"polar\":{\"bgcolor\":\"#E5ECF6\",\"angularaxis\":{\"gridcolor\":\"white\",\"linecolor\":\"white\",\"ticks\":\"\"},\"radialaxis\":{\"gridcolor\":\"white\",\"linecolor\":\"white\",\"ticks\":\"\"}},\"ternary\":{\"bgcolor\":\"#E5ECF6\",\"aaxis\":{\"gridcolor\":\"white\",\"linecolor\":\"white\",\"ticks\":\"\"},\"baxis\":{\"gridcolor\":\"white\",\"linecolor\":\"white\",\"ticks\":\"\"},\"caxis\":{\"gridcolor\":\"white\",\"linecolor\":\"white\",\"ticks\":\"\"}},\"coloraxis\":{\"colorbar\":{\"outlinewidth\":0,\"ticks\":\"\"}},\"colorscale\":{\"sequential\":[[0.0,\"#0d0887\"],[0.1111111111111111,\"#46039f\"],[0.2222222222222222,\"#7201a8\"],[0.3333333333333333,\"#9c179e\"],[0.4444444444444444,\"#bd3786\"],[0.5555555555555556,\"#d8576b\"],[0.6666666666666666,\"#ed7953\"],[0.7777777777777778,\"#fb9f3a\"],[0.8888888888888888,\"#fdca26\"],[1.0,\"#f0f921\"]],\"sequentialminus\":[[0.0,\"#0d0887\"],[0.1111111111111111,\"#46039f\"],[0.2222222222222222,\"#7201a8\"],[0.3333333333333333,\"#9c179e\"],[0.4444444444444444,\"#bd3786\"],[0.5555555555555556,\"#d8576b\"],[0.6666666666666666,\"#ed7953\"],[0.7777777777777778,\"#fb9f3a\"],[0.8888888888888888,\"#fdca26\"],[1.0,\"#f0f921\"]],\"diverging\":[[0,\"#8e0152\"],[0.1,\"#c51b7d\"],[0.2,\"#de77ae\"],[0.3,\"#f1b6da\"],[0.4,\"#fde0ef\"],[0.5,\"#f7f7f7\"],[0.6,\"#e6f5d0\"],[0.7,\"#b8e186\"],[0.8,\"#7fbc41\"],[0.9,\"#4d9221\"],[1,\"#276419\"]]},\"xaxis\":{\"gridcolor\":\"white\",\"linecolor\":\"white\",\"ticks\":\"\",\"title\":{\"standoff\":15},\"zerolinecolor\":\"white\",\"automargin\":true,\"zerolinewidth\":2},\"yaxis\":{\"gridcolor\":\"white\",\"linecolor\":\"white\",\"ticks\":\"\",\"title\":{\"standoff\":15},\"zerolinecolor\":\"white\",\"automargin\":true,\"zerolinewidth\":2},\"scene\":{\"xaxis\":{\"backgroundcolor\":\"#E5ECF6\",\"gridcolor\":\"white\",\"linecolor\":\"white\",\"showbackground\":true,\"ticks\":\"\",\"zerolinecolor\":\"white\",\"gridwidth\":2},\"yaxis\":{\"backgroundcolor\":\"#E5ECF6\",\"gridcolor\":\"white\",\"linecolor\":\"white\",\"showbackground\":true,\"ticks\":\"\",\"zerolinecolor\":\"white\",\"gridwidth\":2},\"zaxis\":{\"backgroundcolor\":\"#E5ECF6\",\"gridcolor\":\"white\",\"linecolor\":\"white\",\"showbackground\":true,\"ticks\":\"\",\"zerolinecolor\":\"white\",\"gridwidth\":2}},\"shapedefaults\":{\"line\":{\"color\":\"#2a3f5f\"}},\"annotationdefaults\":{\"arrowcolor\":\"#2a3f5f\",\"arrowhead\":0,\"arrowwidth\":1},\"geo\":{\"bgcolor\":\"white\",\"landcolor\":\"#E5ECF6\",\"subunitcolor\":\"white\",\"showland\":true,\"showlakes\":true,\"lakecolor\":\"white\"},\"title\":{\"x\":0.05},\"mapbox\":{\"style\":\"light\"}}},\"xaxis\":{\"anchor\":\"y\",\"domain\":[0.0,1.0],\"title\":{\"text\":\"job title\"}},\"yaxis\":{\"anchor\":\"x\",\"domain\":[0.0,1.0],\"title\":{\"text\":\"count\"}},\"legend\":{\"title\":{\"text\":\"technologies\"},\"tracegroupgap\":0},\"margin\":{\"t\":60},\"barmode\":\"relative\",\"title\":{\"text\":\"Number of job openings by Job Title with technologies\"},\"font\":{\"family\":\"Courier New, monospace\",\"size\":14,\"color\":\"black\"},\"height\":1000,\"width\":1400},                        {\"responsive\": true}                    ).then(function(){\n",
       "                            \n",
       "var gd = document.getElementById('7a4c0437-6581-4e01-a28f-1e1343767256');\n",
       "var x = new MutationObserver(function (mutations, observer) {{\n",
       "        var display = window.getComputedStyle(gd).display;\n",
       "        if (!display || display === 'none') {{\n",
       "            console.log([gd, 'removed!']);\n",
       "            Plotly.purge(gd);\n",
       "            observer.disconnect();\n",
       "        }}\n",
       "}});\n",
       "\n",
       "// Listen for the removal of the full notebook cells\n",
       "var notebookContainer = gd.closest('#notebook-container');\n",
       "if (notebookContainer) {{\n",
       "    x.observe(notebookContainer, {childList: true});\n",
       "}}\n",
       "\n",
       "// Listen for the clearing of the current output cell\n",
       "var outputEl = gd.closest('.output');\n",
       "if (outputEl) {{\n",
       "    x.observe(outputEl, {childList: true});\n",
       "}}\n",
       "\n",
       "                        })                };                });            </script>        </div>"
      ]
     },
     "metadata": {},
     "output_type": "display_data"
    }
   ],
   "source": [
    "fig = px.bar(df_technology, x='Job Title', y=['python', 'sql', 'excel', 'tableau',\n",
    "                                             'power bi'],\n",
    "            color_discrete_sequence=px.colors.qualitative.G10)\n",
    "\n",
    "fig.update_layout(\n",
    "    \n",
    "    height=1000, width=1400, title_text='Number of job openings by Job Title with technologies',\n",
    "    xaxis_title='job title', yaxis_title=\"count\",\n",
    "    legend_title='technologies',\n",
    "    \n",
    "    font=dict(\n",
    "            family=\"Courier New, monospace\",\n",
    "            size=14,\n",
    "            color=\"black\"\n",
    "        \n",
    "))\n",
    "\n",
    "\n",
    "fig.show()"
   ]
  },
  {
   "cell_type": "code",
   "execution_count": 26,
   "id": "230994c4",
   "metadata": {
    "ExecuteTime": {
     "end_time": "2023-04-20T13:41:13.715629Z",
     "start_time": "2023-04-20T13:41:13.704235Z"
    }
   },
   "outputs": [
    {
     "name": "stdout",
     "output_type": "stream",
     "text": [
      "The most commonly required skill is: 474\n"
     ]
    }
   ],
   "source": [
    "sorted_skills = sorted(df_technology[['python', 'sql', 'excel', 'tableau', 'power bi']].sum(), reverse=True)\n",
    "highest_skill = sorted_skills[0]\n",
    "print(\"The most commonly required skill is:\", highest_skill)\n"
   ]
  },
  {
   "cell_type": "code",
   "execution_count": 27,
   "id": "21c70100",
   "metadata": {
    "ExecuteTime": {
     "end_time": "2023-04-20T13:41:24.105874Z",
     "start_time": "2023-04-20T13:41:24.095857Z"
    }
   },
   "outputs": [
    {
     "name": "stdout",
     "output_type": "stream",
     "text": [
      "number_of_job_openings: 690\n",
      "sql: 474\n",
      "excel: 359\n",
      "python: 236\n",
      "tableau: 223\n",
      "power bi: 71\n"
     ]
    }
   ],
   "source": [
    "skills_count = df_technology.iloc[:,1:].sum().sort_values(ascending=False)\n",
    "\n",
    "for skill, count in skills_count.items():\n",
    "    print(f\"{skill}: {count}\")\n"
   ]
  },
  {
   "cell_type": "code",
   "execution_count": 28,
   "id": "a65929a8",
   "metadata": {
    "ExecuteTime": {
     "end_time": "2023-04-20T13:41:39.630213Z",
     "start_time": "2023-04-20T13:41:39.625335Z"
    }
   },
   "outputs": [],
   "source": [
    "#The most commonly skill required from this dataset was sql. This skill is required for all data set . "
   ]
  },
  {
   "cell_type": "markdown",
   "id": "cffd25d2",
   "metadata": {},
   "source": [
    "# Question 3 "
   ]
  },
  {
   "cell_type": "code",
   "execution_count": 29,
   "id": "b29bfb78",
   "metadata": {
    "ExecuteTime": {
     "end_time": "2023-04-20T13:42:27.776496Z",
     "start_time": "2023-04-20T13:42:27.766142Z"
    }
   },
   "outputs": [],
   "source": [
    "import numpy as np\n",
    "import pandas as pd\n",
    "import matplotlib.pyplot as plt\n",
    "import seaborn as sns\n",
    "import plotly.graph_objs as go\n",
    "import plotly.express as px\n",
    "from plotly.subplots import make_subplots \n",
    "\n",
    "from plotly.offline import init_notebook_mode, iplot"
   ]
  },
  {
   "cell_type": "code",
   "execution_count": 33,
   "id": "38ef16cf",
   "metadata": {
    "ExecuteTime": {
     "end_time": "2023-04-20T13:43:19.739197Z",
     "start_time": "2023-04-20T13:43:19.620694Z"
    }
   },
   "outputs": [],
   "source": [
    "# Load the data into a pandas DataFrame\n",
    "job = pd.read_csv(\"/Users/rutvajoshi/Downloads/DataAnalyst.csv\")"
   ]
  },
  {
   "cell_type": "code",
   "execution_count": 34,
   "id": "bd280a76",
   "metadata": {
    "ExecuteTime": {
     "end_time": "2023-04-20T13:43:24.178791Z",
     "start_time": "2023-04-20T13:43:24.156714Z"
    }
   },
   "outputs": [
    {
     "data": {
      "text/html": [
       "<div>\n",
       "<style scoped>\n",
       "    .dataframe tbody tr th:only-of-type {\n",
       "        vertical-align: middle;\n",
       "    }\n",
       "\n",
       "    .dataframe tbody tr th {\n",
       "        vertical-align: top;\n",
       "    }\n",
       "\n",
       "    .dataframe thead th {\n",
       "        text-align: right;\n",
       "    }\n",
       "</style>\n",
       "<table border=\"1\" class=\"dataframe\">\n",
       "  <thead>\n",
       "    <tr style=\"text-align: right;\">\n",
       "      <th></th>\n",
       "      <th>Unnamed: 0</th>\n",
       "      <th>Job Title</th>\n",
       "      <th>Salary Estimate</th>\n",
       "      <th>Job Description</th>\n",
       "      <th>Rating</th>\n",
       "      <th>Company Name</th>\n",
       "      <th>Location</th>\n",
       "      <th>Headquarters</th>\n",
       "      <th>Size</th>\n",
       "      <th>Founded</th>\n",
       "      <th>Type of ownership</th>\n",
       "      <th>Industry</th>\n",
       "      <th>Sector</th>\n",
       "      <th>Revenue</th>\n",
       "      <th>Competitors</th>\n",
       "      <th>Easy Apply</th>\n",
       "    </tr>\n",
       "  </thead>\n",
       "  <tbody>\n",
       "    <tr>\n",
       "      <th>0</th>\n",
       "      <td>0</td>\n",
       "      <td>Data Analyst, Ce...</td>\n",
       "      <td>$37K-$66K (Glass...</td>\n",
       "      <td>Are you eager to...</td>\n",
       "      <td>3.2</td>\n",
       "      <td>Vera Institute o...</td>\n",
       "      <td>New York, NY</td>\n",
       "      <td>New York, NY</td>\n",
       "      <td>201 to 500 emplo...</td>\n",
       "      <td>1961</td>\n",
       "      <td>Nonprofit Organi...</td>\n",
       "      <td>Social Assistance</td>\n",
       "      <td>Non-Profit</td>\n",
       "      <td>$100 to $500 mil...</td>\n",
       "      <td>-1</td>\n",
       "      <td>True</td>\n",
       "    </tr>\n",
       "    <tr>\n",
       "      <th>1</th>\n",
       "      <td>1</td>\n",
       "      <td>Quality Data Ana...</td>\n",
       "      <td>$37K-$66K (Glass...</td>\n",
       "      <td>Overview\\n\\nProv...</td>\n",
       "      <td>3.8</td>\n",
       "      <td>Visiting Nurse S...</td>\n",
       "      <td>New York, NY</td>\n",
       "      <td>New York, NY</td>\n",
       "      <td>10000+ employees</td>\n",
       "      <td>1893</td>\n",
       "      <td>Nonprofit Organi...</td>\n",
       "      <td>Health Care Serv...</td>\n",
       "      <td>Health Care</td>\n",
       "      <td>$2 to $5 billion...</td>\n",
       "      <td>-1</td>\n",
       "      <td>-1</td>\n",
       "    </tr>\n",
       "    <tr>\n",
       "      <th>2</th>\n",
       "      <td>2</td>\n",
       "      <td>Senior Data Anal...</td>\n",
       "      <td>$37K-$66K (Glass...</td>\n",
       "      <td>We’re looking fo...</td>\n",
       "      <td>3.4</td>\n",
       "      <td>Squarespace\\n3.4</td>\n",
       "      <td>New York, NY</td>\n",
       "      <td>New York, NY</td>\n",
       "      <td>1001 to 5000 emp...</td>\n",
       "      <td>2003</td>\n",
       "      <td>Company - Private</td>\n",
       "      <td>Internet</td>\n",
       "      <td>Information Tech...</td>\n",
       "      <td>Unknown / Non-Ap...</td>\n",
       "      <td>GoDaddy</td>\n",
       "      <td>-1</td>\n",
       "    </tr>\n",
       "    <tr>\n",
       "      <th>3</th>\n",
       "      <td>3</td>\n",
       "      <td>Data Analyst</td>\n",
       "      <td>$37K-$66K (Glass...</td>\n",
       "      <td>Requisition Numb...</td>\n",
       "      <td>4.1</td>\n",
       "      <td>Celerity\\n4.1</td>\n",
       "      <td>New York, NY</td>\n",
       "      <td>McLean, VA</td>\n",
       "      <td>201 to 500 emplo...</td>\n",
       "      <td>2002</td>\n",
       "      <td>Subsidiary or Bu...</td>\n",
       "      <td>IT Services</td>\n",
       "      <td>Information Tech...</td>\n",
       "      <td>$50 to $100 mill...</td>\n",
       "      <td>-1</td>\n",
       "      <td>-1</td>\n",
       "    </tr>\n",
       "    <tr>\n",
       "      <th>4</th>\n",
       "      <td>4</td>\n",
       "      <td>Reporting Data A...</td>\n",
       "      <td>$37K-$66K (Glass...</td>\n",
       "      <td>ABOUT FANDUEL GR...</td>\n",
       "      <td>3.9</td>\n",
       "      <td>FanDuel\\n3.9</td>\n",
       "      <td>New York, NY</td>\n",
       "      <td>New York, NY</td>\n",
       "      <td>501 to 1000 empl...</td>\n",
       "      <td>2009</td>\n",
       "      <td>Company - Private</td>\n",
       "      <td>Sports &amp; Recreation</td>\n",
       "      <td>Arts, Entertainm...</td>\n",
       "      <td>$100 to $500 mil...</td>\n",
       "      <td>DraftKings</td>\n",
       "      <td>True</td>\n",
       "    </tr>\n",
       "  </tbody>\n",
       "</table>\n",
       "</div>"
      ],
      "text/plain": [
       "   Unnamed: 0            Job Title      Salary Estimate      Job Description  \\\n",
       "0           0  Data Analyst, Ce...  $37K-$66K (Glass...  Are you eager to...   \n",
       "1           1  Quality Data Ana...  $37K-$66K (Glass...  Overview\\n\\nProv...   \n",
       "2           2  Senior Data Anal...  $37K-$66K (Glass...  We’re looking fo...   \n",
       "3           3         Data Analyst  $37K-$66K (Glass...  Requisition Numb...   \n",
       "4           4  Reporting Data A...  $37K-$66K (Glass...  ABOUT FANDUEL GR...   \n",
       "\n",
       "   Rating         Company Name      Location  Headquarters  \\\n",
       "0     3.2  Vera Institute o...  New York, NY  New York, NY   \n",
       "1     3.8  Visiting Nurse S...  New York, NY  New York, NY   \n",
       "2     3.4     Squarespace\\n3.4  New York, NY  New York, NY   \n",
       "3     4.1        Celerity\\n4.1  New York, NY    McLean, VA   \n",
       "4     3.9         FanDuel\\n3.9  New York, NY  New York, NY   \n",
       "\n",
       "                  Size  Founded    Type of ownership             Industry  \\\n",
       "0  201 to 500 emplo...     1961  Nonprofit Organi...    Social Assistance   \n",
       "1     10000+ employees     1893  Nonprofit Organi...  Health Care Serv...   \n",
       "2  1001 to 5000 emp...     2003    Company - Private             Internet   \n",
       "3  201 to 500 emplo...     2002  Subsidiary or Bu...          IT Services   \n",
       "4  501 to 1000 empl...     2009    Company - Private  Sports & Recreation   \n",
       "\n",
       "                Sector              Revenue Competitors Easy Apply  \n",
       "0           Non-Profit  $100 to $500 mil...          -1       True  \n",
       "1          Health Care  $2 to $5 billion...          -1         -1  \n",
       "2  Information Tech...  Unknown / Non-Ap...     GoDaddy         -1  \n",
       "3  Information Tech...  $50 to $100 mill...          -1         -1  \n",
       "4  Arts, Entertainm...  $100 to $500 mil...  DraftKings       True  "
      ]
     },
     "execution_count": 34,
     "metadata": {},
     "output_type": "execute_result"
    }
   ],
   "source": [
    "job.head()"
   ]
  },
  {
   "cell_type": "code",
   "execution_count": 35,
   "id": "c9cf8b9d",
   "metadata": {
    "ExecuteTime": {
     "end_time": "2023-04-20T13:43:30.033735Z",
     "start_time": "2023-04-20T13:43:30.008851Z"
    }
   },
   "outputs": [
    {
     "name": "stdout",
     "output_type": "stream",
     "text": [
      "<class 'pandas.core.frame.DataFrame'>\n",
      "RangeIndex: 2253 entries, 0 to 2252\n",
      "Data columns (total 16 columns):\n",
      " #   Column             Non-Null Count  Dtype  \n",
      "---  ------             --------------  -----  \n",
      " 0   Unnamed: 0         2253 non-null   int64  \n",
      " 1   Job Title          2253 non-null   object \n",
      " 2   Salary Estimate    2253 non-null   object \n",
      " 3   Job Description    2253 non-null   object \n",
      " 4   Rating             2253 non-null   float64\n",
      " 5   Company Name       2252 non-null   object \n",
      " 6   Location           2253 non-null   object \n",
      " 7   Headquarters       2253 non-null   object \n",
      " 8   Size               2253 non-null   object \n",
      " 9   Founded            2253 non-null   int64  \n",
      " 10  Type of ownership  2253 non-null   object \n",
      " 11  Industry           2253 non-null   object \n",
      " 12  Sector             2253 non-null   object \n",
      " 13  Revenue            2253 non-null   object \n",
      " 14  Competitors        2253 non-null   object \n",
      " 15  Easy Apply         2253 non-null   object \n",
      "dtypes: float64(1), int64(2), object(13)\n",
      "memory usage: 281.8+ KB\n"
     ]
    }
   ],
   "source": [
    "job.info()"
   ]
  },
  {
   "cell_type": "code",
   "execution_count": 36,
   "id": "dd0f355d",
   "metadata": {
    "ExecuteTime": {
     "end_time": "2023-04-20T13:43:44.567339Z",
     "start_time": "2023-04-20T13:43:44.557969Z"
    }
   },
   "outputs": [],
   "source": [
    "job.drop(['Unnamed: 0'], axis = 1, inplace = True)"
   ]
  },
  {
   "cell_type": "code",
   "execution_count": 37,
   "id": "304c905f",
   "metadata": {
    "ExecuteTime": {
     "end_time": "2023-04-20T13:44:21.760851Z",
     "start_time": "2023-04-20T13:44:21.742870Z"
    }
   },
   "outputs": [
    {
     "data": {
      "text/html": [
       "<div>\n",
       "<style scoped>\n",
       "    .dataframe tbody tr th:only-of-type {\n",
       "        vertical-align: middle;\n",
       "    }\n",
       "\n",
       "    .dataframe tbody tr th {\n",
       "        vertical-align: top;\n",
       "    }\n",
       "\n",
       "    .dataframe thead th {\n",
       "        text-align: right;\n",
       "    }\n",
       "</style>\n",
       "<table border=\"1\" class=\"dataframe\">\n",
       "  <thead>\n",
       "    <tr style=\"text-align: right;\">\n",
       "      <th></th>\n",
       "      <th>Job Title</th>\n",
       "      <th>Salary Estimate</th>\n",
       "      <th>Job Description</th>\n",
       "      <th>Rating</th>\n",
       "      <th>Company Name</th>\n",
       "      <th>Location</th>\n",
       "      <th>Headquarters</th>\n",
       "      <th>Size</th>\n",
       "      <th>Founded</th>\n",
       "      <th>Type of ownership</th>\n",
       "      <th>Industry</th>\n",
       "      <th>Sector</th>\n",
       "      <th>Revenue</th>\n",
       "      <th>Competitors</th>\n",
       "      <th>Easy Apply</th>\n",
       "    </tr>\n",
       "  </thead>\n",
       "  <tbody>\n",
       "    <tr>\n",
       "      <th>0</th>\n",
       "      <td>Data Analyst, Ce...</td>\n",
       "      <td>$37K-$66K (Glass...</td>\n",
       "      <td>Are you eager to...</td>\n",
       "      <td>3.2</td>\n",
       "      <td>Vera Institute o...</td>\n",
       "      <td>New York, NY</td>\n",
       "      <td>New York, NY</td>\n",
       "      <td>201 to 500 emplo...</td>\n",
       "      <td>1961</td>\n",
       "      <td>Nonprofit Organi...</td>\n",
       "      <td>Social Assistance</td>\n",
       "      <td>Non-Profit</td>\n",
       "      <td>$100 to $500 mil...</td>\n",
       "      <td>-1</td>\n",
       "      <td>True</td>\n",
       "    </tr>\n",
       "    <tr>\n",
       "      <th>1</th>\n",
       "      <td>Quality Data Ana...</td>\n",
       "      <td>$37K-$66K (Glass...</td>\n",
       "      <td>Overview\\n\\nProv...</td>\n",
       "      <td>3.8</td>\n",
       "      <td>Visiting Nurse S...</td>\n",
       "      <td>New York, NY</td>\n",
       "      <td>New York, NY</td>\n",
       "      <td>10000+ employees</td>\n",
       "      <td>1893</td>\n",
       "      <td>Nonprofit Organi...</td>\n",
       "      <td>Health Care Serv...</td>\n",
       "      <td>Health Care</td>\n",
       "      <td>$2 to $5 billion...</td>\n",
       "      <td>-1</td>\n",
       "      <td>-1</td>\n",
       "    </tr>\n",
       "  </tbody>\n",
       "</table>\n",
       "</div>"
      ],
      "text/plain": [
       "             Job Title      Salary Estimate      Job Description  Rating  \\\n",
       "0  Data Analyst, Ce...  $37K-$66K (Glass...  Are you eager to...     3.2   \n",
       "1  Quality Data Ana...  $37K-$66K (Glass...  Overview\\n\\nProv...     3.8   \n",
       "\n",
       "          Company Name      Location  Headquarters                 Size  \\\n",
       "0  Vera Institute o...  New York, NY  New York, NY  201 to 500 emplo...   \n",
       "1  Visiting Nurse S...  New York, NY  New York, NY     10000+ employees   \n",
       "\n",
       "   Founded    Type of ownership             Industry       Sector  \\\n",
       "0     1961  Nonprofit Organi...    Social Assistance   Non-Profit   \n",
       "1     1893  Nonprofit Organi...  Health Care Serv...  Health Care   \n",
       "\n",
       "               Revenue Competitors Easy Apply  \n",
       "0  $100 to $500 mil...          -1       True  \n",
       "1  $2 to $5 billion...          -1         -1  "
      ]
     },
     "execution_count": 37,
     "metadata": {},
     "output_type": "execute_result"
    }
   ],
   "source": [
    "job_df = job.copy()\n",
    "job_df.head(2)"
   ]
  },
  {
   "cell_type": "code",
   "execution_count": 38,
   "id": "69abdb72",
   "metadata": {
    "ExecuteTime": {
     "end_time": "2023-04-20T13:45:20.750064Z",
     "start_time": "2023-04-20T13:45:20.716166Z"
    }
   },
   "outputs": [
    {
     "name": "stderr",
     "output_type": "stream",
     "text": [
      "/var/folders/s4/b3_xqqqd5zq94jc155st97d80000gn/T/ipykernel_14157/1135103490.py:1: FutureWarning:\n",
      "\n",
      "Columnar iteration over characters will be deprecated in future releases.\n",
      "\n",
      "/var/folders/s4/b3_xqqqd5zq94jc155st97d80000gn/T/ipykernel_14157/1135103490.py:2: FutureWarning:\n",
      "\n",
      "Columnar iteration over characters will be deprecated in future releases.\n",
      "\n",
      "/var/folders/s4/b3_xqqqd5zq94jc155st97d80000gn/T/ipykernel_14157/1135103490.py:3: FutureWarning:\n",
      "\n",
      "Columnar iteration over characters will be deprecated in future releases.\n",
      "\n",
      "/var/folders/s4/b3_xqqqd5zq94jc155st97d80000gn/T/ipykernel_14157/1135103490.py:4: FutureWarning:\n",
      "\n",
      "Columnar iteration over characters will be deprecated in future releases.\n",
      "\n"
     ]
    }
   ],
   "source": [
    "job_df['Job Title'],job_df['Department']= job['Job Title'].str.split(',',1).str\n",
    "job_df['Company Name'],_ = job['Company Name'].str.split('\\n',1).str\n",
    "job_df['Salary Estimate'],_= job['Salary Estimate'].str.split('(',1).str\n",
    "job_df['Min Salary'],job_df['Max Salary']= job_df['Salary Estimate'].str.split('-').str\n"
   ]
  },
  {
   "cell_type": "code",
   "execution_count": 39,
   "id": "e5d95428",
   "metadata": {
    "ExecuteTime": {
     "end_time": "2023-04-20T13:45:55.638525Z",
     "start_time": "2023-04-20T13:45:55.618127Z"
    }
   },
   "outputs": [],
   "source": [
    "# Replace withe spaces for nan values through the numpy.\n",
    "clean_salary = lambda x: x.replace('', np.nan).str.strip().str.lstrip('$').str.rstrip('K').fillna(0).astype(int)\n",
    "job_df['Min Salary'] = clean_salary(job_df['Min Salary'])\n",
    "job_df['Max Salary'] = clean_salary(job_df['Max Salary'])\n"
   ]
  },
  {
   "cell_type": "code",
   "execution_count": 40,
   "id": "adfe06e4",
   "metadata": {
    "ExecuteTime": {
     "end_time": "2023-04-20T13:46:13.027495Z",
     "start_time": "2023-04-20T13:46:13.017527Z"
    }
   },
   "outputs": [],
   "source": [
    "job_df = job_df.drop(['Salary Estimate'],axis = 1)"
   ]
  },
  {
   "cell_type": "code",
   "execution_count": 41,
   "id": "88fd7c45",
   "metadata": {
    "ExecuteTime": {
     "end_time": "2023-04-20T13:46:27.317372Z",
     "start_time": "2023-04-20T13:46:27.296445Z"
    }
   },
   "outputs": [
    {
     "data": {
      "text/html": [
       "<div>\n",
       "<style scoped>\n",
       "    .dataframe tbody tr th:only-of-type {\n",
       "        vertical-align: middle;\n",
       "    }\n",
       "\n",
       "    .dataframe tbody tr th {\n",
       "        vertical-align: top;\n",
       "    }\n",
       "\n",
       "    .dataframe thead th {\n",
       "        text-align: right;\n",
       "    }\n",
       "</style>\n",
       "<table border=\"1\" class=\"dataframe\">\n",
       "  <thead>\n",
       "    <tr style=\"text-align: right;\">\n",
       "      <th></th>\n",
       "      <th>Job Title</th>\n",
       "      <th>Job Description</th>\n",
       "      <th>Rating</th>\n",
       "      <th>Company Name</th>\n",
       "      <th>Location</th>\n",
       "      <th>Headquarters</th>\n",
       "      <th>Size</th>\n",
       "      <th>Founded</th>\n",
       "      <th>Type of ownership</th>\n",
       "      <th>Industry</th>\n",
       "      <th>Sector</th>\n",
       "      <th>Revenue</th>\n",
       "      <th>Competitors</th>\n",
       "      <th>Easy Apply</th>\n",
       "      <th>Department</th>\n",
       "      <th>Min Salary</th>\n",
       "      <th>Max Salary</th>\n",
       "    </tr>\n",
       "  </thead>\n",
       "  <tbody>\n",
       "    <tr>\n",
       "      <th>0</th>\n",
       "      <td>Data Analyst</td>\n",
       "      <td>Are you eager to...</td>\n",
       "      <td>3.2</td>\n",
       "      <td>Vera Institute o...</td>\n",
       "      <td>New York, NY</td>\n",
       "      <td>New York, NY</td>\n",
       "      <td>201 to 500 emplo...</td>\n",
       "      <td>1961</td>\n",
       "      <td>Nonprofit Organi...</td>\n",
       "      <td>Social Assistance</td>\n",
       "      <td>Non-Profit</td>\n",
       "      <td>$100 to $500 mil...</td>\n",
       "      <td>-1</td>\n",
       "      <td>True</td>\n",
       "      <td>Center on Immig...</td>\n",
       "      <td>37</td>\n",
       "      <td>66</td>\n",
       "    </tr>\n",
       "    <tr>\n",
       "      <th>1</th>\n",
       "      <td>Quality Data Ana...</td>\n",
       "      <td>Overview\\n\\nProv...</td>\n",
       "      <td>3.8</td>\n",
       "      <td>Visiting Nurse S...</td>\n",
       "      <td>New York, NY</td>\n",
       "      <td>New York, NY</td>\n",
       "      <td>10000+ employees</td>\n",
       "      <td>1893</td>\n",
       "      <td>Nonprofit Organi...</td>\n",
       "      <td>Health Care Serv...</td>\n",
       "      <td>Health Care</td>\n",
       "      <td>$2 to $5 billion...</td>\n",
       "      <td>-1</td>\n",
       "      <td>-1</td>\n",
       "      <td>NaN</td>\n",
       "      <td>37</td>\n",
       "      <td>66</td>\n",
       "    </tr>\n",
       "    <tr>\n",
       "      <th>2</th>\n",
       "      <td>Senior Data Analyst</td>\n",
       "      <td>We’re looking fo...</td>\n",
       "      <td>3.4</td>\n",
       "      <td>Squarespace</td>\n",
       "      <td>New York, NY</td>\n",
       "      <td>New York, NY</td>\n",
       "      <td>1001 to 5000 emp...</td>\n",
       "      <td>2003</td>\n",
       "      <td>Company - Private</td>\n",
       "      <td>Internet</td>\n",
       "      <td>Information Tech...</td>\n",
       "      <td>Unknown / Non-Ap...</td>\n",
       "      <td>GoDaddy</td>\n",
       "      <td>-1</td>\n",
       "      <td>Insights &amp; Anal...</td>\n",
       "      <td>37</td>\n",
       "      <td>66</td>\n",
       "    </tr>\n",
       "    <tr>\n",
       "      <th>3</th>\n",
       "      <td>Data Analyst</td>\n",
       "      <td>Requisition Numb...</td>\n",
       "      <td>4.1</td>\n",
       "      <td>Celerity</td>\n",
       "      <td>New York, NY</td>\n",
       "      <td>McLean, VA</td>\n",
       "      <td>201 to 500 emplo...</td>\n",
       "      <td>2002</td>\n",
       "      <td>Subsidiary or Bu...</td>\n",
       "      <td>IT Services</td>\n",
       "      <td>Information Tech...</td>\n",
       "      <td>$50 to $100 mill...</td>\n",
       "      <td>-1</td>\n",
       "      <td>-1</td>\n",
       "      <td>NaN</td>\n",
       "      <td>37</td>\n",
       "      <td>66</td>\n",
       "    </tr>\n",
       "    <tr>\n",
       "      <th>4</th>\n",
       "      <td>Reporting Data A...</td>\n",
       "      <td>ABOUT FANDUEL GR...</td>\n",
       "      <td>3.9</td>\n",
       "      <td>FanDuel</td>\n",
       "      <td>New York, NY</td>\n",
       "      <td>New York, NY</td>\n",
       "      <td>501 to 1000 empl...</td>\n",
       "      <td>2009</td>\n",
       "      <td>Company - Private</td>\n",
       "      <td>Sports &amp; Recreation</td>\n",
       "      <td>Arts, Entertainm...</td>\n",
       "      <td>$100 to $500 mil...</td>\n",
       "      <td>DraftKings</td>\n",
       "      <td>True</td>\n",
       "      <td>NaN</td>\n",
       "      <td>37</td>\n",
       "      <td>66</td>\n",
       "    </tr>\n",
       "  </tbody>\n",
       "</table>\n",
       "</div>"
      ],
      "text/plain": [
       "             Job Title      Job Description  Rating         Company Name  \\\n",
       "0         Data Analyst  Are you eager to...     3.2  Vera Institute o...   \n",
       "1  Quality Data Ana...  Overview\\n\\nProv...     3.8  Visiting Nurse S...   \n",
       "2  Senior Data Analyst  We’re looking fo...     3.4          Squarespace   \n",
       "3         Data Analyst  Requisition Numb...     4.1             Celerity   \n",
       "4  Reporting Data A...  ABOUT FANDUEL GR...     3.9              FanDuel   \n",
       "\n",
       "       Location  Headquarters                 Size  Founded  \\\n",
       "0  New York, NY  New York, NY  201 to 500 emplo...     1961   \n",
       "1  New York, NY  New York, NY     10000+ employees     1893   \n",
       "2  New York, NY  New York, NY  1001 to 5000 emp...     2003   \n",
       "3  New York, NY    McLean, VA  201 to 500 emplo...     2002   \n",
       "4  New York, NY  New York, NY  501 to 1000 empl...     2009   \n",
       "\n",
       "     Type of ownership             Industry               Sector  \\\n",
       "0  Nonprofit Organi...    Social Assistance           Non-Profit   \n",
       "1  Nonprofit Organi...  Health Care Serv...          Health Care   \n",
       "2    Company - Private             Internet  Information Tech...   \n",
       "3  Subsidiary or Bu...          IT Services  Information Tech...   \n",
       "4    Company - Private  Sports & Recreation  Arts, Entertainm...   \n",
       "\n",
       "               Revenue Competitors Easy Apply           Department  \\\n",
       "0  $100 to $500 mil...          -1       True   Center on Immig...   \n",
       "1  $2 to $5 billion...          -1         -1                  NaN   \n",
       "2  Unknown / Non-Ap...     GoDaddy         -1   Insights & Anal...   \n",
       "3  $50 to $100 mill...          -1         -1                  NaN   \n",
       "4  $100 to $500 mil...  DraftKings       True                  NaN   \n",
       "\n",
       "   Min Salary  Max Salary  \n",
       "0          37          66  \n",
       "1          37          66  \n",
       "2          37          66  \n",
       "3          37          66  \n",
       "4          37          66  "
      ]
     },
     "execution_count": 41,
     "metadata": {},
     "output_type": "execute_result"
    }
   ],
   "source": [
    "job_df.head()"
   ]
  },
  {
   "cell_type": "code",
   "execution_count": 43,
   "id": "6a359da3",
   "metadata": {
    "ExecuteTime": {
     "end_time": "2023-04-20T13:46:57.083286Z",
     "start_time": "2023-04-20T13:46:57.059972Z"
    }
   },
   "outputs": [
    {
     "data": {
      "text/html": [
       "<div>\n",
       "<style scoped>\n",
       "    .dataframe tbody tr th:only-of-type {\n",
       "        vertical-align: middle;\n",
       "    }\n",
       "\n",
       "    .dataframe tbody tr th {\n",
       "        vertical-align: top;\n",
       "    }\n",
       "\n",
       "    .dataframe thead th {\n",
       "        text-align: right;\n",
       "    }\n",
       "</style>\n",
       "<table border=\"1\" class=\"dataframe\">\n",
       "  <thead>\n",
       "    <tr style=\"text-align: right;\">\n",
       "      <th></th>\n",
       "      <th>Rating</th>\n",
       "      <th>Nº Companies</th>\n",
       "    </tr>\n",
       "  </thead>\n",
       "  <tbody>\n",
       "    <tr>\n",
       "      <th>0</th>\n",
       "      <td>5.0</td>\n",
       "      <td>131</td>\n",
       "    </tr>\n",
       "    <tr>\n",
       "      <th>1</th>\n",
       "      <td>4.9</td>\n",
       "      <td>17</td>\n",
       "    </tr>\n",
       "    <tr>\n",
       "      <th>2</th>\n",
       "      <td>4.8</td>\n",
       "      <td>29</td>\n",
       "    </tr>\n",
       "    <tr>\n",
       "      <th>3</th>\n",
       "      <td>4.7</td>\n",
       "      <td>23</td>\n",
       "    </tr>\n",
       "    <tr>\n",
       "      <th>4</th>\n",
       "      <td>4.6</td>\n",
       "      <td>46</td>\n",
       "    </tr>\n",
       "  </tbody>\n",
       "</table>\n",
       "</div>"
      ],
      "text/plain": [
       "   Rating  Nº Companies\n",
       "0     5.0           131\n",
       "1     4.9            17\n",
       "2     4.8            29\n",
       "3     4.7            23\n",
       "4     4.6            46"
      ]
     },
     "execution_count": 43,
     "metadata": {},
     "output_type": "execute_result"
    }
   ],
   "source": [
    "df_rating = job_df.groupby('Rating')['Company Name'].count().to_frame().reset_index()\\\n",
    "                        .sort_values('Rating', ascending = False).reset_index()\\\n",
    "                        .drop('index', axis = 1)\\\n",
    "                        .rename(columns = {'Company Name': 'Nº Companies'})\n",
    "\n",
    "df_rating = df_rating.drop(df_rating[(df_rating['Rating'] <= 3.00)].index, axis = 0)\n",
    "\n",
    "df_rating.head()"
   ]
  },
  {
   "cell_type": "code",
   "execution_count": 44,
   "id": "9ca6aaa6",
   "metadata": {
    "ExecuteTime": {
     "end_time": "2023-04-20T13:47:13.526808Z",
     "start_time": "2023-04-20T13:47:13.354314Z"
    }
   },
   "outputs": [
    {
     "data": {
      "image/png": "[encoded data removed]",
      "text/plain": [
       "<Figure size 1200x600 with 1 Axes>"
      ]
     },
     "metadata": {},
     "output_type": "display_data"
    }
   ],
   "source": [
    "# Plot visualization in graphic bars. \n",
    "plt.figure(figsize = (12,6))\n",
    "\n",
    "plot = sns.barplot(x = 'Rating', y = 'Nº Companies', data = df_rating, palette = 'rocket')\n",
    "plot = plot.set_xticklabels(plot.get_xticklabels(),\n",
    "                           horizontalalignment = 'right',\n",
    "                           fontweight = 'light')"
   ]
  },
  {
   "cell_type": "code",
   "execution_count": 45,
   "id": "ebd9aff3",
   "metadata": {
    "ExecuteTime": {
     "end_time": "2023-04-20T13:47:34.542918Z",
     "start_time": "2023-04-20T13:47:34.537240Z"
    }
   },
   "outputs": [],
   "source": [
    "#PCA "
   ]
  },
  {
   "cell_type": "code",
   "execution_count": 46,
   "id": "d77c02f4",
   "metadata": {
    "ExecuteTime": {
     "end_time": "2023-04-20T13:47:45.419520Z",
     "start_time": "2023-04-20T13:47:45.164445Z"
    }
   },
   "outputs": [],
   "source": [
    "from sklearn.decomposition import PCA \n",
    "from sklearn.cluster import KMeans    \n",
    "from sklearn.preprocessing import QuantileTransformer\n",
    "import plotly.express as px"
   ]
  },
  {
   "cell_type": "code",
   "execution_count": 47,
   "id": "42b2bb69",
   "metadata": {
    "ExecuteTime": {
     "end_time": "2023-04-20T13:48:04.386912Z",
     "start_time": "2023-04-20T13:48:04.365368Z"
    }
   },
   "outputs": [
    {
     "data": {
      "text/html": [
       "<div>\n",
       "<style scoped>\n",
       "    .dataframe tbody tr th:only-of-type {\n",
       "        vertical-align: middle;\n",
       "    }\n",
       "\n",
       "    .dataframe tbody tr th {\n",
       "        vertical-align: top;\n",
       "    }\n",
       "\n",
       "    .dataframe thead th {\n",
       "        text-align: right;\n",
       "    }\n",
       "</style>\n",
       "<table border=\"1\" class=\"dataframe\">\n",
       "  <thead>\n",
       "    <tr style=\"text-align: right;\">\n",
       "      <th></th>\n",
       "      <th>Rating</th>\n",
       "      <th>Mean Salary</th>\n",
       "      <th>Years Founded</th>\n",
       "    </tr>\n",
       "  </thead>\n",
       "  <tbody>\n",
       "    <tr>\n",
       "      <th>0</th>\n",
       "      <td>3.2</td>\n",
       "      <td>51.5</td>\n",
       "      <td>59</td>\n",
       "    </tr>\n",
       "    <tr>\n",
       "      <th>1</th>\n",
       "      <td>3.8</td>\n",
       "      <td>51.5</td>\n",
       "      <td>127</td>\n",
       "    </tr>\n",
       "    <tr>\n",
       "      <th>2</th>\n",
       "      <td>3.4</td>\n",
       "      <td>51.5</td>\n",
       "      <td>17</td>\n",
       "    </tr>\n",
       "    <tr>\n",
       "      <th>3</th>\n",
       "      <td>4.1</td>\n",
       "      <td>51.5</td>\n",
       "      <td>18</td>\n",
       "    </tr>\n",
       "    <tr>\n",
       "      <th>4</th>\n",
       "      <td>3.9</td>\n",
       "      <td>51.5</td>\n",
       "      <td>11</td>\n",
       "    </tr>\n",
       "  </tbody>\n",
       "</table>\n",
       "</div>"
      ],
      "text/plain": [
       "   Rating  Mean Salary  Years Founded\n",
       "0     3.2         51.5             59\n",
       "1     3.8         51.5            127\n",
       "2     3.4         51.5             17\n",
       "3     4.1         51.5             18\n",
       "4     3.9         51.5             11"
      ]
     },
     "execution_count": 47,
     "metadata": {},
     "output_type": "execute_result"
    }
   ],
   "source": [
    "# Create Data Frame with \"Mean Salary, Founded Years and Rating\" for cluster method and PCA\n",
    "df1 = job_df.copy()\n",
    "df1 = df1.drop(df1[df1['Founded'] == -1].index, axis = 0)\n",
    "df1 = df1.drop(df1[df1['Rating'] == -1.0].index, axis = 0)\n",
    "df1['Years Founded'] = (2020 - df1['Founded'])\n",
    "df1['Mean Salary'] = (df1['Max Salary'] + df1['Min Salary']) / 2\n",
    "\n",
    "# Create DataFrame\n",
    "df2 = pd.DataFrame()\n",
    "df2= pd.concat([df1['Rating'], df1['Mean Salary'], df1['Years Founded']], axis = 1)\n",
    "df2.head()"
   ]
  },
  {
   "cell_type": "code",
   "execution_count": 48,
   "id": "e18418e2",
   "metadata": {
    "ExecuteTime": {
     "end_time": "2023-04-20T13:48:20.810736Z",
     "start_time": "2023-04-20T13:48:20.784365Z"
    }
   },
   "outputs": [
    {
     "name": "stdout",
     "output_type": "stream",
     "text": [
      "[[0.16766767 0.16616617 0.8023023 ]\n",
      " [0.55005005 0.16616617 0.92495974]\n",
      " [0.27727728 0.16616617 0.31381381]\n",
      " ...\n",
      " [0.07157157 0.81031031 0.87287287]\n",
      " [0.12512513 0.81031031 0.66266266]\n",
      " [0.27727728 0.81031031 0.95695696]]\n"
     ]
    }
   ],
   "source": [
    "# Rescale values with QuantileTransformer class\n",
    "df2_scaler = QuantileTransformer().fit_transform(df2)\n",
    "print(df2_scaler)"
   ]
  },
  {
   "cell_type": "code",
   "execution_count": 49,
   "id": "5374b949",
   "metadata": {
    "ExecuteTime": {
     "end_time": "2023-04-20T13:48:31.379924Z",
     "start_time": "2023-04-20T13:48:31.351638Z"
    }
   },
   "outputs": [
    {
     "name": "stdout",
     "output_type": "stream",
     "text": [
      "(1573, 2) (1573, 3)\n"
     ]
    }
   ],
   "source": [
    "# PCA calculation is performed with a reduction of dimensionality equal to 2\n",
    "pca = PCA(n_components = 2)\n",
    "df_component = pca.fit_transform(df2_scaler)\n",
    "print(df_component.shape, df2_scaler.shape)"
   ]
  },
  {
   "cell_type": "code",
   "execution_count": 50,
   "id": "8304dee2",
   "metadata": {
    "ExecuteTime": {
     "end_time": "2023-04-20T13:48:41.629821Z",
     "start_time": "2023-04-20T13:48:41.508718Z"
    }
   },
   "outputs": [
    {
     "data": {
      "image/png": "[encoded data removed]",
      "text/plain": [
       "<Figure size 800x600 with 1 Axes>"
      ]
     },
     "metadata": {},
     "output_type": "display_data"
    }
   ],
   "source": [
    "import matplotlib.pyplot as plt\n",
    "\n",
    "# PCA calculation is performed with a reduction of dimensionality equal to 2\n",
    "pca = PCA(n_components=2)\n",
    "df_component = pca.fit_transform(df2_scaler)\n",
    "\n",
    "# Create a scatter plot\n",
    "fig, ax = plt.subplots(figsize=(8, 6))\n",
    "ax.scatter(df_component[:, 0], df_component[:, 1], c='pink', s=50)\n",
    "\n",
    "# Set axis labels\n",
    "ax.set_xlabel('PC1')\n",
    "ax.set_ylabel('PC2')\n",
    "\n",
    "# Add a legend\n",
    "ax.legend(['Data Points'])\n",
    "\n",
    "# Show the plot\n",
    "plt.show()\n"
   ]
  },
  {
   "cell_type": "code",
   "execution_count": 55,
   "id": "3541a4c3",
   "metadata": {
    "ExecuteTime": {
     "end_time": "2023-04-20T14:00:03.619851Z",
     "start_time": "2023-04-20T14:00:03.612963Z"
    }
   },
   "outputs": [],
   "source": [
    "#For the above question of principal component analysis (PCA) we have took 2 components for the analysis.\n",
    "# As we used the data from the job postings we have done the calculation on the basis of above code . \n",
    "# We have used the scatter plot to show the analysis of 2 componenets .It shows the relationship between variables and components .\n",
    "#The selected principal components are based on the PCA analysis performed on the rescaled data that included the mean salary, founded years, and company ratings.\n",
    "\n",
    "#The first principal component (PC1) accounts for the largest amount of variance in the data (about 78%), \n",
    "#and it appears to represent a combination of mean salary and years founded. \n",
    "#Companies with high values of PC1 likely have higher salaries and have been around for longer periods of time, \n",
    "#while those with lower values of PC1 likely have lower salaries and have been around for shorter periods of time.#\n",
    "\n",
    "#The second principal component (PC2) accounts for the remaining variance in the data (about 22%),\n",
    "#and it appears to represent a combination of mean salary and company ratings. Companies with high values of PC2 likely have higher salaries and higher ratings, \n",
    "#while those with lower values of PC2 likely have lower salaries and lower ratings.#\n"
   ]
  },
  {
   "cell_type": "markdown",
   "id": "88d6fab1",
   "metadata": {},
   "source": [
    "# Question4"
   ]
  },
  {
   "cell_type": "code",
   "execution_count": 56,
   "id": "509240f4",
   "metadata": {
    "ExecuteTime": {
     "end_time": "2023-04-20T14:00:52.927870Z",
     "start_time": "2023-04-20T14:00:52.207103Z"
    }
   },
   "outputs": [],
   "source": [
    "#Elbow method\n",
    "wcss = []\n",
    "for i in range(1, 11):\n",
    "    kmeans = KMeans(n_clusters = i, init = 'k-means++', n_init = 10, \n",
    "                   max_iter = 300, random_state = 0)\n",
    "    kmeans.fit(df2_scaler)\n",
    "    wcss.append(kmeans.inertia_)"
   ]
  },
  {
   "cell_type": "code",
   "execution_count": 58,
   "id": "8c86892a",
   "metadata": {
    "ExecuteTime": {
     "end_time": "2023-04-20T14:01:31.390249Z",
     "start_time": "2023-04-20T14:01:31.269499Z"
    }
   },
   "outputs": [
    {
     "data": {
      "text/plain": [
       "Text(0.5, 1.0, 'Elbow Method')"
      ]
     },
     "execution_count": 58,
     "metadata": {},
     "output_type": "execute_result"
    },
    {
     "data": {
      "image/png": "[encoded data removed]",
      "text/plain": [
       "<Figure size 800x700 with 1 Axes>"
      ]
     },
     "metadata": {},
     "output_type": "display_data"
    }
   ],
   "source": [
    "#plot the graph\n",
    "fig = plt.figure(figsize = (8,7))\n",
    "plt.plot(range(1,11), wcss)\n",
    "plt.scatter(4, wcss[3], c = 'orange',s = 200)\n",
    "plt.text(4 + 0.4, wcss[3], s = '4 - Clusters', fontsize = 14)\n",
    "plt.xlabel('Nº Clusters', fontsize = 14)\n",
    "plt.ylabel('Infraclusters', fontsize = 14)\n",
    "plt.title('Elbow Method', fontsize = 14)"
   ]
  },
  {
   "cell_type": "code",
   "execution_count": 59,
   "id": "8e6c6b1f",
   "metadata": {
    "ExecuteTime": {
     "end_time": "2023-04-20T14:02:10.624813Z",
     "start_time": "2023-04-20T14:02:10.536250Z"
    }
   },
   "outputs": [
    {
     "name": "stdout",
     "output_type": "stream",
     "text": [
      "[2 2 1 ... 3 3 3]\n"
     ]
    }
   ],
   "source": [
    "# 4 clusters are selected, at that elbow point \n",
    "kmeans = KMeans(n_clusters = 4, init = 'k-means++', n_init = 10, \n",
    "                max_iter = 300, random_state = 0)\n",
    "kmeans.fit(df2_scaler)\n",
    "y_predict = kmeans.predict(df2_scaler)\n",
    "print(y_predict)"
   ]
  },
  {
   "cell_type": "code",
   "execution_count": 61,
   "id": "ff23060c",
   "metadata": {
    "ExecuteTime": {
     "end_time": "2023-04-20T14:02:47.855121Z",
     "start_time": "2023-04-20T14:02:47.757115Z"
    }
   },
   "outputs": [
    {
     "data": {
      "application/vnd.plotly.v1+json": {
       "config": {
        "plotlyServerURL": "https://plot.ly"
       },
       "data": [
        {
         "hovertemplate": "color=Cluster-3<br>Rating=%{x}<br>Mean Salary=%{y}<br>Years Founded=%{z}<extra></extra>",
         "legendgroup": "Cluster-3",
         "marker": {
          "color": "violet",
          "opacity": 0.9,
          "symbol": "circle"
         },
         "mode": "markers",
         "name": "Cluster-3",
         "scene": "scene",
         "showlegend": true,
         "type": "scatter3d",
         "x": [
          3.2,
          3.8,
          3.7,
          4,
          4,
          3.7,
          3,
          3.8,
          3.9,
          3.3,
          3.7,
          4,
          2.9,
          4,
          3.8,
          3.7,
          3.6,
          4,
          3.2,
          3.8,
          4.1,
          3.7,
          3.7,
          4.1,
          3.6,
          3.8,
          3.9,
          3.7,
          3.5,
          3.8,
          3.4,
          3.5,
          3.7,
          3.6,
          3.9,
          4,
          3.3,
          3.8,
          3.3,
          3.3,
          3.4,
          2.5,
          3.6,
          3.6,
          3.8,
          3.6,
          3.8,
          3.3,
          3.5,
          3.7,
          4,
          3.4,
          3.6,
          3.4,
          4.2,
          2.7,
          3.1,
          4.1,
          3,
          2.7,
          3.1,
          3.9,
          3.8,
          3.3,
          3.1,
          3.6,
          3.9,
          4,
          3.1,
          3.2,
          3.3,
          3.6,
          3.6,
          3.7,
          4.1,
          3.3,
          3.4,
          3.1,
          3.7,
          3.9,
          4.1,
          3.3,
          3,
          3.4,
          3.2,
          2.7,
          3.5,
          3.9,
          4.1,
          3.1,
          3.1,
          3.5,
          3.9,
          2.4,
          3.6,
          3.2,
          3.6,
          3,
          3.8,
          3.2,
          3.2,
          3.9,
          4.2,
          3.6,
          4,
          2.9,
          3.4,
          3.8,
          2.7,
          3.3,
          2.9,
          3.5,
          3.3,
          2.5,
          2.7,
          2.7,
          3.1,
          3.8,
          1,
          3.5,
          3.2,
          3.5,
          3.2,
          4.3,
          3.1,
          3.3,
          3.3,
          3.9,
          4.1,
          3.1,
          3.9,
          3.5,
          4.2,
          3.1,
          3.9,
          3.9,
          3.9,
          3.9,
          3.5,
          3.1,
          4,
          3.8,
          3.8,
          3.6,
          3.6,
          3.4,
          4.1,
          3.1,
          3.7,
          3.6,
          2.7,
          3.4,
          3.1,
          3.6,
          3.3,
          3.6,
          3.8,
          4.1,
          3.6,
          3.4,
          3.1,
          3.1,
          3.9,
          4,
          4.1,
          3.9,
          3.4,
          3.4,
          3.3,
          4,
          4.1,
          3.3,
          3.2,
          3.3,
          3.1,
          3.5,
          3.3,
          3.8,
          3.7,
          3.2,
          3.9,
          4,
          3.6,
          4.1,
          3.3,
          2.8,
          3.6,
          3.5,
          2.9,
          4.1,
          3.7,
          3.5,
          3.3,
          4.1,
          2.8,
          3.6,
          2.7,
          3.4,
          3.1,
          3.2,
          4,
          3.6,
          2.5,
          3.6,
          3.8,
          3.5,
          3,
          3.5,
          3.6,
          3.4,
          3.6,
          3.7,
          3.3,
          3.6,
          4,
          4.3,
          3.1,
          3.5,
          3.4,
          3.7,
          3.7,
          4.1,
          3.8,
          2.9,
          3.1,
          3.1,
          2.8,
          2.9,
          3.6,
          3.6,
          3.7,
          3.5,
          3.8,
          4.3,
          3.8,
          3.5,
          3.2,
          2.4,
          4.3,
          3.1,
          3.9,
          2.4,
          4.3,
          2.7,
          3.5,
          3.2,
          2.7,
          3.8,
          4.3,
          3.7,
          4.3,
          3.4,
          2.4,
          3.8,
          3.2,
          3.9,
          3.7,
          3.5,
          3.5,
          2.7,
          4.1,
          3.6,
          3.2,
          4,
          4.1,
          3.4,
          3.1,
          3.9,
          3.4,
          4.3,
          2.8,
          3.5,
          3.3,
          4.1,
          2.9,
          4,
          3.5,
          4.3,
          3.5,
          4.1,
          4.1,
          4.3,
          3.3,
          3.1,
          3.3,
          4,
          3.7,
          3.7,
          4,
          3.4,
          3.3,
          4.1,
          3.5,
          3.4,
          2.8,
          2.9,
          4,
          3.8,
          3.3,
          4.1,
          3.3,
          3.4,
          4.1,
          3.6,
          2.9,
          3.5,
          3.6,
          3.8,
          3.7,
          2.6,
          4,
          3.5,
          3.8,
          2.8,
          3.9,
          4.1,
          3.4,
          3.7,
          3.4,
          3.1,
          3.4,
          2.9,
          2.5,
          4.2,
          3.7,
          3.5,
          2.5,
          3.3,
          3.9,
          3.3,
          3.5,
          4.1,
          4.1,
          3.7,
          4.2,
          3.1,
          3.4,
          3.2,
          3.6,
          3.8,
          4.1,
          2.9,
          3.9,
          4,
          3.5,
          2.8,
          2.6,
          2.8,
          2.8,
          3.9,
          2.8,
          3.4,
          3.5,
          2.7,
          3.3,
          3.8,
          3.5,
          3.8,
          3.8,
          3.7,
          3.1,
          3.7,
          2.8,
          3.3,
          3.3,
          2.8,
          3.3,
          2.8,
          3.5,
          3,
          3.5,
          3.5,
          3.7,
          3.5,
          3.5,
          3.9,
          3.5,
          2.9,
          3.3,
          3.8,
          3.9,
          3.8,
          3.9,
          3.6,
          3.7,
          2.9,
          3.5,
          3.9,
          3.8,
          3.6,
          3.7,
          3.7,
          3.6,
          3.7,
          3.9,
          3.6,
          3.9,
          3.8,
          4.1,
          3.9,
          3.9,
          3.4,
          3.7,
          3.5,
          4.1,
          3.9,
          3.9,
          2.8,
          3.4,
          3.8,
          3.6,
          2.9,
          4.3,
          3.2,
          4.1,
          3.4,
          3.9,
          3.7,
          3.1,
          3,
          3.6,
          3.6,
          3.3,
          3.3,
          3.8,
          3.8,
          3.9,
          3.4,
          3.6,
          3.2,
          3.4,
          3.6,
          3.2,
          3.5,
          2.8,
          3.1,
          3.5,
          3.4,
          2.9,
          3.5,
          2.7,
          3.3,
          3.3,
          4.3,
          3.6,
          4,
          4.3,
          4,
          3.7,
          2.9,
          3.2,
          3.9,
          2.9,
          3,
          3.7,
          4.1,
          4.2,
          3.4,
          4,
          2.9,
          3.2,
          3.4,
          3.5,
          3.7,
          3.8,
          3.6,
          4.1,
          3.5,
          3.6,
          4.3
         ],
         "y": [
          51.5,
          51.5,
          51.5,
          51.5,
          51.5,
          51.5,
          51.5,
          51.5,
          51.5,
          51.5,
          66.5,
          66.5,
          66.5,
          66.5,
          66.5,
          66.5,
          66.5,
          66.5,
          66.5,
          66.5,
          69.5,
          69.5,
          69.5,
          69.5,
          69,
          69,
          69,
          69,
          69,
          69,
          69,
          72,
          72,
          72,
          72,
          59.5,
          59.5,
          59.5,
          59.5,
          59.5,
          59.5,
          59.5,
          59.5,
          59.5,
          59.5,
          59.5,
          59.5,
          59.5,
          59.5,
          59.5,
          59.5,
          59.5,
          59.5,
          59.5,
          59.5,
          59.5,
          59.5,
          59.5,
          59.5,
          59.5,
          59.5,
          59.5,
          66.5,
          66.5,
          66.5,
          66.5,
          66.5,
          66.5,
          39.5,
          39.5,
          39.5,
          39.5,
          39.5,
          39.5,
          39.5,
          39.5,
          39.5,
          39.5,
          39.5,
          39.5,
          39.5,
          39.5,
          39.5,
          39.5,
          39.5,
          58,
          58,
          58,
          58,
          58,
          58,
          58,
          58,
          58,
          58,
          58,
          58,
          58,
          72,
          72,
          72,
          72,
          36.5,
          36.5,
          36.5,
          36.5,
          36.5,
          36.5,
          36.5,
          36.5,
          45,
          64,
          64,
          56,
          56,
          56,
          56,
          56,
          56,
          56,
          56,
          56,
          56,
          42,
          42,
          42,
          42,
          79,
          53.5,
          53.5,
          53.5,
          53.5,
          53.5,
          53.5,
          53.5,
          53.5,
          53.5,
          53.5,
          53.5,
          53.5,
          40,
          40,
          40,
          40,
          40,
          40,
          40,
          40,
          40,
          40,
          40,
          40,
          40,
          54,
          54,
          54,
          54,
          54,
          54,
          54,
          54,
          54,
          73,
          73,
          73,
          63,
          63,
          63,
          63,
          63,
          63,
          63,
          63,
          63,
          63,
          63,
          63,
          63,
          63,
          63,
          79.5,
          79.5,
          59,
          59,
          59,
          59,
          59,
          59,
          59,
          59,
          59,
          59,
          59,
          33.5,
          33.5,
          33.5,
          33.5,
          33.5,
          33.5,
          33.5,
          33.5,
          33.5,
          33.5,
          33.5,
          61.5,
          61.5,
          61.5,
          61.5,
          61.5,
          61.5,
          61.5,
          61.5,
          61.5,
          61.5,
          73.5,
          74,
          68.5,
          68.5,
          68.5,
          68.5,
          68.5,
          68.5,
          61.5,
          61.5,
          61.5,
          61.5,
          61.5,
          61.5,
          59.5,
          59.5,
          59.5,
          59.5,
          59.5,
          59.5,
          59.5,
          59.5,
          53,
          53,
          53,
          53,
          53,
          53,
          53,
          53,
          53,
          53,
          53,
          53,
          40.5,
          40.5,
          40.5,
          40.5,
          40.5,
          40.5,
          40.5,
          40.5,
          40.5,
          40.5,
          40.5,
          40.5,
          40.5,
          40.5,
          71.5,
          71.5,
          71.5,
          52.5,
          52.5,
          52.5,
          52.5,
          52.5,
          52.5,
          52.5,
          52.5,
          52.5,
          52.5,
          52.5,
          52.5,
          47.5,
          47.5,
          36,
          36,
          36,
          36,
          36,
          36,
          36,
          36,
          36,
          36,
          36,
          36,
          36,
          36,
          36,
          36,
          36,
          36,
          36,
          41.5,
          41.5,
          41.5,
          41.5,
          41.5,
          41.5,
          41.5,
          41.5,
          41.5,
          41.5,
          41.5,
          41.5,
          41.5,
          41.5,
          41.5,
          41.5,
          63.5,
          63.5,
          63.5,
          63.5,
          63.5,
          63.5,
          63.5,
          63.5,
          63.5,
          63,
          63,
          63,
          63,
          63,
          63,
          63,
          63,
          68,
          68,
          68,
          68,
          68,
          68,
          61,
          61,
          61,
          61,
          61,
          72,
          75.5,
          59,
          59,
          59,
          59,
          59,
          59,
          59,
          59,
          59,
          38.5,
          38.5,
          38.5,
          38.5,
          38.5,
          38.5,
          38.5,
          38.5,
          38.5,
          38.5,
          38.5,
          38.5,
          38.5,
          38.5,
          60,
          60,
          56,
          56,
          56,
          56,
          56,
          56,
          56,
          56,
          56,
          68,
          68,
          68,
          68,
          51,
          63.5,
          40,
          40,
          40,
          40,
          40,
          40,
          40,
          40,
          40,
          66,
          66,
          68,
          68,
          68,
          68,
          68,
          68,
          68,
          68,
          68,
          68,
          68,
          68,
          64.5,
          64.5,
          64.5,
          64.5,
          64.5,
          64.5,
          64.5,
          64.5,
          64.5,
          64.5,
          76,
          57,
          57,
          57,
          57,
          57,
          57,
          66,
          60.5,
          60.5,
          60.5,
          60.5,
          60.5,
          60.5,
          60.5,
          47.5,
          47.5,
          47.5,
          47.5,
          47.5,
          47.5,
          47.5,
          47.5,
          47.5,
          51,
          51,
          51,
          51,
          51,
          51,
          51,
          51,
          51,
          51,
          51,
          51,
          51,
          51,
          78,
          44,
          51.5,
          62,
          62,
          62,
          62,
          62,
          62,
          62,
          70,
          70,
          70,
          70,
          70
         ],
         "z": [
          59,
          127,
          106,
          124,
          179,
          136,
          16,
          24,
          62,
          51,
          116,
          179,
          64,
          97,
          30,
          30,
          51,
          97,
          69,
          39,
          54,
          81,
          208,
          75,
          58,
          25,
          221,
          102,
          72,
          53,
          125,
          175,
          109,
          188,
          82,
          179,
          28,
          43,
          20,
          28,
          36,
          134,
          158,
          21,
          114,
          22,
          39,
          54,
          52,
          208,
          97,
          53,
          51,
          21,
          39,
          161,
          24,
          36,
          35,
          23,
          74,
          221,
          53,
          202,
          74,
          88,
          82,
          97,
          27,
          236,
          164,
          43,
          31,
          31,
          54,
          42,
          24,
          74,
          208,
          221,
          36,
          108,
          35,
          19,
          22,
          23,
          23,
          221,
          35,
          63,
          74,
          23,
          221,
          83,
          38,
          56,
          88,
          36,
          53,
          236,
          236,
          58,
          170,
          37,
          151,
          25,
          73,
          24,
          19,
          26,
          25,
          72,
          52,
          152,
          28,
          24,
          84,
          106,
          85,
          22,
          18,
          58,
          28,
          167,
          24,
          36,
          36,
          118,
          132,
          18,
          118,
          49,
          140,
          47,
          97,
          38,
          118,
          89,
          82,
          42,
          75,
          37,
          47,
          66,
          66,
          22,
          54,
          40,
          109,
          40,
          72,
          59,
          40,
          26,
          22,
          66,
          81,
          44,
          66,
          25,
          18,
          40,
          85,
          148,
          81,
          29,
          74,
          74,
          34,
          130,
          134,
          41,
          138,
          56,
          49,
          137,
          183,
          73,
          203,
          138,
          183,
          130,
          192,
          54,
          114,
          19,
          22,
          137,
          59,
          38,
          131,
          137,
          122,
          36,
          15,
          26,
          13,
          54,
          58,
          236,
          65,
          71,
          54,
          52,
          53,
          21,
          50,
          72,
          40,
          54,
          198,
          35,
          36,
          71,
          60,
          135,
          156,
          50,
          131,
          66,
          106,
          54,
          24,
          69,
          81,
          156,
          28,
          57,
          52,
          26,
          54,
          50,
          25,
          280,
          31,
          72,
          15,
          33,
          280,
          37,
          221,
          116,
          280,
          13,
          27,
          45,
          22,
          28,
          280,
          165,
          280,
          19,
          33,
          25,
          45,
          165,
          104,
          28,
          63,
          22,
          54,
          26,
          236,
          46,
          54,
          29,
          24,
          34,
          35,
          115,
          19,
          29,
          25,
          54,
          55,
          59,
          24,
          60,
          34,
          32,
          32,
          44,
          26,
          47,
          21,
          151,
          63,
          106,
          151,
          101,
          26,
          155,
          50,
          21,
          22,
          22,
          99,
          53,
          153,
          54,
          153,
          131,
          107,
          49,
          87,
          23,
          106,
          114,
          208,
          54,
          151,
          33,
          25,
          22,
          57,
          36,
          53,
          208,
          73,
          146,
          24,
          87,
          53,
          53,
          24,
          29,
          53,
          74,
          221,
          29,
          58,
          54,
          54,
          208,
          53,
          82,
          73,
          25,
          97,
          25,
          54,
          108,
          63,
          75,
          25,
          22,
          24,
          108,
          108,
          83,
          108,
          40,
          72,
          33,
          21,
          29,
          84,
          24,
          106,
          23,
          24,
          35,
          108,
          21,
          21,
          63,
          36,
          63,
          50,
          26,
          72,
          150,
          39,
          22,
          150,
          99,
          150,
          30,
          97,
          29,
          85,
          25,
          34,
          21,
          128,
          35,
          128,
          221,
          51,
          132,
          128,
          128,
          132,
          128,
          221,
          168,
          31,
          52,
          54,
          37,
          28,
          40,
          52,
          72,
          54,
          37,
          37,
          85,
          53,
          25,
          23,
          64,
          37,
          322,
          54,
          53,
          37,
          116,
          156,
          16,
          23,
          45,
          74,
          74,
          37,
          73,
          39,
          19,
          168,
          24,
          23,
          40,
          19,
          22,
          22,
          22,
          130,
          69,
          23,
          145,
          41,
          24,
          23,
          45,
          103,
          44,
          45,
          44,
          24,
          20,
          28,
          45,
          75,
          22,
          24,
          144,
          235,
          23,
          38,
          75,
          27,
          23,
          111,
          104,
          25,
          47,
          54,
          99,
          63,
          231
         ]
        },
        {
         "hovertemplate": "color=Cluster-2<br>Rating=%{x}<br>Mean Salary=%{y}<br>Years Founded=%{z}<extra></extra>",
         "legendgroup": "Cluster-2",
         "marker": {
          "color": "orange",
          "opacity": 0.9,
          "symbol": "circle"
         },
         "mode": "markers",
         "name": "Cluster-2",
         "scene": "scene",
         "showlegend": true,
         "type": "scatter3d",
         "x": [
          3.4,
          4.1,
          3.9,
          3.9,
          4.4,
          4.4,
          3.4,
          3.8,
          4.9,
          4.4,
          5,
          4.8,
          3.6,
          5,
          3.6,
          3.9,
          3.6,
          3.9,
          4.8,
          3.9,
          4.4,
          4.7,
          3.8,
          4.6,
          4,
          5,
          3.6,
          3.4,
          3.4,
          3.2,
          3.8,
          4.1,
          2.9,
          3.9,
          3.3,
          3.7,
          5,
          5,
          4.5,
          4.8,
          3.5,
          3.9,
          3.5,
          4,
          4.3,
          4,
          4.1,
          4.8,
          3.7,
          4.6,
          4,
          3.9,
          4.3,
          3.7,
          3.8,
          3.6,
          4,
          4,
          4,
          4.1,
          4.5,
          4.6,
          4.1,
          3.6,
          4.5,
          3.5,
          4.1,
          4,
          3.5,
          4.2,
          4.3,
          5,
          4.9,
          5,
          4.9,
          3.8,
          5,
          5,
          3.8,
          4.9,
          3.5,
          3.8,
          4.9,
          5,
          5,
          5,
          5,
          3.7,
          3.8,
          3.8,
          4.1,
          3.7,
          4.7,
          4,
          5,
          5,
          4.9,
          3.7,
          3,
          3.5,
          4.6,
          3.8,
          3.7,
          4,
          4.9,
          4.3,
          4.2,
          3.9,
          3.8,
          3.8,
          3.7,
          3.7,
          5,
          3.8,
          3.7,
          3.9,
          4.6,
          4.6,
          4.7,
          4.3,
          3.8,
          4.8,
          4.2,
          3.2,
          4.8,
          4.1,
          4.5,
          5,
          3.9,
          3.9,
          4.8,
          4.3,
          4.1,
          3.9,
          3.9,
          4.8,
          5,
          4.7,
          4.8,
          4.1,
          3.9,
          3.7,
          3.8,
          4.1,
          4,
          4.5,
          3.6,
          3.2,
          4.7,
          3.9,
          3.9,
          3.9,
          3.8,
          5,
          4.2,
          3.3,
          4.1,
          3.9,
          5,
          4.2,
          3.9,
          3.9,
          3.1,
          4.5,
          4.1,
          3.5,
          4,
          3.9,
          4.7,
          4.2,
          3.7,
          4.5,
          3.9,
          3.9,
          4,
          3.9,
          3.7,
          4.1,
          3.4,
          5,
          4,
          4.5,
          3.7,
          4,
          3.3,
          3.7,
          4.9,
          3.9,
          4.4,
          5,
          3.8,
          3.6,
          4.6,
          3.6,
          3.8,
          4.1,
          5,
          4.5,
          4.4,
          4.3,
          4.2,
          4.2,
          3.4,
          3.8,
          3.6,
          3.6,
          3.7,
          3.4,
          4.2,
          3.9,
          4.3,
          3.9,
          4.5,
          3.9,
          4.6,
          3.8,
          4.6,
          4.1,
          4.1,
          4.9,
          4.7,
          4,
          4.6,
          4.3,
          5,
          3.2,
          3.8,
          5,
          4,
          3.5,
          3.9,
          5,
          3.5,
          3.5,
          2.7,
          5,
          5,
          5,
          5,
          3.9,
          5,
          4.2,
          4.8,
          4.8,
          4.2,
          3.6,
          5,
          5,
          3.4,
          4.5,
          5,
          4.5,
          5,
          4,
          4.5,
          4.5,
          3.8,
          3.8,
          4.1,
          5,
          3.9,
          3.6,
          3.7,
          4.1,
          3.5,
          3.5,
          5,
          4,
          3.8,
          3.8,
          4.5,
          4.8,
          3.9,
          3.9,
          3.9,
          4.4,
          3.9,
          3.6,
          5,
          4.4,
          4.4,
          4.9,
          4.3,
          4.8,
          3.4,
          4.6,
          3.8,
          4.6,
          3.8,
          4.6,
          4.6,
          5,
          3.3,
          4.2,
          3.8,
          5,
          3.6,
          4.6,
          5,
          4,
          5,
          4.3,
          4.6,
          3.5,
          5,
          4.7,
          5,
          4.4,
          5,
          5,
          5,
          3.8,
          3.8,
          3.6,
          4,
          3.8,
          4.3,
          3.8,
          5,
          4.1,
          3.9,
          4,
          5,
          3.7,
          3.6,
          5,
          4.6,
          3.5,
          3.7
         ],
         "y": [
          51.5,
          51.5,
          51.5,
          51.5,
          51.5,
          51.5,
          51.5,
          51.5,
          51.5,
          51.5,
          51.5,
          51.5,
          66.5,
          66.5,
          66.5,
          66.5,
          66.5,
          66.5,
          69.5,
          69.5,
          69,
          69,
          69,
          69,
          69,
          69,
          59.5,
          59.5,
          59.5,
          59.5,
          59.5,
          59.5,
          59.5,
          59.5,
          59.5,
          59.5,
          59.5,
          59.5,
          59.5,
          59.5,
          59.5,
          66.5,
          39.5,
          39.5,
          39.5,
          39.5,
          39.5,
          39.5,
          39.5,
          39.5,
          58,
          58,
          58,
          58,
          58,
          58,
          58,
          58,
          58,
          36.5,
          36.5,
          36.5,
          36.5,
          36.5,
          36.5,
          36.5,
          36.5,
          45,
          45,
          45,
          56,
          56,
          56,
          56,
          56,
          56,
          56,
          56,
          56,
          56,
          56,
          56,
          56,
          42,
          42,
          42,
          42,
          53.5,
          53.5,
          53.5,
          53.5,
          53.5,
          53.5,
          53.5,
          53.5,
          40,
          40,
          40,
          40,
          40,
          40,
          40,
          54,
          54,
          54,
          54,
          54,
          54,
          54,
          54,
          63,
          63,
          63,
          63,
          63,
          63,
          63,
          63,
          63,
          63,
          63,
          59,
          59,
          59,
          59,
          59,
          59,
          59,
          33.5,
          33.5,
          33.5,
          33.5,
          33.5,
          33.5,
          33.5,
          33.5,
          61.5,
          61.5,
          61.5,
          61.5,
          68.5,
          68.5,
          68.5,
          61.5,
          61.5,
          61.5,
          59.5,
          59.5,
          59.5,
          59.5,
          59.5,
          59.5,
          59.5,
          59.5,
          59.5,
          59.5,
          59.5,
          59.5,
          53,
          53,
          53,
          53,
          53,
          53,
          53,
          53,
          40.5,
          40.5,
          40.5,
          40.5,
          40.5,
          40.5,
          40.5,
          71.5,
          52.5,
          52.5,
          52.5,
          52.5,
          52.5,
          52.5,
          52.5,
          52.5,
          52.5,
          52.5,
          47.5,
          47.5,
          36,
          36,
          36,
          36,
          41.5,
          41.5,
          41.5,
          41.5,
          41.5,
          41.5,
          41.5,
          63.5,
          63.5,
          63.5,
          63.5,
          63.5,
          63.5,
          63,
          63,
          63,
          63,
          63,
          63,
          68,
          68,
          61,
          61,
          72,
          59,
          59,
          59,
          59,
          59,
          59,
          59,
          59,
          59,
          59,
          59,
          59,
          59,
          59,
          59,
          38.5,
          38.5,
          38.5,
          38.5,
          38.5,
          38.5,
          56,
          56,
          56,
          56,
          56,
          68,
          51,
          51,
          51,
          40,
          40,
          40,
          40,
          40,
          40,
          40,
          40,
          40,
          40,
          40,
          66,
          68,
          68,
          68,
          68,
          68,
          64.5,
          64.5,
          64.5,
          64.5,
          64.5,
          64.5,
          64.5,
          57,
          57,
          66,
          66,
          66,
          66,
          66,
          66,
          66,
          66,
          66,
          66,
          66,
          66,
          60.5,
          60.5,
          60.5,
          60.5,
          60.5,
          60.5,
          60.5,
          60.5,
          60.5,
          60.5,
          47.5,
          47.5,
          47.5,
          47.5,
          47.5,
          47.5,
          47.5,
          47.5,
          47.5,
          51,
          51,
          51,
          51,
          51,
          51,
          0.5,
          44,
          44,
          44,
          51.5,
          62,
          62,
          62,
          62,
          62,
          62,
          62,
          62,
          62,
          62,
          62,
          62,
          62,
          62,
          62,
          70,
          70
         ],
         "z": [
          17,
          18,
          11,
          6,
          19,
          7,
          4,
          19,
          14,
          22,
          9,
          3,
          15,
          4,
          13,
          18,
          5,
          20,
          3,
          15,
          9,
          3,
          8,
          9,
          16,
          6,
          7,
          7,
          7,
          11,
          5,
          22,
          5,
          18,
          12,
          5,
          12,
          8,
          30,
          9,
          12,
          18,
          18,
          22,
          12,
          16,
          22,
          9,
          11,
          24,
          16,
          18,
          14,
          17,
          8,
          2,
          16,
          16,
          16,
          2,
          9,
          19,
          22,
          20,
          9,
          9,
          9,
          14,
          9,
          16,
          36,
          12,
          20,
          12,
          20,
          23,
          5,
          12,
          23,
          20,
          6,
          23,
          20,
          12,
          12,
          12,
          12,
          20,
          7,
          13,
          4,
          17,
          33,
          6,
          12,
          12,
          15,
          17,
          7,
          14,
          19,
          4,
          4,
          24,
          15,
          24,
          26,
          10,
          9,
          4,
          20,
          13,
          21,
          19,
          9,
          20,
          10,
          10,
          26,
          23,
          21,
          6,
          17,
          13,
          9,
          19,
          12,
          12,
          20,
          23,
          6,
          8,
          17,
          20,
          16,
          10,
          12,
          34,
          10,
          17,
          18,
          16,
          13,
          13,
          20,
          12,
          12,
          3,
          7,
          16,
          20,
          20,
          18,
          12,
          28,
          7,
          29,
          20,
          12,
          6,
          20,
          20,
          5,
          9,
          29,
          14,
          8,
          9,
          24,
          30,
          15,
          9,
          9,
          9,
          10,
          18,
          9,
          6,
          10,
          12,
          21,
          4,
          21,
          17,
          2,
          16,
          5,
          20,
          25,
          12,
          15,
          3,
          21,
          3,
          10,
          16,
          12,
          30,
          21,
          12,
          12,
          22,
          8,
          15,
          3,
          7,
          21,
          5,
          12,
          18,
          9,
          19,
          7,
          7,
          3,
          4,
          6,
          12,
          13,
          15,
          10,
          10,
          3,
          21,
          12,
          8,
          22,
          12,
          7,
          14,
          14,
          12,
          13,
          13,
          5,
          12,
          12,
          12,
          38,
          18,
          14,
          22,
          21,
          21,
          21,
          8,
          12,
          12,
          16,
          20,
          23,
          12,
          12,
          21,
          12,
          26,
          3,
          15,
          21,
          12,
          18,
          15,
          21,
          24,
          1,
          4,
          12,
          10,
          3,
          22,
          23,
          7,
          18,
          18,
          18,
          9,
          15,
          16,
          12,
          13,
          25,
          19,
          16,
          7,
          8,
          20,
          5,
          20,
          5,
          20,
          20,
          22,
          6,
          8,
          5,
          12,
          19,
          10,
          12,
          10,
          12,
          9,
          19,
          12,
          12,
          23,
          12,
          19,
          12,
          12,
          12,
          5,
          19,
          10,
          12,
          15,
          23,
          20,
          2,
          29,
          7,
          5,
          12,
          16,
          15,
          12,
          27,
          8,
          16
         ]
        },
        {
         "hovertemplate": "color=Cluster-4<br>Rating=%{x}<br>Mean Salary=%{y}<br>Years Founded=%{z}<extra></extra>",
         "legendgroup": "Cluster-4",
         "marker": {
          "color": "burlywood",
          "opacity": 0.9,
          "symbol": "circle"
         },
         "mode": "markers",
         "name": "Cluster-4",
         "scene": "scene",
         "showlegend": true,
         "type": "scatter3d",
         "x": [
          3.2,
          3,
          3.6,
          3.6,
          3.6,
          3.7,
          3.5,
          3.3,
          3.1,
          3.4,
          3,
          2.8,
          3.6,
          3.5,
          3.3,
          2.9,
          3.2,
          2.7,
          3.1,
          3.7,
          3.1,
          3.7,
          3.7,
          3.6,
          3.6,
          3.7,
          3.1,
          3.8,
          3.7,
          3.7,
          3.2,
          3.5,
          3,
          3.8,
          3.6,
          3.2,
          2.9,
          3.1,
          3.8,
          3,
          2.4,
          2.8,
          2.8,
          3.5,
          2,
          3.3,
          3.4,
          3.6,
          2.8,
          3,
          3.9,
          3.4,
          3.2,
          2.8,
          3.2,
          3.4,
          3.4,
          3.5,
          3.3,
          3.6,
          2.7,
          3.2,
          3,
          3.1,
          3.7,
          3.3,
          3.1,
          3.1,
          3.2,
          3.4,
          3.7,
          3.5,
          3.2,
          3.4,
          3.1,
          3.4,
          3.5,
          3.6,
          3.6,
          3.3,
          3.3,
          3.1,
          3.7,
          3.2,
          3.6,
          3.5,
          3.2,
          3.4,
          3.2,
          3.9,
          3.1,
          3.3,
          3,
          3.4,
          3.5,
          3.5,
          3.4,
          2.1,
          2.5,
          3.5,
          3.8,
          3,
          3.3,
          3.3,
          3.5,
          3,
          3.2,
          3.1,
          3.3,
          2.9,
          3.3,
          3.2,
          3.3,
          2.8,
          3.9,
          3.4,
          3.1,
          3.1,
          3.3,
          2.9,
          3.6,
          3.4,
          3.2,
          2.8,
          3.3,
          3.2,
          3.4,
          3.5,
          3.5,
          3.5,
          3.2,
          2.7,
          3.4,
          3.2,
          3.8,
          3.5,
          3,
          3,
          3.7,
          3.7,
          3.6,
          2.9,
          2.5,
          2.5,
          2.5,
          3.3,
          3.7,
          3.4,
          3.8,
          3.2,
          3.2,
          3.5,
          3,
          3.3,
          3,
          2.7,
          3.2,
          2.7,
          3.3,
          3.3,
          2.8,
          3.7,
          3.8,
          3,
          3.4,
          2.5,
          2.4,
          2.9,
          2.7,
          2.8,
          3.4,
          3.6,
          3.6,
          3.2,
          3.6,
          3.2,
          3.6,
          3.3,
          3.1,
          2.2,
          3.1,
          3.2,
          3.7,
          3.5,
          3.2,
          3.5,
          3.6,
          3,
          3.2,
          3.6,
          3.6,
          3.6,
          3.1,
          3.1,
          3.4,
          2.9,
          3.6,
          2.9,
          3.4,
          3.4,
          3.1,
          3.1,
          3.1,
          2.5,
          3.2,
          3.5,
          3,
          3.5,
          3,
          2.7,
          2.9,
          3.6,
          3.6,
          2.3,
          3.6,
          3.5,
          2.4,
          3.7,
          3.2,
          3.5,
          3.7,
          3.9,
          3.6,
          3.4,
          3.4,
          3.3,
          3.7,
          2.8,
          2.7,
          3.5,
          3.6,
          3.1,
          3.3,
          2.6,
          3.3,
          3.8,
          3.3,
          3.1,
          3.1,
          3.6,
          3.3,
          3,
          3.7,
          3.7,
          3.4,
          3.2,
          3,
          3.4,
          3.2,
          2.8,
          3.5,
          3.5,
          3.6,
          3.3,
          3.4,
          3.7,
          3.3,
          3.5,
          3.3,
          2.5,
          3.3,
          3.7,
          3.7,
          3.5,
          3,
          1.9,
          2.8,
          3.4,
          2.1,
          3,
          3.2,
          3.7,
          3.2,
          3.3,
          2.8,
          3.2,
          3.5,
          3.3,
          3.1,
          3.4,
          3.4,
          3.5,
          3.6,
          3.6,
          3.8,
          2.4,
          3.2,
          3.3,
          3.5,
          3.2,
          3.5,
          3.3,
          3.1,
          3.8,
          3.4,
          3.1,
          3.3,
          3.3,
          3.3,
          3.4,
          3.5,
          3.7,
          2.2,
          3.1,
          3.7,
          3.3,
          3.5,
          3.6,
          3.3,
          3.6,
          3.3,
          2.9,
          3.6,
          2.6,
          1.9,
          3.3,
          2.8,
          3.2,
          3.7,
          2.6,
          2.8,
          2.8,
          3.3,
          2.6,
          3.3,
          3.1,
          2.9,
          3.4,
          3.4,
          3.6,
          3.2,
          3.3,
          3.3,
          3.2,
          3.3,
          2.8,
          1.8,
          3.3,
          3.7,
          3.6,
          3,
          3.5,
          3.3,
          3.6,
          3.7,
          2.3,
          3.3,
          3.8,
          3.6,
          3.4,
          3.4,
          3.2,
          3.7,
          3.2,
          3.7,
          3.2,
          3.2,
          3.4,
          3.2,
          3.3,
          3,
          3.2,
          3.7,
          3.2,
          2.8,
          3.4,
          3.5,
          3.3,
          3.5,
          2.7,
          3,
          3.2,
          3.5,
          3,
          3.7,
          3.7,
          3.5,
          3.6,
          3.1,
          3.3,
          3.7,
          3.1,
          3.8,
          3.5,
          3.5,
          3.5,
          3.3,
          3,
          3.7,
          3.6,
          3.5,
          2.9,
          2.6,
          3.7,
          3.3,
          2.7,
          3,
          2.8,
          3.6,
          3.6,
          3.3,
          3.5,
          3,
          2.8,
          2.9,
          3.1,
          3.4
         ],
         "y": [
          66.5,
          66.5,
          69.5,
          69.5,
          69.5,
          69.5,
          69.5,
          69.5,
          69.5,
          69.5,
          69,
          69,
          69,
          72,
          72,
          72,
          72,
          72,
          72,
          85,
          85,
          85,
          85,
          85,
          85,
          85,
          85,
          85,
          85,
          85,
          85,
          85,
          66.5,
          100,
          100,
          100,
          100,
          100,
          87,
          87,
          104.5,
          104.5,
          104.5,
          104.5,
          104.5,
          104.5,
          104.5,
          104.5,
          104.5,
          104.5,
          104.5,
          104.5,
          106,
          106,
          106,
          106,
          106,
          106,
          106,
          106,
          106,
          106,
          106,
          106,
          106,
          72,
          72,
          72,
          72,
          72,
          80.5,
          80.5,
          80.5,
          80.5,
          80.5,
          80.5,
          80.5,
          80.5,
          80.5,
          80.5,
          80.5,
          79,
          79,
          79,
          79,
          79,
          79,
          79,
          80,
          80,
          80,
          80,
          80,
          80,
          80,
          80,
          80,
          80,
          73,
          73,
          73,
          73,
          73,
          73,
          73,
          73,
          73,
          73,
          73,
          122.5,
          122.5,
          122.5,
          122.5,
          122.5,
          122.5,
          122.5,
          122.5,
          122.5,
          122.5,
          122.5,
          122.5,
          122.5,
          63,
          63,
          63,
          77.5,
          77.5,
          77.5,
          77.5,
          77.5,
          77.5,
          79.5,
          79.5,
          79.5,
          79.5,
          79.5,
          79.5,
          79.5,
          79.5,
          79.5,
          79.5,
          79.5,
          79.5,
          59,
          59,
          113,
          113,
          113,
          113,
          113,
          113,
          113,
          113,
          113,
          113,
          113,
          113,
          77.5,
          77.5,
          77.5,
          77.5,
          77.5,
          77.5,
          77.5,
          77.5,
          61.5,
          61.5,
          61.5,
          61.5,
          61.5,
          98.5,
          98.5,
          98.5,
          98.5,
          98.5,
          98.5,
          98.5,
          98.5,
          98.5,
          98.5,
          73.5,
          73.5,
          73.5,
          73.5,
          73.5,
          73.5,
          73.5,
          73.5,
          73.5,
          73.5,
          73.5,
          73.5,
          73.5,
          73.5,
          73.5,
          73.5,
          74,
          74,
          74,
          74,
          74,
          74,
          74,
          74,
          74,
          74,
          74,
          74,
          68.5,
          68.5,
          68.5,
          68.5,
          68.5,
          59.5,
          88.5,
          88.5,
          88.5,
          88.5,
          88.5,
          88.5,
          88.5,
          88.5,
          88.5,
          88.5,
          88.5,
          88.5,
          88.5,
          88.5,
          88.5,
          71.5,
          71.5,
          71.5,
          81,
          81,
          81,
          81,
          81,
          81,
          81,
          99,
          99,
          99,
          99,
          99,
          99,
          99,
          99,
          99,
          99,
          99,
          99,
          99,
          99,
          92,
          92,
          92,
          92,
          92,
          92,
          92,
          92,
          92,
          92,
          92,
          63.5,
          63.5,
          63.5,
          63.5,
          63,
          68,
          68,
          68,
          68,
          68,
          68,
          68,
          68,
          150,
          150,
          150,
          150,
          150,
          150,
          150,
          120,
          120,
          120,
          98,
          98,
          98,
          98,
          98,
          72,
          72,
          72,
          72,
          72,
          72,
          72,
          75.5,
          75.5,
          75.5,
          75.5,
          75.5,
          75.5,
          75.5,
          75.5,
          75.5,
          89.5,
          89.5,
          89.5,
          89.5,
          89.5,
          59,
          59,
          78.5,
          78.5,
          78.5,
          78.5,
          78.5,
          78.5,
          78.5,
          78.5,
          78.5,
          78.5,
          68,
          68,
          66,
          68,
          68,
          68,
          68,
          76,
          76,
          76,
          76,
          76,
          76,
          76,
          80.5,
          80.5,
          80.5,
          80.5,
          80.5,
          80.5,
          80.5,
          138.5,
          138.5,
          138.5,
          138.5,
          126,
          126,
          126,
          126,
          126,
          126,
          126,
          126,
          126,
          99,
          99,
          99,
          99,
          92.5,
          92.5,
          92.5,
          92.5,
          92.5,
          92.5,
          66,
          66,
          66,
          66,
          60.5,
          78,
          78,
          78,
          78,
          62,
          62,
          70,
          70,
          70,
          70,
          70,
          70,
          70,
          78.5,
          78.5,
          78.5,
          78.5,
          78.5,
          78.5,
          78.5,
          78.5,
          78.5,
          78.5,
          78.5,
          78.5,
          78.5,
          78.5,
          91,
          91,
          91,
          91,
          91,
          91
         ],
         "z": [
          9,
          7,
          22,
          22,
          22,
          21,
          35,
          17,
          9,
          13,
          53,
          26,
          16,
          52,
          25,
          5,
          11,
          86,
          30,
          23,
          9,
          39,
          208,
          51,
          158,
          27,
          9,
          85,
          30,
          136,
          49,
          31,
          36,
          53,
          22,
          236,
          64,
          24,
          124,
          35,
          83,
          16,
          20,
          72,
          43,
          53,
          2,
          30,
          42,
          35,
          221,
          24,
          36,
          20,
          236,
          38,
          7,
          18,
          25,
          43,
          35,
          236,
          36,
          9,
          38,
          27,
          31,
          9,
          2,
          2,
          114,
          58,
          18,
          2,
          18,
          2,
          22,
          58,
          19,
          20,
          20,
          24,
          24,
          24,
          20,
          72,
          8,
          76,
          24,
          118,
          23,
          19,
          49,
          22,
          72,
          72,
          41,
          8,
          26,
          41,
          38,
          30,
          17,
          17,
          14,
          30,
          43,
          40,
          101,
          94,
          101,
          43,
          56,
          29,
          97,
          165,
          40,
          40,
          56,
          7,
          61,
          59,
          19,
          21,
          21,
          5,
          76,
          7,
          13,
          137,
          5,
          22,
          85,
          37,
          31,
          112,
          17,
          54,
          61,
          203,
          32,
          23,
          38,
          15,
          15,
          44,
          92,
          54,
          53,
          5,
          107,
          72,
          119,
          21,
          104,
          22,
          163,
          22,
          161,
          36,
          7,
          23,
          32,
          119,
          175,
          21,
          15,
          11,
          22,
          15,
          54,
          26,
          71,
          236,
          71,
          8,
          71,
          9,
          65,
          40,
          156,
          81,
          45,
          50,
          81,
          72,
          28,
          17,
          26,
          18,
          21,
          47,
          156,
          156,
          72,
          35,
          16,
          69,
          98,
          22,
          63,
          75,
          156,
          19,
          45,
          19,
          15,
          40,
          17,
          3,
          69,
          23,
          24,
          17,
          26,
          50,
          116,
          54,
          45,
          50,
          23,
          190,
          26,
          33,
          33,
          133,
          23,
          16,
          22,
          50,
          13,
          37,
          15,
          29,
          17,
          46,
          25,
          30,
          30,
          58,
          67,
          30,
          23,
          54,
          17,
          67,
          30,
          20,
          11,
          16,
          68,
          21,
          123,
          31,
          74,
          54,
          36,
          10,
          2,
          31,
          37,
          30,
          54,
          24,
          13,
          23,
          25,
          15,
          25,
          42,
          24,
          21,
          13,
          26,
          25,
          13,
          14,
          23,
          30,
          74,
          17,
          23,
          20,
          20,
          43,
          5,
          28,
          213,
          10,
          23,
          72,
          14,
          6,
          25,
          60,
          42,
          18,
          24,
          18,
          74,
          24,
          23,
          11,
          42,
          21,
          18,
          17,
          20,
          18,
          24,
          18,
          11,
          14,
          6,
          5,
          21,
          108,
          16,
          82,
          32,
          22,
          108,
          36,
          24,
          14,
          28,
          28,
          16,
          16,
          23,
          45,
          18,
          18,
          30,
          74,
          85,
          14,
          74,
          21,
          14,
          23,
          18,
          56,
          22,
          114,
          18,
          13,
          96,
          20,
          16,
          19,
          20,
          35,
          24,
          39,
          4,
          21,
          118,
          13,
          6,
          21,
          24,
          27,
          11,
          146,
          16,
          7,
          68,
          13,
          6,
          21,
          21,
          21,
          17,
          21,
          21,
          28,
          30,
          24,
          15,
          20,
          13,
          25,
          13,
          18,
          13,
          26,
          90,
          23,
          57,
          30,
          7,
          29,
          20,
          14,
          22,
          90,
          83,
          57,
          48,
          26,
          50,
          90,
          16,
          85,
          36,
          156
         ]
        },
        {
         "hovertemplate": "color=Cluster-1<br>Rating=%{x}<br>Mean Salary=%{y}<br>Years Founded=%{z}<extra></extra>",
         "legendgroup": "Cluster-1",
         "marker": {
          "color": "lightseagreen",
          "opacity": 0.9,
          "symbol": "circle"
         },
         "mode": "markers",
         "name": "Cluster-1",
         "scene": "scene",
         "showlegend": true,
         "type": "scatter3d",
         "x": [
          4.9,
          3.9,
          4.1,
          4.5,
          4.1,
          5,
          4,
          4,
          4.1,
          4.2,
          3.9,
          4.2,
          3.9,
          4.1,
          4.5,
          4.1,
          3.6,
          4.9,
          4.5,
          3.9,
          4.1,
          3.8,
          3.9,
          4,
          4.8,
          3.8,
          3.9,
          5,
          3.7,
          4.2,
          5,
          4,
          4,
          3.7,
          4.5,
          4.4,
          4.3,
          5,
          4.8,
          4.2,
          4.2,
          4,
          5,
          4.5,
          3.8,
          5,
          3.6,
          5,
          5,
          5,
          3.6,
          4.3,
          4.3,
          4.5,
          4.3,
          5,
          4.7,
          4,
          4.5,
          3.7,
          4.6,
          4.5,
          3.9,
          3.9,
          4,
          4.5,
          4,
          3.8,
          4.7,
          3.8,
          4.7,
          5,
          4.1,
          3.7,
          4.6,
          3.8,
          4.2,
          4.6,
          3.7,
          3.9,
          4.1,
          5,
          3.6,
          3.9,
          5,
          4.7,
          4.6,
          3.9,
          3.9,
          4.8,
          4.5,
          4,
          3.8,
          3.9,
          3.9,
          4.3,
          4,
          4.5,
          3.9,
          5,
          4.3,
          4.6,
          3.5,
          4.1,
          4.5,
          4.7,
          4,
          4,
          3.8,
          4,
          5,
          5,
          3.7,
          3.8,
          4.8,
          4.4,
          4.9,
          4.1,
          4.6,
          3.9,
          4.6,
          3.9,
          3.9,
          3.8,
          3.7,
          5,
          4.5,
          4,
          4.9,
          4.3,
          4.5,
          4.1,
          4.4,
          4.2,
          4.2,
          4.3,
          4.2,
          3.9,
          4.6,
          4.8,
          5,
          4.2,
          4.5,
          3.9,
          4.1,
          3.8,
          4,
          3.9,
          4.3,
          4.2,
          4.2,
          5,
          4.4,
          4.8,
          3.8,
          3.9,
          5,
          4,
          3.9,
          4.3,
          4.2,
          4.6,
          4.4,
          4.4,
          4.1,
          4.2,
          4.3,
          5,
          4.3,
          4.1,
          4.2,
          4.9,
          4.5,
          4.6,
          3.9,
          4,
          3.8,
          4,
          3.9,
          3.8,
          5,
          4.4,
          3.9,
          4,
          3.9,
          3.9,
          4.4,
          3.9,
          4.1,
          3.8,
          3.7,
          4,
          4.1,
          3.9,
          4.5,
          4.8,
          3.9,
          4,
          5,
          4.1,
          4.1,
          4.5,
          4.6,
          5,
          4,
          4.3,
          4.1,
          4.5,
          4.1,
          4.7,
          4.1,
          4.2,
          4.8,
          3.9,
          3.7,
          3.8,
          3.9,
          4.7,
          4.4,
          4.1,
          4.4,
          4.8,
          4.1,
          4.1,
          3.9,
          4.4,
          3.9,
          4.1,
          4.8,
          4.4,
          4.4,
          4.5,
          3.7,
          3.7,
          3.7,
          4,
          3.7,
          5,
          4.5,
          3.9,
          4.1,
          4.4,
          4.8,
          4.1,
          3.8,
          3.9,
          3.8,
          3.7,
          3.9,
          3.9,
          4.1,
          3.7,
          4.5,
          4.5,
          4.6,
          3.9,
          3.7,
          3.7,
          4.4,
          5,
          4.1,
          4.7,
          4.1,
          4.1,
          4.3,
          5,
          4.4,
          4.1,
          3.8,
          4.3,
          4,
          3.9,
          4,
          5,
          3.8,
          4.6,
          4.1,
          4.8,
          3.7,
          3.6,
          3.9,
          3.8,
          4,
          4.9,
          4.6,
          3.8,
          4,
          4.5,
          4.1,
          4,
          3.6,
          5,
          4.4,
          4.1,
          4.6,
          4.2,
          4.3,
          3.7,
          4,
          3.9,
          3.9,
          4.1,
          4.6,
          4,
          4.1,
          3.9,
          3.8,
          4.1,
          3.7,
          4.1,
          4.1,
          4.8,
          4.5,
          4.1,
          5,
          3.9,
          4,
          4.6,
          3.9,
          3.8,
          3.8,
          4,
          4.4,
          3.6,
          3.9,
          4,
          4.4,
          4.5,
          3.9,
          3.7,
          3.8,
          5,
          3.7,
          4.6,
          4,
          4.1,
          4.5,
          3.9,
          3.8,
          4,
          4.1,
          4.1,
          4.3,
          4.4,
          3.9,
          4,
          3.6,
          4.3,
          4.6,
          4.3,
          5,
          4.2,
          4.6,
          4.5,
          4.4,
          4.1,
          5,
          4.7,
          5,
          4.2,
          4.1,
          4,
          5,
          5,
          3.8,
          3.8,
          4
         ],
         "y": [
          66.5,
          69.5,
          69.5,
          69.5,
          69,
          72,
          72,
          72,
          72,
          72,
          72,
          72,
          72,
          85,
          85,
          85,
          85,
          100,
          100,
          87,
          87,
          87,
          87,
          87,
          87,
          87,
          104.5,
          104.5,
          104.5,
          104.5,
          104.5,
          104.5,
          106,
          106,
          106,
          106,
          106,
          106,
          106,
          106,
          106,
          106,
          72,
          72,
          80.5,
          80.5,
          79,
          79,
          79,
          79,
          79,
          79,
          79,
          79,
          79,
          79,
          79,
          79,
          80,
          80,
          80,
          80,
          80,
          80,
          80,
          80,
          80,
          80,
          73,
          73,
          73,
          122.5,
          122.5,
          122.5,
          122.5,
          122.5,
          77.5,
          77.5,
          77.5,
          77.5,
          77.5,
          77.5,
          77.5,
          77.5,
          77.5,
          77.5,
          77.5,
          77.5,
          77.5,
          77.5,
          79.5,
          79.5,
          79.5,
          79.5,
          79.5,
          79.5,
          79.5,
          113,
          113,
          113,
          113,
          113,
          113,
          77.5,
          98.5,
          98.5,
          98.5,
          98.5,
          98.5,
          98.5,
          98.5,
          98.5,
          98.5,
          98.5,
          98.5,
          73.5,
          73.5,
          73.5,
          73.5,
          73.5,
          73.5,
          73.5,
          74,
          74,
          74,
          74,
          74,
          74,
          68.5,
          68.5,
          68.5,
          68.5,
          88.5,
          88.5,
          88.5,
          88.5,
          88.5,
          88.5,
          71.5,
          71.5,
          71.5,
          71.5,
          71.5,
          81,
          81,
          81,
          81,
          81,
          99,
          99,
          99,
          99,
          99,
          99,
          99,
          99,
          99,
          92,
          92,
          92,
          92,
          92,
          92,
          92,
          92,
          92,
          92,
          92,
          92,
          92,
          92,
          92,
          150,
          150,
          150,
          150,
          150,
          150,
          150,
          150,
          150,
          150,
          150,
          150,
          150,
          150,
          120,
          120,
          120,
          120,
          120,
          120,
          120,
          120,
          120,
          120,
          120,
          120,
          120,
          120,
          120,
          120,
          120,
          120,
          120,
          98,
          98,
          98,
          98,
          98,
          98,
          98,
          98,
          98,
          98,
          98,
          98,
          98,
          98,
          98,
          98,
          72,
          72,
          72,
          72,
          72,
          72,
          72,
          72,
          72,
          72,
          75.5,
          75.5,
          75.5,
          75.5,
          75.5,
          75.5,
          75.5,
          75.5,
          75.5,
          75.5,
          75.5,
          75.5,
          75.5,
          89.5,
          89.5,
          89.5,
          89.5,
          89.5,
          89.5,
          89.5,
          89.5,
          78.5,
          78.5,
          78.5,
          78.5,
          78.5,
          78.5,
          68,
          68,
          68,
          68,
          76,
          76,
          76,
          76,
          76,
          76,
          76,
          76,
          80.5,
          80.5,
          80.5,
          80.5,
          80.5,
          80.5,
          80.5,
          80.5,
          80.5,
          80.5,
          80.5,
          80.5,
          80.5,
          80.5,
          80.5,
          80.5,
          80.5,
          80.5,
          138.5,
          138.5,
          138.5,
          138.5,
          138.5,
          138.5,
          138.5,
          138.5,
          138.5,
          138.5,
          138.5,
          138.5,
          138.5,
          138.5,
          138.5,
          138.5,
          138.5,
          126,
          126,
          126,
          126,
          126,
          126,
          126,
          126,
          126,
          126,
          126,
          126,
          126,
          99,
          99,
          99,
          99,
          99,
          99,
          99,
          99,
          99,
          99,
          99,
          92.5,
          92.5,
          92.5,
          92.5,
          92.5,
          92.5,
          92.5,
          92.5,
          92.5,
          92.5,
          92.5,
          92.5,
          92.5,
          78,
          78,
          78,
          78,
          78,
          78,
          78,
          78,
          78,
          78,
          78,
          78,
          78,
          70,
          70,
          70,
          70,
          78.5,
          78.5,
          78.5,
          78.5,
          78.5,
          78.5,
          78.5,
          91
         ],
         "z": [
          30,
          18,
          36,
          16,
          24,
          12,
          23,
          16,
          22,
          12,
          18,
          57,
          26,
          8,
          16,
          17,
          2,
          2,
          12,
          18,
          8,
          20,
          18,
          23,
          9,
          22,
          15,
          12,
          12,
          9,
          28,
          179,
          16,
          21,
          12,
          7,
          11,
          28,
          9,
          16,
          21,
          16,
          12,
          12,
          23,
          5,
          10,
          6,
          12,
          2,
          3,
          24,
          6,
          23,
          4,
          9,
          13,
          6,
          30,
          4,
          5,
          31,
          23,
          11,
          1,
          3,
          101,
          7,
          6,
          19,
          13,
          7,
          81,
          17,
          21,
          4,
          21,
          9,
          8,
          37,
          3,
          12,
          5,
          18,
          12,
          26,
          24,
          37,
          29,
          6,
          16,
          20,
          19,
          16,
          20,
          24,
          55,
          16,
          21,
          2,
          25,
          8,
          7,
          38,
          40,
          34,
          22,
          16,
          22,
          48,
          13,
          2,
          21,
          20,
          10,
          10,
          15,
          34,
          1,
          18,
          1,
          26,
          20,
          18,
          16,
          2,
          16,
          21,
          15,
          17,
          34,
          20,
          26,
          28,
          30,
          11,
          30,
          18,
          25,
          18,
          12,
          30,
          9,
          18,
          54,
          21,
          21,
          19,
          60,
          152,
          10,
          12,
          10,
          6,
          14,
          22,
          12,
          75,
          22,
          60,
          20,
          7,
          37,
          37,
          35,
          20,
          60,
          12,
          60,
          58,
          30,
          18,
          10,
          27,
          31,
          8,
          18,
          14,
          11,
          24,
          4,
          4,
          18,
          9,
          23,
          18,
          5,
          23,
          44,
          32,
          16,
          26,
          29,
          14,
          7,
          9,
          28,
          22,
          12,
          44,
          44,
          13,
          48,
          12,
          25,
          129,
          32,
          4,
          44,
          7,
          44,
          21,
          26,
          18,
          20,
          24,
          7,
          20,
          5,
          44,
          25,
          9,
          44,
          32,
          26,
          9,
          9,
          17,
          14,
          25,
          37,
          13,
          6,
          6,
          18,
          10,
          18,
          12,
          20,
          14,
          44,
          22,
          14,
          32,
          10,
          19,
          25,
          20,
          16,
          18,
          44,
          16,
          16,
          4,
          27,
          5,
          15,
          10,
          25,
          39,
          29,
          23,
          29,
          54,
          37,
          12,
          9,
          14,
          22,
          37,
          38,
          12,
          38,
          6,
          12,
          9,
          9,
          6,
          9,
          6,
          15,
          20,
          4,
          3,
          10,
          20,
          8,
          8,
          6,
          8,
          8,
          4,
          6,
          113,
          11,
          8,
          8,
          16,
          8,
          11,
          28,
          113,
          13,
          14,
          156,
          18,
          31,
          24,
          8,
          9,
          4,
          7,
          13,
          12,
          12,
          18,
          14,
          20,
          24,
          5,
          10,
          8,
          6,
          9,
          10,
          11,
          6,
          27,
          24,
          3,
          14,
          12,
          18,
          19,
          11,
          54,
          7,
          18,
          25,
          8,
          4,
          338,
          45,
          19,
          45,
          44,
          4,
          45,
          19,
          45,
          12,
          30,
          8,
          14,
          19,
          29,
          19,
          15,
          19,
          31,
          39,
          75,
          12,
          12,
          25,
          25,
          21
         ]
        }
       ],
       "layout": {
        "legend": {
         "title": {
          "text": "color"
         },
         "tracegroupgap": 0
        },
        "margin": {
         "b": 0,
         "l": 0,
         "r": 0,
         "t": 0
        },
        "scene": {
         "domain": {
          "x": [
           0,
           1
          ],
          "y": [
           0,
           1
          ]
         },
         "xaxis": {
          "title": {
           "text": "Rating"
          }
         },
         "yaxis": {
          "title": {
           "text": "Mean Salary"
          }
         },
         "zaxis": {
          "title": {
           "text": "Years Founded"
          }
         }
        },
        "template": {
         "data": {
          "bar": [
           {
            "error_x": {
             "color": "#2a3f5f"
            },
            "error_y": {
             "color": "#2a3f5f"
            },
            "marker": {
             "line": {
              "color": "#E5ECF6",
              "width": 0.5
             },
             "pattern": {
              "fillmode": "overlay",
              "size": 10,
              "solidity": 0.2
             }
            },
            "type": "bar"
           }
          ],
          "barpolar": [
           {
            "marker": {
             "line": {
              "color": "#E5ECF6",
              "width": 0.5
             },
             "pattern": {
              "fillmode": "overlay",
              "size": 10,
              "solidity": 0.2
             }
            },
            "type": "barpolar"
           }
          ],
          "carpet": [
           {
            "aaxis": {
             "endlinecolor": "#2a3f5f",
             "gridcolor": "white",
             "linecolor": "white",
             "minorgridcolor": "white",
             "startlinecolor": "#2a3f5f"
            },
            "baxis": {
             "endlinecolor": "#2a3f5f",
             "gridcolor": "white",
             "linecolor": "white",
             "minorgridcolor": "white",
             "startlinecolor": "#2a3f5f"
            },
            "type": "carpet"
           }
          ],
          "choropleth": [
           {
            "colorbar": {
             "outlinewidth": 0,
             "ticks": ""
            },
            "type": "choropleth"
           }
          ],
          "contour": [
           {
            "colorbar": {
             "outlinewidth": 0,
             "ticks": ""
            },
            "colorscale": [
             [
              0,
              "#0d0887"
             ],
             [
              0.1111111111111111,
              "#46039f"
             ],
             [
              0.2222222222222222,
              "#7201a8"
             ],
             [
              0.3333333333333333,
              "#9c179e"
             ],
             [
              0.4444444444444444,
              "#bd3786"
             ],
             [
              0.5555555555555556,
              "#d8576b"
             ],
             [
              0.6666666666666666,
              "#ed7953"
             ],
             [
              0.7777777777777778,
              "#fb9f3a"
             ],
             [
              0.8888888888888888,
              "#fdca26"
             ],
             [
              1,
              "#f0f921"
             ]
            ],
            "type": "contour"
           }
          ],
          "contourcarpet": [
           {
            "colorbar": {
             "outlinewidth": 0,
             "ticks": ""
            },
            "type": "contourcarpet"
           }
          ],
          "heatmap": [
           {
            "colorbar": {
             "outlinewidth": 0,
             "ticks": ""
            },
            "colorscale": [
             [
              0,
              "#0d0887"
             ],
             [
              0.1111111111111111,
              "#46039f"
             ],
             [
              0.2222222222222222,
              "#7201a8"
             ],
             [
              0.3333333333333333,
              "#9c179e"
             ],
             [
              0.4444444444444444,
              "#bd3786"
             ],
             [
              0.5555555555555556,
              "#d8576b"
             ],
             [
              0.6666666666666666,
              "#ed7953"
             ],
             [
              0.7777777777777778,
              "#fb9f3a"
             ],
             [
              0.8888888888888888,
              "#fdca26"
             ],
             [
              1,
              "#f0f921"
             ]
            ],
            "type": "heatmap"
           }
          ],
          "heatmapgl": [
           {
            "colorbar": {
             "outlinewidth": 0,
             "ticks": ""
            },
            "colorscale": [
             [
              0,
              "#0d0887"
             ],
             [
              0.1111111111111111,
              "#46039f"
             ],
             [
              0.2222222222222222,
              "#7201a8"
             ],
             [
              0.3333333333333333,
              "#9c179e"
             ],
             [
              0.4444444444444444,
              "#bd3786"
             ],
             [
              0.5555555555555556,
              "#d8576b"
             ],
             [
              0.6666666666666666,
              "#ed7953"
             ],
             [
              0.7777777777777778,
              "#fb9f3a"
             ],
             [
              0.8888888888888888,
              "#fdca26"
             ],
             [
              1,
              "#f0f921"
             ]
            ],
            "type": "heatmapgl"
           }
          ],
          "histogram": [
           {
            "marker": {
             "pattern": {
              "fillmode": "overlay",
              "size": 10,
              "solidity": 0.2
             }
            },
            "type": "histogram"
           }
          ],
          "histogram2d": [
           {
            "colorbar": {
             "outlinewidth": 0,
             "ticks": ""
            },
            "colorscale": [
             [
              0,
              "#0d0887"
             ],
             [
              0.1111111111111111,
              "#46039f"
             ],
             [
              0.2222222222222222,
              "#7201a8"
             ],
             [
              0.3333333333333333,
              "#9c179e"
             ],
             [
              0.4444444444444444,
              "#bd3786"
             ],
             [
              0.5555555555555556,
              "#d8576b"
             ],
             [
              0.6666666666666666,
              "#ed7953"
             ],
             [
              0.7777777777777778,
              "#fb9f3a"
             ],
             [
              0.8888888888888888,
              "#fdca26"
             ],
             [
              1,
              "#f0f921"
             ]
            ],
            "type": "histogram2d"
           }
          ],
          "histogram2dcontour": [
           {
            "colorbar": {
             "outlinewidth": 0,
             "ticks": ""
            },
            "colorscale": [
             [
              0,
              "#0d0887"
             ],
             [
              0.1111111111111111,
              "#46039f"
             ],
             [
              0.2222222222222222,
              "#7201a8"
             ],
             [
              0.3333333333333333,
              "#9c179e"
             ],
             [
              0.4444444444444444,
              "#bd3786"
             ],
             [
              0.5555555555555556,
              "#d8576b"
             ],
             [
              0.6666666666666666,
              "#ed7953"
             ],
             [
              0.7777777777777778,
              "#fb9f3a"
             ],
             [
              0.8888888888888888,
              "#fdca26"
             ],
             [
              1,
              "#f0f921"
             ]
            ],
            "type": "histogram2dcontour"
           }
          ],
          "mesh3d": [
           {
            "colorbar": {
             "outlinewidth": 0,
             "ticks": ""
            },
            "type": "mesh3d"
           }
          ],
          "parcoords": [
           {
            "line": {
             "colorbar": {
              "outlinewidth": 0,
              "ticks": ""
             }
            },
            "type": "parcoords"
           }
          ],
          "pie": [
           {
            "automargin": true,
            "type": "pie"
           }
          ],
          "scatter": [
           {
            "fillpattern": {
             "fillmode": "overlay",
             "size": 10,
             "solidity": 0.2
            },
            "type": "scatter"
           }
          ],
          "scatter3d": [
           {
            "line": {
             "colorbar": {
              "outlinewidth": 0,
              "ticks": ""
             }
            },
            "marker": {
             "colorbar": {
              "outlinewidth": 0,
              "ticks": ""
             }
            },
            "type": "scatter3d"
           }
          ],
          "scattercarpet": [
           {
            "marker": {
             "colorbar": {
              "outlinewidth": 0,
              "ticks": ""
             }
            },
            "type": "scattercarpet"
           }
          ],
          "scattergeo": [
           {
            "marker": {
             "colorbar": {
              "outlinewidth": 0,
              "ticks": ""
             }
            },
            "type": "scattergeo"
           }
          ],
          "scattergl": [
           {
            "marker": {
             "colorbar": {
              "outlinewidth": 0,
              "ticks": ""
             }
            },
            "type": "scattergl"
           }
          ],
          "scattermapbox": [
           {
            "marker": {
             "colorbar": {
              "outlinewidth": 0,
              "ticks": ""
             }
            },
            "type": "scattermapbox"
           }
          ],
          "scatterpolar": [
           {
            "marker": {
             "colorbar": {
              "outlinewidth": 0,
              "ticks": ""
             }
            },
            "type": "scatterpolar"
           }
          ],
          "scatterpolargl": [
           {
            "marker": {
             "colorbar": {
              "outlinewidth": 0,
              "ticks": ""
             }
            },
            "type": "scatterpolargl"
           }
          ],
          "scatterternary": [
           {
            "marker": {
             "colorbar": {
              "outlinewidth": 0,
              "ticks": ""
             }
            },
            "type": "scatterternary"
           }
          ],
          "surface": [
           {
            "colorbar": {
             "outlinewidth": 0,
             "ticks": ""
            },
            "colorscale": [
             [
              0,
              "#0d0887"
             ],
             [
              0.1111111111111111,
              "#46039f"
             ],
             [
              0.2222222222222222,
              "#7201a8"
             ],
             [
              0.3333333333333333,
              "#9c179e"
             ],
             [
              0.4444444444444444,
              "#bd3786"
             ],
             [
              0.5555555555555556,
              "#d8576b"
             ],
             [
              0.6666666666666666,
              "#ed7953"
             ],
             [
              0.7777777777777778,
              "#fb9f3a"
             ],
             [
              0.8888888888888888,
              "#fdca26"
             ],
             [
              1,
              "#f0f921"
             ]
            ],
            "type": "surface"
           }
          ],
          "table": [
           {
            "cells": {
             "fill": {
              "color": "#EBF0F8"
             },
             "line": {
              "color": "white"
             }
            },
            "header": {
             "fill": {
              "color": "#C8D4E3"
             },
             "line": {
              "color": "white"
             }
            },
            "type": "table"
           }
          ]
         },
         "layout": {
          "annotationdefaults": {
           "arrowcolor": "#2a3f5f",
           "arrowhead": 0,
           "arrowwidth": 1
          },
          "autotypenumbers": "strict",
          "coloraxis": {
           "colorbar": {
            "outlinewidth": 0,
            "ticks": ""
           }
          },
          "colorscale": {
           "diverging": [
            [
             0,
             "#8e0152"
            ],
            [
             0.1,
             "#c51b7d"
            ],
            [
             0.2,
             "#de77ae"
            ],
            [
             0.3,
             "#f1b6da"
            ],
            [
             0.4,
             "#fde0ef"
            ],
            [
             0.5,
             "#f7f7f7"
            ],
            [
             0.6,
             "#e6f5d0"
            ],
            [
             0.7,
             "#b8e186"
            ],
            [
             0.8,
             "#7fbc41"
            ],
            [
             0.9,
             "#4d9221"
            ],
            [
             1,
             "#276419"
            ]
           ],
           "sequential": [
            [
             0,
             "#0d0887"
            ],
            [
             0.1111111111111111,
             "#46039f"
            ],
            [
             0.2222222222222222,
             "#7201a8"
            ],
            [
             0.3333333333333333,
             "#9c179e"
            ],
            [
             0.4444444444444444,
             "#bd3786"
            ],
            [
             0.5555555555555556,
             "#d8576b"
            ],
            [
             0.6666666666666666,
             "#ed7953"
            ],
            [
             0.7777777777777778,
             "#fb9f3a"
            ],
            [
             0.8888888888888888,
             "#fdca26"
            ],
            [
             1,
             "#f0f921"
            ]
           ],
           "sequentialminus": [
            [
             0,
             "#0d0887"
            ],
            [
             0.1111111111111111,
             "#46039f"
            ],
            [
             0.2222222222222222,
             "#7201a8"
            ],
            [
             0.3333333333333333,
             "#9c179e"
            ],
            [
             0.4444444444444444,
             "#bd3786"
            ],
            [
             0.5555555555555556,
             "#d8576b"
            ],
            [
             0.6666666666666666,
             "#ed7953"
            ],
            [
             0.7777777777777778,
             "#fb9f3a"
            ],
            [
             0.8888888888888888,
             "#fdca26"
            ],
            [
             1,
             "#f0f921"
            ]
           ]
          },
          "colorway": [
           "#636efa",
           "#EF553B",
           "#00cc96",
           "#ab63fa",
           "#FFA15A",
           "#19d3f3",
           "#FF6692",
           "#B6E880",
           "#FF97FF",
           "#FECB52"
          ],
          "font": {
           "color": "#2a3f5f"
          },
          "geo": {
           "bgcolor": "white",
           "lakecolor": "white",
           "landcolor": "#E5ECF6",
           "showlakes": true,
           "showland": true,
           "subunitcolor": "white"
          },
          "hoverlabel": {
           "align": "left"
          },
          "hovermode": "closest",
          "mapbox": {
           "style": "light"
          },
          "paper_bgcolor": "white",
          "plot_bgcolor": "#E5ECF6",
          "polar": {
           "angularaxis": {
            "gridcolor": "white",
            "linecolor": "white",
            "ticks": ""
           },
           "bgcolor": "#E5ECF6",
           "radialaxis": {
            "gridcolor": "white",
            "linecolor": "white",
            "ticks": ""
           }
          },
          "scene": {
           "xaxis": {
            "backgroundcolor": "#E5ECF6",
            "gridcolor": "white",
            "gridwidth": 2,
            "linecolor": "white",
            "showbackground": true,
            "ticks": "",
            "zerolinecolor": "white"
           },
           "yaxis": {
            "backgroundcolor": "#E5ECF6",
            "gridcolor": "white",
            "gridwidth": 2,
            "linecolor": "white",
            "showbackground": true,
            "ticks": "",
            "zerolinecolor": "white"
           },
           "zaxis": {
            "backgroundcolor": "#E5ECF6",
            "gridcolor": "white",
            "gridwidth": 2,
            "linecolor": "white",
            "showbackground": true,
            "ticks": "",
            "zerolinecolor": "white"
           }
          },
          "shapedefaults": {
           "line": {
            "color": "#2a3f5f"
           }
          },
          "ternary": {
           "aaxis": {
            "gridcolor": "white",
            "linecolor": "white",
            "ticks": ""
           },
           "baxis": {
            "gridcolor": "white",
            "linecolor": "white",
            "ticks": ""
           },
           "bgcolor": "#E5ECF6",
           "caxis": {
            "gridcolor": "white",
            "linecolor": "white",
            "ticks": ""
           }
          },
          "title": {
           "x": 0.05
          },
          "xaxis": {
           "automargin": true,
           "gridcolor": "white",
           "linecolor": "white",
           "ticks": "",
           "title": {
            "standoff": 15
           },
           "zerolinecolor": "white",
           "zerolinewidth": 2
          },
          "yaxis": {
           "automargin": true,
           "gridcolor": "white",
           "linecolor": "white",
           "ticks": "",
           "title": {
            "standoff": 15
           },
           "zerolinecolor": "white",
           "zerolinewidth": 2
          }
         }
        }
       }
      },
      "text/html": [
       "<div>                            <div id=\"c6f36c66-d262-4756-9517-9eaaa726e903\" class=\"plotly-graph-div\" style=\"height:525px; width:100%;\"></div>            <script type=\"text/javascript\">                require([\"plotly\"], function(Plotly) {                    window.PLOTLYENV=window.PLOTLYENV || {};                                    if (document.getElementById(\"c6f36c66-d262-4756-9517-9eaaa726e903\")) {                    Plotly.newPlot(                        \"c6f36c66-d262-4756-9517-9eaaa726e903\",                        [{\"hovertemplate\":\"color=Cluster-3<br>Rating=%{x}<br>Mean Salary=%{y}<br>Years Founded=%{z}<extra></extra>\",\"legendgroup\":\"Cluster-3\",\"marker\":{\"color\":\"violet\",\"opacity\":0.9,\"symbol\":\"circle\"},\"mode\":\"markers\",\"name\":\"Cluster-3\",\"scene\":\"scene\",\"showlegend\":true,\"x\":[3.2,3.8,3.7,4.0,4.0,3.7,3.0,3.8,3.9,3.3,3.7,4.0,2.9,4.0,3.8,3.7,3.6,4.0,3.2,3.8,4.1,3.7,3.7,4.1,3.6,3.8,3.9,3.7,3.5,3.8,3.4,3.5,3.7,3.6,3.9,4.0,3.3,3.8,3.3,3.3,3.4,2.5,3.6,3.6,3.8,3.6,3.8,3.3,3.5,3.7,4.0,3.4,3.6,3.4,4.2,2.7,3.1,4.1,3.0,2.7,3.1,3.9,3.8,3.3,3.1,3.6,3.9,4.0,3.1,3.2,3.3,3.6,3.6,3.7,4.1,3.3,3.4,3.1,3.7,3.9,4.1,3.3,3.0,3.4,3.2,2.7,3.5,3.9,4.1,3.1,3.1,3.5,3.9,2.4,3.6,3.2,3.6,3.0,3.8,3.2,3.2,3.9,4.2,3.6,4.0,2.9,3.4,3.8,2.7,3.3,2.9,3.5,3.3,2.5,2.7,2.7,3.1,3.8,1.0,3.5,3.2,3.5,3.2,4.3,3.1,3.3,3.3,3.9,4.1,3.1,3.9,3.5,4.2,3.1,3.9,3.9,3.9,3.9,3.5,3.1,4.0,3.8,3.8,3.6,3.6,3.4,4.1,3.1,3.7,3.6,2.7,3.4,3.1,3.6,3.3,3.6,3.8,4.1,3.6,3.4,3.1,3.1,3.9,4.0,4.1,3.9,3.4,3.4,3.3,4.0,4.1,3.3,3.2,3.3,3.1,3.5,3.3,3.8,3.7,3.2,3.9,4.0,3.6,4.1,3.3,2.8,3.6,3.5,2.9,4.1,3.7,3.5,3.3,4.1,2.8,3.6,2.7,3.4,3.1,3.2,4.0,3.6,2.5,3.6,3.8,3.5,3.0,3.5,3.6,3.4,3.6,3.7,3.3,3.6,4.0,4.3,3.1,3.5,3.4,3.7,3.7,4.1,3.8,2.9,3.1,3.1,2.8,2.9,3.6,3.6,3.7,3.5,3.8,4.3,3.8,3.5,3.2,2.4,4.3,3.1,3.9,2.4,4.3,2.7,3.5,3.2,2.7,3.8,4.3,3.7,4.3,3.4,2.4,3.8,3.2,3.9,3.7,3.5,3.5,2.7,4.1,3.6,3.2,4.0,4.1,3.4,3.1,3.9,3.4,4.3,2.8,3.5,3.3,4.1,2.9,4.0,3.5,4.3,3.5,4.1,4.1,4.3,3.3,3.1,3.3,4.0,3.7,3.7,4.0,3.4,3.3,4.1,3.5,3.4,2.8,2.9,4.0,3.8,3.3,4.1,3.3,3.4,4.1,3.6,2.9,3.5,3.6,3.8,3.7,2.6,4.0,3.5,3.8,2.8,3.9,4.1,3.4,3.7,3.4,3.1,3.4,2.9,2.5,4.2,3.7,3.5,2.5,3.3,3.9,3.3,3.5,4.1,4.1,3.7,4.2,3.1,3.4,3.2,3.6,3.8,4.1,2.9,3.9,4.0,3.5,2.8,2.6,2.8,2.8,3.9,2.8,3.4,3.5,2.7,3.3,3.8,3.5,3.8,3.8,3.7,3.1,3.7,2.8,3.3,3.3,2.8,3.3,2.8,3.5,3.0,3.5,3.5,3.7,3.5,3.5,3.9,3.5,2.9,3.3,3.8,3.9,3.8,3.9,3.6,3.7,2.9,3.5,3.9,3.8,3.6,3.7,3.7,3.6,3.7,3.9,3.6,3.9,3.8,4.1,3.9,3.9,3.4,3.7,3.5,4.1,3.9,3.9,2.8,3.4,3.8,3.6,2.9,4.3,3.2,4.1,3.4,3.9,3.7,3.1,3.0,3.6,3.6,3.3,3.3,3.8,3.8,3.9,3.4,3.6,3.2,3.4,3.6,3.2,3.5,2.8,3.1,3.5,3.4,2.9,3.5,2.7,3.3,3.3,4.3,3.6,4.0,4.3,4.0,3.7,2.9,3.2,3.9,2.9,3.0,3.7,4.1,4.2,3.4,4.0,2.9,3.2,3.4,3.5,3.7,3.8,3.6,4.1,3.5,3.6,4.3],\"y\":[51.5,51.5,51.5,51.5,51.5,51.5,51.5,51.5,51.5,51.5,66.5,66.5,66.5,66.5,66.5,66.5,66.5,66.5,66.5,66.5,69.5,69.5,69.5,69.5,69.0,69.0,69.0,69.0,69.0,69.0,69.0,72.0,72.0,72.0,72.0,59.5,59.5,59.5,59.5,59.5,59.5,59.5,59.5,59.5,59.5,59.5,59.5,59.5,59.5,59.5,59.5,59.5,59.5,59.5,59.5,59.5,59.5,59.5,59.5,59.5,59.5,59.5,66.5,66.5,66.5,66.5,66.5,66.5,39.5,39.5,39.5,39.5,39.5,39.5,39.5,39.5,39.5,39.5,39.5,39.5,39.5,39.5,39.5,39.5,39.5,58.0,58.0,58.0,58.0,58.0,58.0,58.0,58.0,58.0,58.0,58.0,58.0,58.0,72.0,72.0,72.0,72.0,36.5,36.5,36.5,36.5,36.5,36.5,36.5,36.5,45.0,64.0,64.0,56.0,56.0,56.0,56.0,56.0,56.0,56.0,56.0,56.0,56.0,42.0,42.0,42.0,42.0,79.0,53.5,53.5,53.5,53.5,53.5,53.5,53.5,53.5,53.5,53.5,53.5,53.5,40.0,40.0,40.0,40.0,40.0,40.0,40.0,40.0,40.0,40.0,40.0,40.0,40.0,54.0,54.0,54.0,54.0,54.0,54.0,54.0,54.0,54.0,73.0,73.0,73.0,63.0,63.0,63.0,63.0,63.0,63.0,63.0,63.0,63.0,63.0,63.0,63.0,63.0,63.0,63.0,79.5,79.5,59.0,59.0,59.0,59.0,59.0,59.0,59.0,59.0,59.0,59.0,59.0,33.5,33.5,33.5,33.5,33.5,33.5,33.5,33.5,33.5,33.5,33.5,61.5,61.5,61.5,61.5,61.5,61.5,61.5,61.5,61.5,61.5,73.5,74.0,68.5,68.5,68.5,68.5,68.5,68.5,61.5,61.5,61.5,61.5,61.5,61.5,59.5,59.5,59.5,59.5,59.5,59.5,59.5,59.5,53.0,53.0,53.0,53.0,53.0,53.0,53.0,53.0,53.0,53.0,53.0,53.0,40.5,40.5,40.5,40.5,40.5,40.5,40.5,40.5,40.5,40.5,40.5,40.5,40.5,40.5,71.5,71.5,71.5,52.5,52.5,52.5,52.5,52.5,52.5,52.5,52.5,52.5,52.5,52.5,52.5,47.5,47.5,36.0,36.0,36.0,36.0,36.0,36.0,36.0,36.0,36.0,36.0,36.0,36.0,36.0,36.0,36.0,36.0,36.0,36.0,36.0,41.5,41.5,41.5,41.5,41.5,41.5,41.5,41.5,41.5,41.5,41.5,41.5,41.5,41.5,41.5,41.5,63.5,63.5,63.5,63.5,63.5,63.5,63.5,63.5,63.5,63.0,63.0,63.0,63.0,63.0,63.0,63.0,63.0,68.0,68.0,68.0,68.0,68.0,68.0,61.0,61.0,61.0,61.0,61.0,72.0,75.5,59.0,59.0,59.0,59.0,59.0,59.0,59.0,59.0,59.0,38.5,38.5,38.5,38.5,38.5,38.5,38.5,38.5,38.5,38.5,38.5,38.5,38.5,38.5,60.0,60.0,56.0,56.0,56.0,56.0,56.0,56.0,56.0,56.0,56.0,68.0,68.0,68.0,68.0,51.0,63.5,40.0,40.0,40.0,40.0,40.0,40.0,40.0,40.0,40.0,66.0,66.0,68.0,68.0,68.0,68.0,68.0,68.0,68.0,68.0,68.0,68.0,68.0,68.0,64.5,64.5,64.5,64.5,64.5,64.5,64.5,64.5,64.5,64.5,76.0,57.0,57.0,57.0,57.0,57.0,57.0,66.0,60.5,60.5,60.5,60.5,60.5,60.5,60.5,47.5,47.5,47.5,47.5,47.5,47.5,47.5,47.5,47.5,51.0,51.0,51.0,51.0,51.0,51.0,51.0,51.0,51.0,51.0,51.0,51.0,51.0,51.0,78.0,44.0,51.5,62.0,62.0,62.0,62.0,62.0,62.0,62.0,70.0,70.0,70.0,70.0,70.0],\"z\":[59,127,106,124,179,136,16,24,62,51,116,179,64,97,30,30,51,97,69,39,54,81,208,75,58,25,221,102,72,53,125,175,109,188,82,179,28,43,20,28,36,134,158,21,114,22,39,54,52,208,97,53,51,21,39,161,24,36,35,23,74,221,53,202,74,88,82,97,27,236,164,43,31,31,54,42,24,74,208,221,36,108,35,19,22,23,23,221,35,63,74,23,221,83,38,56,88,36,53,236,236,58,170,37,151,25,73,24,19,26,25,72,52,152,28,24,84,106,85,22,18,58,28,167,24,36,36,118,132,18,118,49,140,47,97,38,118,89,82,42,75,37,47,66,66,22,54,40,109,40,72,59,40,26,22,66,81,44,66,25,18,40,85,148,81,29,74,74,34,130,134,41,138,56,49,137,183,73,203,138,183,130,192,54,114,19,22,137,59,38,131,137,122,36,15,26,13,54,58,236,65,71,54,52,53,21,50,72,40,54,198,35,36,71,60,135,156,50,131,66,106,54,24,69,81,156,28,57,52,26,54,50,25,280,31,72,15,33,280,37,221,116,280,13,27,45,22,28,280,165,280,19,33,25,45,165,104,28,63,22,54,26,236,46,54,29,24,34,35,115,19,29,25,54,55,59,24,60,34,32,32,44,26,47,21,151,63,106,151,101,26,155,50,21,22,22,99,53,153,54,153,131,107,49,87,23,106,114,208,54,151,33,25,22,57,36,53,208,73,146,24,87,53,53,24,29,53,74,221,29,58,54,54,208,53,82,73,25,97,25,54,108,63,75,25,22,24,108,108,83,108,40,72,33,21,29,84,24,106,23,24,35,108,21,21,63,36,63,50,26,72,150,39,22,150,99,150,30,97,29,85,25,34,21,128,35,128,221,51,132,128,128,132,128,221,168,31,52,54,37,28,40,52,72,54,37,37,85,53,25,23,64,37,322,54,53,37,116,156,16,23,45,74,74,37,73,39,19,168,24,23,40,19,22,22,22,130,69,23,145,41,24,23,45,103,44,45,44,24,20,28,45,75,22,24,144,235,23,38,75,27,23,111,104,25,47,54,99,63,231],\"type\":\"scatter3d\"},{\"hovertemplate\":\"color=Cluster-2<br>Rating=%{x}<br>Mean Salary=%{y}<br>Years Founded=%{z}<extra></extra>\",\"legendgroup\":\"Cluster-2\",\"marker\":{\"color\":\"orange\",\"opacity\":0.9,\"symbol\":\"circle\"},\"mode\":\"markers\",\"name\":\"Cluster-2\",\"scene\":\"scene\",\"showlegend\":true,\"x\":[3.4,4.1,3.9,3.9,4.4,4.4,3.4,3.8,4.9,4.4,5.0,4.8,3.6,5.0,3.6,3.9,3.6,3.9,4.8,3.9,4.4,4.7,3.8,4.6,4.0,5.0,3.6,3.4,3.4,3.2,3.8,4.1,2.9,3.9,3.3,3.7,5.0,5.0,4.5,4.8,3.5,3.9,3.5,4.0,4.3,4.0,4.1,4.8,3.7,4.6,4.0,3.9,4.3,3.7,3.8,3.6,4.0,4.0,4.0,4.1,4.5,4.6,4.1,3.6,4.5,3.5,4.1,4.0,3.5,4.2,4.3,5.0,4.9,5.0,4.9,3.8,5.0,5.0,3.8,4.9,3.5,3.8,4.9,5.0,5.0,5.0,5.0,3.7,3.8,3.8,4.1,3.7,4.7,4.0,5.0,5.0,4.9,3.7,3.0,3.5,4.6,3.8,3.7,4.0,4.9,4.3,4.2,3.9,3.8,3.8,3.7,3.7,5.0,3.8,3.7,3.9,4.6,4.6,4.7,4.3,3.8,4.8,4.2,3.2,4.8,4.1,4.5,5.0,3.9,3.9,4.8,4.3,4.1,3.9,3.9,4.8,5.0,4.7,4.8,4.1,3.9,3.7,3.8,4.1,4.0,4.5,3.6,3.2,4.7,3.9,3.9,3.9,3.8,5.0,4.2,3.3,4.1,3.9,5.0,4.2,3.9,3.9,3.1,4.5,4.1,3.5,4.0,3.9,4.7,4.2,3.7,4.5,3.9,3.9,4.0,3.9,3.7,4.1,3.4,5.0,4.0,4.5,3.7,4.0,3.3,3.7,4.9,3.9,4.4,5.0,3.8,3.6,4.6,3.6,3.8,4.1,5.0,4.5,4.4,4.3,4.2,4.2,3.4,3.8,3.6,3.6,3.7,3.4,4.2,3.9,4.3,3.9,4.5,3.9,4.6,3.8,4.6,4.1,4.1,4.9,4.7,4.0,4.6,4.3,5.0,3.2,3.8,5.0,4.0,3.5,3.9,5.0,3.5,3.5,2.7,5.0,5.0,5.0,5.0,3.9,5.0,4.2,4.8,4.8,4.2,3.6,5.0,5.0,3.4,4.5,5.0,4.5,5.0,4.0,4.5,4.5,3.8,3.8,4.1,5.0,3.9,3.6,3.7,4.1,3.5,3.5,5.0,4.0,3.8,3.8,4.5,4.8,3.9,3.9,3.9,4.4,3.9,3.6,5.0,4.4,4.4,4.9,4.3,4.8,3.4,4.6,3.8,4.6,3.8,4.6,4.6,5.0,3.3,4.2,3.8,5.0,3.6,4.6,5.0,4.0,5.0,4.3,4.6,3.5,5.0,4.7,5.0,4.4,5.0,5.0,5.0,3.8,3.8,3.6,4.0,3.8,4.3,3.8,5.0,4.1,3.9,4.0,5.0,3.7,3.6,5.0,4.6,3.5,3.7],\"y\":[51.5,51.5,51.5,51.5,51.5,51.5,51.5,51.5,51.5,51.5,51.5,51.5,66.5,66.5,66.5,66.5,66.5,66.5,69.5,69.5,69.0,69.0,69.0,69.0,69.0,69.0,59.5,59.5,59.5,59.5,59.5,59.5,59.5,59.5,59.5,59.5,59.5,59.5,59.5,59.5,59.5,66.5,39.5,39.5,39.5,39.5,39.5,39.5,39.5,39.5,58.0,58.0,58.0,58.0,58.0,58.0,58.0,58.0,58.0,36.5,36.5,36.5,36.5,36.5,36.5,36.5,36.5,45.0,45.0,45.0,56.0,56.0,56.0,56.0,56.0,56.0,56.0,56.0,56.0,56.0,56.0,56.0,56.0,42.0,42.0,42.0,42.0,53.5,53.5,53.5,53.5,53.5,53.5,53.5,53.5,40.0,40.0,40.0,40.0,40.0,40.0,40.0,54.0,54.0,54.0,54.0,54.0,54.0,54.0,54.0,63.0,63.0,63.0,63.0,63.0,63.0,63.0,63.0,63.0,63.0,63.0,59.0,59.0,59.0,59.0,59.0,59.0,59.0,33.5,33.5,33.5,33.5,33.5,33.5,33.5,33.5,61.5,61.5,61.5,61.5,68.5,68.5,68.5,61.5,61.5,61.5,59.5,59.5,59.5,59.5,59.5,59.5,59.5,59.5,59.5,59.5,59.5,59.5,53.0,53.0,53.0,53.0,53.0,53.0,53.0,53.0,40.5,40.5,40.5,40.5,40.5,40.5,40.5,71.5,52.5,52.5,52.5,52.5,52.5,52.5,52.5,52.5,52.5,52.5,47.5,47.5,36.0,36.0,36.0,36.0,41.5,41.5,41.5,41.5,41.5,41.5,41.5,63.5,63.5,63.5,63.5,63.5,63.5,63.0,63.0,63.0,63.0,63.0,63.0,68.0,68.0,61.0,61.0,72.0,59.0,59.0,59.0,59.0,59.0,59.0,59.0,59.0,59.0,59.0,59.0,59.0,59.0,59.0,59.0,38.5,38.5,38.5,38.5,38.5,38.5,56.0,56.0,56.0,56.0,56.0,68.0,51.0,51.0,51.0,40.0,40.0,40.0,40.0,40.0,40.0,40.0,40.0,40.0,40.0,40.0,66.0,68.0,68.0,68.0,68.0,68.0,64.5,64.5,64.5,64.5,64.5,64.5,64.5,57.0,57.0,66.0,66.0,66.0,66.0,66.0,66.0,66.0,66.0,66.0,66.0,66.0,66.0,60.5,60.5,60.5,60.5,60.5,60.5,60.5,60.5,60.5,60.5,47.5,47.5,47.5,47.5,47.5,47.5,47.5,47.5,47.5,51.0,51.0,51.0,51.0,51.0,51.0,0.5,44.0,44.0,44.0,51.5,62.0,62.0,62.0,62.0,62.0,62.0,62.0,62.0,62.0,62.0,62.0,62.0,62.0,62.0,62.0,70.0,70.0],\"z\":[17,18,11,6,19,7,4,19,14,22,9,3,15,4,13,18,5,20,3,15,9,3,8,9,16,6,7,7,7,11,5,22,5,18,12,5,12,8,30,9,12,18,18,22,12,16,22,9,11,24,16,18,14,17,8,2,16,16,16,2,9,19,22,20,9,9,9,14,9,16,36,12,20,12,20,23,5,12,23,20,6,23,20,12,12,12,12,20,7,13,4,17,33,6,12,12,15,17,7,14,19,4,4,24,15,24,26,10,9,4,20,13,21,19,9,20,10,10,26,23,21,6,17,13,9,19,12,12,20,23,6,8,17,20,16,10,12,34,10,17,18,16,13,13,20,12,12,3,7,16,20,20,18,12,28,7,29,20,12,6,20,20,5,9,29,14,8,9,24,30,15,9,9,9,10,18,9,6,10,12,21,4,21,17,2,16,5,20,25,12,15,3,21,3,10,16,12,30,21,12,12,22,8,15,3,7,21,5,12,18,9,19,7,7,3,4,6,12,13,15,10,10,3,21,12,8,22,12,7,14,14,12,13,13,5,12,12,12,38,18,14,22,21,21,21,8,12,12,16,20,23,12,12,21,12,26,3,15,21,12,18,15,21,24,1,4,12,10,3,22,23,7,18,18,18,9,15,16,12,13,25,19,16,7,8,20,5,20,5,20,20,22,6,8,5,12,19,10,12,10,12,9,19,12,12,23,12,19,12,12,12,5,19,10,12,15,23,20,2,29,7,5,12,16,15,12,27,8,16],\"type\":\"scatter3d\"},{\"hovertemplate\":\"color=Cluster-4<br>Rating=%{x}<br>Mean Salary=%{y}<br>Years Founded=%{z}<extra></extra>\",\"legendgroup\":\"Cluster-4\",\"marker\":{\"color\":\"burlywood\",\"opacity\":0.9,\"symbol\":\"circle\"},\"mode\":\"markers\",\"name\":\"Cluster-4\",\"scene\":\"scene\",\"showlegend\":true,\"x\":[3.2,3.0,3.6,3.6,3.6,3.7,3.5,3.3,3.1,3.4,3.0,2.8,3.6,3.5,3.3,2.9,3.2,2.7,3.1,3.7,3.1,3.7,3.7,3.6,3.6,3.7,3.1,3.8,3.7,3.7,3.2,3.5,3.0,3.8,3.6,3.2,2.9,3.1,3.8,3.0,2.4,2.8,2.8,3.5,2.0,3.3,3.4,3.6,2.8,3.0,3.9,3.4,3.2,2.8,3.2,3.4,3.4,3.5,3.3,3.6,2.7,3.2,3.0,3.1,3.7,3.3,3.1,3.1,3.2,3.4,3.7,3.5,3.2,3.4,3.1,3.4,3.5,3.6,3.6,3.3,3.3,3.1,3.7,3.2,3.6,3.5,3.2,3.4,3.2,3.9,3.1,3.3,3.0,3.4,3.5,3.5,3.4,2.1,2.5,3.5,3.8,3.0,3.3,3.3,3.5,3.0,3.2,3.1,3.3,2.9,3.3,3.2,3.3,2.8,3.9,3.4,3.1,3.1,3.3,2.9,3.6,3.4,3.2,2.8,3.3,3.2,3.4,3.5,3.5,3.5,3.2,2.7,3.4,3.2,3.8,3.5,3.0,3.0,3.7,3.7,3.6,2.9,2.5,2.5,2.5,3.3,3.7,3.4,3.8,3.2,3.2,3.5,3.0,3.3,3.0,2.7,3.2,2.7,3.3,3.3,2.8,3.7,3.8,3.0,3.4,2.5,2.4,2.9,2.7,2.8,3.4,3.6,3.6,3.2,3.6,3.2,3.6,3.3,3.1,2.2,3.1,3.2,3.7,3.5,3.2,3.5,3.6,3.0,3.2,3.6,3.6,3.6,3.1,3.1,3.4,2.9,3.6,2.9,3.4,3.4,3.1,3.1,3.1,2.5,3.2,3.5,3.0,3.5,3.0,2.7,2.9,3.6,3.6,2.3,3.6,3.5,2.4,3.7,3.2,3.5,3.7,3.9,3.6,3.4,3.4,3.3,3.7,2.8,2.7,3.5,3.6,3.1,3.3,2.6,3.3,3.8,3.3,3.1,3.1,3.6,3.3,3.0,3.7,3.7,3.4,3.2,3.0,3.4,3.2,2.8,3.5,3.5,3.6,3.3,3.4,3.7,3.3,3.5,3.3,2.5,3.3,3.7,3.7,3.5,3.0,1.9,2.8,3.4,2.1,3.0,3.2,3.7,3.2,3.3,2.8,3.2,3.5,3.3,3.1,3.4,3.4,3.5,3.6,3.6,3.8,2.4,3.2,3.3,3.5,3.2,3.5,3.3,3.1,3.8,3.4,3.1,3.3,3.3,3.3,3.4,3.5,3.7,2.2,3.1,3.7,3.3,3.5,3.6,3.3,3.6,3.3,2.9,3.6,2.6,1.9,3.3,2.8,3.2,3.7,2.6,2.8,2.8,3.3,2.6,3.3,3.1,2.9,3.4,3.4,3.6,3.2,3.3,3.3,3.2,3.3,2.8,1.8,3.3,3.7,3.6,3.0,3.5,3.3,3.6,3.7,2.3,3.3,3.8,3.6,3.4,3.4,3.2,3.7,3.2,3.7,3.2,3.2,3.4,3.2,3.3,3.0,3.2,3.7,3.2,2.8,3.4,3.5,3.3,3.5,2.7,3.0,3.2,3.5,3.0,3.7,3.7,3.5,3.6,3.1,3.3,3.7,3.1,3.8,3.5,3.5,3.5,3.3,3.0,3.7,3.6,3.5,2.9,2.6,3.7,3.3,2.7,3.0,2.8,3.6,3.6,3.3,3.5,3.0,2.8,2.9,3.1,3.4],\"y\":[66.5,66.5,69.5,69.5,69.5,69.5,69.5,69.5,69.5,69.5,69.0,69.0,69.0,72.0,72.0,72.0,72.0,72.0,72.0,85.0,85.0,85.0,85.0,85.0,85.0,85.0,85.0,85.0,85.0,85.0,85.0,85.0,66.5,100.0,100.0,100.0,100.0,100.0,87.0,87.0,104.5,104.5,104.5,104.5,104.5,104.5,104.5,104.5,104.5,104.5,104.5,104.5,106.0,106.0,106.0,106.0,106.0,106.0,106.0,106.0,106.0,106.0,106.0,106.0,106.0,72.0,72.0,72.0,72.0,72.0,80.5,80.5,80.5,80.5,80.5,80.5,80.5,80.5,80.5,80.5,80.5,79.0,79.0,79.0,79.0,79.0,79.0,79.0,80.0,80.0,80.0,80.0,80.0,80.0,80.0,80.0,80.0,80.0,73.0,73.0,73.0,73.0,73.0,73.0,73.0,73.0,73.0,73.0,73.0,122.5,122.5,122.5,122.5,122.5,122.5,122.5,122.5,122.5,122.5,122.5,122.5,122.5,63.0,63.0,63.0,77.5,77.5,77.5,77.5,77.5,77.5,79.5,79.5,79.5,79.5,79.5,79.5,79.5,79.5,79.5,79.5,79.5,79.5,59.0,59.0,113.0,113.0,113.0,113.0,113.0,113.0,113.0,113.0,113.0,113.0,113.0,113.0,77.5,77.5,77.5,77.5,77.5,77.5,77.5,77.5,61.5,61.5,61.5,61.5,61.5,98.5,98.5,98.5,98.5,98.5,98.5,98.5,98.5,98.5,98.5,73.5,73.5,73.5,73.5,73.5,73.5,73.5,73.5,73.5,73.5,73.5,73.5,73.5,73.5,73.5,73.5,74.0,74.0,74.0,74.0,74.0,74.0,74.0,74.0,74.0,74.0,74.0,74.0,68.5,68.5,68.5,68.5,68.5,59.5,88.5,88.5,88.5,88.5,88.5,88.5,88.5,88.5,88.5,88.5,88.5,88.5,88.5,88.5,88.5,71.5,71.5,71.5,81.0,81.0,81.0,81.0,81.0,81.0,81.0,99.0,99.0,99.0,99.0,99.0,99.0,99.0,99.0,99.0,99.0,99.0,99.0,99.0,99.0,92.0,92.0,92.0,92.0,92.0,92.0,92.0,92.0,92.0,92.0,92.0,63.5,63.5,63.5,63.5,63.0,68.0,68.0,68.0,68.0,68.0,68.0,68.0,68.0,150.0,150.0,150.0,150.0,150.0,150.0,150.0,120.0,120.0,120.0,98.0,98.0,98.0,98.0,98.0,72.0,72.0,72.0,72.0,72.0,72.0,72.0,75.5,75.5,75.5,75.5,75.5,75.5,75.5,75.5,75.5,89.5,89.5,89.5,89.5,89.5,59.0,59.0,78.5,78.5,78.5,78.5,78.5,78.5,78.5,78.5,78.5,78.5,68.0,68.0,66.0,68.0,68.0,68.0,68.0,76.0,76.0,76.0,76.0,76.0,76.0,76.0,80.5,80.5,80.5,80.5,80.5,80.5,80.5,138.5,138.5,138.5,138.5,126.0,126.0,126.0,126.0,126.0,126.0,126.0,126.0,126.0,99.0,99.0,99.0,99.0,92.5,92.5,92.5,92.5,92.5,92.5,66.0,66.0,66.0,66.0,60.5,78.0,78.0,78.0,78.0,62.0,62.0,70.0,70.0,70.0,70.0,70.0,70.0,70.0,78.5,78.5,78.5,78.5,78.5,78.5,78.5,78.5,78.5,78.5,78.5,78.5,78.5,78.5,91.0,91.0,91.0,91.0,91.0,91.0],\"z\":[9,7,22,22,22,21,35,17,9,13,53,26,16,52,25,5,11,86,30,23,9,39,208,51,158,27,9,85,30,136,49,31,36,53,22,236,64,24,124,35,83,16,20,72,43,53,2,30,42,35,221,24,36,20,236,38,7,18,25,43,35,236,36,9,38,27,31,9,2,2,114,58,18,2,18,2,22,58,19,20,20,24,24,24,20,72,8,76,24,118,23,19,49,22,72,72,41,8,26,41,38,30,17,17,14,30,43,40,101,94,101,43,56,29,97,165,40,40,56,7,61,59,19,21,21,5,76,7,13,137,5,22,85,37,31,112,17,54,61,203,32,23,38,15,15,44,92,54,53,5,107,72,119,21,104,22,163,22,161,36,7,23,32,119,175,21,15,11,22,15,54,26,71,236,71,8,71,9,65,40,156,81,45,50,81,72,28,17,26,18,21,47,156,156,72,35,16,69,98,22,63,75,156,19,45,19,15,40,17,3,69,23,24,17,26,50,116,54,45,50,23,190,26,33,33,133,23,16,22,50,13,37,15,29,17,46,25,30,30,58,67,30,23,54,17,67,30,20,11,16,68,21,123,31,74,54,36,10,2,31,37,30,54,24,13,23,25,15,25,42,24,21,13,26,25,13,14,23,30,74,17,23,20,20,43,5,28,213,10,23,72,14,6,25,60,42,18,24,18,74,24,23,11,42,21,18,17,20,18,24,18,11,14,6,5,21,108,16,82,32,22,108,36,24,14,28,28,16,16,23,45,18,18,30,74,85,14,74,21,14,23,18,56,22,114,18,13,96,20,16,19,20,35,24,39,4,21,118,13,6,21,24,27,11,146,16,7,68,13,6,21,21,21,17,21,21,28,30,24,15,20,13,25,13,18,13,26,90,23,57,30,7,29,20,14,22,90,83,57,48,26,50,90,16,85,36,156],\"type\":\"scatter3d\"},{\"hovertemplate\":\"color=Cluster-1<br>Rating=%{x}<br>Mean Salary=%{y}<br>Years Founded=%{z}<extra></extra>\",\"legendgroup\":\"Cluster-1\",\"marker\":{\"color\":\"lightseagreen\",\"opacity\":0.9,\"symbol\":\"circle\"},\"mode\":\"markers\",\"name\":\"Cluster-1\",\"scene\":\"scene\",\"showlegend\":true,\"x\":[4.9,3.9,4.1,4.5,4.1,5.0,4.0,4.0,4.1,4.2,3.9,4.2,3.9,4.1,4.5,4.1,3.6,4.9,4.5,3.9,4.1,3.8,3.9,4.0,4.8,3.8,3.9,5.0,3.7,4.2,5.0,4.0,4.0,3.7,4.5,4.4,4.3,5.0,4.8,4.2,4.2,4.0,5.0,4.5,3.8,5.0,3.6,5.0,5.0,5.0,3.6,4.3,4.3,4.5,4.3,5.0,4.7,4.0,4.5,3.7,4.6,4.5,3.9,3.9,4.0,4.5,4.0,3.8,4.7,3.8,4.7,5.0,4.1,3.7,4.6,3.8,4.2,4.6,3.7,3.9,4.1,5.0,3.6,3.9,5.0,4.7,4.6,3.9,3.9,4.8,4.5,4.0,3.8,3.9,3.9,4.3,4.0,4.5,3.9,5.0,4.3,4.6,3.5,4.1,4.5,4.7,4.0,4.0,3.8,4.0,5.0,5.0,3.7,3.8,4.8,4.4,4.9,4.1,4.6,3.9,4.6,3.9,3.9,3.8,3.7,5.0,4.5,4.0,4.9,4.3,4.5,4.1,4.4,4.2,4.2,4.3,4.2,3.9,4.6,4.8,5.0,4.2,4.5,3.9,4.1,3.8,4.0,3.9,4.3,4.2,4.2,5.0,4.4,4.8,3.8,3.9,5.0,4.0,3.9,4.3,4.2,4.6,4.4,4.4,4.1,4.2,4.3,5.0,4.3,4.1,4.2,4.9,4.5,4.6,3.9,4.0,3.8,4.0,3.9,3.8,5.0,4.4,3.9,4.0,3.9,3.9,4.4,3.9,4.1,3.8,3.7,4.0,4.1,3.9,4.5,4.8,3.9,4.0,5.0,4.1,4.1,4.5,4.6,5.0,4.0,4.3,4.1,4.5,4.1,4.7,4.1,4.2,4.8,3.9,3.7,3.8,3.9,4.7,4.4,4.1,4.4,4.8,4.1,4.1,3.9,4.4,3.9,4.1,4.8,4.4,4.4,4.5,3.7,3.7,3.7,4.0,3.7,5.0,4.5,3.9,4.1,4.4,4.8,4.1,3.8,3.9,3.8,3.7,3.9,3.9,4.1,3.7,4.5,4.5,4.6,3.9,3.7,3.7,4.4,5.0,4.1,4.7,4.1,4.1,4.3,5.0,4.4,4.1,3.8,4.3,4.0,3.9,4.0,5.0,3.8,4.6,4.1,4.8,3.7,3.6,3.9,3.8,4.0,4.9,4.6,3.8,4.0,4.5,4.1,4.0,3.6,5.0,4.4,4.1,4.6,4.2,4.3,3.7,4.0,3.9,3.9,4.1,4.6,4.0,4.1,3.9,3.8,4.1,3.7,4.1,4.1,4.8,4.5,4.1,5.0,3.9,4.0,4.6,3.9,3.8,3.8,4.0,4.4,3.6,3.9,4.0,4.4,4.5,3.9,3.7,3.8,5.0,3.7,4.6,4.0,4.1,4.5,3.9,3.8,4.0,4.1,4.1,4.3,4.4,3.9,4.0,3.6,4.3,4.6,4.3,5.0,4.2,4.6,4.5,4.4,4.1,5.0,4.7,5.0,4.2,4.1,4.0,5.0,5.0,3.8,3.8,4.0],\"y\":[66.5,69.5,69.5,69.5,69.0,72.0,72.0,72.0,72.0,72.0,72.0,72.0,72.0,85.0,85.0,85.0,85.0,100.0,100.0,87.0,87.0,87.0,87.0,87.0,87.0,87.0,104.5,104.5,104.5,104.5,104.5,104.5,106.0,106.0,106.0,106.0,106.0,106.0,106.0,106.0,106.0,106.0,72.0,72.0,80.5,80.5,79.0,79.0,79.0,79.0,79.0,79.0,79.0,79.0,79.0,79.0,79.0,79.0,80.0,80.0,80.0,80.0,80.0,80.0,80.0,80.0,80.0,80.0,73.0,73.0,73.0,122.5,122.5,122.5,122.5,122.5,77.5,77.5,77.5,77.5,77.5,77.5,77.5,77.5,77.5,77.5,77.5,77.5,77.5,77.5,79.5,79.5,79.5,79.5,79.5,79.5,79.5,113.0,113.0,113.0,113.0,113.0,113.0,77.5,98.5,98.5,98.5,98.5,98.5,98.5,98.5,98.5,98.5,98.5,98.5,73.5,73.5,73.5,73.5,73.5,73.5,73.5,74.0,74.0,74.0,74.0,74.0,74.0,68.5,68.5,68.5,68.5,88.5,88.5,88.5,88.5,88.5,88.5,71.5,71.5,71.5,71.5,71.5,81.0,81.0,81.0,81.0,81.0,99.0,99.0,99.0,99.0,99.0,99.0,99.0,99.0,99.0,92.0,92.0,92.0,92.0,92.0,92.0,92.0,92.0,92.0,92.0,92.0,92.0,92.0,92.0,92.0,150.0,150.0,150.0,150.0,150.0,150.0,150.0,150.0,150.0,150.0,150.0,150.0,150.0,150.0,120.0,120.0,120.0,120.0,120.0,120.0,120.0,120.0,120.0,120.0,120.0,120.0,120.0,120.0,120.0,120.0,120.0,120.0,120.0,98.0,98.0,98.0,98.0,98.0,98.0,98.0,98.0,98.0,98.0,98.0,98.0,98.0,98.0,98.0,98.0,72.0,72.0,72.0,72.0,72.0,72.0,72.0,72.0,72.0,72.0,75.5,75.5,75.5,75.5,75.5,75.5,75.5,75.5,75.5,75.5,75.5,75.5,75.5,89.5,89.5,89.5,89.5,89.5,89.5,89.5,89.5,78.5,78.5,78.5,78.5,78.5,78.5,68.0,68.0,68.0,68.0,76.0,76.0,76.0,76.0,76.0,76.0,76.0,76.0,80.5,80.5,80.5,80.5,80.5,80.5,80.5,80.5,80.5,80.5,80.5,80.5,80.5,80.5,80.5,80.5,80.5,80.5,138.5,138.5,138.5,138.5,138.5,138.5,138.5,138.5,138.5,138.5,138.5,138.5,138.5,138.5,138.5,138.5,138.5,126.0,126.0,126.0,126.0,126.0,126.0,126.0,126.0,126.0,126.0,126.0,126.0,126.0,99.0,99.0,99.0,99.0,99.0,99.0,99.0,99.0,99.0,99.0,99.0,92.5,92.5,92.5,92.5,92.5,92.5,92.5,92.5,92.5,92.5,92.5,92.5,92.5,78.0,78.0,78.0,78.0,78.0,78.0,78.0,78.0,78.0,78.0,78.0,78.0,78.0,70.0,70.0,70.0,70.0,78.5,78.5,78.5,78.5,78.5,78.5,78.5,91.0],\"z\":[30,18,36,16,24,12,23,16,22,12,18,57,26,8,16,17,2,2,12,18,8,20,18,23,9,22,15,12,12,9,28,179,16,21,12,7,11,28,9,16,21,16,12,12,23,5,10,6,12,2,3,24,6,23,4,9,13,6,30,4,5,31,23,11,1,3,101,7,6,19,13,7,81,17,21,4,21,9,8,37,3,12,5,18,12,26,24,37,29,6,16,20,19,16,20,24,55,16,21,2,25,8,7,38,40,34,22,16,22,48,13,2,21,20,10,10,15,34,1,18,1,26,20,18,16,2,16,21,15,17,34,20,26,28,30,11,30,18,25,18,12,30,9,18,54,21,21,19,60,152,10,12,10,6,14,22,12,75,22,60,20,7,37,37,35,20,60,12,60,58,30,18,10,27,31,8,18,14,11,24,4,4,18,9,23,18,5,23,44,32,16,26,29,14,7,9,28,22,12,44,44,13,48,12,25,129,32,4,44,7,44,21,26,18,20,24,7,20,5,44,25,9,44,32,26,9,9,17,14,25,37,13,6,6,18,10,18,12,20,14,44,22,14,32,10,19,25,20,16,18,44,16,16,4,27,5,15,10,25,39,29,23,29,54,37,12,9,14,22,37,38,12,38,6,12,9,9,6,9,6,15,20,4,3,10,20,8,8,6,8,8,4,6,113,11,8,8,16,8,11,28,113,13,14,156,18,31,24,8,9,4,7,13,12,12,18,14,20,24,5,10,8,6,9,10,11,6,27,24,3,14,12,18,19,11,54,7,18,25,8,4,338,45,19,45,44,4,45,19,45,12,30,8,14,19,29,19,15,19,31,39,75,12,12,25,25,21],\"type\":\"scatter3d\"}],                        {\"template\":{\"data\":{\"histogram2dcontour\":[{\"type\":\"histogram2dcontour\",\"colorbar\":{\"outlinewidth\":0,\"ticks\":\"\"},\"colorscale\":[[0.0,\"#0d0887\"],[0.1111111111111111,\"#46039f\"],[0.2222222222222222,\"#7201a8\"],[0.3333333333333333,\"#9c179e\"],[0.4444444444444444,\"#bd3786\"],[0.5555555555555556,\"#d8576b\"],[0.6666666666666666,\"#ed7953\"],[0.7777777777777778,\"#fb9f3a\"],[0.8888888888888888,\"#fdca26\"],[1.0,\"#f0f921\"]]}],\"choropleth\":[{\"type\":\"choropleth\",\"colorbar\":{\"outlinewidth\":0,\"ticks\":\"\"}}],\"histogram2d\":[{\"type\":\"histogram2d\",\"colorbar\":{\"outlinewidth\":0,\"ticks\":\"\"},\"colorscale\":[[0.0,\"#0d0887\"],[0.1111111111111111,\"#46039f\"],[0.2222222222222222,\"#7201a8\"],[0.3333333333333333,\"#9c179e\"],[0.4444444444444444,\"#bd3786\"],[0.5555555555555556,\"#d8576b\"],[0.6666666666666666,\"#ed7953\"],[0.7777777777777778,\"#fb9f3a\"],[0.8888888888888888,\"#fdca26\"],[1.0,\"#f0f921\"]]}],\"heatmap\":[{\"type\":\"heatmap\",\"colorbar\":{\"outlinewidth\":0,\"ticks\":\"\"},\"colorscale\":[[0.0,\"#0d0887\"],[0.1111111111111111,\"#46039f\"],[0.2222222222222222,\"#7201a8\"],[0.3333333333333333,\"#9c179e\"],[0.4444444444444444,\"#bd3786\"],[0.5555555555555556,\"#d8576b\"],[0.6666666666666666,\"#ed7953\"],[0.7777777777777778,\"#fb9f3a\"],[0.8888888888888888,\"#fdca26\"],[1.0,\"#f0f921\"]]}],\"heatmapgl\":[{\"type\":\"heatmapgl\",\"colorbar\":{\"outlinewidth\":0,\"ticks\":\"\"},\"colorscale\":[[0.0,\"#0d0887\"],[0.1111111111111111,\"#46039f\"],[0.2222222222222222,\"#7201a8\"],[0.3333333333333333,\"#9c179e\"],[0.4444444444444444,\"#bd3786\"],[0.5555555555555556,\"#d8576b\"],[0.6666666666666666,\"#ed7953\"],[0.7777777777777778,\"#fb9f3a\"],[0.8888888888888888,\"#fdca26\"],[1.0,\"#f0f921\"]]}],\"contourcarpet\":[{\"type\":\"contourcarpet\",\"colorbar\":{\"outlinewidth\":0,\"ticks\":\"\"}}],\"contour\":[{\"type\":\"contour\",\"colorbar\":{\"outlinewidth\":0,\"ticks\":\"\"},\"colorscale\":[[0.0,\"#0d0887\"],[0.1111111111111111,\"#46039f\"],[0.2222222222222222,\"#7201a8\"],[0.3333333333333333,\"#9c179e\"],[0.4444444444444444,\"#bd3786\"],[0.5555555555555556,\"#d8576b\"],[0.6666666666666666,\"#ed7953\"],[0.7777777777777778,\"#fb9f3a\"],[0.8888888888888888,\"#fdca26\"],[1.0,\"#f0f921\"]]}],\"surface\":[{\"type\":\"surface\",\"colorbar\":{\"outlinewidth\":0,\"ticks\":\"\"},\"colorscale\":[[0.0,\"#0d0887\"],[0.1111111111111111,\"#46039f\"],[0.2222222222222222,\"#7201a8\"],[0.3333333333333333,\"#9c179e\"],[0.4444444444444444,\"#bd3786\"],[0.5555555555555556,\"#d8576b\"],[0.6666666666666666,\"#ed7953\"],[0.7777777777777778,\"#fb9f3a\"],[0.8888888888888888,\"#fdca26\"],[1.0,\"#f0f921\"]]}],\"mesh3d\":[{\"type\":\"mesh3d\",\"colorbar\":{\"outlinewidth\":0,\"ticks\":\"\"}}],\"scatter\":[{\"fillpattern\":{\"fillmode\":\"overlay\",\"size\":10,\"solidity\":0.2},\"type\":\"scatter\"}],\"parcoords\":[{\"type\":\"parcoords\",\"line\":{\"colorbar\":{\"outlinewidth\":0,\"ticks\":\"\"}}}],\"scatterpolargl\":[{\"type\":\"scatterpolargl\",\"marker\":{\"colorbar\":{\"outlinewidth\":0,\"ticks\":\"\"}}}],\"bar\":[{\"error_x\":{\"color\":\"#2a3f5f\"},\"error_y\":{\"color\":\"#2a3f5f\"},\"marker\":{\"line\":{\"color\":\"#E5ECF6\",\"width\":0.5},\"pattern\":{\"fillmode\":\"overlay\",\"size\":10,\"solidity\":0.2}},\"type\":\"bar\"}],\"scattergeo\":[{\"type\":\"scattergeo\",\"marker\":{\"colorbar\":{\"outlinewidth\":0,\"ticks\":\"\"}}}],\"scatterpolar\":[{\"type\":\"scatterpolar\",\"marker\":{\"colorbar\":{\"outlinewidth\":0,\"ticks\":\"\"}}}],\"histogram\":[{\"marker\":{\"pattern\":{\"fillmode\":\"overlay\",\"size\":10,\"solidity\":0.2}},\"type\":\"histogram\"}],\"scattergl\":[{\"type\":\"scattergl\",\"marker\":{\"colorbar\":{\"outlinewidth\":0,\"ticks\":\"\"}}}],\"scatter3d\":[{\"type\":\"scatter3d\",\"line\":{\"colorbar\":{\"outlinewidth\":0,\"ticks\":\"\"}},\"marker\":{\"colorbar\":{\"outlinewidth\":0,\"ticks\":\"\"}}}],\"scattermapbox\":[{\"type\":\"scattermapbox\",\"marker\":{\"colorbar\":{\"outlinewidth\":0,\"ticks\":\"\"}}}],\"scatterternary\":[{\"type\":\"scatterternary\",\"marker\":{\"colorbar\":{\"outlinewidth\":0,\"ticks\":\"\"}}}],\"scattercarpet\":[{\"type\":\"scattercarpet\",\"marker\":{\"colorbar\":{\"outlinewidth\":0,\"ticks\":\"\"}}}],\"carpet\":[{\"aaxis\":{\"endlinecolor\":\"#2a3f5f\",\"gridcolor\":\"white\",\"linecolor\":\"white\",\"minorgridcolor\":\"white\",\"startlinecolor\":\"#2a3f5f\"},\"baxis\":{\"endlinecolor\":\"#2a3f5f\",\"gridcolor\":\"white\",\"linecolor\":\"white\",\"minorgridcolor\":\"white\",\"startlinecolor\":\"#2a3f5f\"},\"type\":\"carpet\"}],\"table\":[{\"cells\":{\"fill\":{\"color\":\"#EBF0F8\"},\"line\":{\"color\":\"white\"}},\"header\":{\"fill\":{\"color\":\"#C8D4E3\"},\"line\":{\"color\":\"white\"}},\"type\":\"table\"}],\"barpolar\":[{\"marker\":{\"line\":{\"color\":\"#E5ECF6\",\"width\":0.5},\"pattern\":{\"fillmode\":\"overlay\",\"size\":10,\"solidity\":0.2}},\"type\":\"barpolar\"}],\"pie\":[{\"automargin\":true,\"type\":\"pie\"}]},\"layout\":{\"autotypenumbers\":\"strict\",\"colorway\":[\"#636efa\",\"#EF553B\",\"#00cc96\",\"#ab63fa\",\"#FFA15A\",\"#19d3f3\",\"#FF6692\",\"#B6E880\",\"#FF97FF\",\"#FECB52\"],\"font\":{\"color\":\"#2a3f5f\"},\"hovermode\":\"closest\",\"hoverlabel\":{\"align\":\"left\"},\"paper_bgcolor\":\"white\",\"plot_bgcolor\":\"#E5ECF6\",\"polar\":{\"bgcolor\":\"#E5ECF6\",\"angularaxis\":{\"gridcolor\":\"white\",\"linecolor\":\"white\",\"ticks\":\"\"},\"radialaxis\":{\"gridcolor\":\"white\",\"linecolor\":\"white\",\"ticks\":\"\"}},\"ternary\":{\"bgcolor\":\"#E5ECF6\",\"aaxis\":{\"gridcolor\":\"white\",\"linecolor\":\"white\",\"ticks\":\"\"},\"baxis\":{\"gridcolor\":\"white\",\"linecolor\":\"white\",\"ticks\":\"\"},\"caxis\":{\"gridcolor\":\"white\",\"linecolor\":\"white\",\"ticks\":\"\"}},\"coloraxis\":{\"colorbar\":{\"outlinewidth\":0,\"ticks\":\"\"}},\"colorscale\":{\"sequential\":[[0.0,\"#0d0887\"],[0.1111111111111111,\"#46039f\"],[0.2222222222222222,\"#7201a8\"],[0.3333333333333333,\"#9c179e\"],[0.4444444444444444,\"#bd3786\"],[0.5555555555555556,\"#d8576b\"],[0.6666666666666666,\"#ed7953\"],[0.7777777777777778,\"#fb9f3a\"],[0.8888888888888888,\"#fdca26\"],[1.0,\"#f0f921\"]],\"sequentialminus\":[[0.0,\"#0d0887\"],[0.1111111111111111,\"#46039f\"],[0.2222222222222222,\"#7201a8\"],[0.3333333333333333,\"#9c179e\"],[0.4444444444444444,\"#bd3786\"],[0.5555555555555556,\"#d8576b\"],[0.6666666666666666,\"#ed7953\"],[0.7777777777777778,\"#fb9f3a\"],[0.8888888888888888,\"#fdca26\"],[1.0,\"#f0f921\"]],\"diverging\":[[0,\"#8e0152\"],[0.1,\"#c51b7d\"],[0.2,\"#de77ae\"],[0.3,\"#f1b6da\"],[0.4,\"#fde0ef\"],[0.5,\"#f7f7f7\"],[0.6,\"#e6f5d0\"],[0.7,\"#b8e186\"],[0.8,\"#7fbc41\"],[0.9,\"#4d9221\"],[1,\"#276419\"]]},\"xaxis\":{\"gridcolor\":\"white\",\"linecolor\":\"white\",\"ticks\":\"\",\"title\":{\"standoff\":15},\"zerolinecolor\":\"white\",\"automargin\":true,\"zerolinewidth\":2},\"yaxis\":{\"gridcolor\":\"white\",\"linecolor\":\"white\",\"ticks\":\"\",\"title\":{\"standoff\":15},\"zerolinecolor\":\"white\",\"automargin\":true,\"zerolinewidth\":2},\"scene\":{\"xaxis\":{\"backgroundcolor\":\"#E5ECF6\",\"gridcolor\":\"white\",\"linecolor\":\"white\",\"showbackground\":true,\"ticks\":\"\",\"zerolinecolor\":\"white\",\"gridwidth\":2},\"yaxis\":{\"backgroundcolor\":\"#E5ECF6\",\"gridcolor\":\"white\",\"linecolor\":\"white\",\"showbackground\":true,\"ticks\":\"\",\"zerolinecolor\":\"white\",\"gridwidth\":2},\"zaxis\":{\"backgroundcolor\":\"#E5ECF6\",\"gridcolor\":\"white\",\"linecolor\":\"white\",\"showbackground\":true,\"ticks\":\"\",\"zerolinecolor\":\"white\",\"gridwidth\":2}},\"shapedefaults\":{\"line\":{\"color\":\"#2a3f5f\"}},\"annotationdefaults\":{\"arrowcolor\":\"#2a3f5f\",\"arrowhead\":0,\"arrowwidth\":1},\"geo\":{\"bgcolor\":\"white\",\"landcolor\":\"#E5ECF6\",\"subunitcolor\":\"white\",\"showland\":true,\"showlakes\":true,\"lakecolor\":\"white\"},\"title\":{\"x\":0.05},\"mapbox\":{\"style\":\"light\"}}},\"scene\":{\"domain\":{\"x\":[0.0,1.0],\"y\":[0.0,1.0]},\"xaxis\":{\"title\":{\"text\":\"Rating\"}},\"yaxis\":{\"title\":{\"text\":\"Mean Salary\"}},\"zaxis\":{\"title\":{\"text\":\"Years Founded\"}}},\"legend\":{\"title\":{\"text\":\"color\"},\"tracegroupgap\":0},\"margin\":{\"t\":0,\"l\":0,\"r\":0,\"b\":0}},                        {\"responsive\": true}                    ).then(function(){\n",
       "                            \n",
       "var gd = document.getElementById('c6f36c66-d262-4756-9517-9eaaa726e903');\n",
       "var x = new MutationObserver(function (mutations, observer) {{\n",
       "        var display = window.getComputedStyle(gd).display;\n",
       "        if (!display || display === 'none') {{\n",
       "            console.log([gd, 'removed!']);\n",
       "            Plotly.purge(gd);\n",
       "            observer.disconnect();\n",
       "        }}\n",
       "}});\n",
       "\n",
       "// Listen for the removal of the full notebook cells\n",
       "var notebookContainer = gd.closest('#notebook-container');\n",
       "if (notebookContainer) {{\n",
       "    x.observe(notebookContainer, {childList: true});\n",
       "}}\n",
       "\n",
       "// Listen for the clearing of the current output cell\n",
       "var outputEl = gd.closest('.output');\n",
       "if (outputEl) {{\n",
       "    x.observe(outputEl, {childList: true});\n",
       "}}\n",
       "\n",
       "                        })                };                });            </script>        </div>"
      ]
     },
     "metadata": {},
     "output_type": "display_data"
    }
   ],
   "source": [
    "#heat map\n",
    "colors = ['violet','orange', 'burlywood', 'lightseagreen']\n",
    "\n",
    "cluster_names = {\n",
    "    0: 'Cluster-1',\n",
    "    1: 'Cluster-2',\n",
    "    2: 'Cluster-3',\n",
    "    3: 'Cluster-4'\n",
    "}\n",
    "\n",
    "fig3d = px.scatter_3d(df2, x='Rating', y='Mean Salary', z='Years Founded', \n",
    "                      color=[cluster_names[label] for label in y_predict],\n",
    "                      color_discrete_sequence=colors,\n",
    "                      opacity=0.9, \n",
    "                      size_max=5)\n",
    "\n",
    "fig3d.update_layout(margin=dict(l=0, r=0, b=0, t=0))\n",
    "\n",
    "fig3d.show()\n"
   ]
  },
  {
   "cell_type": "code",
   "execution_count": 66,
   "id": "e530afa5",
   "metadata": {
    "ExecuteTime": {
     "end_time": "2023-04-20T14:06:24.373194Z",
     "start_time": "2023-04-20T14:06:23.989288Z"
    }
   },
   "outputs": [
    {
     "data": {
      "text/plain": [
       "<seaborn.axisgrid.FacetGrid at 0x7faa2af25070>"
      ]
     },
     "execution_count": 66,
     "metadata": {},
     "output_type": "execute_result"
    },
    {
     "data": {
      "image/png": "[encoded data removed]",
      "text/plain": [
       "<Figure size 606.5x500 with 1 Axes>"
      ]
     },
     "metadata": {},
     "output_type": "display_data"
    }
   ],
   "source": [
    "#mapping of clusters\n",
    "dfsns = pd.DataFrame({'Component 1': df_component[:, 0], 'Component 2': df_component[:, 1]})\n",
    "\n",
    "cluster_names = {\n",
    "    0: 'Cluster-1',\n",
    "    1: 'Cluster-2',\n",
    "    2: 'Cluster-3',\n",
    "    3: 'Cluster-4'\n",
    "}\n",
    "\n",
    "# use the dictionary to map cluster labels to names\n",
    "cluster_labels = [cluster_names[label] for label in y_predict]\n",
    "\n",
    "# plot with Seaborn\n",
    "sns.set_style('darkgrid')\n",
    "sns.relplot(\n",
    "    x='Component 1',\n",
    "    y='Component 2',\n",
    "    hue=cluster_labels,\n",
    "    data=dfsns,\n",
    "    palette=colors\n",
    ")\n"
   ]
  },
  {
   "cell_type": "code",
   "execution_count": 67,
   "id": "eee86727",
   "metadata": {
    "ExecuteTime": {
     "end_time": "2023-04-20T14:06:46.753668Z",
     "start_time": "2023-04-20T14:06:46.741281Z"
    }
   },
   "outputs": [
    {
     "data": {
      "text/html": [
       "<div>\n",
       "<style scoped>\n",
       "    .dataframe tbody tr th:only-of-type {\n",
       "        vertical-align: middle;\n",
       "    }\n",
       "\n",
       "    .dataframe tbody tr th {\n",
       "        vertical-align: top;\n",
       "    }\n",
       "\n",
       "    .dataframe thead th {\n",
       "        text-align: right;\n",
       "    }\n",
       "</style>\n",
       "<table border=\"1\" class=\"dataframe\">\n",
       "  <thead>\n",
       "    <tr style=\"text-align: right;\">\n",
       "      <th></th>\n",
       "      <th>Cluster</th>\n",
       "    </tr>\n",
       "  </thead>\n",
       "  <tbody>\n",
       "    <tr>\n",
       "      <th>0</th>\n",
       "      <td>2</td>\n",
       "    </tr>\n",
       "    <tr>\n",
       "      <th>1</th>\n",
       "      <td>2</td>\n",
       "    </tr>\n",
       "    <tr>\n",
       "      <th>2</th>\n",
       "      <td>1</td>\n",
       "    </tr>\n",
       "    <tr>\n",
       "      <th>3</th>\n",
       "      <td>1</td>\n",
       "    </tr>\n",
       "    <tr>\n",
       "      <th>4</th>\n",
       "      <td>1</td>\n",
       "    </tr>\n",
       "  </tbody>\n",
       "</table>\n",
       "</div>"
      ],
      "text/plain": [
       "   Cluster\n",
       "0        2\n",
       "1        2\n",
       "2        1\n",
       "3        1\n",
       "4        1"
      ]
     },
     "execution_count": 67,
     "metadata": {},
     "output_type": "execute_result"
    }
   ],
   "source": [
    "df_predict = pd.DataFrame(y_predict)\n",
    "df_predict = df_predict.rename(columns = {0 : 'Cluster'})\n",
    "df_predict.head()"
   ]
  },
  {
   "cell_type": "code",
   "execution_count": 68,
   "id": "863ec568",
   "metadata": {
    "ExecuteTime": {
     "end_time": "2023-04-20T14:06:56.527574Z",
     "start_time": "2023-04-20T14:06:56.521490Z"
    }
   },
   "outputs": [],
   "source": [
    "def recode(x, code_map):\n",
    "    return x.map(code_map).fillna(x)\n"
   ]
  },
  {
   "cell_type": "code",
   "execution_count": 69,
   "id": "c6f69959",
   "metadata": {
    "ExecuteTime": {
     "end_time": "2023-04-20T14:07:17.550299Z",
     "start_time": "2023-04-20T14:07:17.529064Z"
    }
   },
   "outputs": [
    {
     "data": {
      "text/html": [
       "<div>\n",
       "<style scoped>\n",
       "    .dataframe tbody tr th:only-of-type {\n",
       "        vertical-align: middle;\n",
       "    }\n",
       "\n",
       "    .dataframe tbody tr th {\n",
       "        vertical-align: top;\n",
       "    }\n",
       "\n",
       "    .dataframe thead th {\n",
       "        text-align: right;\n",
       "    }\n",
       "</style>\n",
       "<table border=\"1\" class=\"dataframe\">\n",
       "  <thead>\n",
       "    <tr style=\"text-align: right;\">\n",
       "      <th></th>\n",
       "      <th>Rating</th>\n",
       "      <th>Mean Salary</th>\n",
       "      <th>Years Founded</th>\n",
       "      <th>Cluster</th>\n",
       "    </tr>\n",
       "  </thead>\n",
       "  <tbody>\n",
       "    <tr>\n",
       "      <th>0</th>\n",
       "      <td>0.167668</td>\n",
       "      <td>0.166166</td>\n",
       "      <td>0.802302</td>\n",
       "      <td>Cluster-3</td>\n",
       "    </tr>\n",
       "    <tr>\n",
       "      <th>1</th>\n",
       "      <td>0.550050</td>\n",
       "      <td>0.166166</td>\n",
       "      <td>0.924960</td>\n",
       "      <td>Cluster-3</td>\n",
       "    </tr>\n",
       "    <tr>\n",
       "      <th>2</th>\n",
       "      <td>0.277277</td>\n",
       "      <td>0.166166</td>\n",
       "      <td>0.313814</td>\n",
       "      <td>Cluster-2</td>\n",
       "    </tr>\n",
       "    <tr>\n",
       "      <th>3</th>\n",
       "      <td>0.754254</td>\n",
       "      <td>0.166166</td>\n",
       "      <td>0.338839</td>\n",
       "      <td>Cluster-2</td>\n",
       "    </tr>\n",
       "    <tr>\n",
       "      <th>4</th>\n",
       "      <td>0.627127</td>\n",
       "      <td>0.166166</td>\n",
       "      <td>0.164665</td>\n",
       "      <td>Cluster-2</td>\n",
       "    </tr>\n",
       "  </tbody>\n",
       "</table>\n",
       "</div>"
      ],
      "text/plain": [
       "     Rating  Mean Salary  Years Founded    Cluster\n",
       "0  0.167668     0.166166       0.802302  Cluster-3\n",
       "1  0.550050     0.166166       0.924960  Cluster-3\n",
       "2  0.277277     0.166166       0.313814  Cluster-2\n",
       "3  0.754254     0.166166       0.338839  Cluster-2\n",
       "4  0.627127     0.166166       0.164665  Cluster-2"
      ]
     },
     "execution_count": 69,
     "metadata": {},
     "output_type": "execute_result"
    }
   ],
   "source": [
    "#cluster classifcation \n",
    "df2_scaler = pd.DataFrame(df2_scaler)\n",
    "df2_scaler = df2_scaler.rename(columns = {0: 'Rating', 1: 'Mean Salary', 2: 'Years Founded'})\n",
    "df2_scaler['Cluster'] = df_predict['Cluster']\n",
    "df2_scaler['Cluster'] = recode(df2_scaler['Cluster'], \n",
    "                               {0: 'Cluster-1', \n",
    "                                1: 'Cluster-2', \n",
    "                                2: 'Cluster-3',\n",
    "                                3: 'Cluster-4'}\n",
    "                              )\n",
    "df2_scaler.head()"
   ]
  },
  {
   "cell_type": "code",
   "execution_count": 70,
   "id": "68d59c34",
   "metadata": {
    "ExecuteTime": {
     "end_time": "2023-04-20T14:07:28.074840Z",
     "start_time": "2023-04-20T14:07:28.056299Z"
    }
   },
   "outputs": [
    {
     "data": {
      "text/html": [
       "<div>\n",
       "<style scoped>\n",
       "    .dataframe tbody tr th:only-of-type {\n",
       "        vertical-align: middle;\n",
       "    }\n",
       "\n",
       "    .dataframe tbody tr th {\n",
       "        vertical-align: top;\n",
       "    }\n",
       "\n",
       "    .dataframe thead th {\n",
       "        text-align: right;\n",
       "    }\n",
       "</style>\n",
       "<table border=\"1\" class=\"dataframe\">\n",
       "  <thead>\n",
       "    <tr style=\"text-align: right;\">\n",
       "      <th></th>\n",
       "      <th>Rating</th>\n",
       "      <th>Mean Salary</th>\n",
       "      <th>Years Founded</th>\n",
       "    </tr>\n",
       "    <tr>\n",
       "      <th>Cluster</th>\n",
       "      <th></th>\n",
       "      <th></th>\n",
       "      <th></th>\n",
       "    </tr>\n",
       "  </thead>\n",
       "  <tbody>\n",
       "    <tr>\n",
       "      <th>Cluster-1</th>\n",
       "      <td>0.753810</td>\n",
       "      <td>0.776831</td>\n",
       "      <td>0.353633</td>\n",
       "    </tr>\n",
       "    <tr>\n",
       "      <th>Cluster-2</th>\n",
       "      <td>0.702812</td>\n",
       "      <td>0.256393</td>\n",
       "      <td>0.249409</td>\n",
       "    </tr>\n",
       "    <tr>\n",
       "      <th>Cluster-3</th>\n",
       "      <td>0.388570</td>\n",
       "      <td>0.266173</td>\n",
       "      <td>0.746032</td>\n",
       "    </tr>\n",
       "    <tr>\n",
       "      <th>Cluster-4</th>\n",
       "      <td>0.241765</td>\n",
       "      <td>0.717622</td>\n",
       "      <td>0.550388</td>\n",
       "    </tr>\n",
       "  </tbody>\n",
       "</table>\n",
       "</div>"
      ],
      "text/plain": [
       "             Rating  Mean Salary  Years Founded\n",
       "Cluster                                        \n",
       "Cluster-1  0.753810     0.776831       0.353633\n",
       "Cluster-2  0.702812     0.256393       0.249409\n",
       "Cluster-3  0.388570     0.266173       0.746032\n",
       "Cluster-4  0.241765     0.717622       0.550388"
      ]
     },
     "execution_count": 70,
     "metadata": {},
     "output_type": "execute_result"
    }
   ],
   "source": [
    "df_cluster_group = df2_scaler.groupby('Cluster').mean()\n",
    "df_cluster_group.head(df_cluster_group.shape[0])"
   ]
  },
  {
   "cell_type": "code",
   "execution_count": 71,
   "id": "b8462c3c",
   "metadata": {
    "ExecuteTime": {
     "end_time": "2023-04-20T14:07:37.566244Z",
     "start_time": "2023-04-20T14:07:37.559828Z"
    }
   },
   "outputs": [],
   "source": [
    "y = np.array(df_cluster_group)\n",
    "categories = list(df_cluster_group.columns)"
   ]
  },
  {
   "cell_type": "code",
   "execution_count": 73,
   "id": "0dcbcc10",
   "metadata": {
    "ExecuteTime": {
     "end_time": "2023-04-20T14:08:11.536724Z",
     "start_time": "2023-04-20T14:08:11.488312Z"
    }
   },
   "outputs": [
    {
     "data": {
      "application/vnd.plotly.v1+json": {
       "config": {
        "plotlyServerURL": "https://plot.ly"
       },
       "data": [
        {
         "marker": {
          "color": [
           "violet",
           "orange",
           "burlywood",
           "lightseagreen"
          ]
         },
         "name": "Cluster - 1",
         "type": "bar",
         "x": [
          "Rating",
          "Mean Salary",
          "Years Founded"
         ],
         "xaxis": "x",
         "y": [
          0.7538096679786053,
          0.7768313272400466,
          0.353632833856977
         ],
         "yaxis": "y"
        },
        {
         "marker": {
          "color": [
           "violet",
           "orange",
           "burlywood",
           "lightseagreen"
          ]
         },
         "name": "Cluster - 2",
         "type": "bar",
         "x": [
          "Rating",
          "Mean Salary",
          "Years Founded"
         ],
         "xaxis": "x2",
         "y": [
          0.7028122347271283,
          0.2563931712867883,
          0.24940898345153664
         ],
         "yaxis": "y2"
        },
        {
         "marker": {
          "color": [
           "violet",
           "orange",
           "burlywood",
           "lightseagreen"
          ]
         },
         "name": "Cluster - 3",
         "type": "bar",
         "x": [
          "Rating",
          "Mean Salary",
          "Years Founded"
         ],
         "xaxis": "x3",
         "y": [
          0.38857048537899597,
          0.26617312422147,
          0.7460320311782604
         ],
         "yaxis": "y3"
        },
        {
         "marker": {
          "color": [
           "violet",
           "orange",
           "burlywood",
           "lightseagreen"
          ]
         },
         "name": "Cluster - 4",
         "type": "bar",
         "x": [
          "Rating",
          "Mean Salary",
          "Years Founded"
         ],
         "xaxis": "x4",
         "y": [
          0.24176494877566013,
          0.7176217987028797,
          0.5503877602084837
         ],
         "yaxis": "y4"
        }
       ],
       "layout": {
        "showlegend": false,
        "template": {
         "data": {
          "bar": [
           {
            "error_x": {
             "color": "#2a3f5f"
            },
            "error_y": {
             "color": "#2a3f5f"
            },
            "marker": {
             "line": {
              "color": "#E5ECF6",
              "width": 0.5
             },
             "pattern": {
              "fillmode": "overlay",
              "size": 10,
              "solidity": 0.2
             }
            },
            "type": "bar"
           }
          ],
          "barpolar": [
           {
            "marker": {
             "line": {
              "color": "#E5ECF6",
              "width": 0.5
             },
             "pattern": {
              "fillmode": "overlay",
              "size": 10,
              "solidity": 0.2
             }
            },
            "type": "barpolar"
           }
          ],
          "carpet": [
           {
            "aaxis": {
             "endlinecolor": "#2a3f5f",
             "gridcolor": "white",
             "linecolor": "white",
             "minorgridcolor": "white",
             "startlinecolor": "#2a3f5f"
            },
            "baxis": {
             "endlinecolor": "#2a3f5f",
             "gridcolor": "white",
             "linecolor": "white",
             "minorgridcolor": "white",
             "startlinecolor": "#2a3f5f"
            },
            "type": "carpet"
           }
          ],
          "choropleth": [
           {
            "colorbar": {
             "outlinewidth": 0,
             "ticks": ""
            },
            "type": "choropleth"
           }
          ],
          "contour": [
           {
            "colorbar": {
             "outlinewidth": 0,
             "ticks": ""
            },
            "colorscale": [
             [
              0,
              "#0d0887"
             ],
             [
              0.1111111111111111,
              "#46039f"
             ],
             [
              0.2222222222222222,
              "#7201a8"
             ],
             [
              0.3333333333333333,
              "#9c179e"
             ],
             [
              0.4444444444444444,
              "#bd3786"
             ],
             [
              0.5555555555555556,
              "#d8576b"
             ],
             [
              0.6666666666666666,
              "#ed7953"
             ],
             [
              0.7777777777777778,
              "#fb9f3a"
             ],
             [
              0.8888888888888888,
              "#fdca26"
             ],
             [
              1,
              "#f0f921"
             ]
            ],
            "type": "contour"
           }
          ],
          "contourcarpet": [
           {
            "colorbar": {
             "outlinewidth": 0,
             "ticks": ""
            },
            "type": "contourcarpet"
           }
          ],
          "heatmap": [
           {
            "colorbar": {
             "outlinewidth": 0,
             "ticks": ""
            },
            "colorscale": [
             [
              0,
              "#0d0887"
             ],
             [
              0.1111111111111111,
              "#46039f"
             ],
             [
              0.2222222222222222,
              "#7201a8"
             ],
             [
              0.3333333333333333,
              "#9c179e"
             ],
             [
              0.4444444444444444,
              "#bd3786"
             ],
             [
              0.5555555555555556,
              "#d8576b"
             ],
             [
              0.6666666666666666,
              "#ed7953"
             ],
             [
              0.7777777777777778,
              "#fb9f3a"
             ],
             [
              0.8888888888888888,
              "#fdca26"
             ],
             [
              1,
              "#f0f921"
             ]
            ],
            "type": "heatmap"
           }
          ],
          "heatmapgl": [
           {
            "colorbar": {
             "outlinewidth": 0,
             "ticks": ""
            },
            "colorscale": [
             [
              0,
              "#0d0887"
             ],
             [
              0.1111111111111111,
              "#46039f"
             ],
             [
              0.2222222222222222,
              "#7201a8"
             ],
             [
              0.3333333333333333,
              "#9c179e"
             ],
             [
              0.4444444444444444,
              "#bd3786"
             ],
             [
              0.5555555555555556,
              "#d8576b"
             ],
             [
              0.6666666666666666,
              "#ed7953"
             ],
             [
              0.7777777777777778,
              "#fb9f3a"
             ],
             [
              0.8888888888888888,
              "#fdca26"
             ],
             [
              1,
              "#f0f921"
             ]
            ],
            "type": "heatmapgl"
           }
          ],
          "histogram": [
           {
            "marker": {
             "pattern": {
              "fillmode": "overlay",
              "size": 10,
              "solidity": 0.2
             }
            },
            "type": "histogram"
           }
          ],
          "histogram2d": [
           {
            "colorbar": {
             "outlinewidth": 0,
             "ticks": ""
            },
            "colorscale": [
             [
              0,
              "#0d0887"
             ],
             [
              0.1111111111111111,
              "#46039f"
             ],
             [
              0.2222222222222222,
              "#7201a8"
             ],
             [
              0.3333333333333333,
              "#9c179e"
             ],
             [
              0.4444444444444444,
              "#bd3786"
             ],
             [
              0.5555555555555556,
              "#d8576b"
             ],
             [
              0.6666666666666666,
              "#ed7953"
             ],
             [
              0.7777777777777778,
              "#fb9f3a"
             ],
             [
              0.8888888888888888,
              "#fdca26"
             ],
             [
              1,
              "#f0f921"
             ]
            ],
            "type": "histogram2d"
           }
          ],
          "histogram2dcontour": [
           {
            "colorbar": {
             "outlinewidth": 0,
             "ticks": ""
            },
            "colorscale": [
             [
              0,
              "#0d0887"
             ],
             [
              0.1111111111111111,
              "#46039f"
             ],
             [
              0.2222222222222222,
              "#7201a8"
             ],
             [
              0.3333333333333333,
              "#9c179e"
             ],
             [
              0.4444444444444444,
              "#bd3786"
             ],
             [
              0.5555555555555556,
              "#d8576b"
             ],
             [
              0.6666666666666666,
              "#ed7953"
             ],
             [
              0.7777777777777778,
              "#fb9f3a"
             ],
             [
              0.8888888888888888,
              "#fdca26"
             ],
             [
              1,
              "#f0f921"
             ]
            ],
            "type": "histogram2dcontour"
           }
          ],
          "mesh3d": [
           {
            "colorbar": {
             "outlinewidth": 0,
             "ticks": ""
            },
            "type": "mesh3d"
           }
          ],
          "parcoords": [
           {
            "line": {
             "colorbar": {
              "outlinewidth": 0,
              "ticks": ""
             }
            },
            "type": "parcoords"
           }
          ],
          "pie": [
           {
            "automargin": true,
            "type": "pie"
           }
          ],
          "scatter": [
           {
            "fillpattern": {
             "fillmode": "overlay",
             "size": 10,
             "solidity": 0.2
            },
            "type": "scatter"
           }
          ],
          "scatter3d": [
           {
            "line": {
             "colorbar": {
              "outlinewidth": 0,
              "ticks": ""
             }
            },
            "marker": {
             "colorbar": {
              "outlinewidth": 0,
              "ticks": ""
             }
            },
            "type": "scatter3d"
           }
          ],
          "scattercarpet": [
           {
            "marker": {
             "colorbar": {
              "outlinewidth": 0,
              "ticks": ""
             }
            },
            "type": "scattercarpet"
           }
          ],
          "scattergeo": [
           {
            "marker": {
             "colorbar": {
              "outlinewidth": 0,
              "ticks": ""
             }
            },
            "type": "scattergeo"
           }
          ],
          "scattergl": [
           {
            "marker": {
             "colorbar": {
              "outlinewidth": 0,
              "ticks": ""
             }
            },
            "type": "scattergl"
           }
          ],
          "scattermapbox": [
           {
            "marker": {
             "colorbar": {
              "outlinewidth": 0,
              "ticks": ""
             }
            },
            "type": "scattermapbox"
           }
          ],
          "scatterpolar": [
           {
            "marker": {
             "colorbar": {
              "outlinewidth": 0,
              "ticks": ""
             }
            },
            "type": "scatterpolar"
           }
          ],
          "scatterpolargl": [
           {
            "marker": {
             "colorbar": {
              "outlinewidth": 0,
              "ticks": ""
             }
            },
            "type": "scatterpolargl"
           }
          ],
          "scatterternary": [
           {
            "marker": {
             "colorbar": {
              "outlinewidth": 0,
              "ticks": ""
             }
            },
            "type": "scatterternary"
           }
          ],
          "surface": [
           {
            "colorbar": {
             "outlinewidth": 0,
             "ticks": ""
            },
            "colorscale": [
             [
              0,
              "#0d0887"
             ],
             [
              0.1111111111111111,
              "#46039f"
             ],
             [
              0.2222222222222222,
              "#7201a8"
             ],
             [
              0.3333333333333333,
              "#9c179e"
             ],
             [
              0.4444444444444444,
              "#bd3786"
             ],
             [
              0.5555555555555556,
              "#d8576b"
             ],
             [
              0.6666666666666666,
              "#ed7953"
             ],
             [
              0.7777777777777778,
              "#fb9f3a"
             ],
             [
              0.8888888888888888,
              "#fdca26"
             ],
             [
              1,
              "#f0f921"
             ]
            ],
            "type": "surface"
           }
          ],
          "table": [
           {
            "cells": {
             "fill": {
              "color": "#EBF0F8"
             },
             "line": {
              "color": "white"
             }
            },
            "header": {
             "fill": {
              "color": "#C8D4E3"
             },
             "line": {
              "color": "white"
             }
            },
            "type": "table"
           }
          ]
         },
         "layout": {
          "annotationdefaults": {
           "arrowcolor": "#2a3f5f",
           "arrowhead": 0,
           "arrowwidth": 1
          },
          "autotypenumbers": "strict",
          "coloraxis": {
           "colorbar": {
            "outlinewidth": 0,
            "ticks": ""
           }
          },
          "colorscale": {
           "diverging": [
            [
             0,
             "#8e0152"
            ],
            [
             0.1,
             "#c51b7d"
            ],
            [
             0.2,
             "#de77ae"
            ],
            [
             0.3,
             "#f1b6da"
            ],
            [
             0.4,
             "#fde0ef"
            ],
            [
             0.5,
             "#f7f7f7"
            ],
            [
             0.6,
             "#e6f5d0"
            ],
            [
             0.7,
             "#b8e186"
            ],
            [
             0.8,
             "#7fbc41"
            ],
            [
             0.9,
             "#4d9221"
            ],
            [
             1,
             "#276419"
            ]
           ],
           "sequential": [
            [
             0,
             "#0d0887"
            ],
            [
             0.1111111111111111,
             "#46039f"
            ],
            [
             0.2222222222222222,
             "#7201a8"
            ],
            [
             0.3333333333333333,
             "#9c179e"
            ],
            [
             0.4444444444444444,
             "#bd3786"
            ],
            [
             0.5555555555555556,
             "#d8576b"
            ],
            [
             0.6666666666666666,
             "#ed7953"
            ],
            [
             0.7777777777777778,
             "#fb9f3a"
            ],
            [
             0.8888888888888888,
             "#fdca26"
            ],
            [
             1,
             "#f0f921"
            ]
           ],
           "sequentialminus": [
            [
             0,
             "#0d0887"
            ],
            [
             0.1111111111111111,
             "#46039f"
            ],
            [
             0.2222222222222222,
             "#7201a8"
            ],
            [
             0.3333333333333333,
             "#9c179e"
            ],
            [
             0.4444444444444444,
             "#bd3786"
            ],
            [
             0.5555555555555556,
             "#d8576b"
            ],
            [
             0.6666666666666666,
             "#ed7953"
            ],
            [
             0.7777777777777778,
             "#fb9f3a"
            ],
            [
             0.8888888888888888,
             "#fdca26"
            ],
            [
             1,
             "#f0f921"
            ]
           ]
          },
          "colorway": [
           "#636efa",
           "#EF553B",
           "#00cc96",
           "#ab63fa",
           "#FFA15A",
           "#19d3f3",
           "#FF6692",
           "#B6E880",
           "#FF97FF",
           "#FECB52"
          ],
          "font": {
           "color": "#2a3f5f"
          },
          "geo": {
           "bgcolor": "white",
           "lakecolor": "white",
           "landcolor": "#E5ECF6",
           "showlakes": true,
           "showland": true,
           "subunitcolor": "white"
          },
          "hoverlabel": {
           "align": "left"
          },
          "hovermode": "closest",
          "mapbox": {
           "style": "light"
          },
          "paper_bgcolor": "white",
          "plot_bgcolor": "#E5ECF6",
          "polar": {
           "angularaxis": {
            "gridcolor": "white",
            "linecolor": "white",
            "ticks": ""
           },
           "bgcolor": "#E5ECF6",
           "radialaxis": {
            "gridcolor": "white",
            "linecolor": "white",
            "ticks": ""
           }
          },
          "scene": {
           "xaxis": {
            "backgroundcolor": "#E5ECF6",
            "gridcolor": "white",
            "gridwidth": 2,
            "linecolor": "white",
            "showbackground": true,
            "ticks": "",
            "zerolinecolor": "white"
           },
           "yaxis": {
            "backgroundcolor": "#E5ECF6",
            "gridcolor": "white",
            "gridwidth": 2,
            "linecolor": "white",
            "showbackground": true,
            "ticks": "",
            "zerolinecolor": "white"
           },
           "zaxis": {
            "backgroundcolor": "#E5ECF6",
            "gridcolor": "white",
            "gridwidth": 2,
            "linecolor": "white",
            "showbackground": true,
            "ticks": "",
            "zerolinecolor": "white"
           }
          },
          "shapedefaults": {
           "line": {
            "color": "#2a3f5f"
           }
          },
          "ternary": {
           "aaxis": {
            "gridcolor": "white",
            "linecolor": "white",
            "ticks": ""
           },
           "baxis": {
            "gridcolor": "white",
            "linecolor": "white",
            "ticks": ""
           },
           "bgcolor": "#E5ECF6",
           "caxis": {
            "gridcolor": "white",
            "linecolor": "white",
            "ticks": ""
           }
          },
          "title": {
           "x": 0.05
          },
          "xaxis": {
           "automargin": true,
           "gridcolor": "white",
           "linecolor": "white",
           "ticks": "",
           "title": {
            "standoff": 15
           },
           "zerolinecolor": "white",
           "zerolinewidth": 2
          },
          "yaxis": {
           "automargin": true,
           "gridcolor": "white",
           "linecolor": "white",
           "ticks": "",
           "title": {
            "standoff": 15
           },
           "zerolinecolor": "white",
           "zerolinewidth": 2
          }
         }
        },
        "title": {
         "text": "Cluster"
        },
        "xaxis": {
         "anchor": "y",
         "domain": [
          0,
          0.2125
         ]
        },
        "xaxis2": {
         "anchor": "y2",
         "domain": [
          0.2625,
          0.475
         ]
        },
        "xaxis3": {
         "anchor": "y3",
         "domain": [
          0.525,
          0.7375
         ]
        },
        "xaxis4": {
         "anchor": "y4",
         "domain": [
          0.7875,
          1
         ]
        },
        "yaxis": {
         "anchor": "x",
         "domain": [
          0,
          1
         ]
        },
        "yaxis2": {
         "anchor": "x2",
         "domain": [
          0,
          1
         ],
         "matches": "y",
         "showticklabels": false
        },
        "yaxis3": {
         "anchor": "x3",
         "domain": [
          0,
          1
         ],
         "matches": "y",
         "showticklabels": false
        },
        "yaxis4": {
         "anchor": "x4",
         "domain": [
          0,
          1
         ],
         "matches": "y",
         "showticklabels": false
        }
       }
      },
      "text/html": [
       "<div>                            <div id=\"4891a674-55d4-4a9e-b11d-b3c5031bc5b2\" class=\"plotly-graph-div\" style=\"height:525px; width:100%;\"></div>            <script type=\"text/javascript\">                require([\"plotly\"], function(Plotly) {                    window.PLOTLYENV=window.PLOTLYENV || {};                                    if (document.getElementById(\"4891a674-55d4-4a9e-b11d-b3c5031bc5b2\")) {                    Plotly.newPlot(                        \"4891a674-55d4-4a9e-b11d-b3c5031bc5b2\",                        [{\"marker\":{\"color\":[\"violet\",\"orange\",\"burlywood\",\"lightseagreen\"]},\"name\":\"Cluster - 1\",\"x\":[\"Rating\",\"Mean Salary\",\"Years Founded\"],\"y\":[0.7538096679786053,0.7768313272400466,0.353632833856977],\"type\":\"bar\",\"xaxis\":\"x\",\"yaxis\":\"y\"},{\"marker\":{\"color\":[\"violet\",\"orange\",\"burlywood\",\"lightseagreen\"]},\"name\":\"Cluster - 2\",\"x\":[\"Rating\",\"Mean Salary\",\"Years Founded\"],\"y\":[0.7028122347271283,0.2563931712867883,0.24940898345153664],\"type\":\"bar\",\"xaxis\":\"x2\",\"yaxis\":\"y2\"},{\"marker\":{\"color\":[\"violet\",\"orange\",\"burlywood\",\"lightseagreen\"]},\"name\":\"Cluster - 3\",\"x\":[\"Rating\",\"Mean Salary\",\"Years Founded\"],\"y\":[0.38857048537899597,0.26617312422147,0.7460320311782604],\"type\":\"bar\",\"xaxis\":\"x3\",\"yaxis\":\"y3\"},{\"marker\":{\"color\":[\"violet\",\"orange\",\"burlywood\",\"lightseagreen\"]},\"name\":\"Cluster - 4\",\"x\":[\"Rating\",\"Mean Salary\",\"Years Founded\"],\"y\":[0.24176494877566013,0.7176217987028797,0.5503877602084837],\"type\":\"bar\",\"xaxis\":\"x4\",\"yaxis\":\"y4\"}],                        {\"template\":{\"data\":{\"histogram2dcontour\":[{\"type\":\"histogram2dcontour\",\"colorbar\":{\"outlinewidth\":0,\"ticks\":\"\"},\"colorscale\":[[0.0,\"#0d0887\"],[0.1111111111111111,\"#46039f\"],[0.2222222222222222,\"#7201a8\"],[0.3333333333333333,\"#9c179e\"],[0.4444444444444444,\"#bd3786\"],[0.5555555555555556,\"#d8576b\"],[0.6666666666666666,\"#ed7953\"],[0.7777777777777778,\"#fb9f3a\"],[0.8888888888888888,\"#fdca26\"],[1.0,\"#f0f921\"]]}],\"choropleth\":[{\"type\":\"choropleth\",\"colorbar\":{\"outlinewidth\":0,\"ticks\":\"\"}}],\"histogram2d\":[{\"type\":\"histogram2d\",\"colorbar\":{\"outlinewidth\":0,\"ticks\":\"\"},\"colorscale\":[[0.0,\"#0d0887\"],[0.1111111111111111,\"#46039f\"],[0.2222222222222222,\"#7201a8\"],[0.3333333333333333,\"#9c179e\"],[0.4444444444444444,\"#bd3786\"],[0.5555555555555556,\"#d8576b\"],[0.6666666666666666,\"#ed7953\"],[0.7777777777777778,\"#fb9f3a\"],[0.8888888888888888,\"#fdca26\"],[1.0,\"#f0f921\"]]}],\"heatmap\":[{\"type\":\"heatmap\",\"colorbar\":{\"outlinewidth\":0,\"ticks\":\"\"},\"colorscale\":[[0.0,\"#0d0887\"],[0.1111111111111111,\"#46039f\"],[0.2222222222222222,\"#7201a8\"],[0.3333333333333333,\"#9c179e\"],[0.4444444444444444,\"#bd3786\"],[0.5555555555555556,\"#d8576b\"],[0.6666666666666666,\"#ed7953\"],[0.7777777777777778,\"#fb9f3a\"],[0.8888888888888888,\"#fdca26\"],[1.0,\"#f0f921\"]]}],\"heatmapgl\":[{\"type\":\"heatmapgl\",\"colorbar\":{\"outlinewidth\":0,\"ticks\":\"\"},\"colorscale\":[[0.0,\"#0d0887\"],[0.1111111111111111,\"#46039f\"],[0.2222222222222222,\"#7201a8\"],[0.3333333333333333,\"#9c179e\"],[0.4444444444444444,\"#bd3786\"],[0.5555555555555556,\"#d8576b\"],[0.6666666666666666,\"#ed7953\"],[0.7777777777777778,\"#fb9f3a\"],[0.8888888888888888,\"#fdca26\"],[1.0,\"#f0f921\"]]}],\"contourcarpet\":[{\"type\":\"contourcarpet\",\"colorbar\":{\"outlinewidth\":0,\"ticks\":\"\"}}],\"contour\":[{\"type\":\"contour\",\"colorbar\":{\"outlinewidth\":0,\"ticks\":\"\"},\"colorscale\":[[0.0,\"#0d0887\"],[0.1111111111111111,\"#46039f\"],[0.2222222222222222,\"#7201a8\"],[0.3333333333333333,\"#9c179e\"],[0.4444444444444444,\"#bd3786\"],[0.5555555555555556,\"#d8576b\"],[0.6666666666666666,\"#ed7953\"],[0.7777777777777778,\"#fb9f3a\"],[0.8888888888888888,\"#fdca26\"],[1.0,\"#f0f921\"]]}],\"surface\":[{\"type\":\"surface\",\"colorbar\":{\"outlinewidth\":0,\"ticks\":\"\"},\"colorscale\":[[0.0,\"#0d0887\"],[0.1111111111111111,\"#46039f\"],[0.2222222222222222,\"#7201a8\"],[0.3333333333333333,\"#9c179e\"],[0.4444444444444444,\"#bd3786\"],[0.5555555555555556,\"#d8576b\"],[0.6666666666666666,\"#ed7953\"],[0.7777777777777778,\"#fb9f3a\"],[0.8888888888888888,\"#fdca26\"],[1.0,\"#f0f921\"]]}],\"mesh3d\":[{\"type\":\"mesh3d\",\"colorbar\":{\"outlinewidth\":0,\"ticks\":\"\"}}],\"scatter\":[{\"fillpattern\":{\"fillmode\":\"overlay\",\"size\":10,\"solidity\":0.2},\"type\":\"scatter\"}],\"parcoords\":[{\"type\":\"parcoords\",\"line\":{\"colorbar\":{\"outlinewidth\":0,\"ticks\":\"\"}}}],\"scatterpolargl\":[{\"type\":\"scatterpolargl\",\"marker\":{\"colorbar\":{\"outlinewidth\":0,\"ticks\":\"\"}}}],\"bar\":[{\"error_x\":{\"color\":\"#2a3f5f\"},\"error_y\":{\"color\":\"#2a3f5f\"},\"marker\":{\"line\":{\"color\":\"#E5ECF6\",\"width\":0.5},\"pattern\":{\"fillmode\":\"overlay\",\"size\":10,\"solidity\":0.2}},\"type\":\"bar\"}],\"scattergeo\":[{\"type\":\"scattergeo\",\"marker\":{\"colorbar\":{\"outlinewidth\":0,\"ticks\":\"\"}}}],\"scatterpolar\":[{\"type\":\"scatterpolar\",\"marker\":{\"colorbar\":{\"outlinewidth\":0,\"ticks\":\"\"}}}],\"histogram\":[{\"marker\":{\"pattern\":{\"fillmode\":\"overlay\",\"size\":10,\"solidity\":0.2}},\"type\":\"histogram\"}],\"scattergl\":[{\"type\":\"scattergl\",\"marker\":{\"colorbar\":{\"outlinewidth\":0,\"ticks\":\"\"}}}],\"scatter3d\":[{\"type\":\"scatter3d\",\"line\":{\"colorbar\":{\"outlinewidth\":0,\"ticks\":\"\"}},\"marker\":{\"colorbar\":{\"outlinewidth\":0,\"ticks\":\"\"}}}],\"scattermapbox\":[{\"type\":\"scattermapbox\",\"marker\":{\"colorbar\":{\"outlinewidth\":0,\"ticks\":\"\"}}}],\"scatterternary\":[{\"type\":\"scatterternary\",\"marker\":{\"colorbar\":{\"outlinewidth\":0,\"ticks\":\"\"}}}],\"scattercarpet\":[{\"type\":\"scattercarpet\",\"marker\":{\"colorbar\":{\"outlinewidth\":0,\"ticks\":\"\"}}}],\"carpet\":[{\"aaxis\":{\"endlinecolor\":\"#2a3f5f\",\"gridcolor\":\"white\",\"linecolor\":\"white\",\"minorgridcolor\":\"white\",\"startlinecolor\":\"#2a3f5f\"},\"baxis\":{\"endlinecolor\":\"#2a3f5f\",\"gridcolor\":\"white\",\"linecolor\":\"white\",\"minorgridcolor\":\"white\",\"startlinecolor\":\"#2a3f5f\"},\"type\":\"carpet\"}],\"table\":[{\"cells\":{\"fill\":{\"color\":\"#EBF0F8\"},\"line\":{\"color\":\"white\"}},\"header\":{\"fill\":{\"color\":\"#C8D4E3\"},\"line\":{\"color\":\"white\"}},\"type\":\"table\"}],\"barpolar\":[{\"marker\":{\"line\":{\"color\":\"#E5ECF6\",\"width\":0.5},\"pattern\":{\"fillmode\":\"overlay\",\"size\":10,\"solidity\":0.2}},\"type\":\"barpolar\"}],\"pie\":[{\"automargin\":true,\"type\":\"pie\"}]},\"layout\":{\"autotypenumbers\":\"strict\",\"colorway\":[\"#636efa\",\"#EF553B\",\"#00cc96\",\"#ab63fa\",\"#FFA15A\",\"#19d3f3\",\"#FF6692\",\"#B6E880\",\"#FF97FF\",\"#FECB52\"],\"font\":{\"color\":\"#2a3f5f\"},\"hovermode\":\"closest\",\"hoverlabel\":{\"align\":\"left\"},\"paper_bgcolor\":\"white\",\"plot_bgcolor\":\"#E5ECF6\",\"polar\":{\"bgcolor\":\"#E5ECF6\",\"angularaxis\":{\"gridcolor\":\"white\",\"linecolor\":\"white\",\"ticks\":\"\"},\"radialaxis\":{\"gridcolor\":\"white\",\"linecolor\":\"white\",\"ticks\":\"\"}},\"ternary\":{\"bgcolor\":\"#E5ECF6\",\"aaxis\":{\"gridcolor\":\"white\",\"linecolor\":\"white\",\"ticks\":\"\"},\"baxis\":{\"gridcolor\":\"white\",\"linecolor\":\"white\",\"ticks\":\"\"},\"caxis\":{\"gridcolor\":\"white\",\"linecolor\":\"white\",\"ticks\":\"\"}},\"coloraxis\":{\"colorbar\":{\"outlinewidth\":0,\"ticks\":\"\"}},\"colorscale\":{\"sequential\":[[0.0,\"#0d0887\"],[0.1111111111111111,\"#46039f\"],[0.2222222222222222,\"#7201a8\"],[0.3333333333333333,\"#9c179e\"],[0.4444444444444444,\"#bd3786\"],[0.5555555555555556,\"#d8576b\"],[0.6666666666666666,\"#ed7953\"],[0.7777777777777778,\"#fb9f3a\"],[0.8888888888888888,\"#fdca26\"],[1.0,\"#f0f921\"]],\"sequentialminus\":[[0.0,\"#0d0887\"],[0.1111111111111111,\"#46039f\"],[0.2222222222222222,\"#7201a8\"],[0.3333333333333333,\"#9c179e\"],[0.4444444444444444,\"#bd3786\"],[0.5555555555555556,\"#d8576b\"],[0.6666666666666666,\"#ed7953\"],[0.7777777777777778,\"#fb9f3a\"],[0.8888888888888888,\"#fdca26\"],[1.0,\"#f0f921\"]],\"diverging\":[[0,\"#8e0152\"],[0.1,\"#c51b7d\"],[0.2,\"#de77ae\"],[0.3,\"#f1b6da\"],[0.4,\"#fde0ef\"],[0.5,\"#f7f7f7\"],[0.6,\"#e6f5d0\"],[0.7,\"#b8e186\"],[0.8,\"#7fbc41\"],[0.9,\"#4d9221\"],[1,\"#276419\"]]},\"xaxis\":{\"gridcolor\":\"white\",\"linecolor\":\"white\",\"ticks\":\"\",\"title\":{\"standoff\":15},\"zerolinecolor\":\"white\",\"automargin\":true,\"zerolinewidth\":2},\"yaxis\":{\"gridcolor\":\"white\",\"linecolor\":\"white\",\"ticks\":\"\",\"title\":{\"standoff\":15},\"zerolinecolor\":\"white\",\"automargin\":true,\"zerolinewidth\":2},\"scene\":{\"xaxis\":{\"backgroundcolor\":\"#E5ECF6\",\"gridcolor\":\"white\",\"linecolor\":\"white\",\"showbackground\":true,\"ticks\":\"\",\"zerolinecolor\":\"white\",\"gridwidth\":2},\"yaxis\":{\"backgroundcolor\":\"#E5ECF6\",\"gridcolor\":\"white\",\"linecolor\":\"white\",\"showbackground\":true,\"ticks\":\"\",\"zerolinecolor\":\"white\",\"gridwidth\":2},\"zaxis\":{\"backgroundcolor\":\"#E5ECF6\",\"gridcolor\":\"white\",\"linecolor\":\"white\",\"showbackground\":true,\"ticks\":\"\",\"zerolinecolor\":\"white\",\"gridwidth\":2}},\"shapedefaults\":{\"line\":{\"color\":\"#2a3f5f\"}},\"annotationdefaults\":{\"arrowcolor\":\"#2a3f5f\",\"arrowhead\":0,\"arrowwidth\":1},\"geo\":{\"bgcolor\":\"white\",\"landcolor\":\"#E5ECF6\",\"subunitcolor\":\"white\",\"showland\":true,\"showlakes\":true,\"lakecolor\":\"white\"},\"title\":{\"x\":0.05},\"mapbox\":{\"style\":\"light\"}}},\"xaxis\":{\"anchor\":\"y\",\"domain\":[0.0,0.2125]},\"yaxis\":{\"anchor\":\"x\",\"domain\":[0.0,1.0]},\"xaxis2\":{\"anchor\":\"y2\",\"domain\":[0.2625,0.475]},\"yaxis2\":{\"anchor\":\"x2\",\"domain\":[0.0,1.0],\"matches\":\"y\",\"showticklabels\":false},\"xaxis3\":{\"anchor\":\"y3\",\"domain\":[0.525,0.7375]},\"yaxis3\":{\"anchor\":\"x3\",\"domain\":[0.0,1.0],\"matches\":\"y\",\"showticklabels\":false},\"xaxis4\":{\"anchor\":\"y4\",\"domain\":[0.7875,1.0]},\"yaxis4\":{\"anchor\":\"x4\",\"domain\":[0.0,1.0],\"matches\":\"y\",\"showticklabels\":false},\"showlegend\":false,\"title\":{\"text\":\"Cluster\"}},                        {\"responsive\": true}                    ).then(function(){\n",
       "                            \n",
       "var gd = document.getElementById('4891a674-55d4-4a9e-b11d-b3c5031bc5b2');\n",
       "var x = new MutationObserver(function (mutations, observer) {{\n",
       "        var display = window.getComputedStyle(gd).display;\n",
       "        if (!display || display === 'none') {{\n",
       "            console.log([gd, 'removed!']);\n",
       "            Plotly.purge(gd);\n",
       "            observer.disconnect();\n",
       "        }}\n",
       "}});\n",
       "\n",
       "// Listen for the removal of the full notebook cells\n",
       "var notebookContainer = gd.closest('#notebook-container');\n",
       "if (notebookContainer) {{\n",
       "    x.observe(notebookContainer, {childList: true});\n",
       "}}\n",
       "\n",
       "// Listen for the clearing of the current output cell\n",
       "var outputEl = gd.closest('.output');\n",
       "if (outputEl) {{\n",
       "    x.observe(outputEl, {childList: true});\n",
       "}}\n",
       "\n",
       "                        })                };                });            </script>        </div>"
      ]
     },
     "metadata": {},
     "output_type": "display_data"
    }
   ],
   "source": [
    "# Plot clusters in graph bars \n",
    "fig_bars = make_subplots(rows = 1, cols = 4, shared_yaxes = True)\n",
    "\n",
    "\n",
    "# Cluster 1\n",
    "fig_bars.add_trace(go.Bar(x = categories, \n",
    "                          y = y[:1,:].tolist()[0],\n",
    "                          marker = dict(color = colors,),\n",
    "                          name = 'Cluster - 1'),\n",
    "                   row = 1, \n",
    "                   col = 1)\n",
    "# Cluster 2\n",
    "fig_bars.add_trace(go.Bar(x = categories, \n",
    "                          y = y[1:2,:].tolist()[0],\n",
    "                          marker = dict(color = colors),\n",
    "                          name = 'Cluster - 2'),\n",
    "                   row = 1,\n",
    "                   col = 2)\n",
    "\n",
    "# Cluster 3\n",
    "fig_bars.add_trace(go.Bar(x = categories, \n",
    "                          y = y[2:3,:].tolist()[0],\n",
    "                          marker = dict(color = colors), \n",
    "                          name = 'Cluster - 3'),\n",
    "                   row = 1,\n",
    "                   col = 3)\n",
    "\n",
    "# Cluster 4\n",
    "fig_bars.add_trace(go.Bar(x = categories, \n",
    "                          y = y[3:4,:].tolist()[0],\n",
    "                          marker = dict(color = colors), \n",
    "                          name = 'Cluster - 4'),\n",
    "                   row = 1,\n",
    "                   col = 4)\n",
    "\n",
    "fig_bars.update_layout(showlegend = False, title = 'Cluster')\n",
    "\n",
    "fig_bars.show()"
   ]
  },
  {
   "cell_type": "code",
   "execution_count": 76,
   "id": "722cd749",
   "metadata": {
    "ExecuteTime": {
     "end_time": "2023-04-20T14:17:03.285992Z",
     "start_time": "2023-04-20T14:17:03.279751Z"
    }
   },
   "outputs": [],
   "source": [
    "#In this given code i have used elbow method to determine the optimal number of clusters to use in the analysis. The elbow method is a heuristic method used to identify the optimal number of clusters based on the amount of variance explained as the number of clusters increases.\n",
    "#I have used 4 clusters to determine the reuslts of job postings differently .\n",
    "# Then i have used 3d scatter plot  to show the results of Ratings, Year founded and Mean Salary "
   ]
  },
  {
   "cell_type": "code",
   "execution_count": 78,
   "id": "918ae6cd",
   "metadata": {
    "ExecuteTime": {
     "end_time": "2023-04-20T14:19:59.432087Z",
     "start_time": "2023-04-20T14:19:59.293496Z"
    }
   },
   "outputs": [
    {
     "data": {
      "text/plain": [
       "<AxesSubplot: xlabel='Cluster'>"
      ]
     },
     "execution_count": 78,
     "metadata": {},
     "output_type": "execute_result"
    },
    {
     "data": {
      "image/png": "[encoded data removed]",
      "text/plain": [
       "<Figure size 640x480 with 2 Axes>"
      ]
     },
     "metadata": {},
     "output_type": "display_data"
    }
   ],
   "source": [
    "# Create a new dataframe with the original features and the cluster labels\n",
    "df_clustered = df2.copy()\n",
    "df_clustered['Cluster'] = y_predict\n",
    "\n",
    "# Create a heatmap to visualize the average values of each feature for each cluster\n",
    "df_clustered_grouped = df_clustered.groupby('Cluster').mean()\n",
    "sns.heatmap(df_clustered_grouped.T, cmap='coolwarm', annot=True, fmt='.2f')"
   ]
  },
  {
   "cell_type": "code",
   "execution_count": 79,
   "id": "3a5294c9",
   "metadata": {
    "ExecuteTime": {
     "end_time": "2023-04-20T14:21:17.625380Z",
     "start_time": "2023-04-20T14:21:17.618326Z"
    }
   },
   "outputs": [],
   "source": [
    "#The above heat map shows the job postings salary , rating and years founded ."
   ]
  },
  {
   "cell_type": "code",
   "execution_count": null,
   "id": "67ab4f53",
   "metadata": {},
   "outputs": [],
   "source": []
  }
 ],
 "metadata": {
  "kernelspec": {
   "display_name": "Python 3 (ipykernel)",
   "language": "python",
   "name": "python3"
  },
  "language_info": {
   "codemirror_mode": {
    "name": "ipython",
    "version": 3
   },
   "file_extension": ".py",
   "mimetype": "text/x-python",
   "name": "python",
   "nbconvert_exporter": "python",
   "pygments_lexer": "ipython3",
   "version": "3.9.12"
  },
  "toc": {
   "base_numbering": 1,
   "nav_menu": {},
   "number_sections": true,
   "sideBar": true,
   "skip_h1_title": false,
   "title_cell": "Table of Contents",
   "title_sidebar": "Contents",
   "toc_cell": false,
   "toc_position": {},
   "toc_section_display": true,
   "toc_window_display": false
  },
  "varInspector": {
   "cols": {
    "lenName": 16,
    "lenType": 16,
    "lenVar": 40
   },
   "kernels_config": {
    "python": {
     "delete_cmd_postfix": "",
     "delete_cmd_prefix": "del ",
     "library": "var_list.py",
     "varRefreshCmd": "print(var_dic_list())"
    },
    "r": {
     "delete_cmd_postfix": ") ",
     "delete_cmd_prefix": "rm(",
     "library": "var_list.r",
     "varRefreshCmd": "cat(var_dic_list()) "
    }
   },
   "types_to_exclude": [
    "module",
    "function",
    "builtin_function_or_method",
    "instance",
    "_Feature"
   ],
   "window_display": false
  }
 },
 "nbformat": 4,
 "nbformat_minor": 5
}
                                                                                                                                                                                                                                                                                                                                                                                                                                                                                                                                                                                                                                                                                                                                                                                                                                                                                                                                                                                                                                                                                                                                                                                                                                                                                                                                                                                                                                                                                                                                                                                                               