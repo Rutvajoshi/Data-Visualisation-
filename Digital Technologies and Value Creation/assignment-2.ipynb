{
 "cells": [
  {
   "cell_type": "markdown",
   "id": "06977b98",
   "metadata": {},
   "source": [
    "## Importing required modules"
   ]
  },
  {
   "cell_type": "code",
   "execution_count": 1,
   "id": "0e6b1b3a",
   "metadata": {},
   "outputs": [],
   "source": [
    "import requests\n",
    "from bs4 import BeautifulSoup"
   ]
  },
  {
   "cell_type": "code",
   "execution_count": 2,
   "id": "5503f323",
   "metadata": {},
   "outputs": [],
   "source": [
    "import selenium\n",
    "from selenium import webdriver\n",
    "from selenium.webdriver.support.ui import WebDriverWait\n",
    "from selenium.webdriver.common.keys import Keys\n",
    "from selenium.webdriver.common.by import By\n",
    "import pandas as pd\n",
    "import re\n",
    "import time\n",
    "from selenium.webdriver.support.ui import Select\n",
    "from selenium.webdriver import ActionChains"
   ]
  },
  {
   "cell_type": "markdown",
   "id": "db66039f",
   "metadata": {},
   "source": [
    "## using webdriver to imitate chrome browser"
   ]
  },
  {
   "cell_type": "code",
   "execution_count": 3,
   "id": "09a4b3c4",
   "metadata": {},
   "outputs": [],
   "source": [
    "driver = webdriver.Chrome()\n",
    "driver.get(\"https://www.laithwaites.co.uk/wines/Red-Wine/_/N-1z141we\")"
   ]
  },
  {
   "cell_type": "code",
   "execution_count": 4,
   "id": "76c06455",
   "metadata": {},
   "outputs": [],
   "source": [
    "cookie_button = driver.find_element(By.XPATH,'//button[@id=\"onetrust-accept-btn-handler\"]')\n",
    "cookie_button.click()"
   ]
  },
  {
   "cell_type": "markdown",
   "id": "0dafc862",
   "metadata": {},
   "source": [
    "## Using Select class of selenium to select 50 results per page from drop down menu"
   ]
  },
  {
   "cell_type": "code",
   "execution_count": 6,
   "id": "53b39457",
   "metadata": {},
   "outputs": [],
   "source": [
    "noinput = Select(driver.find_element(By.XPATH,'//select[@id=\"numPerPage\"]'))\n",
    "noinput.select_by_index(2)"
   ]
  },
  {
   "cell_type": "markdown",
   "id": "31cba453",
   "metadata": {},
   "source": [
    "## writing for loop to scrape URLs from all pages for red wine"
   ]
  },
  {
   "cell_type": "code",
   "execution_count": 7,
   "id": "396f6426",
   "metadata": {},
   "outputs": [
    {
     "name": "stdout",
     "output_type": "stream",
     "text": [
      "END\n"
     ]
    }
   ],
   "source": [
    "stop = False\n",
    "wine_urls = []\n",
    "try:\n",
    "    while not stop:\n",
    "        wines = driver.find_elements(By.XPATH,'//a[@class=\"h3\"]')\n",
    "       # print(\"Found \" + str(len(postings)) + \" postings\")\n",
    "        for wine in wines:\n",
    "            wine_urls.append(wine.get_attribute('href'))\n",
    "        for url in wine_urls:\n",
    "            if(\"Mix\" in url):\n",
    "                wine_urls.remove(url)\n",
    "        next_arrows = driver.find_elements(By.XPATH,'//a[@id=\"nextPage\"]')\n",
    "        if len(next_arrows) > 0:\n",
    "            next_arrow = next_arrows[0] \n",
    "            if 'disabled' in next_arrow.get_attribute('class'):\n",
    "                stop = True\n",
    "                #next_arrow.click()\n",
    "                #time.sleep(3) # We need to wait a little, as the page takes time to load (try setting the wait to 0 and see what happens!)\n",
    "            else:\n",
    "                #ActionsChains ob = new Actions(driver);\n",
    "                action=ActionChains(driver)\n",
    "                action.click(next_arrow)\n",
    "                #Action action  = ob.build();\n",
    "                action.perform();\n",
    "                #next_arrow.click()\n",
    "                time.sleep(5)\n",
    "        else:\n",
    "            stop = True\n",
    "except Exception:\n",
    "    print(\"END\")"
   ]
  },
  {
   "cell_type": "code",
   "execution_count": 8,
   "id": "4bac9120",
   "metadata": {},
   "outputs": [],
   "source": [
    "import numpy as np"
   ]
  },
  {
   "cell_type": "markdown",
   "id": "acdf42c6",
   "metadata": {},
   "source": [
    "## Loop to extract required information from every URL using Beautiful Soap"
   ]
  },
  {
   "cell_type": "code",
   "execution_count": 11,
   "id": "01ed0ca5",
   "metadata": {},
   "outputs": [
    {
     "data": {
      "text/html": [
       "<div>\n",
       "<style scoped>\n",
       "    .dataframe tbody tr th:only-of-type {\n",
       "        vertical-align: middle;\n",
       "    }\n",
       "\n",
       "    .dataframe tbody tr th {\n",
       "        vertical-align: top;\n",
       "    }\n",
       "\n",
       "    .dataframe thead th {\n",
       "        text-align: right;\n",
       "    }\n",
       "</style>\n",
       "<table border=\"1\" class=\"dataframe\">\n",
       "  <thead>\n",
       "    <tr style=\"text-align: right;\">\n",
       "      <th></th>\n",
       "      <th>Names</th>\n",
       "      <th>Country</th>\n",
       "      <th>ABV</th>\n",
       "      <th>Ratings</th>\n",
       "      <th>Price</th>\n",
       "    </tr>\n",
       "  </thead>\n",
       "  <tbody>\n",
       "    <tr>\n",
       "      <th>0</th>\n",
       "      <td>Cabalié 2021</td>\n",
       "      <td>France</td>\n",
       "      <td>13.0</td>\n",
       "      <td>4.5</td>\n",
       "      <td>11.99</td>\n",
       "    </tr>\n",
       "    <tr>\n",
       "      <th>1</th>\n",
       "      <td>Cabalié (1 Litre Wine Box) 2021</td>\n",
       "      <td>France</td>\n",
       "      <td>13.0</td>\n",
       "      <td>4.8</td>\n",
       "      <td>9.99</td>\n",
       "    </tr>\n",
       "    <tr>\n",
       "      <th>2</th>\n",
       "      <td>Pillastro Primitivo 2020</td>\n",
       "      <td>Italy</td>\n",
       "      <td>10</td>\n",
       "      <td>4.4</td>\n",
       "      <td>11.99</td>\n",
       "    </tr>\n",
       "    <tr>\n",
       "      <th>3</th>\n",
       "      <td>Cabalié Cuvée Vieilles Vignes 2021</td>\n",
       "      <td>France</td>\n",
       "      <td>13.0</td>\n",
       "      <td>4.5</td>\n",
       "      <td>14.99</td>\n",
       "    </tr>\n",
       "    <tr>\n",
       "      <th>4</th>\n",
       "      <td>Rex Mundi Shiraz Grenache 2021</td>\n",
       "      <td>France</td>\n",
       "      <td>13.0</td>\n",
       "      <td>4.4</td>\n",
       "      <td>11.99</td>\n",
       "    </tr>\n",
       "    <tr>\n",
       "      <th>...</th>\n",
       "      <td>...</td>\n",
       "      <td>...</td>\n",
       "      <td>...</td>\n",
       "      <td>...</td>\n",
       "      <td>...</td>\n",
       "    </tr>\n",
       "    <tr>\n",
       "      <th>64</th>\n",
       "      <td>Château Prieuré-les-Tours 2015</td>\n",
       "      <td>France</td>\n",
       "      <td>13.0</td>\n",
       "      <td>3.6</td>\n",
       "      <td>18.99</td>\n",
       "    </tr>\n",
       "    <tr>\n",
       "      <th>65</th>\n",
       "      <td>Massivo Nero d'Avola 2021</td>\n",
       "      <td>Italy</td>\n",
       "      <td>13.5</td>\n",
       "      <td>4.0</td>\n",
       "      <td>12.99</td>\n",
       "    </tr>\n",
       "    <tr>\n",
       "      <th>66</th>\n",
       "      <td>HJ Fabre Barrel Selection Patagonia Malbec 2021</td>\n",
       "      <td>Argentina</td>\n",
       "      <td>10</td>\n",
       "      <td>4.2</td>\n",
       "      <td>17.99</td>\n",
       "    </tr>\n",
       "    <tr>\n",
       "      <th>67</th>\n",
       "      <td>Château Pontet-Canet Organic 2021</td>\n",
       "      <td>France</td>\n",
       "      <td>NaN</td>\n",
       "      <td></td>\n",
       "      <td>NaN</td>\n",
       "    </tr>\n",
       "    <tr>\n",
       "      <th>68</th>\n",
       "      <td>Château de Pougelon Clos Reisser 2020</td>\n",
       "      <td>France</td>\n",
       "      <td>10</td>\n",
       "      <td></td>\n",
       "      <td>16.49</td>\n",
       "    </tr>\n",
       "  </tbody>\n",
       "</table>\n",
       "<p>69 rows × 5 columns</p>\n",
       "</div>"
      ],
      "text/plain": [
       "                                                Names    Country   ABV  \\\n",
       "0                                       Cabalié 2021      France  13.0   \n",
       "1                    Cabalié (1 Litre Wine Box) 2021      France  13.0   \n",
       "2                           Pillastro Primitivo 2020       Italy    10   \n",
       "3                 Cabalié Cuvée Vieilles Vignes 2021      France  13.0   \n",
       "4                     Rex Mundi Shiraz Grenache 2021      France  13.0   \n",
       "..                                                ...        ...   ...   \n",
       "64                    Château Prieuré-les-Tours 2015      France  13.0   \n",
       "65                         Massivo Nero d'Avola 2021       Italy  13.5   \n",
       "66   HJ Fabre Barrel Selection Patagonia Malbec 2021   Argentina    10   \n",
       "67                 Château Pontet-Canet Organic 2021      France   NaN   \n",
       "68             Château de Pougelon Clos Reisser 2020      France    10   \n",
       "\n",
       "   Ratings  Price  \n",
       "0      4.5  11.99  \n",
       "1      4.8   9.99  \n",
       "2      4.4  11.99  \n",
       "3      4.5  14.99  \n",
       "4      4.4  11.99  \n",
       "..     ...    ...  \n",
       "64     3.6  18.99  \n",
       "65     4.0  12.99  \n",
       "66     4.2  17.99  \n",
       "67            NaN  \n",
       "68          16.49  \n",
       "\n",
       "[69 rows x 5 columns]"
      ]
     },
     "execution_count": 11,
     "metadata": {},
     "output_type": "execute_result"
    }
   ],
   "source": [
    "_names = []\n",
    "_countries = []\n",
    "_ABV = []\n",
    "_ratings = []\n",
    "_price = []\n",
    "# We iterate through the URLs, this may take a bit\n",
    "for link in wine_urls:\n",
    "    page = requests.get(link)\n",
    "    soup = BeautifulSoup(page.content, \"html.parser\")\n",
    "    info = soup.findAll(\"div\", class_=\"detail-text\")\n",
    "    if len(info) == 9:\n",
    "        name = soup.find(\"h1\", class_=\"prod-name\")\n",
    "        if(name is not None):\n",
    "            name = name.text\n",
    "            name = re.sub('\\s+', ' ', name)\n",
    "        else:\n",
    "            name = np.nan\n",
    "        _names.append(name)\n",
    "        cntry = soup.find(\"span\", class_=\"pull-left icons country-icon\")\n",
    "        cntry = cntry.find(\"img\")\n",
    "        cntry = cntry['title']   \n",
    "        _countries.append(cntry)\n",
    "        ABV = info[5].text\n",
    "        if len(ABV) == 0:\n",
    "            ABV = np.nan\n",
    "        else:\n",
    "            ABV = re.findall('[1-9]+\\.?[0-9]*', ABV)\n",
    "            if len(ABV) == 0:\n",
    "                ABV =np.nan\n",
    "            else:\n",
    "                ABV=ABV[0]\n",
    "        _ABV.append(ABV)\n",
    "        rating_tag=soup.findAll(\"span\",class_=\"rating-score\")\n",
    "        if len(rating_tag):\n",
    "            rating = rating_tag[0].text\n",
    "            if len(rating) != 0:\n",
    "                rating = re.findall('[0-9]*\\.?[0-9]*', rating)[0]\n",
    "            else:\n",
    "                rating = np.nan\n",
    "        else:\n",
    "            rating = np.nan\n",
    "        _ratings.append(rating)\n",
    "        price_tag = soup.findAll(\"span\", class_=\"price-per-bottle\")\n",
    "        if len(price_tag):\n",
    "            price = price_tag[0].text[1:]\n",
    "        else:\n",
    "            price = np.nan\n",
    "        _price.append(price)\n",
    "    else:\n",
    "        continue\n",
    "redwine_data = pd.DataFrame(\n",
    "    {'Names': _names,\n",
    "     'Country': _countries,\n",
    "     'ABV' : _ABV,\n",
    "     'Ratings' : _ratings,\n",
    "     'Price' : _price\n",
    "     })\n",
    "redwine_data\n"
   ]
  },
  {
   "cell_type": "code",
   "execution_count": 12,
   "id": "e4623e17",
   "metadata": {},
   "outputs": [],
   "source": [
    "redwine_data.to_csv(\"redwine.csv\")"
   ]
  },
  {
   "cell_type": "markdown",
   "id": "2246a84b",
   "metadata": {},
   "source": [
    "## Repeating the process for white wine"
   ]
  },
  {
   "cell_type": "code",
   "execution_count": 13,
   "id": "47c23e32",
   "metadata": {},
   "outputs": [],
   "source": [
    "driver = webdriver.Chrome()\n",
    "driver.get(\"https://www.laithwaites.co.uk/wines/White-Wine/_/N-1z141yb\")"
   ]
  },
  {
   "cell_type": "code",
   "execution_count": 14,
   "id": "2b580922",
   "metadata": {},
   "outputs": [],
   "source": [
    "cookie_button = driver.find_element(By.XPATH,'//button[@id=\"onetrust-accept-btn-handler\"]')\n",
    "cookie_button.click()"
   ]
  },
  {
   "cell_type": "code",
   "execution_count": 15,
   "id": "48ee5271",
   "metadata": {},
   "outputs": [],
   "source": [
    "noinput = Select(driver.find_element(By.XPATH,'//select[@id=\"numPerPage\"]'))\n",
    "noinput.select_by_index(2)"
   ]
  },
  {
   "cell_type": "code",
   "execution_count": 16,
   "id": "8c134263",
   "metadata": {},
   "outputs": [
    {
     "name": "stdout",
     "output_type": "stream",
     "text": [
      "END\n"
     ]
    }
   ],
   "source": [
    "stop = False\n",
    "whitewine_urls = []\n",
    "try:\n",
    "    while not stop:\n",
    "        wines = driver.find_elements(By.XPATH,'//a[@class=\"h3\"]')\n",
    "        for wine in wines:\n",
    "            whitewine_urls.append(wine.get_attribute('href'))\n",
    "        for url in whitewine_urls:\n",
    "            if(\"Mix\" in url):\n",
    "                whitewine_urls.remove(url)\n",
    "        next_arrows = driver.find_elements(By.XPATH,'//a[@id=\"nextPage\"]')\n",
    "        if len(next_arrows) > 0:\n",
    "            next_arrow = next_arrows[0] \n",
    "            if 'disabled' in next_arrow.get_attribute('class'):\n",
    "                stop = True\n",
    "            else:\n",
    "                #ActionsChains ob = new Actions(driver);\n",
    "                action=ActionChains(driver)\n",
    "                action.click(next_arrow)\n",
    "                #Action action  = ob.build();\n",
    "                action.perform();\n",
    "                #next_arrow.click()\n",
    "                time.sleep(5)\n",
    "        else:\n",
    "            stop = True\n",
    "except Exception:\n",
    "    print(\"END\")"
   ]
  },
  {
   "cell_type": "code",
   "execution_count": 17,
   "id": "1c7304c4",
   "metadata": {},
   "outputs": [
    {
     "data": {
      "text/html": [
       "<div>\n",
       "<style scoped>\n",
       "    .dataframe tbody tr th:only-of-type {\n",
       "        vertical-align: middle;\n",
       "    }\n",
       "\n",
       "    .dataframe tbody tr th {\n",
       "        vertical-align: top;\n",
       "    }\n",
       "\n",
       "    .dataframe thead th {\n",
       "        text-align: right;\n",
       "    }\n",
       "</style>\n",
       "<table border=\"1\" class=\"dataframe\">\n",
       "  <thead>\n",
       "    <tr style=\"text-align: right;\">\n",
       "      <th></th>\n",
       "      <th>Names</th>\n",
       "      <th>Country</th>\n",
       "      <th>ABV</th>\n",
       "      <th>Ratings</th>\n",
       "      <th>Price</th>\n",
       "    </tr>\n",
       "  </thead>\n",
       "  <tbody>\n",
       "    <tr>\n",
       "      <th>0</th>\n",
       "      <td>The Hour-Teller Sauvignon Blanc 2021</td>\n",
       "      <td>New Zealand</td>\n",
       "      <td>13.0</td>\n",
       "      <td>4.2</td>\n",
       "      <td>14.99</td>\n",
       "    </tr>\n",
       "    <tr>\n",
       "      <th>1</th>\n",
       "      <td>The Escapist Sauvignon Blanc 2021</td>\n",
       "      <td>South Africa</td>\n",
       "      <td>12.5</td>\n",
       "      <td>3.9</td>\n",
       "      <td>8.99</td>\n",
       "    </tr>\n",
       "    <tr>\n",
       "      <th>2</th>\n",
       "      <td>Albert Bichot Mâcon-Lugny Les Charmes 2020</td>\n",
       "      <td>France</td>\n",
       "      <td>13.0</td>\n",
       "      <td>3.8</td>\n",
       "      <td>17.99</td>\n",
       "    </tr>\n",
       "    <tr>\n",
       "      <th>3</th>\n",
       "      <td>Clos des Lunes Lune d’Argent Bordeaux Blanc 2...</td>\n",
       "      <td>France</td>\n",
       "      <td>13.5</td>\n",
       "      <td></td>\n",
       "      <td>19.99</td>\n",
       "    </tr>\n",
       "    <tr>\n",
       "      <th>4</th>\n",
       "      <td>L'Epiphanie de Bordeaux Blanc 2021</td>\n",
       "      <td>France</td>\n",
       "      <td>9.38</td>\n",
       "      <td>2.0</td>\n",
       "      <td>25.00</td>\n",
       "    </tr>\n",
       "    <tr>\n",
       "      <th>5</th>\n",
       "      <td>Méritoire Sauvignon Blanc 2020</td>\n",
       "      <td>France</td>\n",
       "      <td>11.5</td>\n",
       "      <td>3.3</td>\n",
       "      <td>10.99</td>\n",
       "    </tr>\n",
       "    <tr>\n",
       "      <th>6</th>\n",
       "      <td>Cloudy Bay Sauvignon Blanc 2022</td>\n",
       "      <td>New Zealand</td>\n",
       "      <td>13.5</td>\n",
       "      <td></td>\n",
       "      <td>25.00</td>\n",
       "    </tr>\n",
       "    <tr>\n",
       "      <th>7</th>\n",
       "      <td>Sentiero dei Pini Pinot Grigio 2021</td>\n",
       "      <td>Italy</td>\n",
       "      <td>12.0</td>\n",
       "      <td>3.9</td>\n",
       "      <td>10.99</td>\n",
       "    </tr>\n",
       "    <tr>\n",
       "      <th>8</th>\n",
       "      <td>Viña Tarapacá Riverscape Collection Sauvignon...</td>\n",
       "      <td>Chile</td>\n",
       "      <td>12.5</td>\n",
       "      <td>3.7</td>\n",
       "      <td>10.99</td>\n",
       "    </tr>\n",
       "    <tr>\n",
       "      <th>9</th>\n",
       "      <td>Il Pino Pinot Grigio 2021</td>\n",
       "      <td>Italy</td>\n",
       "      <td>12.0</td>\n",
       "      <td>4.0</td>\n",
       "      <td>11.99</td>\n",
       "    </tr>\n",
       "    <tr>\n",
       "      <th>10</th>\n",
       "      <td>Excelsior Heritage Reserve Wild Ferment Chard...</td>\n",
       "      <td>South Africa</td>\n",
       "      <td>13.5</td>\n",
       "      <td>4.0</td>\n",
       "      <td>10.99</td>\n",
       "    </tr>\n",
       "    <tr>\n",
       "      <th>11</th>\n",
       "      <td>Excelsior Heritage Reserve Viognier 2022</td>\n",
       "      <td>South Africa</td>\n",
       "      <td>14.0</td>\n",
       "      <td>4.8</td>\n",
       "      <td>12.99</td>\n",
       "    </tr>\n",
       "    <tr>\n",
       "      <th>12</th>\n",
       "      <td>St Sebastian Bay Sauvignon Blanc 2021</td>\n",
       "      <td>South Africa</td>\n",
       "      <td>12.5</td>\n",
       "      <td>4.3</td>\n",
       "      <td>11.99</td>\n",
       "    </tr>\n",
       "    <tr>\n",
       "      <th>13</th>\n",
       "      <td>Vesuvium Greco di Tufo 2020</td>\n",
       "      <td>Italy</td>\n",
       "      <td>12.0</td>\n",
       "      <td>4.1</td>\n",
       "      <td>15.49</td>\n",
       "    </tr>\n",
       "    <tr>\n",
       "      <th>14</th>\n",
       "      <td>Roche Bellemont Blanc 2021</td>\n",
       "      <td>France</td>\n",
       "      <td>12.5</td>\n",
       "      <td>4.5</td>\n",
       "      <td>16.99</td>\n",
       "    </tr>\n",
       "    <tr>\n",
       "      <th>15</th>\n",
       "      <td>Perla del Mar 2021</td>\n",
       "      <td>Spain</td>\n",
       "      <td>12.0</td>\n",
       "      <td>3.9</td>\n",
       "      <td>11.99</td>\n",
       "    </tr>\n",
       "    <tr>\n",
       "      <th>16</th>\n",
       "      <td>Les Belons 2020</td>\n",
       "      <td>France</td>\n",
       "      <td>12.0</td>\n",
       "      <td>4.1</td>\n",
       "      <td>11.99</td>\n",
       "    </tr>\n",
       "    <tr>\n",
       "      <th>17</th>\n",
       "      <td>The Escapist Sauvignon Blanc 2022</td>\n",
       "      <td>South Africa</td>\n",
       "      <td>12.0</td>\n",
       "      <td>3.8</td>\n",
       "      <td>8.99</td>\n",
       "    </tr>\n",
       "    <tr>\n",
       "      <th>18</th>\n",
       "      <td>Domaine Tour Lamothe Sauvignon Blanc 2020</td>\n",
       "      <td>France</td>\n",
       "      <td>11.0</td>\n",
       "      <td>3.8</td>\n",
       "      <td>11.99</td>\n",
       "    </tr>\n",
       "    <tr>\n",
       "      <th>19</th>\n",
       "      <td>Altos R Pigeage Blanco 2019</td>\n",
       "      <td>Spain</td>\n",
       "      <td>10</td>\n",
       "      <td>4.4</td>\n",
       "      <td>23.00</td>\n",
       "    </tr>\n",
       "    <tr>\n",
       "      <th>20</th>\n",
       "      <td>Redbrook Estate Bacchus (Paper Bottle) 2021</td>\n",
       "      <td>Great Britain</td>\n",
       "      <td>8.25</td>\n",
       "      <td>4.0</td>\n",
       "      <td>18.99</td>\n",
       "    </tr>\n",
       "    <tr>\n",
       "      <th>21</th>\n",
       "      <td>Domaine Tour Lamothe Sauvignon Blanc 2021</td>\n",
       "      <td>France</td>\n",
       "      <td>10</td>\n",
       "      <td>3.8</td>\n",
       "      <td>11.99</td>\n",
       "    </tr>\n",
       "    <tr>\n",
       "      <th>22</th>\n",
       "      <td>Orange Natural Wine 2021</td>\n",
       "      <td>Romania</td>\n",
       "      <td>9.38</td>\n",
       "      <td>2.8</td>\n",
       "      <td>12.99</td>\n",
       "    </tr>\n",
       "    <tr>\n",
       "      <th>23</th>\n",
       "      <td>Willem the Silent Blanc 2020</td>\n",
       "      <td>France</td>\n",
       "      <td>12.0</td>\n",
       "      <td>3.8</td>\n",
       "      <td>10.99</td>\n",
       "    </tr>\n",
       "    <tr>\n",
       "      <th>24</th>\n",
       "      <td>Les Secrets d’Abbesse Sauvignon Blanc 2021</td>\n",
       "      <td>France</td>\n",
       "      <td>11.5</td>\n",
       "      <td>4.3</td>\n",
       "      <td>15.99</td>\n",
       "    </tr>\n",
       "    <tr>\n",
       "      <th>25</th>\n",
       "      <td>McPherson Aquarius Marsanne Viognier 2021</td>\n",
       "      <td>Australia</td>\n",
       "      <td>13.0</td>\n",
       "      <td>4.1</td>\n",
       "      <td>13.49</td>\n",
       "    </tr>\n",
       "    <tr>\n",
       "      <th>26</th>\n",
       "      <td>Belle Côte 2020</td>\n",
       "      <td>France</td>\n",
       "      <td>12.0</td>\n",
       "      <td>3.7</td>\n",
       "      <td>11.99</td>\n",
       "    </tr>\n",
       "    <tr>\n",
       "      <th>27</th>\n",
       "      <td>Lo Scultore Pinot Grigio 2021</td>\n",
       "      <td>Italy</td>\n",
       "      <td>12.0</td>\n",
       "      <td></td>\n",
       "      <td>14.99</td>\n",
       "    </tr>\n",
       "    <tr>\n",
       "      <th>28</th>\n",
       "      <td>The Gooseberry Bush Sauvignon Blanc Limited E...</td>\n",
       "      <td>South Africa</td>\n",
       "      <td>9.0</td>\n",
       "      <td>4.3</td>\n",
       "      <td>12.99</td>\n",
       "    </tr>\n",
       "    <tr>\n",
       "      <th>29</th>\n",
       "      <td>Pieropan Soave Classico 2020</td>\n",
       "      <td>Italy</td>\n",
       "      <td>12.0</td>\n",
       "      <td>4.5</td>\n",
       "      <td>NaN</td>\n",
       "    </tr>\n",
       "    <tr>\n",
       "      <th>30</th>\n",
       "      <td>The Forager 2021</td>\n",
       "      <td>South Africa</td>\n",
       "      <td>14.0</td>\n",
       "      <td>4.3</td>\n",
       "      <td>12.99</td>\n",
       "    </tr>\n",
       "    <tr>\n",
       "      <th>31</th>\n",
       "      <td>Aluado Chardonnay 2021</td>\n",
       "      <td>Portugal</td>\n",
       "      <td>12.5</td>\n",
       "      <td>4.1</td>\n",
       "      <td>10.99</td>\n",
       "    </tr>\n",
       "    <tr>\n",
       "      <th>32</th>\n",
       "      <td>Domaine de Longuet Viognier 2020</td>\n",
       "      <td>France</td>\n",
       "      <td>13.5</td>\n",
       "      <td>3.6</td>\n",
       "      <td>12.99</td>\n",
       "    </tr>\n",
       "    <tr>\n",
       "      <th>33</th>\n",
       "      <td>Balfour Springfield Chardonnay 2018</td>\n",
       "      <td>Great Britain</td>\n",
       "      <td>9.0</td>\n",
       "      <td></td>\n",
       "      <td>25.00</td>\n",
       "    </tr>\n",
       "    <tr>\n",
       "      <th>34</th>\n",
       "      <td>Belle Vague Sauvignon Blanc 2020</td>\n",
       "      <td>France</td>\n",
       "      <td>12.0</td>\n",
       "      <td>2.5</td>\n",
       "      <td>10.99</td>\n",
       "    </tr>\n",
       "    <tr>\n",
       "      <th>35</th>\n",
       "      <td>Dog Point Organic Chardonnay 2019</td>\n",
       "      <td>New Zealand</td>\n",
       "      <td>10</td>\n",
       "      <td>5.0</td>\n",
       "      <td>29.00</td>\n",
       "    </tr>\n",
       "    <tr>\n",
       "      <th>36</th>\n",
       "      <td>Domaine Mia Les Plantenays 2019</td>\n",
       "      <td>France</td>\n",
       "      <td>13.0</td>\n",
       "      <td></td>\n",
       "      <td>32.00</td>\n",
       "    </tr>\n",
       "  </tbody>\n",
       "</table>\n",
       "</div>"
      ],
      "text/plain": [
       "                                                Names        Country   ABV  \\\n",
       "0               The Hour-Teller Sauvignon Blanc 2021     New Zealand  13.0   \n",
       "1                  The Escapist Sauvignon Blanc 2021    South Africa  12.5   \n",
       "2         Albert Bichot Mâcon-Lugny Les Charmes 2020          France  13.0   \n",
       "3    Clos des Lunes Lune d’Argent Bordeaux Blanc 2...         France  13.5   \n",
       "4                 L'Epiphanie de Bordeaux Blanc 2021          France  9.38   \n",
       "5                     Méritoire Sauvignon Blanc 2020          France  11.5   \n",
       "6                    Cloudy Bay Sauvignon Blanc 2022     New Zealand  13.5   \n",
       "7                Sentiero dei Pini Pinot Grigio 2021           Italy  12.0   \n",
       "8    Viña Tarapacá Riverscape Collection Sauvignon...          Chile  12.5   \n",
       "9                          Il Pino Pinot Grigio 2021           Italy  12.0   \n",
       "10   Excelsior Heritage Reserve Wild Ferment Chard...   South Africa  13.5   \n",
       "11          Excelsior Heritage Reserve Viognier 2022    South Africa  14.0   \n",
       "12             St Sebastian Bay Sauvignon Blanc 2021    South Africa  12.5   \n",
       "13                       Vesuvium Greco di Tufo 2020           Italy  12.0   \n",
       "14                        Roche Bellemont Blanc 2021          France  12.5   \n",
       "15                                Perla del Mar 2021           Spain  12.0   \n",
       "16                                   Les Belons 2020          France  12.0   \n",
       "17                 The Escapist Sauvignon Blanc 2022    South Africa  12.0   \n",
       "18         Domaine Tour Lamothe Sauvignon Blanc 2020          France  11.0   \n",
       "19                       Altos R Pigeage Blanco 2019           Spain    10   \n",
       "20       Redbrook Estate Bacchus (Paper Bottle) 2021   Great Britain  8.25   \n",
       "21         Domaine Tour Lamothe Sauvignon Blanc 2021          France    10   \n",
       "22                          Orange Natural Wine 2021         Romania  9.38   \n",
       "23                      Willem the Silent Blanc 2020          France  12.0   \n",
       "24        Les Secrets d’Abbesse Sauvignon Blanc 2021          France  11.5   \n",
       "25         McPherson Aquarius Marsanne Viognier 2021       Australia  13.0   \n",
       "26                                   Belle Côte 2020          France  12.0   \n",
       "27                     Lo Scultore Pinot Grigio 2021           Italy  12.0   \n",
       "28   The Gooseberry Bush Sauvignon Blanc Limited E...   South Africa   9.0   \n",
       "29                      Pieropan Soave Classico 2020           Italy  12.0   \n",
       "30                                  The Forager 2021    South Africa  14.0   \n",
       "31                            Aluado Chardonnay 2021        Portugal  12.5   \n",
       "32                  Domaine de Longuet Viognier 2020          France  13.5   \n",
       "33               Balfour Springfield Chardonnay 2018   Great Britain   9.0   \n",
       "34                  Belle Vague Sauvignon Blanc 2020          France  12.0   \n",
       "35                 Dog Point Organic Chardonnay 2019     New Zealand    10   \n",
       "36                   Domaine Mia Les Plantenays 2019          France  13.0   \n",
       "\n",
       "   Ratings  Price  \n",
       "0      4.2  14.99  \n",
       "1      3.9   8.99  \n",
       "2      3.8  17.99  \n",
       "3           19.99  \n",
       "4      2.0  25.00  \n",
       "5      3.3  10.99  \n",
       "6           25.00  \n",
       "7      3.9  10.99  \n",
       "8      3.7  10.99  \n",
       "9      4.0  11.99  \n",
       "10     4.0  10.99  \n",
       "11     4.8  12.99  \n",
       "12     4.3  11.99  \n",
       "13     4.1  15.49  \n",
       "14     4.5  16.99  \n",
       "15     3.9  11.99  \n",
       "16     4.1  11.99  \n",
       "17     3.8   8.99  \n",
       "18     3.8  11.99  \n",
       "19     4.4  23.00  \n",
       "20     4.0  18.99  \n",
       "21     3.8  11.99  \n",
       "22     2.8  12.99  \n",
       "23     3.8  10.99  \n",
       "24     4.3  15.99  \n",
       "25     4.1  13.49  \n",
       "26     3.7  11.99  \n",
       "27          14.99  \n",
       "28     4.3  12.99  \n",
       "29     4.5    NaN  \n",
       "30     4.3  12.99  \n",
       "31     4.1  10.99  \n",
       "32     3.6  12.99  \n",
       "33          25.00  \n",
       "34     2.5  10.99  \n",
       "35     5.0  29.00  \n",
       "36          32.00  "
      ]
     },
     "execution_count": 17,
     "metadata": {},
     "output_type": "execute_result"
    }
   ],
   "source": [
    "_names = []\n",
    "_countries = []\n",
    "_ABV = []\n",
    "_ratings = []\n",
    "_price = []\n",
    "# We iterate through the URLs, this may take a bit\n",
    "for link in whitewine_urls:\n",
    "    page = requests.get(link)\n",
    "    soup = BeautifulSoup(page.content, \"html.parser\")\n",
    "    info = soup.findAll(\"div\", class_=\"detail-text\")\n",
    "    if len(info) == 9:\n",
    "        name = soup.find(\"h1\", class_=\"prod-name\")\n",
    "        if(name is not None):\n",
    "            name = name.text\n",
    "            name = re.sub('\\s+', ' ', name)\n",
    "        else:\n",
    "            name = np.nan\n",
    "        _names.append(name)\n",
    "        cntry = soup.find(\"span\", class_=\"pull-left icons country-icon\")\n",
    "        cntry = cntry.find(\"img\")\n",
    "        cntry = cntry['title']   \n",
    "        _countries.append(cntry)\n",
    "        ABV = info[5].text\n",
    "        if len(ABV) == 0:\n",
    "            ABV = np.nan\n",
    "        else:\n",
    "            ABV = re.findall('[1-9]+\\.?[0-9]*', ABV)\n",
    "            if len(ABV) == 0:\n",
    "                ABV =np.nan\n",
    "            else:\n",
    "                ABV=ABV[0]\n",
    "        _ABV.append(ABV)\n",
    "        rating_tag=soup.findAll(\"span\",class_=\"rating-score\")\n",
    "        if len(rating_tag):\n",
    "            rating = rating_tag[0].text\n",
    "            if len(rating) != 0:\n",
    "                rating = re.findall('[0-9]*\\.?[0-9]*', rating)[0]\n",
    "            else:\n",
    "                rating = np.nan\n",
    "        else:\n",
    "            rating = np.nan\n",
    "        _ratings.append(rating)\n",
    "        price_tag = soup.findAll(\"span\", class_=\"price-per-bottle\")\n",
    "        if len(price_tag):\n",
    "            price = price_tag[0].text[1:]\n",
    "        else:\n",
    "            price = np.nan\n",
    "        _price.append(price)\n",
    "    else:\n",
    "        continue\n",
    "whitewine_data = pd.DataFrame(\n",
    "    {'Names': _names,\n",
    "     'Country': _countries,\n",
    "     'ABV' : _ABV,\n",
    "     'Ratings' : _ratings,\n",
    "     'Price' : _price\n",
    "     })\n",
    "whitewine_data"
   ]
  },
  {
   "cell_type": "code",
   "execution_count": 18,
   "id": "87c93c59",
   "metadata": {},
   "outputs": [],
   "source": [
    "whitewine_data.to_csv(\"whitewine.csv\")"
   ]
  },
  {
   "cell_type": "markdown",
   "id": "de37c00f",
   "metadata": {},
   "source": [
    "## Analysis for red wine"
   ]
  },
  {
   "cell_type": "markdown",
   "id": "bdee75d1",
   "metadata": {},
   "source": [
    "### Data Pre-processing"
   ]
  },
  {
   "cell_type": "code",
   "execution_count": 19,
   "id": "3f4b6058",
   "metadata": {},
   "outputs": [],
   "source": [
    "df1 = redwine_data\n",
    "df2 = whitewine_data"
   ]
  },
  {
   "cell_type": "code",
   "execution_count": 20,
   "id": "a95a0bdb",
   "metadata": {},
   "outputs": [
    {
     "data": {
      "text/plain": [
       "Names      object\n",
       "Country    object\n",
       "ABV        object\n",
       "Ratings    object\n",
       "Price      object\n",
       "dtype: object"
      ]
     },
     "execution_count": 20,
     "metadata": {},
     "output_type": "execute_result"
    }
   ],
   "source": [
    "df1.dtypes"
   ]
  },
  {
   "cell_type": "code",
   "execution_count": 22,
   "id": "d12e872c",
   "metadata": {},
   "outputs": [],
   "source": [
    "df1['Ratings'] = pd.to_numeric(df1['Ratings'])\n",
    "df1['Price'] = pd.to_numeric(df1['Price'])\n",
    "df1['ABV'] = pd.to_numeric(df1['ABV'])"
   ]
  },
  {
   "cell_type": "code",
   "execution_count": 24,
   "id": "873d3bef",
   "metadata": {},
   "outputs": [
    {
     "data": {
      "text/plain": [
       "Names       object\n",
       "Country     object\n",
       "ABV        float64\n",
       "Ratings    float64\n",
       "Price      float64\n",
       "dtype: object"
      ]
     },
     "execution_count": 24,
     "metadata": {},
     "output_type": "execute_result"
    }
   ],
   "source": [
    "df1.dtypes"
   ]
  },
  {
   "cell_type": "code",
   "execution_count": 25,
   "id": "5054ce6a",
   "metadata": {},
   "outputs": [
    {
     "name": "stdout",
     "output_type": "stream",
     "text": [
      "<class 'pandas.core.frame.DataFrame'>\n",
      "RangeIndex: 69 entries, 0 to 68\n",
      "Data columns (total 5 columns):\n",
      " #   Column   Non-Null Count  Dtype  \n",
      "---  ------   --------------  -----  \n",
      " 0   Names    69 non-null     object \n",
      " 1   Country  69 non-null     object \n",
      " 2   ABV      68 non-null     float64\n",
      " 3   Ratings  63 non-null     float64\n",
      " 4   Price    68 non-null     float64\n",
      "dtypes: float64(3), object(2)\n",
      "memory usage: 2.8+ KB\n"
     ]
    }
   ],
   "source": [
    "df1.info()"
   ]
  },
  {
   "cell_type": "code",
   "execution_count": 29,
   "id": "29d366b6",
   "metadata": {},
   "outputs": [
    {
     "name": "stdout",
     "output_type": "stream",
     "text": [
      "<class 'pandas.core.frame.DataFrame'>\n",
      "RangeIndex: 69 entries, 0 to 68\n",
      "Data columns (total 5 columns):\n",
      " #   Column   Non-Null Count  Dtype  \n",
      "---  ------   --------------  -----  \n",
      " 0   Names    69 non-null     object \n",
      " 1   Country  69 non-null     object \n",
      " 2   ABV      68 non-null     float64\n",
      " 3   Ratings  69 non-null     float64\n",
      " 4   Price    68 non-null     float64\n",
      "dtypes: float64(3), object(2)\n",
      "memory usage: 2.8+ KB\n"
     ]
    }
   ],
   "source": [
    "updated_df = df1\n",
    "updated_df['Ratings']=updated_df['Ratings'].fillna(updated_df['Ratings'].mean())\n",
    "updated_df.info()"
   ]
  },
  {
   "cell_type": "code",
   "execution_count": 30,
   "id": "743a9a50",
   "metadata": {},
   "outputs": [],
   "source": [
    "updated_df = updated_df.dropna(axis=0)"
   ]
  },
  {
   "cell_type": "code",
   "execution_count": 31,
   "id": "c5d22efb",
   "metadata": {},
   "outputs": [
    {
     "name": "stdout",
     "output_type": "stream",
     "text": [
      "<class 'pandas.core.frame.DataFrame'>\n",
      "Int64Index: 68 entries, 0 to 68\n",
      "Data columns (total 5 columns):\n",
      " #   Column   Non-Null Count  Dtype  \n",
      "---  ------   --------------  -----  \n",
      " 0   Names    68 non-null     object \n",
      " 1   Country  68 non-null     object \n",
      " 2   ABV      68 non-null     float64\n",
      " 3   Ratings  68 non-null     float64\n",
      " 4   Price    68 non-null     float64\n",
      "dtypes: float64(3), object(2)\n",
      "memory usage: 3.2+ KB\n"
     ]
    }
   ],
   "source": [
    "updated_df.info()"
   ]
  },
  {
   "cell_type": "markdown",
   "id": "7561e4b4",
   "metadata": {},
   "source": [
    "### Visualizations"
   ]
  },
  {
   "cell_type": "code",
   "execution_count": 32,
   "id": "cb52b6ba",
   "metadata": {},
   "outputs": [],
   "source": [
    "import seaborn as sns"
   ]
  },
  {
   "cell_type": "code",
   "execution_count": 33,
   "id": "fcbcfda2",
   "metadata": {},
   "outputs": [],
   "source": [
    "dfr = updated_df"
   ]
  },
  {
   "cell_type": "code",
   "execution_count": 34,
   "id": "c80bc298",
   "metadata": {},
   "outputs": [
    {
     "data": {
      "text/plain": [
       "<seaborn.axisgrid.PairGrid at 0x24a1abccb50>"
      ]
     },
     "execution_count": 34,
     "metadata": {},
     "output_type": "execute_result"
    },
    {
     "data": {
      "image/png": "[encoded data removed]",
      "text/plain": [
       "<Figure size 540x540 with 12 Axes>"
      ]
     },
     "metadata": {
      "needs_background": "light"
     },
     "output_type": "display_data"
    }
   ],
   "source": [
    "sns.pairplot(dfr)"
   ]
  },
  {
   "cell_type": "code",
   "execution_count": 35,
   "id": "13330e32",
   "metadata": {},
   "outputs": [
    {
     "data": {
      "text/html": [
       "<div>\n",
       "<style scoped>\n",
       "    .dataframe tbody tr th:only-of-type {\n",
       "        vertical-align: middle;\n",
       "    }\n",
       "\n",
       "    .dataframe tbody tr th {\n",
       "        vertical-align: top;\n",
       "    }\n",
       "\n",
       "    .dataframe thead th {\n",
       "        text-align: right;\n",
       "    }\n",
       "</style>\n",
       "<table border=\"1\" class=\"dataframe\">\n",
       "  <thead>\n",
       "    <tr style=\"text-align: right;\">\n",
       "      <th></th>\n",
       "      <th>ABV</th>\n",
       "      <th>Ratings</th>\n",
       "      <th>Price</th>\n",
       "    </tr>\n",
       "  </thead>\n",
       "  <tbody>\n",
       "    <tr>\n",
       "      <th>ABV</th>\n",
       "      <td>1.000000</td>\n",
       "      <td>-0.028825</td>\n",
       "      <td>0.196908</td>\n",
       "    </tr>\n",
       "    <tr>\n",
       "      <th>Ratings</th>\n",
       "      <td>-0.028825</td>\n",
       "      <td>1.000000</td>\n",
       "      <td>0.223197</td>\n",
       "    </tr>\n",
       "    <tr>\n",
       "      <th>Price</th>\n",
       "      <td>0.196908</td>\n",
       "      <td>0.223197</td>\n",
       "      <td>1.000000</td>\n",
       "    </tr>\n",
       "  </tbody>\n",
       "</table>\n",
       "</div>"
      ],
      "text/plain": [
       "              ABV   Ratings     Price\n",
       "ABV      1.000000 -0.028825  0.196908\n",
       "Ratings -0.028825  1.000000  0.223197\n",
       "Price    0.196908  0.223197  1.000000"
      ]
     },
     "execution_count": 35,
     "metadata": {},
     "output_type": "execute_result"
    }
   ],
   "source": [
    "dfr.corr()"
   ]
  },
  {
   "cell_type": "code",
   "execution_count": 42,
   "id": "5473c326",
   "metadata": {},
   "outputs": [
    {
     "data": {
      "text/plain": [
       "<seaborn.axisgrid.PairGrid at 0x24a1daca070>"
      ]
     },
     "execution_count": 42,
     "metadata": {},
     "output_type": "execute_result"
    },
    {
     "data": {
      "image/png": "[encoded data removed]",
      "text/plain": [
       "<Figure size 432x432 with 1 Axes>"
      ]
     },
     "metadata": {
      "needs_background": "light"
     },
     "output_type": "display_data"
    },
    {
     "data": {
      "image/png": "[encoded data removed]",
      "text/plain": [
       "<Figure size 432x432 with 1 Axes>"
      ]
     },
     "metadata": {
      "needs_background": "light"
     },
     "output_type": "display_data"
    }
   ],
   "source": [
    "sns.pairplot(dfr, y_vars=['Ratings'],x_vars=['Price'], kind = 'reg',height=6)\n",
    "sns.pairplot(dfr, y_vars=['ABV'],x_vars=['Price'], kind = 'reg',height=6)"
   ]
  },
  {
   "cell_type": "code",
   "execution_count": 58,
   "id": "427ff9da",
   "metadata": {},
   "outputs": [
    {
     "data": {
      "text/plain": [
       "<seaborn.axisgrid.JointGrid at 0x24a21c03d30>"
      ]
     },
     "execution_count": 58,
     "metadata": {},
     "output_type": "execute_result"
    },
    {
     "data": {
      "image/png": "[encoded data removed]",
      "text/plain": [
       "<Figure size 432x432 with 3 Axes>"
      ]
     },
     "metadata": {
      "needs_background": "light"
     },
     "output_type": "display_data"
    }
   ],
   "source": [
    "g = sns.JointGrid(data=dfr, x=\"Price\", y=\"Ratings\")\n",
    "g.plot(sns.regplot,sns.boxplot)"
   ]
  },
  {
   "cell_type": "code",
   "execution_count": 53,
   "id": "d829c63f",
   "metadata": {},
   "outputs": [
    {
     "data": {
      "text/plain": [
       "<seaborn.axisgrid.JointGrid at 0x24a1ff9b070>"
      ]
     },
     "execution_count": 53,
     "metadata": {},
     "output_type": "execute_result"
    },
    {
     "data": {
      "image/png": "[encoded data removed]",
      "text/plain": [
       "<Figure size 432x432 with 3 Axes>"
      ]
     },
     "metadata": {
      "needs_background": "light"
     },
     "output_type": "display_data"
    }
   ],
   "source": [
    "g = sns.JointGrid(data=dfr, x=\"Price\", y=\"ABV\")\n",
    "g.plot(sns.regplot,sns.boxplot)"
   ]
  },
  {
   "cell_type": "code",
   "execution_count": 140,
   "id": "9e37914e",
   "metadata": {},
   "outputs": [
    {
     "data": {
      "text/html": [
       "<div>\n",
       "<style scoped>\n",
       "    .dataframe tbody tr th:only-of-type {\n",
       "        vertical-align: middle;\n",
       "    }\n",
       "\n",
       "    .dataframe tbody tr th {\n",
       "        vertical-align: top;\n",
       "    }\n",
       "\n",
       "    .dataframe thead th {\n",
       "        text-align: right;\n",
       "    }\n",
       "</style>\n",
       "<table border=\"1\" class=\"dataframe\">\n",
       "  <thead>\n",
       "    <tr style=\"text-align: right;\">\n",
       "      <th></th>\n",
       "      <th>Country</th>\n",
       "      <th>Average Ratings</th>\n",
       "    </tr>\n",
       "  </thead>\n",
       "  <tbody>\n",
       "    <tr>\n",
       "      <th>2</th>\n",
       "      <td>Bulgaria</td>\n",
       "      <td>3.300000</td>\n",
       "    </tr>\n",
       "    <tr>\n",
       "      <th>7</th>\n",
       "      <td>South Africa</td>\n",
       "      <td>3.513228</td>\n",
       "    </tr>\n",
       "    <tr>\n",
       "      <th>1</th>\n",
       "      <td>Australia</td>\n",
       "      <td>3.733333</td>\n",
       "    </tr>\n",
       "    <tr>\n",
       "      <th>8</th>\n",
       "      <td>Spain</td>\n",
       "      <td>3.750000</td>\n",
       "    </tr>\n",
       "    <tr>\n",
       "      <th>3</th>\n",
       "      <td>Chile</td>\n",
       "      <td>3.800000</td>\n",
       "    </tr>\n",
       "    <tr>\n",
       "      <th>5</th>\n",
       "      <td>Italy</td>\n",
       "      <td>3.956614</td>\n",
       "    </tr>\n",
       "    <tr>\n",
       "      <th>0</th>\n",
       "      <td>Argentina</td>\n",
       "      <td>4.083333</td>\n",
       "    </tr>\n",
       "    <tr>\n",
       "      <th>4</th>\n",
       "      <td>France</td>\n",
       "      <td>4.189657</td>\n",
       "    </tr>\n",
       "    <tr>\n",
       "      <th>9</th>\n",
       "      <td>USA</td>\n",
       "      <td>4.400000</td>\n",
       "    </tr>\n",
       "    <tr>\n",
       "      <th>6</th>\n",
       "      <td>Portugal</td>\n",
       "      <td>4.433333</td>\n",
       "    </tr>\n",
       "  </tbody>\n",
       "</table>\n",
       "</div>"
      ],
      "text/plain": [
       "        Country  Average Ratings\n",
       "2      Bulgaria         3.300000\n",
       "7  South Africa         3.513228\n",
       "1     Australia         3.733333\n",
       "8         Spain         3.750000\n",
       "3         Chile         3.800000\n",
       "5         Italy         3.956614\n",
       "0     Argentina         4.083333\n",
       "4        France         4.189657\n",
       "9           USA         4.400000\n",
       "6      Portugal         4.433333"
      ]
     },
     "execution_count": 140,
     "metadata": {},
     "output_type": "execute_result"
    }
   ],
   "source": [
    "newdf = dfr.groupby(['Country'])[\"Ratings\"].mean().reset_index(name='Average Ratings')\n",
    "newdf=newdf.sort_values(by=['Average Ratings'])\n",
    "newdf"
   ]
  },
  {
   "cell_type": "code",
   "execution_count": 141,
   "id": "58235762",
   "metadata": {},
   "outputs": [],
   "source": [
    "import matplotlib.pyplot as plt"
   ]
  },
  {
   "cell_type": "code",
   "execution_count": 142,
   "id": "db06511b",
   "metadata": {},
   "outputs": [
    {
     "data": {
      "text/plain": [
       "<AxesSubplot:xlabel='Country', ylabel='Average Ratings'>"
      ]
     },
     "execution_count": 142,
     "metadata": {},
     "output_type": "execute_result"
    },
    {
     "data": {
      "image/png": "[encoded data removed]",
      "text/plain": [
       "<Figure size 864x576 with 1 Axes>"
      ]
     },
     "metadata": {
      "needs_background": "light"
     },
     "output_type": "display_data"
    }
   ],
   "source": [
    "plt.figure(figsize=(12,8))\n",
    "sns.barplot(data = newdf, x='Country', y='Average Ratings')"
   ]
  },
  {
   "cell_type": "code",
   "execution_count": 68,
   "id": "fceffb9b",
   "metadata": {},
   "outputs": [
    {
     "data": {
      "text/plain": [
       "<seaborn.axisgrid.FacetGrid at 0x24a23cb9730>"
      ]
     },
     "execution_count": 68,
     "metadata": {},
     "output_type": "execute_result"
    },
    {
     "data": {
      "image/png": "[encoded data removed]",
      "text/plain": [
       "<Figure size 960.75x864 with 1 Axes>"
      ]
     },
     "metadata": {
      "needs_background": "light"
     },
     "output_type": "display_data"
    }
   ],
   "source": [
    "sns.lmplot(data=dfr, y=\"Price\", x=\"Ratings\",hue=\"Country\",height=12)"
   ]
  },
  {
   "cell_type": "markdown",
   "id": "26edbd0b",
   "metadata": {},
   "source": [
    "## Analysis for white wine"
   ]
  },
  {
   "cell_type": "markdown",
   "id": "b170bf35",
   "metadata": {},
   "source": [
    "### Data Pre-processing"
   ]
  },
  {
   "cell_type": "code",
   "execution_count": 63,
   "id": "9a94be2b",
   "metadata": {},
   "outputs": [
    {
     "data": {
      "text/plain": [
       "Names      object\n",
       "Country    object\n",
       "ABV        object\n",
       "Ratings    object\n",
       "Price      object\n",
       "dtype: object"
      ]
     },
     "execution_count": 63,
     "metadata": {},
     "output_type": "execute_result"
    }
   ],
   "source": [
    "df2.dtypes"
   ]
  },
  {
   "cell_type": "code",
   "execution_count": 64,
   "id": "aa13956c",
   "metadata": {},
   "outputs": [],
   "source": [
    "df2['Ratings'] = pd.to_numeric(df2['Ratings'])\n",
    "df2['Price'] = pd.to_numeric(df2['Price'])\n",
    "df2['ABV'] = pd.to_numeric(df2['ABV'])"
   ]
  },
  {
   "cell_type": "code",
   "execution_count": 65,
   "id": "e68edb0a",
   "metadata": {},
   "outputs": [
    {
     "data": {
      "text/plain": [
       "Names       object\n",
       "Country     object\n",
       "ABV        float64\n",
       "Ratings    float64\n",
       "Price      float64\n",
       "dtype: object"
      ]
     },
     "execution_count": 65,
     "metadata": {},
     "output_type": "execute_result"
    }
   ],
   "source": [
    "df2.dtypes"
   ]
  },
  {
   "cell_type": "code",
   "execution_count": 66,
   "id": "aa87ffae",
   "metadata": {},
   "outputs": [
    {
     "name": "stdout",
     "output_type": "stream",
     "text": [
      "<class 'pandas.core.frame.DataFrame'>\n",
      "RangeIndex: 37 entries, 0 to 36\n",
      "Data columns (total 5 columns):\n",
      " #   Column   Non-Null Count  Dtype  \n",
      "---  ------   --------------  -----  \n",
      " 0   Names    37 non-null     object \n",
      " 1   Country  37 non-null     object \n",
      " 2   ABV      37 non-null     float64\n",
      " 3   Ratings  32 non-null     float64\n",
      " 4   Price    36 non-null     float64\n",
      "dtypes: float64(3), object(2)\n",
      "memory usage: 1.6+ KB\n"
     ]
    }
   ],
   "source": [
    "df2.info()"
   ]
  },
  {
   "cell_type": "code",
   "execution_count": 69,
   "id": "c04fbeee",
   "metadata": {},
   "outputs": [
    {
     "name": "stdout",
     "output_type": "stream",
     "text": [
      "<class 'pandas.core.frame.DataFrame'>\n",
      "RangeIndex: 37 entries, 0 to 36\n",
      "Data columns (total 5 columns):\n",
      " #   Column   Non-Null Count  Dtype  \n",
      "---  ------   --------------  -----  \n",
      " 0   Names    37 non-null     object \n",
      " 1   Country  37 non-null     object \n",
      " 2   ABV      37 non-null     float64\n",
      " 3   Ratings  37 non-null     float64\n",
      " 4   Price    36 non-null     float64\n",
      "dtypes: float64(3), object(2)\n",
      "memory usage: 1.6+ KB\n"
     ]
    }
   ],
   "source": [
    "updated_df = df2\n",
    "updated_df['Ratings']=updated_df['Ratings'].fillna(updated_df['Ratings'].mean())\n",
    "updated_df.info()"
   ]
  },
  {
   "cell_type": "code",
   "execution_count": 70,
   "id": "270b4824",
   "metadata": {},
   "outputs": [],
   "source": [
    "updated_df = updated_df.dropna(axis=0)"
   ]
  },
  {
   "cell_type": "code",
   "execution_count": 71,
   "id": "74142af0",
   "metadata": {},
   "outputs": [
    {
     "name": "stdout",
     "output_type": "stream",
     "text": [
      "<class 'pandas.core.frame.DataFrame'>\n",
      "Int64Index: 36 entries, 0 to 36\n",
      "Data columns (total 5 columns):\n",
      " #   Column   Non-Null Count  Dtype  \n",
      "---  ------   --------------  -----  \n",
      " 0   Names    36 non-null     object \n",
      " 1   Country  36 non-null     object \n",
      " 2   ABV      36 non-null     float64\n",
      " 3   Ratings  36 non-null     float64\n",
      " 4   Price    36 non-null     float64\n",
      "dtypes: float64(3), object(2)\n",
      "memory usage: 1.7+ KB\n"
     ]
    }
   ],
   "source": [
    "updated_df.info()"
   ]
  },
  {
   "cell_type": "code",
   "execution_count": 72,
   "id": "146fbfec",
   "metadata": {},
   "outputs": [],
   "source": [
    "dfw = updated_df"
   ]
  },
  {
   "cell_type": "markdown",
   "id": "44478e2d",
   "metadata": {},
   "source": [
    "### Visualizations"
   ]
  },
  {
   "cell_type": "code",
   "execution_count": 73,
   "id": "f339c666",
   "metadata": {},
   "outputs": [
    {
     "data": {
      "text/plain": [
       "<seaborn.axisgrid.PairGrid at 0x24a21d2f3d0>"
      ]
     },
     "execution_count": 73,
     "metadata": {},
     "output_type": "execute_result"
    },
    {
     "data": {
      "image/png": "[encoded data removed]",
      "text/plain": [
       "<Figure size 540x540 with 12 Axes>"
      ]
     },
     "metadata": {
      "needs_background": "light"
     },
     "output_type": "display_data"
    }
   ],
   "source": [
    "sns.pairplot(dfw)"
   ]
  },
  {
   "cell_type": "code",
   "execution_count": 75,
   "id": "089af0b6",
   "metadata": {},
   "outputs": [
    {
     "data": {
      "text/html": [
       "<div>\n",
       "<style scoped>\n",
       "    .dataframe tbody tr th:only-of-type {\n",
       "        vertical-align: middle;\n",
       "    }\n",
       "\n",
       "    .dataframe tbody tr th {\n",
       "        vertical-align: top;\n",
       "    }\n",
       "\n",
       "    .dataframe thead th {\n",
       "        text-align: right;\n",
       "    }\n",
       "</style>\n",
       "<table border=\"1\" class=\"dataframe\">\n",
       "  <thead>\n",
       "    <tr style=\"text-align: right;\">\n",
       "      <th></th>\n",
       "      <th>ABV</th>\n",
       "      <th>Ratings</th>\n",
       "      <th>Price</th>\n",
       "    </tr>\n",
       "  </thead>\n",
       "  <tbody>\n",
       "    <tr>\n",
       "      <th>ABV</th>\n",
       "      <td>1.000000</td>\n",
       "      <td>0.226138</td>\n",
       "      <td>-0.244024</td>\n",
       "    </tr>\n",
       "    <tr>\n",
       "      <th>Ratings</th>\n",
       "      <td>0.226138</td>\n",
       "      <td>1.000000</td>\n",
       "      <td>0.085475</td>\n",
       "    </tr>\n",
       "    <tr>\n",
       "      <th>Price</th>\n",
       "      <td>-0.244024</td>\n",
       "      <td>0.085475</td>\n",
       "      <td>1.000000</td>\n",
       "    </tr>\n",
       "  </tbody>\n",
       "</table>\n",
       "</div>"
      ],
      "text/plain": [
       "              ABV   Ratings     Price\n",
       "ABV      1.000000  0.226138 -0.244024\n",
       "Ratings  0.226138  1.000000  0.085475\n",
       "Price   -0.244024  0.085475  1.000000"
      ]
     },
     "execution_count": 75,
     "metadata": {},
     "output_type": "execute_result"
    }
   ],
   "source": [
    "dfw.corr()"
   ]
  },
  {
   "cell_type": "code",
   "execution_count": 77,
   "id": "86dd23a0",
   "metadata": {},
   "outputs": [
    {
     "data": {
      "text/plain": [
       "<seaborn.axisgrid.PairGrid at 0x24a2494d490>"
      ]
     },
     "execution_count": 77,
     "metadata": {},
     "output_type": "execute_result"
    },
    {
     "data": {
      "image/png": "[encoded data removed]",
      "text/plain": [
       "<Figure size 432x432 with 1 Axes>"
      ]
     },
     "metadata": {
      "needs_background": "light"
     },
     "output_type": "display_data"
    },
    {
     "data": {
      "image/png": "[encoded data removed]",
      "text/plain": [
       "<Figure size 432x432 with 1 Axes>"
      ]
     },
     "metadata": {
      "needs_background": "light"
     },
     "output_type": "display_data"
    }
   ],
   "source": [
    "sns.pairplot(dfw, y_vars=['Ratings'],x_vars=['ABV'], kind = 'reg',height=6)\n",
    "sns.pairplot(dfw, y_vars=['ABV'],x_vars=['Price'], kind = 'reg',height=6)"
   ]
  },
  {
   "cell_type": "code",
   "execution_count": 78,
   "id": "52278210",
   "metadata": {},
   "outputs": [
    {
     "data": {
      "text/plain": [
       "<seaborn.axisgrid.JointGrid at 0x24a2496d340>"
      ]
     },
     "execution_count": 78,
     "metadata": {},
     "output_type": "execute_result"
    },
    {
     "data": {
      "image/png": "[encoded data removed]",
      "text/plain": [
       "<Figure size 432x432 with 3 Axes>"
      ]
     },
     "metadata": {
      "needs_background": "light"
     },
     "output_type": "display_data"
    }
   ],
   "source": [
    "g = sns.JointGrid(data=dfw, x=\"Ratings\", y=\"ABV\")\n",
    "g.plot(sns.regplot,sns.boxplot)"
   ]
  },
  {
   "cell_type": "code",
   "execution_count": 79,
   "id": "d23c323f",
   "metadata": {},
   "outputs": [
    {
     "data": {
      "text/plain": [
       "<seaborn.axisgrid.JointGrid at 0x24a24809400>"
      ]
     },
     "execution_count": 79,
     "metadata": {},
     "output_type": "execute_result"
    },
    {
     "data": {
      "image/png": "[encoded data removed]",
      "text/plain": [
       "<Figure size 432x432 with 3 Axes>"
      ]
     },
     "metadata": {
      "needs_background": "light"
     },
     "output_type": "display_data"
    }
   ],
   "source": [
    "g = sns.JointGrid(data=dfw, x=\"Price\", y=\"ABV\")\n",
    "g.plot(sns.regplot,sns.boxplot)"
   ]
  },
  {
   "cell_type": "code",
   "execution_count": 80,
   "id": "9abf4ce5",
   "metadata": {},
   "outputs": [
    {
     "data": {
      "text/html": [
       "<div>\n",
       "<style scoped>\n",
       "    .dataframe tbody tr th:only-of-type {\n",
       "        vertical-align: middle;\n",
       "    }\n",
       "\n",
       "    .dataframe tbody tr th {\n",
       "        vertical-align: top;\n",
       "    }\n",
       "\n",
       "    .dataframe thead th {\n",
       "        text-align: right;\n",
       "    }\n",
       "</style>\n",
       "<table border=\"1\" class=\"dataframe\">\n",
       "  <thead>\n",
       "    <tr style=\"text-align: right;\">\n",
       "      <th></th>\n",
       "      <th>Country</th>\n",
       "      <th>Average Ratings</th>\n",
       "    </tr>\n",
       "  </thead>\n",
       "  <tbody>\n",
       "    <tr>\n",
       "      <th>7</th>\n",
       "      <td>Romania</td>\n",
       "      <td>2.800000</td>\n",
       "    </tr>\n",
       "    <tr>\n",
       "      <th>2</th>\n",
       "      <td>France</td>\n",
       "      <td>3.645089</td>\n",
       "    </tr>\n",
       "    <tr>\n",
       "      <th>1</th>\n",
       "      <td>Chile</td>\n",
       "      <td>3.700000</td>\n",
       "    </tr>\n",
       "    <tr>\n",
       "      <th>3</th>\n",
       "      <td>Great Britain</td>\n",
       "      <td>3.957812</td>\n",
       "    </tr>\n",
       "    <tr>\n",
       "      <th>4</th>\n",
       "      <td>Italy</td>\n",
       "      <td>3.978906</td>\n",
       "    </tr>\n",
       "    <tr>\n",
       "      <th>0</th>\n",
       "      <td>Australia</td>\n",
       "      <td>4.100000</td>\n",
       "    </tr>\n",
       "    <tr>\n",
       "      <th>6</th>\n",
       "      <td>Portugal</td>\n",
       "      <td>4.100000</td>\n",
       "    </tr>\n",
       "    <tr>\n",
       "      <th>9</th>\n",
       "      <td>Spain</td>\n",
       "      <td>4.150000</td>\n",
       "    </tr>\n",
       "    <tr>\n",
       "      <th>8</th>\n",
       "      <td>South Africa</td>\n",
       "      <td>4.200000</td>\n",
       "    </tr>\n",
       "    <tr>\n",
       "      <th>5</th>\n",
       "      <td>New Zealand</td>\n",
       "      <td>4.371875</td>\n",
       "    </tr>\n",
       "  </tbody>\n",
       "</table>\n",
       "</div>"
      ],
      "text/plain": [
       "         Country  Average Ratings\n",
       "7        Romania         2.800000\n",
       "2         France         3.645089\n",
       "1          Chile         3.700000\n",
       "3  Great Britain         3.957812\n",
       "4          Italy         3.978906\n",
       "0      Australia         4.100000\n",
       "6       Portugal         4.100000\n",
       "9          Spain         4.150000\n",
       "8   South Africa         4.200000\n",
       "5    New Zealand         4.371875"
      ]
     },
     "execution_count": 80,
     "metadata": {},
     "output_type": "execute_result"
    }
   ],
   "source": [
    "newdf = dfw.groupby(['Country'])[\"Ratings\"].mean().reset_index(name='Average Ratings')\n",
    "newdf=newdf.sort_values(by=['Average Ratings'])\n",
    "newdf"
   ]
  },
  {
   "cell_type": "code",
   "execution_count": 82,
   "id": "2718c342",
   "metadata": {},
   "outputs": [
    {
     "data": {
      "text/plain": [
       "<AxesSubplot:xlabel='Country', ylabel='Average Ratings'>"
      ]
     },
     "execution_count": 82,
     "metadata": {},
     "output_type": "execute_result"
    },
    {
     "data": {
      "image/png": "[encoded data removed]",
      "text/plain": [
       "<Figure size 864x576 with 1 Axes>"
      ]
     },
     "metadata": {
      "needs_background": "light"
     },
     "output_type": "display_data"
    }
   ],
   "source": [
    "plt.figure(figsize=(12,8))\n",
    "sns.barplot(data = newdf, x='Country', y='Average Ratings')"
   ]
  },
  {
   "cell_type": "code",
   "execution_count": 89,
   "id": "74378034",
   "metadata": {},
   "outputs": [
    {
     "name": "stderr",
     "output_type": "stream",
     "text": [
      "C:\\Users\\karti\\AppData\\Local\\Temp\\ipykernel_19184\\3292103099.py:1: SettingWithCopyWarning: \n",
      "A value is trying to be set on a copy of a slice from a DataFrame.\n",
      "Try using .loc[row_indexer,col_indexer] = value instead\n",
      "\n",
      "See the caveats in the documentation: https://pandas.pydata.org/pandas-docs/stable/user_guide/indexing.html#returning-a-view-versus-a-copy\n",
      "  dfr['Type'] = 'Red'\n"
     ]
    }
   ],
   "source": [
    "dfr['Type'] = 'Red'"
   ]
  },
  {
   "cell_type": "code",
   "execution_count": 91,
   "id": "b325459a",
   "metadata": {},
   "outputs": [
    {
     "data": {
      "text/html": [
       "<div>\n",
       "<style scoped>\n",
       "    .dataframe tbody tr th:only-of-type {\n",
       "        vertical-align: middle;\n",
       "    }\n",
       "\n",
       "    .dataframe tbody tr th {\n",
       "        vertical-align: top;\n",
       "    }\n",
       "\n",
       "    .dataframe thead th {\n",
       "        text-align: right;\n",
       "    }\n",
       "</style>\n",
       "<table border=\"1\" class=\"dataframe\">\n",
       "  <thead>\n",
       "    <tr style=\"text-align: right;\">\n",
       "      <th></th>\n",
       "      <th>Names</th>\n",
       "      <th>Country</th>\n",
       "      <th>ABV</th>\n",
       "      <th>Ratings</th>\n",
       "      <th>Price</th>\n",
       "      <th>Type</th>\n",
       "    </tr>\n",
       "  </thead>\n",
       "  <tbody>\n",
       "    <tr>\n",
       "      <th>0</th>\n",
       "      <td>Cabalié 2021</td>\n",
       "      <td>France</td>\n",
       "      <td>13.00</td>\n",
       "      <td>4.5</td>\n",
       "      <td>11.99</td>\n",
       "      <td>Red</td>\n",
       "    </tr>\n",
       "    <tr>\n",
       "      <th>1</th>\n",
       "      <td>Cabalié (1 Litre Wine Box) 2021</td>\n",
       "      <td>France</td>\n",
       "      <td>13.00</td>\n",
       "      <td>4.8</td>\n",
       "      <td>9.99</td>\n",
       "      <td>Red</td>\n",
       "    </tr>\n",
       "    <tr>\n",
       "      <th>2</th>\n",
       "      <td>Pillastro Primitivo 2020</td>\n",
       "      <td>Italy</td>\n",
       "      <td>10.00</td>\n",
       "      <td>4.4</td>\n",
       "      <td>11.99</td>\n",
       "      <td>Red</td>\n",
       "    </tr>\n",
       "    <tr>\n",
       "      <th>3</th>\n",
       "      <td>Cabalié Cuvée Vieilles Vignes 2021</td>\n",
       "      <td>France</td>\n",
       "      <td>13.00</td>\n",
       "      <td>4.5</td>\n",
       "      <td>14.99</td>\n",
       "      <td>Red</td>\n",
       "    </tr>\n",
       "    <tr>\n",
       "      <th>4</th>\n",
       "      <td>Rex Mundi Shiraz Grenache 2021</td>\n",
       "      <td>France</td>\n",
       "      <td>13.00</td>\n",
       "      <td>4.4</td>\n",
       "      <td>11.99</td>\n",
       "      <td>Red</td>\n",
       "    </tr>\n",
       "    <tr>\n",
       "      <th>5</th>\n",
       "      <td>Pillastro Primitivo 2021</td>\n",
       "      <td>Italy</td>\n",
       "      <td>10.00</td>\n",
       "      <td>4.4</td>\n",
       "      <td>11.99</td>\n",
       "      <td>Red</td>\n",
       "    </tr>\n",
       "    <tr>\n",
       "      <th>6</th>\n",
       "      <td>Clarendelle Bordeaux Inspired by Haut-Brion 2...</td>\n",
       "      <td>France</td>\n",
       "      <td>13.50</td>\n",
       "      <td>4.0</td>\n",
       "      <td>19.99</td>\n",
       "      <td>Red</td>\n",
       "    </tr>\n",
       "    <tr>\n",
       "      <th>7</th>\n",
       "      <td>The Dip 2021</td>\n",
       "      <td>Spain</td>\n",
       "      <td>14.50</td>\n",
       "      <td>4.2</td>\n",
       "      <td>10.99</td>\n",
       "      <td>Red</td>\n",
       "    </tr>\n",
       "    <tr>\n",
       "      <th>8</th>\n",
       "      <td>Ermita de San Lorenzo Gran Selección 2015</td>\n",
       "      <td>Spain</td>\n",
       "      <td>14.00</td>\n",
       "      <td>3.3</td>\n",
       "      <td>12.99</td>\n",
       "      <td>Red</td>\n",
       "    </tr>\n",
       "    <tr>\n",
       "      <th>9</th>\n",
       "      <td>Lobo e Falcão 2021</td>\n",
       "      <td>Portugal</td>\n",
       "      <td>13.50</td>\n",
       "      <td>4.4</td>\n",
       "      <td>11.99</td>\n",
       "      <td>Red</td>\n",
       "    </tr>\n",
       "    <tr>\n",
       "      <th>10</th>\n",
       "      <td>Terres d'Arboras 2021</td>\n",
       "      <td>France</td>\n",
       "      <td>13.00</td>\n",
       "      <td>4.5</td>\n",
       "      <td>13.49</td>\n",
       "      <td>Red</td>\n",
       "    </tr>\n",
       "    <tr>\n",
       "      <th>11</th>\n",
       "      <td>Cabalié 3 litre Wine Box 2021</td>\n",
       "      <td>France</td>\n",
       "      <td>13.00</td>\n",
       "      <td>4.8</td>\n",
       "      <td>30.00</td>\n",
       "      <td>Red</td>\n",
       "    </tr>\n",
       "    <tr>\n",
       "      <th>12</th>\n",
       "      <td>Project Malbec 2021</td>\n",
       "      <td>Argentina</td>\n",
       "      <td>9.75</td>\n",
       "      <td>3.8</td>\n",
       "      <td>8.99</td>\n",
       "      <td>Red</td>\n",
       "    </tr>\n",
       "    <tr>\n",
       "      <th>13</th>\n",
       "      <td>The Dip 2020</td>\n",
       "      <td>Spain</td>\n",
       "      <td>15.00</td>\n",
       "      <td>4.2</td>\n",
       "      <td>10.99</td>\n",
       "      <td>Red</td>\n",
       "    </tr>\n",
       "    <tr>\n",
       "      <th>14</th>\n",
       "      <td>Vilarissa Valley 2019</td>\n",
       "      <td>Portugal</td>\n",
       "      <td>14.00</td>\n",
       "      <td>4.4</td>\n",
       "      <td>11.99</td>\n",
       "      <td>Red</td>\n",
       "    </tr>\n",
       "    <tr>\n",
       "      <th>15</th>\n",
       "      <td>Rex Mundi Shiraz Grenache Wine Box 2021</td>\n",
       "      <td>France</td>\n",
       "      <td>13.00</td>\n",
       "      <td>4.9</td>\n",
       "      <td>30.00</td>\n",
       "      <td>Red</td>\n",
       "    </tr>\n",
       "    <tr>\n",
       "      <th>16</th>\n",
       "      <td>Camino de Seda 2021</td>\n",
       "      <td>Spain</td>\n",
       "      <td>15.00</td>\n",
       "      <td>3.7</td>\n",
       "      <td>11.99</td>\n",
       "      <td>Red</td>\n",
       "    </tr>\n",
       "    <tr>\n",
       "      <th>17</th>\n",
       "      <td>Los Vascos Cabernet Sauvignon Cuvée Especial ...</td>\n",
       "      <td>Chile</td>\n",
       "      <td>14.00</td>\n",
       "      <td>3.7</td>\n",
       "      <td>14.99</td>\n",
       "      <td>Red</td>\n",
       "    </tr>\n",
       "    <tr>\n",
       "      <th>18</th>\n",
       "      <td>Merago 2015</td>\n",
       "      <td>Italy</td>\n",
       "      <td>14.00</td>\n",
       "      <td>3.5</td>\n",
       "      <td>17.99</td>\n",
       "      <td>Red</td>\n",
       "    </tr>\n",
       "    <tr>\n",
       "      <th>19</th>\n",
       "      <td>Ginestières Merlot 2020</td>\n",
       "      <td>France</td>\n",
       "      <td>14.00</td>\n",
       "      <td>3.7</td>\n",
       "      <td>10.99</td>\n",
       "      <td>Red</td>\n",
       "    </tr>\n",
       "    <tr>\n",
       "      <th>20</th>\n",
       "      <td>Le Secret des Etoiles Pinot Noir 2021</td>\n",
       "      <td>France</td>\n",
       "      <td>12.50</td>\n",
       "      <td>3.8</td>\n",
       "      <td>14.99</td>\n",
       "      <td>Red</td>\n",
       "    </tr>\n",
       "    <tr>\n",
       "      <th>21</th>\n",
       "      <td>The Boxer Durif 2020</td>\n",
       "      <td>Australia</td>\n",
       "      <td>14.00</td>\n",
       "      <td>4.2</td>\n",
       "      <td>12.99</td>\n",
       "      <td>Red</td>\n",
       "    </tr>\n",
       "    <tr>\n",
       "      <th>22</th>\n",
       "      <td>Cabalié Origine 2021</td>\n",
       "      <td>France</td>\n",
       "      <td>14.00</td>\n",
       "      <td>4.5</td>\n",
       "      <td>16.99</td>\n",
       "      <td>Red</td>\n",
       "    </tr>\n",
       "    <tr>\n",
       "      <th>23</th>\n",
       "      <td>William Knuttel Alexander Valley Cabernet Sau...</td>\n",
       "      <td>USA</td>\n",
       "      <td>14.50</td>\n",
       "      <td>4.4</td>\n",
       "      <td>19.99</td>\n",
       "      <td>Red</td>\n",
       "    </tr>\n",
       "    <tr>\n",
       "      <th>24</th>\n",
       "      <td>Le Malbec d’Hervé 2021</td>\n",
       "      <td>France</td>\n",
       "      <td>13.50</td>\n",
       "      <td>4.1</td>\n",
       "      <td>11.99</td>\n",
       "      <td>Red</td>\n",
       "    </tr>\n",
       "    <tr>\n",
       "      <th>25</th>\n",
       "      <td>Château Les Aubitriés 2020</td>\n",
       "      <td>France</td>\n",
       "      <td>13.50</td>\n",
       "      <td>4.5</td>\n",
       "      <td>13.99</td>\n",
       "      <td>Red</td>\n",
       "    </tr>\n",
       "    <tr>\n",
       "      <th>26</th>\n",
       "      <td>Domaine La Lirande Syrah 2021</td>\n",
       "      <td>France</td>\n",
       "      <td>13.50</td>\n",
       "      <td>4.5</td>\n",
       "      <td>12.99</td>\n",
       "      <td>Red</td>\n",
       "    </tr>\n",
       "    <tr>\n",
       "      <th>27</th>\n",
       "      <td>Château du Ragon 2020</td>\n",
       "      <td>France</td>\n",
       "      <td>13.00</td>\n",
       "      <td>3.5</td>\n",
       "      <td>12.99</td>\n",
       "      <td>Red</td>\n",
       "    </tr>\n",
       "    <tr>\n",
       "      <th>28</th>\n",
       "      <td>Il Papavero (half bottle) NV</td>\n",
       "      <td>Italy</td>\n",
       "      <td>12.50</td>\n",
       "      <td>3.6</td>\n",
       "      <td>4.99</td>\n",
       "      <td>Red</td>\n",
       "    </tr>\n",
       "    <tr>\n",
       "      <th>29</th>\n",
       "      <td>Palumbo Riserva 2012</td>\n",
       "      <td>Italy</td>\n",
       "      <td>13.50</td>\n",
       "      <td>4.8</td>\n",
       "      <td>16.99</td>\n",
       "      <td>Red</td>\n",
       "    </tr>\n",
       "  </tbody>\n",
       "</table>\n",
       "</div>"
      ],
      "text/plain": [
       "                                                Names    Country    ABV  \\\n",
       "0                                       Cabalié 2021      France  13.00   \n",
       "1                    Cabalié (1 Litre Wine Box) 2021      France  13.00   \n",
       "2                           Pillastro Primitivo 2020       Italy  10.00   \n",
       "3                 Cabalié Cuvée Vieilles Vignes 2021      France  13.00   \n",
       "4                     Rex Mundi Shiraz Grenache 2021      France  13.00   \n",
       "5                           Pillastro Primitivo 2021       Italy  10.00   \n",
       "6    Clarendelle Bordeaux Inspired by Haut-Brion 2...     France  13.50   \n",
       "7                                       The Dip 2021       Spain  14.50   \n",
       "8          Ermita de San Lorenzo Gran Selección 2015       Spain  14.00   \n",
       "9                                 Lobo e Falcão 2021    Portugal  13.50   \n",
       "10                             Terres d'Arboras 2021      France  13.00   \n",
       "11                     Cabalié 3 litre Wine Box 2021      France  13.00   \n",
       "12                               Project Malbec 2021   Argentina   9.75   \n",
       "13                                      The Dip 2020       Spain  15.00   \n",
       "14                             Vilarissa Valley 2019    Portugal  14.00   \n",
       "15           Rex Mundi Shiraz Grenache Wine Box 2021      France  13.00   \n",
       "16                               Camino de Seda 2021       Spain  15.00   \n",
       "17   Los Vascos Cabernet Sauvignon Cuvée Especial ...      Chile  14.00   \n",
       "18                                       Merago 2015       Italy  14.00   \n",
       "19                           Ginestières Merlot 2020      France  14.00   \n",
       "20             Le Secret des Etoiles Pinot Noir 2021      France  12.50   \n",
       "21                              The Boxer Durif 2020   Australia  14.00   \n",
       "22                              Cabalié Origine 2021      France  14.00   \n",
       "23   William Knuttel Alexander Valley Cabernet Sau...        USA  14.50   \n",
       "24                            Le Malbec d’Hervé 2021      France  13.50   \n",
       "25                        Château Les Aubitriés 2020      France  13.50   \n",
       "26                     Domaine La Lirande Syrah 2021      France  13.50   \n",
       "27                             Château du Ragon 2020      France  13.00   \n",
       "28                      Il Papavero (half bottle) NV       Italy  12.50   \n",
       "29                              Palumbo Riserva 2012       Italy  13.50   \n",
       "\n",
       "    Ratings  Price Type  \n",
       "0       4.5  11.99  Red  \n",
       "1       4.8   9.99  Red  \n",
       "2       4.4  11.99  Red  \n",
       "3       4.5  14.99  Red  \n",
       "4       4.4  11.99  Red  \n",
       "5       4.4  11.99  Red  \n",
       "6       4.0  19.99  Red  \n",
       "7       4.2  10.99  Red  \n",
       "8       3.3  12.99  Red  \n",
       "9       4.4  11.99  Red  \n",
       "10      4.5  13.49  Red  \n",
       "11      4.8  30.00  Red  \n",
       "12      3.8   8.99  Red  \n",
       "13      4.2  10.99  Red  \n",
       "14      4.4  11.99  Red  \n",
       "15      4.9  30.00  Red  \n",
       "16      3.7  11.99  Red  \n",
       "17      3.7  14.99  Red  \n",
       "18      3.5  17.99  Red  \n",
       "19      3.7  10.99  Red  \n",
       "20      3.8  14.99  Red  \n",
       "21      4.2  12.99  Red  \n",
       "22      4.5  16.99  Red  \n",
       "23      4.4  19.99  Red  \n",
       "24      4.1  11.99  Red  \n",
       "25      4.5  13.99  Red  \n",
       "26      4.5  12.99  Red  \n",
       "27      3.5  12.99  Red  \n",
       "28      3.6   4.99  Red  \n",
       "29      4.8  16.99  Red  "
      ]
     },
     "execution_count": 91,
     "metadata": {},
     "output_type": "execute_result"
    }
   ],
   "source": [
    "dfr.head(30)"
   ]
  },
  {
   "cell_type": "code",
   "execution_count": 92,
   "id": "148d991f",
   "metadata": {},
   "outputs": [
    {
     "name": "stderr",
     "output_type": "stream",
     "text": [
      "C:\\Users\\karti\\AppData\\Local\\Temp\\ipykernel_19184\\1995480113.py:1: SettingWithCopyWarning: \n",
      "A value is trying to be set on a copy of a slice from a DataFrame.\n",
      "Try using .loc[row_indexer,col_indexer] = value instead\n",
      "\n",
      "See the caveats in the documentation: https://pandas.pydata.org/pandas-docs/stable/user_guide/indexing.html#returning-a-view-versus-a-copy\n",
      "  dfw['Type'] = 'White'\n"
     ]
    }
   ],
   "source": [
    "dfw['Type'] = 'White'"
   ]
  },
  {
   "cell_type": "code",
   "execution_count": 93,
   "id": "9429bec5",
   "metadata": {},
   "outputs": [
    {
     "data": {
      "text/html": [
       "<div>\n",
       "<style scoped>\n",
       "    .dataframe tbody tr th:only-of-type {\n",
       "        vertical-align: middle;\n",
       "    }\n",
       "\n",
       "    .dataframe tbody tr th {\n",
       "        vertical-align: top;\n",
       "    }\n",
       "\n",
       "    .dataframe thead th {\n",
       "        text-align: right;\n",
       "    }\n",
       "</style>\n",
       "<table border=\"1\" class=\"dataframe\">\n",
       "  <thead>\n",
       "    <tr style=\"text-align: right;\">\n",
       "      <th></th>\n",
       "      <th>Names</th>\n",
       "      <th>Country</th>\n",
       "      <th>ABV</th>\n",
       "      <th>Ratings</th>\n",
       "      <th>Price</th>\n",
       "      <th>Type</th>\n",
       "    </tr>\n",
       "  </thead>\n",
       "  <tbody>\n",
       "    <tr>\n",
       "      <th>0</th>\n",
       "      <td>The Hour-Teller Sauvignon Blanc 2021</td>\n",
       "      <td>New Zealand</td>\n",
       "      <td>13.00</td>\n",
       "      <td>4.200000</td>\n",
       "      <td>14.99</td>\n",
       "      <td>White</td>\n",
       "    </tr>\n",
       "    <tr>\n",
       "      <th>1</th>\n",
       "      <td>The Escapist Sauvignon Blanc 2021</td>\n",
       "      <td>South Africa</td>\n",
       "      <td>12.50</td>\n",
       "      <td>3.900000</td>\n",
       "      <td>8.99</td>\n",
       "      <td>White</td>\n",
       "    </tr>\n",
       "    <tr>\n",
       "      <th>2</th>\n",
       "      <td>Albert Bichot Mâcon-Lugny Les Charmes 2020</td>\n",
       "      <td>France</td>\n",
       "      <td>13.00</td>\n",
       "      <td>3.800000</td>\n",
       "      <td>17.99</td>\n",
       "      <td>White</td>\n",
       "    </tr>\n",
       "    <tr>\n",
       "      <th>3</th>\n",
       "      <td>Clos des Lunes Lune d’Argent Bordeaux Blanc 2...</td>\n",
       "      <td>France</td>\n",
       "      <td>13.50</td>\n",
       "      <td>3.915625</td>\n",
       "      <td>19.99</td>\n",
       "      <td>White</td>\n",
       "    </tr>\n",
       "    <tr>\n",
       "      <th>4</th>\n",
       "      <td>L'Epiphanie de Bordeaux Blanc 2021</td>\n",
       "      <td>France</td>\n",
       "      <td>9.38</td>\n",
       "      <td>2.000000</td>\n",
       "      <td>25.00</td>\n",
       "      <td>White</td>\n",
       "    </tr>\n",
       "    <tr>\n",
       "      <th>5</th>\n",
       "      <td>Méritoire Sauvignon Blanc 2020</td>\n",
       "      <td>France</td>\n",
       "      <td>11.50</td>\n",
       "      <td>3.300000</td>\n",
       "      <td>10.99</td>\n",
       "      <td>White</td>\n",
       "    </tr>\n",
       "    <tr>\n",
       "      <th>6</th>\n",
       "      <td>Cloudy Bay Sauvignon Blanc 2022</td>\n",
       "      <td>New Zealand</td>\n",
       "      <td>13.50</td>\n",
       "      <td>3.915625</td>\n",
       "      <td>25.00</td>\n",
       "      <td>White</td>\n",
       "    </tr>\n",
       "    <tr>\n",
       "      <th>7</th>\n",
       "      <td>Sentiero dei Pini Pinot Grigio 2021</td>\n",
       "      <td>Italy</td>\n",
       "      <td>12.00</td>\n",
       "      <td>3.900000</td>\n",
       "      <td>10.99</td>\n",
       "      <td>White</td>\n",
       "    </tr>\n",
       "    <tr>\n",
       "      <th>8</th>\n",
       "      <td>Viña Tarapacá Riverscape Collection Sauvignon...</td>\n",
       "      <td>Chile</td>\n",
       "      <td>12.50</td>\n",
       "      <td>3.700000</td>\n",
       "      <td>10.99</td>\n",
       "      <td>White</td>\n",
       "    </tr>\n",
       "    <tr>\n",
       "      <th>9</th>\n",
       "      <td>Il Pino Pinot Grigio 2021</td>\n",
       "      <td>Italy</td>\n",
       "      <td>12.00</td>\n",
       "      <td>4.000000</td>\n",
       "      <td>11.99</td>\n",
       "      <td>White</td>\n",
       "    </tr>\n",
       "    <tr>\n",
       "      <th>10</th>\n",
       "      <td>Excelsior Heritage Reserve Wild Ferment Chard...</td>\n",
       "      <td>South Africa</td>\n",
       "      <td>13.50</td>\n",
       "      <td>4.000000</td>\n",
       "      <td>10.99</td>\n",
       "      <td>White</td>\n",
       "    </tr>\n",
       "    <tr>\n",
       "      <th>11</th>\n",
       "      <td>Excelsior Heritage Reserve Viognier 2022</td>\n",
       "      <td>South Africa</td>\n",
       "      <td>14.00</td>\n",
       "      <td>4.800000</td>\n",
       "      <td>12.99</td>\n",
       "      <td>White</td>\n",
       "    </tr>\n",
       "    <tr>\n",
       "      <th>12</th>\n",
       "      <td>St Sebastian Bay Sauvignon Blanc 2021</td>\n",
       "      <td>South Africa</td>\n",
       "      <td>12.50</td>\n",
       "      <td>4.300000</td>\n",
       "      <td>11.99</td>\n",
       "      <td>White</td>\n",
       "    </tr>\n",
       "    <tr>\n",
       "      <th>13</th>\n",
       "      <td>Vesuvium Greco di Tufo 2020</td>\n",
       "      <td>Italy</td>\n",
       "      <td>12.00</td>\n",
       "      <td>4.100000</td>\n",
       "      <td>15.49</td>\n",
       "      <td>White</td>\n",
       "    </tr>\n",
       "    <tr>\n",
       "      <th>14</th>\n",
       "      <td>Roche Bellemont Blanc 2021</td>\n",
       "      <td>France</td>\n",
       "      <td>12.50</td>\n",
       "      <td>4.500000</td>\n",
       "      <td>16.99</td>\n",
       "      <td>White</td>\n",
       "    </tr>\n",
       "    <tr>\n",
       "      <th>15</th>\n",
       "      <td>Perla del Mar 2021</td>\n",
       "      <td>Spain</td>\n",
       "      <td>12.00</td>\n",
       "      <td>3.900000</td>\n",
       "      <td>11.99</td>\n",
       "      <td>White</td>\n",
       "    </tr>\n",
       "    <tr>\n",
       "      <th>16</th>\n",
       "      <td>Les Belons 2020</td>\n",
       "      <td>France</td>\n",
       "      <td>12.00</td>\n",
       "      <td>4.100000</td>\n",
       "      <td>11.99</td>\n",
       "      <td>White</td>\n",
       "    </tr>\n",
       "    <tr>\n",
       "      <th>17</th>\n",
       "      <td>The Escapist Sauvignon Blanc 2022</td>\n",
       "      <td>South Africa</td>\n",
       "      <td>12.00</td>\n",
       "      <td>3.800000</td>\n",
       "      <td>8.99</td>\n",
       "      <td>White</td>\n",
       "    </tr>\n",
       "    <tr>\n",
       "      <th>18</th>\n",
       "      <td>Domaine Tour Lamothe Sauvignon Blanc 2020</td>\n",
       "      <td>France</td>\n",
       "      <td>11.00</td>\n",
       "      <td>3.800000</td>\n",
       "      <td>11.99</td>\n",
       "      <td>White</td>\n",
       "    </tr>\n",
       "    <tr>\n",
       "      <th>19</th>\n",
       "      <td>Altos R Pigeage Blanco 2019</td>\n",
       "      <td>Spain</td>\n",
       "      <td>10.00</td>\n",
       "      <td>4.400000</td>\n",
       "      <td>23.00</td>\n",
       "      <td>White</td>\n",
       "    </tr>\n",
       "    <tr>\n",
       "      <th>20</th>\n",
       "      <td>Redbrook Estate Bacchus (Paper Bottle) 2021</td>\n",
       "      <td>Great Britain</td>\n",
       "      <td>8.25</td>\n",
       "      <td>4.000000</td>\n",
       "      <td>18.99</td>\n",
       "      <td>White</td>\n",
       "    </tr>\n",
       "    <tr>\n",
       "      <th>21</th>\n",
       "      <td>Domaine Tour Lamothe Sauvignon Blanc 2021</td>\n",
       "      <td>France</td>\n",
       "      <td>10.00</td>\n",
       "      <td>3.800000</td>\n",
       "      <td>11.99</td>\n",
       "      <td>White</td>\n",
       "    </tr>\n",
       "    <tr>\n",
       "      <th>22</th>\n",
       "      <td>Orange Natural Wine 2021</td>\n",
       "      <td>Romania</td>\n",
       "      <td>9.38</td>\n",
       "      <td>2.800000</td>\n",
       "      <td>12.99</td>\n",
       "      <td>White</td>\n",
       "    </tr>\n",
       "    <tr>\n",
       "      <th>23</th>\n",
       "      <td>Willem the Silent Blanc 2020</td>\n",
       "      <td>France</td>\n",
       "      <td>12.00</td>\n",
       "      <td>3.800000</td>\n",
       "      <td>10.99</td>\n",
       "      <td>White</td>\n",
       "    </tr>\n",
       "    <tr>\n",
       "      <th>24</th>\n",
       "      <td>Les Secrets d’Abbesse Sauvignon Blanc 2021</td>\n",
       "      <td>France</td>\n",
       "      <td>11.50</td>\n",
       "      <td>4.300000</td>\n",
       "      <td>15.99</td>\n",
       "      <td>White</td>\n",
       "    </tr>\n",
       "    <tr>\n",
       "      <th>25</th>\n",
       "      <td>McPherson Aquarius Marsanne Viognier 2021</td>\n",
       "      <td>Australia</td>\n",
       "      <td>13.00</td>\n",
       "      <td>4.100000</td>\n",
       "      <td>13.49</td>\n",
       "      <td>White</td>\n",
       "    </tr>\n",
       "    <tr>\n",
       "      <th>26</th>\n",
       "      <td>Belle Côte 2020</td>\n",
       "      <td>France</td>\n",
       "      <td>12.00</td>\n",
       "      <td>3.700000</td>\n",
       "      <td>11.99</td>\n",
       "      <td>White</td>\n",
       "    </tr>\n",
       "    <tr>\n",
       "      <th>27</th>\n",
       "      <td>Lo Scultore Pinot Grigio 2021</td>\n",
       "      <td>Italy</td>\n",
       "      <td>12.00</td>\n",
       "      <td>3.915625</td>\n",
       "      <td>14.99</td>\n",
       "      <td>White</td>\n",
       "    </tr>\n",
       "    <tr>\n",
       "      <th>28</th>\n",
       "      <td>The Gooseberry Bush Sauvignon Blanc Limited E...</td>\n",
       "      <td>South Africa</td>\n",
       "      <td>9.00</td>\n",
       "      <td>4.300000</td>\n",
       "      <td>12.99</td>\n",
       "      <td>White</td>\n",
       "    </tr>\n",
       "    <tr>\n",
       "      <th>30</th>\n",
       "      <td>The Forager 2021</td>\n",
       "      <td>South Africa</td>\n",
       "      <td>14.00</td>\n",
       "      <td>4.300000</td>\n",
       "      <td>12.99</td>\n",
       "      <td>White</td>\n",
       "    </tr>\n",
       "  </tbody>\n",
       "</table>\n",
       "</div>"
      ],
      "text/plain": [
       "                                                Names        Country    ABV  \\\n",
       "0               The Hour-Teller Sauvignon Blanc 2021     New Zealand  13.00   \n",
       "1                  The Escapist Sauvignon Blanc 2021    South Africa  12.50   \n",
       "2         Albert Bichot Mâcon-Lugny Les Charmes 2020          France  13.00   \n",
       "3    Clos des Lunes Lune d’Argent Bordeaux Blanc 2...         France  13.50   \n",
       "4                 L'Epiphanie de Bordeaux Blanc 2021          France   9.38   \n",
       "5                     Méritoire Sauvignon Blanc 2020          France  11.50   \n",
       "6                    Cloudy Bay Sauvignon Blanc 2022     New Zealand  13.50   \n",
       "7                Sentiero dei Pini Pinot Grigio 2021           Italy  12.00   \n",
       "8    Viña Tarapacá Riverscape Collection Sauvignon...          Chile  12.50   \n",
       "9                          Il Pino Pinot Grigio 2021           Italy  12.00   \n",
       "10   Excelsior Heritage Reserve Wild Ferment Chard...   South Africa  13.50   \n",
       "11          Excelsior Heritage Reserve Viognier 2022    South Africa  14.00   \n",
       "12             St Sebastian Bay Sauvignon Blanc 2021    South Africa  12.50   \n",
       "13                       Vesuvium Greco di Tufo 2020           Italy  12.00   \n",
       "14                        Roche Bellemont Blanc 2021          France  12.50   \n",
       "15                                Perla del Mar 2021           Spain  12.00   \n",
       "16                                   Les Belons 2020          France  12.00   \n",
       "17                 The Escapist Sauvignon Blanc 2022    South Africa  12.00   \n",
       "18         Domaine Tour Lamothe Sauvignon Blanc 2020          France  11.00   \n",
       "19                       Altos R Pigeage Blanco 2019           Spain  10.00   \n",
       "20       Redbrook Estate Bacchus (Paper Bottle) 2021   Great Britain   8.25   \n",
       "21         Domaine Tour Lamothe Sauvignon Blanc 2021          France  10.00   \n",
       "22                          Orange Natural Wine 2021         Romania   9.38   \n",
       "23                      Willem the Silent Blanc 2020          France  12.00   \n",
       "24        Les Secrets d’Abbesse Sauvignon Blanc 2021          France  11.50   \n",
       "25         McPherson Aquarius Marsanne Viognier 2021       Australia  13.00   \n",
       "26                                   Belle Côte 2020          France  12.00   \n",
       "27                     Lo Scultore Pinot Grigio 2021           Italy  12.00   \n",
       "28   The Gooseberry Bush Sauvignon Blanc Limited E...   South Africa   9.00   \n",
       "30                                  The Forager 2021    South Africa  14.00   \n",
       "\n",
       "     Ratings  Price   Type  \n",
       "0   4.200000  14.99  White  \n",
       "1   3.900000   8.99  White  \n",
       "2   3.800000  17.99  White  \n",
       "3   3.915625  19.99  White  \n",
       "4   2.000000  25.00  White  \n",
       "5   3.300000  10.99  White  \n",
       "6   3.915625  25.00  White  \n",
       "7   3.900000  10.99  White  \n",
       "8   3.700000  10.99  White  \n",
       "9   4.000000  11.99  White  \n",
       "10  4.000000  10.99  White  \n",
       "11  4.800000  12.99  White  \n",
       "12  4.300000  11.99  White  \n",
       "13  4.100000  15.49  White  \n",
       "14  4.500000  16.99  White  \n",
       "15  3.900000  11.99  White  \n",
       "16  4.100000  11.99  White  \n",
       "17  3.800000   8.99  White  \n",
       "18  3.800000  11.99  White  \n",
       "19  4.400000  23.00  White  \n",
       "20  4.000000  18.99  White  \n",
       "21  3.800000  11.99  White  \n",
       "22  2.800000  12.99  White  \n",
       "23  3.800000  10.99  White  \n",
       "24  4.300000  15.99  White  \n",
       "25  4.100000  13.49  White  \n",
       "26  3.700000  11.99  White  \n",
       "27  3.915625  14.99  White  \n",
       "28  4.300000  12.99  White  \n",
       "30  4.300000  12.99  White  "
      ]
     },
     "execution_count": 93,
     "metadata": {},
     "output_type": "execute_result"
    }
   ],
   "source": [
    "dfw.head(30)"
   ]
  },
  {
   "cell_type": "markdown",
   "id": "bf43773a",
   "metadata": {},
   "source": [
    "## Concatenating 2 dataframes"
   ]
  },
  {
   "cell_type": "code",
   "execution_count": 97,
   "id": "95230525",
   "metadata": {},
   "outputs": [],
   "source": [
    "frames = [dfr, dfw]\n",
    "dfm = pd.concat(frames, ignore_index=True)"
   ]
  },
  {
   "cell_type": "code",
   "execution_count": 98,
   "id": "224966e1",
   "metadata": {},
   "outputs": [
    {
     "data": {
      "text/html": [
       "<div>\n",
       "<style scoped>\n",
       "    .dataframe tbody tr th:only-of-type {\n",
       "        vertical-align: middle;\n",
       "    }\n",
       "\n",
       "    .dataframe tbody tr th {\n",
       "        vertical-align: top;\n",
       "    }\n",
       "\n",
       "    .dataframe thead th {\n",
       "        text-align: right;\n",
       "    }\n",
       "</style>\n",
       "<table border=\"1\" class=\"dataframe\">\n",
       "  <thead>\n",
       "    <tr style=\"text-align: right;\">\n",
       "      <th></th>\n",
       "      <th>Names</th>\n",
       "      <th>Country</th>\n",
       "      <th>ABV</th>\n",
       "      <th>Ratings</th>\n",
       "      <th>Price</th>\n",
       "      <th>Type</th>\n",
       "    </tr>\n",
       "  </thead>\n",
       "  <tbody>\n",
       "    <tr>\n",
       "      <th>0</th>\n",
       "      <td>Cabalié 2021</td>\n",
       "      <td>France</td>\n",
       "      <td>13.0</td>\n",
       "      <td>4.500000</td>\n",
       "      <td>11.99</td>\n",
       "      <td>Red</td>\n",
       "    </tr>\n",
       "    <tr>\n",
       "      <th>1</th>\n",
       "      <td>Cabalié (1 Litre Wine Box) 2021</td>\n",
       "      <td>France</td>\n",
       "      <td>13.0</td>\n",
       "      <td>4.800000</td>\n",
       "      <td>9.99</td>\n",
       "      <td>Red</td>\n",
       "    </tr>\n",
       "    <tr>\n",
       "      <th>2</th>\n",
       "      <td>Pillastro Primitivo 2020</td>\n",
       "      <td>Italy</td>\n",
       "      <td>10.0</td>\n",
       "      <td>4.400000</td>\n",
       "      <td>11.99</td>\n",
       "      <td>Red</td>\n",
       "    </tr>\n",
       "    <tr>\n",
       "      <th>3</th>\n",
       "      <td>Cabalié Cuvée Vieilles Vignes 2021</td>\n",
       "      <td>France</td>\n",
       "      <td>13.0</td>\n",
       "      <td>4.500000</td>\n",
       "      <td>14.99</td>\n",
       "      <td>Red</td>\n",
       "    </tr>\n",
       "    <tr>\n",
       "      <th>4</th>\n",
       "      <td>Rex Mundi Shiraz Grenache 2021</td>\n",
       "      <td>France</td>\n",
       "      <td>13.0</td>\n",
       "      <td>4.400000</td>\n",
       "      <td>11.99</td>\n",
       "      <td>Red</td>\n",
       "    </tr>\n",
       "    <tr>\n",
       "      <th>...</th>\n",
       "      <td>...</td>\n",
       "      <td>...</td>\n",
       "      <td>...</td>\n",
       "      <td>...</td>\n",
       "      <td>...</td>\n",
       "      <td>...</td>\n",
       "    </tr>\n",
       "    <tr>\n",
       "      <th>99</th>\n",
       "      <td>Domaine de Longuet Viognier 2020</td>\n",
       "      <td>France</td>\n",
       "      <td>13.5</td>\n",
       "      <td>3.600000</td>\n",
       "      <td>12.99</td>\n",
       "      <td>White</td>\n",
       "    </tr>\n",
       "    <tr>\n",
       "      <th>100</th>\n",
       "      <td>Balfour Springfield Chardonnay 2018</td>\n",
       "      <td>Great Britain</td>\n",
       "      <td>9.0</td>\n",
       "      <td>3.915625</td>\n",
       "      <td>25.00</td>\n",
       "      <td>White</td>\n",
       "    </tr>\n",
       "    <tr>\n",
       "      <th>101</th>\n",
       "      <td>Belle Vague Sauvignon Blanc 2020</td>\n",
       "      <td>France</td>\n",
       "      <td>12.0</td>\n",
       "      <td>2.500000</td>\n",
       "      <td>10.99</td>\n",
       "      <td>White</td>\n",
       "    </tr>\n",
       "    <tr>\n",
       "      <th>102</th>\n",
       "      <td>Dog Point Organic Chardonnay 2019</td>\n",
       "      <td>New Zealand</td>\n",
       "      <td>10.0</td>\n",
       "      <td>5.000000</td>\n",
       "      <td>29.00</td>\n",
       "      <td>White</td>\n",
       "    </tr>\n",
       "    <tr>\n",
       "      <th>103</th>\n",
       "      <td>Domaine Mia Les Plantenays 2019</td>\n",
       "      <td>France</td>\n",
       "      <td>13.0</td>\n",
       "      <td>3.915625</td>\n",
       "      <td>32.00</td>\n",
       "      <td>White</td>\n",
       "    </tr>\n",
       "  </tbody>\n",
       "</table>\n",
       "<p>104 rows × 6 columns</p>\n",
       "</div>"
      ],
      "text/plain": [
       "                                     Names        Country   ABV   Ratings  \\\n",
       "0                            Cabalié 2021          France  13.0  4.500000   \n",
       "1         Cabalié (1 Litre Wine Box) 2021          France  13.0  4.800000   \n",
       "2                Pillastro Primitivo 2020           Italy  10.0  4.400000   \n",
       "3      Cabalié Cuvée Vieilles Vignes 2021          France  13.0  4.500000   \n",
       "4          Rex Mundi Shiraz Grenache 2021          France  13.0  4.400000   \n",
       "..                                     ...            ...   ...       ...   \n",
       "99       Domaine de Longuet Viognier 2020          France  13.5  3.600000   \n",
       "100   Balfour Springfield Chardonnay 2018   Great Britain   9.0  3.915625   \n",
       "101      Belle Vague Sauvignon Blanc 2020          France  12.0  2.500000   \n",
       "102     Dog Point Organic Chardonnay 2019     New Zealand  10.0  5.000000   \n",
       "103       Domaine Mia Les Plantenays 2019          France  13.0  3.915625   \n",
       "\n",
       "     Price   Type  \n",
       "0    11.99    Red  \n",
       "1     9.99    Red  \n",
       "2    11.99    Red  \n",
       "3    14.99    Red  \n",
       "4    11.99    Red  \n",
       "..     ...    ...  \n",
       "99   12.99  White  \n",
       "100  25.00  White  \n",
       "101  10.99  White  \n",
       "102  29.00  White  \n",
       "103  32.00  White  \n",
       "\n",
       "[104 rows x 6 columns]"
      ]
     },
     "execution_count": 98,
     "metadata": {},
     "output_type": "execute_result"
    }
   ],
   "source": [
    "dfm.head(110)"
   ]
  },
  {
   "cell_type": "code",
   "execution_count": 144,
   "id": "43e934ef",
   "metadata": {},
   "outputs": [
    {
     "data": {
      "text/html": [
       "<div>\n",
       "<style scoped>\n",
       "    .dataframe tbody tr th:only-of-type {\n",
       "        vertical-align: middle;\n",
       "    }\n",
       "\n",
       "    .dataframe tbody tr th {\n",
       "        vertical-align: top;\n",
       "    }\n",
       "\n",
       "    .dataframe thead th {\n",
       "        text-align: right;\n",
       "    }\n",
       "</style>\n",
       "<table border=\"1\" class=\"dataframe\">\n",
       "  <thead>\n",
       "    <tr style=\"text-align: right;\">\n",
       "      <th></th>\n",
       "      <th>Country</th>\n",
       "      <th>Type</th>\n",
       "      <th>Average Ratings</th>\n",
       "    </tr>\n",
       "  </thead>\n",
       "  <tbody>\n",
       "    <tr>\n",
       "      <th>14</th>\n",
       "      <td>Romania</td>\n",
       "      <td>White</td>\n",
       "      <td>2.800000</td>\n",
       "    </tr>\n",
       "    <tr>\n",
       "      <th>3</th>\n",
       "      <td>Bulgaria</td>\n",
       "      <td>Red</td>\n",
       "      <td>3.300000</td>\n",
       "    </tr>\n",
       "    <tr>\n",
       "      <th>15</th>\n",
       "      <td>South Africa</td>\n",
       "      <td>Red</td>\n",
       "      <td>3.513228</td>\n",
       "    </tr>\n",
       "    <tr>\n",
       "      <th>7</th>\n",
       "      <td>France</td>\n",
       "      <td>White</td>\n",
       "      <td>3.645089</td>\n",
       "    </tr>\n",
       "    <tr>\n",
       "      <th>5</th>\n",
       "      <td>Chile</td>\n",
       "      <td>White</td>\n",
       "      <td>3.700000</td>\n",
       "    </tr>\n",
       "    <tr>\n",
       "      <th>1</th>\n",
       "      <td>Australia</td>\n",
       "      <td>Red</td>\n",
       "      <td>3.733333</td>\n",
       "    </tr>\n",
       "    <tr>\n",
       "      <th>17</th>\n",
       "      <td>Spain</td>\n",
       "      <td>Red</td>\n",
       "      <td>3.750000</td>\n",
       "    </tr>\n",
       "    <tr>\n",
       "      <th>4</th>\n",
       "      <td>Chile</td>\n",
       "      <td>Red</td>\n",
       "      <td>3.800000</td>\n",
       "    </tr>\n",
       "    <tr>\n",
       "      <th>9</th>\n",
       "      <td>Italy</td>\n",
       "      <td>Red</td>\n",
       "      <td>3.956614</td>\n",
       "    </tr>\n",
       "    <tr>\n",
       "      <th>8</th>\n",
       "      <td>Great Britain</td>\n",
       "      <td>White</td>\n",
       "      <td>3.957812</td>\n",
       "    </tr>\n",
       "    <tr>\n",
       "      <th>10</th>\n",
       "      <td>Italy</td>\n",
       "      <td>White</td>\n",
       "      <td>3.978906</td>\n",
       "    </tr>\n",
       "    <tr>\n",
       "      <th>0</th>\n",
       "      <td>Argentina</td>\n",
       "      <td>Red</td>\n",
       "      <td>4.083333</td>\n",
       "    </tr>\n",
       "    <tr>\n",
       "      <th>13</th>\n",
       "      <td>Portugal</td>\n",
       "      <td>White</td>\n",
       "      <td>4.100000</td>\n",
       "    </tr>\n",
       "    <tr>\n",
       "      <th>2</th>\n",
       "      <td>Australia</td>\n",
       "      <td>White</td>\n",
       "      <td>4.100000</td>\n",
       "    </tr>\n",
       "    <tr>\n",
       "      <th>18</th>\n",
       "      <td>Spain</td>\n",
       "      <td>White</td>\n",
       "      <td>4.150000</td>\n",
       "    </tr>\n",
       "    <tr>\n",
       "      <th>6</th>\n",
       "      <td>France</td>\n",
       "      <td>Red</td>\n",
       "      <td>4.189657</td>\n",
       "    </tr>\n",
       "    <tr>\n",
       "      <th>16</th>\n",
       "      <td>South Africa</td>\n",
       "      <td>White</td>\n",
       "      <td>4.200000</td>\n",
       "    </tr>\n",
       "    <tr>\n",
       "      <th>11</th>\n",
       "      <td>New Zealand</td>\n",
       "      <td>White</td>\n",
       "      <td>4.371875</td>\n",
       "    </tr>\n",
       "    <tr>\n",
       "      <th>19</th>\n",
       "      <td>USA</td>\n",
       "      <td>Red</td>\n",
       "      <td>4.400000</td>\n",
       "    </tr>\n",
       "    <tr>\n",
       "      <th>12</th>\n",
       "      <td>Portugal</td>\n",
       "      <td>Red</td>\n",
       "      <td>4.433333</td>\n",
       "    </tr>\n",
       "  </tbody>\n",
       "</table>\n",
       "</div>"
      ],
      "text/plain": [
       "          Country   Type  Average Ratings\n",
       "14        Romania  White         2.800000\n",
       "3        Bulgaria    Red         3.300000\n",
       "15   South Africa    Red         3.513228\n",
       "7          France  White         3.645089\n",
       "5           Chile  White         3.700000\n",
       "1       Australia    Red         3.733333\n",
       "17          Spain    Red         3.750000\n",
       "4           Chile    Red         3.800000\n",
       "9           Italy    Red         3.956614\n",
       "8   Great Britain  White         3.957812\n",
       "10          Italy  White         3.978906\n",
       "0       Argentina    Red         4.083333\n",
       "13       Portugal  White         4.100000\n",
       "2       Australia  White         4.100000\n",
       "18          Spain  White         4.150000\n",
       "6          France    Red         4.189657\n",
       "16   South Africa  White         4.200000\n",
       "11    New Zealand  White         4.371875\n",
       "19            USA    Red         4.400000\n",
       "12       Portugal    Red         4.433333"
      ]
     },
     "execution_count": 144,
     "metadata": {},
     "output_type": "execute_result"
    }
   ],
   "source": [
    "newdf = dfm.groupby(['Country','Type'])[\"Ratings\"].mean().reset_index(name='Average Ratings')\n",
    "newdf=newdf.sort_values(by=['Average Ratings'])\n",
    "newdf"
   ]
  },
  {
   "cell_type": "code",
   "execution_count": 145,
   "id": "4c839da4",
   "metadata": {},
   "outputs": [
    {
     "data": {
      "text/plain": [
       "<AxesSubplot:xlabel='Country', ylabel='Average Ratings'>"
      ]
     },
     "execution_count": 145,
     "metadata": {},
     "output_type": "execute_result"
    },
    {
     "data": {
      "image/png": "[encoded data removed]",
      "text/plain": [
       "<Figure size 1440x576 with 1 Axes>"
      ]
     },
     "metadata": {
      "needs_background": "light"
     },
     "output_type": "display_data"
    }
   ],
   "source": [
    "plt.figure(figsize=(20,8))\n",
    "sns.barplot(data = newdf, x='Country', y='Average Ratings',hue='Type')"
   ]
  },
  {
   "cell_type": "code",
   "execution_count": null,
   "id": "f531d919",
   "metadata": {},
   "outputs": [],
   "source": []
  }
 ],
 "metadata": {
  "kernelspec": {
   "display_name": "Python 3 (ipykernel)",
   "language": "python",
   "name": "python3"
  },
  "language_info": {
   "codemirror_mode": {
    "name": "ipython",
    "version": 3
   },
   "file_extension": ".py",
   "mimetype": "text/x-python",
   "name": "python",
   "nbconvert_exporter": "python",
   "pygments_lexer": "ipython3",
   "version": "3.9.12"
  }
 },
 "nbformat": 4,
 "nbformat_minor": 5
}
